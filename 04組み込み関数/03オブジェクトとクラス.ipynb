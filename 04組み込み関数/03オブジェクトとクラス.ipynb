{
 "cells": [
  {
   "cell_type": "markdown",
   "metadata": {
    "colab_type": "text",
    "id": "view-in-github"
   },
   "source": [
    "<a href=\"https://colab.research.google.com/github/YasuharuSuzuki/24_programing1/blob/main/\" target=\"_parent\"><img src=\"https://colab.research.google.com/assets/colab-badge.svg\" alt=\"Open In Colab\"/></a>"
   ]
  },
  {
   "cell_type": "markdown",
   "metadata": {},
   "source": [
    "# Section 4-3 オブジェクトのメソッド"
   ]
  },
  {
   "cell_type": "markdown",
   "metadata": {},
   "source": [
    "## 参考サイト\n",
    "### [参考サイト1【Python早見表】13. クラス](https://chokkan.github.io/python/13class.html)\n",
    "### [参考サイト2【Python入門】6-3. クラス](https://utokyo-ipp.github.io/6/6-3.html)\n",
    "\n",
    "※クラスの作成はもっと後の章で実施しますので、ここでは呼び出し方だけ学びましょう"
   ]
  },
  {
   "cell_type": "markdown",
   "metadata": {},
   "source": [
    "## サンプルプログラム3　オブジェクトのメソッド"
   ]
  },
  {
   "cell_type": "markdown",
   "metadata": {},
   "source": [
    "## オブジェクトとは\n",
    "- プログラミングにおける「オブジェクト」とはデータとメソッドをもった、概念をまとめた「モノ」です。\n",
    "- 例えばポケモンなら名前（ピカチュウなど）やHP、攻撃力、守備力など様々な「データ」と、通常攻撃や鳴き声で泣いたり、必殺技を繰り出すといった処理を行う「メソッド」をもった「オブジェクト」として考えることができます"
   ]
  },
  {
   "cell_type": "markdown",
   "metadata": {},
   "source": [
    "## クラスとは\n",
    "- オブジェクトの「型」のことです。\n",
    "- 先の例ではポケモンクラスという「型」を定義しておくことで、複数のオブジェクトを実体化させることができます\n",
    "- 実体化したクラスのことは「インスタンス」と言います。オブジェクトとほぼ同義ですが、「インスタンス」の方がメモリが確保されて実体化されたことを明確に示す用語になります"
   ]
  },
  {
   "cell_type": "markdown",
   "metadata": {},
   "source": [
    "<img src=\"./class.png\">"
   ]
  },
  {
   "cell_type": "markdown",
   "metadata": {},
   "source": [
    "## 例：ポケモンクラス\n",
    "- ※謝辞 [PythonBeginnersの過去の発表](https://github.com/PythonBeginners/Meetup028_StartDash)から拝借しました。"
   ]
  },
  {
   "cell_type": "code",
   "execution_count": 2,
   "metadata": {},
   "outputs": [],
   "source": [
    "class Pokemon():\n",
    "    def __init__(self, name :str, hp :int, attack :int, defence :int, sound :str):\n",
    "        self.name :str = name\n",
    "        self.hp :int = hp\n",
    "        self.attack :int = attack\n",
    "        self.defence :int = defence\n",
    "        self.sound :str = sound\n",
    "    \n",
    "    def say(self):\n",
    "        print(f\"{self.sound}\")\n",
    "        \n",
    "    def attack(self, attack):\n",
    "        return self.attack\n",
    "    \n",
    "    def view_status(self):\n",
    "        print(f\"name:{self.name}\")\n",
    "        print(f\"hp:{self.hp}\")\n",
    "        print(f\"attack:{self.attack}\")\n",
    "        print(f\"defence:{self.defence}\")"
   ]
  },
  {
   "cell_type": "markdown",
   "metadata": {},
   "source": [
    "#### Pokemonインスタンスを2つ確保"
   ]
  },
  {
   "cell_type": "code",
   "execution_count": 3,
   "metadata": {},
   "outputs": [],
   "source": [
    "poke1 = Pokemon('ピカチュウ', 80, 50, 20, 'ﾋﾟｨｶﾞﾁﾞｭｩｩｳｩｳ!!')\n",
    "poke2 = Pokemon('イーブイ', 150, 40, 10, 'ｲｲｲｲｲｲｲｲﾌﾞｲｲｲｲｲｲｲｲ!!')"
   ]
  },
  {
   "cell_type": "markdown",
   "metadata": {},
   "source": [
    "#### say() メソッドで泣いてみましょう"
   ]
  },
  {
   "cell_type": "code",
   "execution_count": 4,
   "metadata": {},
   "outputs": [
    {
     "name": "stdout",
     "output_type": "stream",
     "text": [
      "ﾋﾟｨｶﾞﾁﾞｭｩｩｳｩｳ!!\n"
     ]
    }
   ],
   "source": [
    "poke1.say()"
   ]
  },
  {
   "cell_type": "code",
   "execution_count": 5,
   "metadata": {},
   "outputs": [
    {
     "name": "stdout",
     "output_type": "stream",
     "text": [
      "ｲｲｲｲｲｲｲｲﾌﾞｲｲｲｲｲｲｲｲ!!\n"
     ]
    }
   ],
   "source": [
    "poke2.say()"
   ]
  },
  {
   "cell_type": "markdown",
   "metadata": {},
   "source": [
    "## 例：バトルクラス\n",
    "- 「バトル」という概念はポケモンとは別の概念のため、新たにクラスを宣言します"
   ]
  },
  {
   "cell_type": "code",
   "execution_count": 6,
   "metadata": {},
   "outputs": [],
   "source": [
    "class Battle():\n",
    "    def __init__(self, pokemon1 :Pokemon, pokemon2 :Pokemon):\n",
    "        self.pokemon1 = pokemon1\n",
    "        self.pokemon2 = pokemon2\n",
    "\n",
    "    def __call__(self, pokemon1 :Pokemon, pokemon2 :Pokemon):\n",
    "        self.pokemon1 = pokemon1\n",
    "        self.pokemon2 = pokemon2\n",
    "    \n",
    "    def battle(self):\n",
    "        print(f\"野生の{self.pokemon2.name}が飛び出してきた！！\")\n",
    "        self.pokemon2.say()\n",
    "        print(f\"いけっ！{self.pokemon1.name}！キミにきめたっ！\")\n",
    "        self.pokemon1.say()\n",
    "        while True:\n",
    "            self.calc_damage(self.pokemon1, self.pokemon2)\n",
    "            if self.pokemon2.hp <= 0:\n",
    "                print(f\"{self.pokemon2.name}は たおれた！\")\n",
    "                break\n",
    "            self.calc_damage(self.pokemon2, self.pokemon1)\n",
    "            if self.pokemon1.hp <= 0:\n",
    "                print(f\"{self.pokemon1.name}は たおれた！\")\n",
    "                break\n",
    "\n",
    "    def calc_damage(self, offence_poke, defence_poke):\n",
    "        damage = defence_poke.defence - offence_poke.attack\n",
    "        print(f\"{offence_poke.name} の攻撃！{defence_poke.name}に{damage * -1} のダメージ\")\n",
    "        defence_poke.hp += damage"
   ]
  },
  {
   "cell_type": "markdown",
   "metadata": {},
   "source": [
    "#### Battleインスタンスを確保"
   ]
  },
  {
   "cell_type": "code",
   "execution_count": 7,
   "metadata": {},
   "outputs": [],
   "source": [
    "battle1 = Battle(poke1, poke2)"
   ]
  },
  {
   "cell_type": "markdown",
   "metadata": {},
   "source": [
    "#### battle() メソッドで戦ってみましょう"
   ]
  },
  {
   "cell_type": "code",
   "execution_count": 8,
   "metadata": {},
   "outputs": [
    {
     "name": "stdout",
     "output_type": "stream",
     "text": [
      "野生のイーブイが飛び出してきた！！\n",
      "ｲｲｲｲｲｲｲｲﾌﾞｲｲｲｲｲｲｲｲ!!\n",
      "いけっ！ピカチュウ！キミにきめたっ！\n",
      "ﾋﾟｨｶﾞﾁﾞｭｩｩｳｩｳ!!\n",
      "ピカチュウ の攻撃！イーブイに40 のダメージ\n",
      "イーブイ の攻撃！ピカチュウに20 のダメージ\n",
      "ピカチュウ の攻撃！イーブイに40 のダメージ\n",
      "イーブイ の攻撃！ピカチュウに20 のダメージ\n",
      "ピカチュウ の攻撃！イーブイに40 のダメージ\n",
      "イーブイ の攻撃！ピカチュウに20 のダメージ\n",
      "ピカチュウ の攻撃！イーブイに40 のダメージ\n",
      "イーブイは たおれた！\n"
     ]
    }
   ],
   "source": [
    "# 1. battle()メソッドで戦う処理を実行しましょう\n",
    "battle1.battle()"
   ]
  },
  {
   "cell_type": "markdown",
   "metadata": {},
   "source": [
    "#### ポケモンを入れ替えて戦ってみましょう"
   ]
  },
  {
   "cell_type": "code",
   "execution_count": 9,
   "metadata": {},
   "outputs": [
    {
     "name": "stdout",
     "output_type": "stream",
     "text": [
      "野生のピカチュウが飛び出してきた！！\n",
      "ﾋﾟｨｶﾞﾁﾞｭｩｩｳｩｳ!!\n",
      "いけっ！イーブイ！キミにきめたっ！\n",
      "ｲｲｲｲｲｲｲｲﾌﾞｲｲｲｲｲｲｲｲ!!\n",
      "イーブイ の攻撃！ピカチュウに20 のダメージ\n",
      "ピカチュウは たおれた！\n"
     ]
    }
   ],
   "source": [
    "battle2 = Battle(poke2, poke1)\n",
    "battle2.battle()"
   ]
  },
  {
   "cell_type": "markdown",
   "metadata": {},
   "source": [
    "---\n",
    "---\n",
    "---\n",
    "---\n",
    "---"
   ]
  },
  {
   "cell_type": "markdown",
   "metadata": {},
   "source": [
    "## 練習プログラム3　オブジェクトのメソッド (2点)"
   ]
  },
  {
   "cell_type": "markdown",
   "metadata": {},
   "source": [
    "- Battleインスタンスを確保してみましょう\n",
    "- battle()メソッドを呼び出して、戦ってみましょう"
   ]
  },
  {
   "cell_type": "code",
   "execution_count": null,
   "metadata": {},
   "outputs": [],
   "source": [
    "# Battleインスタンスを確保\n"
   ]
  },
  {
   "cell_type": "code",
   "execution_count": null,
   "metadata": {},
   "outputs": [],
   "source": [
    "# battle()メソッドを呼び出して戦闘\n"
   ]
  }
 ],
 "metadata": {
  "colab": {
   "authorship_tag": "ABX9TyMOtB7OiTVLb+yu2KoVwjto",
   "include_colab_link": true,
   "provenance": []
  },
  "kernelspec": {
   "display_name": "Python 3 (ipykernel)",
   "language": "python",
   "name": "python3"
  },
  "language_info": {
   "codemirror_mode": {
    "name": "ipython",
    "version": 3
   },
   "file_extension": ".py",
   "mimetype": "text/x-python",
   "name": "python",
   "nbconvert_exporter": "python",
   "pygments_lexer": "ipython3",
   "version": "3.11.9"
  }
 },
 "nbformat": 4,
 "nbformat_minor": 4
}
