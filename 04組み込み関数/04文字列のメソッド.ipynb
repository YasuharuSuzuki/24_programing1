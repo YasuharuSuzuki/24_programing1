{
 "cells": [
  {
   "cell_type": "markdown",
   "metadata": {
    "colab_type": "text",
    "id": "view-in-github"
   },
   "source": [
    "<a href=\"https://colab.research.google.com/github/YasuharuSuzuki/24_programing1/blob/main/\" target=\"_parent\"><img src=\"https://colab.research.google.com/assets/colab-badge.svg\" alt=\"Open In Colab\"/></a>"
   ]
  },
  {
   "cell_type": "markdown",
   "metadata": {},
   "source": [
    "# Section 4-4 文字列のメソッド"
   ]
  },
  {
   "cell_type": "markdown",
   "metadata": {},
   "source": [
    "## 参考サイト\n",
    "### [参考サイト1【Python早見表】8.5. 文字列に対する操作](https://chokkan.github.io/python/08str.html#id6)\n",
    "### [参考サイト2【Python入門】2-1.文字列とメソッド](https://utokyo-ipp.github.io/2/2-1.html#%E6%96%87%E5%AD%97%E5%88%97%E3%81%A8%E3%83%A1%E3%82%BD%E3%83%83%E3%83%89)\n",
    "\n",
    "※クラスの作成はもっと後の章で実施しますので、ここでは呼び出し方だけ学びましょう"
   ]
  },
  {
   "cell_type": "markdown",
   "metadata": {},
   "source": [
    "## 文字列のメソッド\n",
    "\n",
    "|  メソッド  |  処理  | 使用例 |\n",
    "| :---- | :---- | :---- |\n",
    "| upper()  | 大文字に変換  | \"Apple iPhoneとGoogle Android\" → \"APPLE IPHONEとGOOGLE ANDROID\" |\n",
    "| lower()  | 小文字に変換  | \"Apple iPhoneとGoogle Android\" → \"apple iphoneとgoogle android\" |\n",
    "| capitalize()  | 文章の先頭を大文字に変換  | \"may the force be with you!\" → \"May the force be with you!\" |\n",
    "| title()  | 単語の先頭を大文字に変換  | \"may the force be with you!\" → \"May The Force Be With You!\" |\n",
    "| count()  | 文字列中に特定の文字列が含まれる個数を返す  | \"apple pie\".count(\"p\") → 3 |\n",
    "| find()  | 文字が見つかった最初の位置を返す  | \"apple pie\".count(\"e\") → 4 |\n",
    "| rfind()  | 文字を後ろから検索し、見つかった最初の位置を返す  | \"apple pie\".count(\"e\") → 8 |\n",
    "| replace()  | 文字列を置換する  | \"employee\".replace(\"e\",\"x\") → \"xmployxx\" |\n",
    "| strip()  | 文字列の前後にある空行と改行コードを取り除く  | \"   hello   \\n\".strip() → \"hello\" |\n",
    "| rstrip()  | 末尾にある特定文字を取り除く  | \"2, 3, 4,\\n\".strip() → \"2, 3, 4\" |\n",
    "| format() | 文字列に値を埋め込む(format) | \"チューリップは{}と{}と{}でした。\".format(\"赤\",\"青\",\"黄色\") → 'チューリップは赤と青と黄色でした。' |\n",
    "| fstring | 文字列に値を埋め込む(fstring) | name=\"高橋\"; age=\"23\" f\"{name}選手、年齢{age}\" → '高橋選手、年齢23' |"
   ]
  },
  {
   "cell_type": "markdown",
   "metadata": {},
   "source": [
    "## 練習プログラム４　文字列のメソッド"
   ]
  },
  {
   "cell_type": "markdown",
   "metadata": {},
   "source": [
    "### 大文字小文字を変換する"
   ]
  },
  {
   "cell_type": "code",
   "execution_count": 3,
   "metadata": {},
   "outputs": [
    {
     "data": {
      "text/plain": [
       "\"YACCHAN IKA IS A FLAVORFUL SNACK OF SQUID WITH A SAUCE ON THE SQUID'S FEET, WHICH CAN ALSO BE USED AS A SNACK FOR ALCOHOLIC BEVERAGES!\""
      ]
     },
     "execution_count": 3,
     "metadata": {},
     "output_type": "execute_result"
    }
   ],
   "source": [
    "s = \"Yacchan Ika is a flavorful snack of squid with a sauce on the squid's feet, which can also be used as a snack for alcoholic beverages!\"\n",
    "\n",
    "# 大文字に変換する\n",
    "s.upper()"
   ]
  },
  {
   "cell_type": "code",
   "execution_count": 4,
   "metadata": {},
   "outputs": [
    {
     "data": {
      "text/plain": [
       "\"yacchan ika is a flavorful snack of squid with a sauce on the squid's feet, which can also be used as a snack for alcoholic beverages!\""
      ]
     },
     "execution_count": 4,
     "metadata": {},
     "output_type": "execute_result"
    }
   ],
   "source": [
    "# 小文字に変換する\n",
    "s.lower()"
   ]
  },
  {
   "cell_type": "markdown",
   "metadata": {},
   "source": [
    "### １文字目を大文字にする"
   ]
  },
  {
   "cell_type": "code",
   "execution_count": 5,
   "metadata": {},
   "outputs": [
    {
     "data": {
      "text/plain": [
       "'Flavorful snack of squid!'"
      ]
     },
     "execution_count": 5,
     "metadata": {},
     "output_type": "execute_result"
    }
   ],
   "source": [
    "s = \"flavorful snack of squid!\"\n",
    "s.capitalize()"
   ]
  },
  {
   "cell_type": "code",
   "execution_count": 6,
   "metadata": {},
   "outputs": [
    {
     "data": {
      "text/plain": [
       "'Flavorful Snack Of Squid!'"
      ]
     },
     "execution_count": 6,
     "metadata": {},
     "output_type": "execute_result"
    }
   ],
   "source": [
    "s.title()"
   ]
  },
  {
   "cell_type": "markdown",
   "metadata": {},
   "source": [
    "### 文字列中に特定の文字列が含まれる個数を返す\n",
    "#### 文字列に含まれる\"p\"、\"どど\"の文字を数える"
   ]
  },
  {
   "cell_type": "code",
   "execution_count": 7,
   "metadata": {},
   "outputs": [
    {
     "data": {
      "text/plain": [
       "4"
      ]
     },
     "execution_count": 7,
     "metadata": {},
     "output_type": "execute_result"
    }
   ],
   "source": [
    "s = \"Password付きZIPファイルを送ります、Passwordを送ります、Angoka（暗号化）、Protocol（プロトコル）\"\n",
    "\n",
    "# P の数をカウントする\n",
    "s.count(\"P\")"
   ]
  },
  {
   "cell_type": "code",
   "execution_count": 9,
   "metadata": {},
   "outputs": [
    {
     "data": {
      "text/plain": [
       "2"
      ]
     },
     "execution_count": 9,
     "metadata": {},
     "output_type": "execute_result"
    }
   ],
   "source": [
    "s.count(\"ます\")"
   ]
  },
  {
   "cell_type": "markdown",
   "metadata": {},
   "source": [
    "#### 先頭から20文字目までに含まれる\"P\"の個数"
   ]
  },
  {
   "cell_type": "code",
   "execution_count": 10,
   "metadata": {},
   "outputs": [
    {
     "data": {
      "text/plain": [
       "2"
      ]
     },
     "execution_count": 10,
     "metadata": {},
     "output_type": "execute_result"
    }
   ],
   "source": [
    "s.count(\"P\", 0, 20)"
   ]
  },
  {
   "cell_type": "markdown",
   "metadata": {},
   "source": [
    "### 文字が見つかった位置を返す"
   ]
  },
  {
   "cell_type": "code",
   "execution_count": 11,
   "metadata": {},
   "outputs": [
    {
     "data": {
      "text/plain": [
       "10"
      ]
     },
     "execution_count": 11,
     "metadata": {},
     "output_type": "execute_result"
    }
   ],
   "source": [
    "s.find(\"Z\")"
   ]
  },
  {
   "cell_type": "markdown",
   "metadata": {},
   "source": [
    "0 スタートの位置を整数値で返します。11番目は 10 を返します。"
   ]
  },
  {
   "cell_type": "code",
   "execution_count": 12,
   "metadata": {},
   "outputs": [
    {
     "data": {
      "text/plain": [
       "-1"
      ]
     },
     "execution_count": 12,
     "metadata": {},
     "output_type": "execute_result"
    }
   ],
   "source": [
    "s.find(\"x\")"
   ]
  },
  {
   "cell_type": "markdown",
   "metadata": {},
   "source": [
    "見つからなかった時は -1 を返します。"
   ]
  },
  {
   "cell_type": "markdown",
   "metadata": {},
   "source": [
    "### 文字を後ろから検索する"
   ]
  },
  {
   "cell_type": "code",
   "execution_count": 13,
   "metadata": {},
   "outputs": [
    {
     "data": {
      "text/plain": [
       "49"
      ]
     },
     "execution_count": 13,
     "metadata": {},
     "output_type": "execute_result"
    }
   ],
   "source": [
    "s.rfind(\"P\")"
   ]
  },
  {
   "cell_type": "markdown",
   "metadata": {},
   "source": [
    "## 文字列を置換する"
   ]
  },
  {
   "cell_type": "code",
   "execution_count": 17,
   "metadata": {},
   "outputs": [
    {
     "data": {
      "text/plain": [
       "'password付きZIpファイルを送ります、passwordを送ります、Angoka（暗号化）、protocol（プロトコル）'"
      ]
     },
     "execution_count": 17,
     "metadata": {},
     "output_type": "execute_result"
    }
   ],
   "source": [
    "# 大文字の \"P\" を小文字の \"p\" に置換\n",
    "s.replace(\"P\",\"p\")"
   ]
  },
  {
   "cell_type": "code",
   "execution_count": 19,
   "metadata": {},
   "outputs": [
    {
     "data": {
      "text/plain": [
       "'Password付きZIPファイルを送ります、Passwordを送ります、Angoka（暗号化）、Protocol（ぷろとこる）'"
      ]
     },
     "execution_count": 19,
     "metadata": {},
     "output_type": "execute_result"
    }
   ],
   "source": [
    "# カタカナの \"プロトコル\" をひらがなの \"ぷろとこる\" に置換\n",
    "s.replace(\"プロトコル\",\"ぷろとこる\")"
   ]
  },
  {
   "cell_type": "markdown",
   "metadata": {},
   "source": [
    "## 前後の余分な文字を取り除く"
   ]
  },
  {
   "cell_type": "markdown",
   "metadata": {},
   "source": [
    "### 文字列の前後にある空白と改行コードを取り除く"
   ]
  },
  {
   "cell_type": "code",
   "execution_count": 20,
   "metadata": {},
   "outputs": [
    {
     "data": {
      "text/plain": [
       "'やっちゃんタコ'"
      ]
     },
     "execution_count": 20,
     "metadata": {},
     "output_type": "execute_result"
    }
   ],
   "source": [
    "t = \"   やっちゃんタコ   \\n\"\n",
    "\n",
    "# 文字列の前後にある空白と改行コードを取り除く\n",
    "t.strip()"
   ]
  },
  {
   "cell_type": "markdown",
   "metadata": {},
   "source": [
    "### 末尾にある連続した\".\"を取り除く"
   ]
  },
  {
   "cell_type": "code",
   "execution_count": 21,
   "metadata": {},
   "outputs": [
    {
     "data": {
      "text/plain": [
       "'チロルリング'"
      ]
     },
     "execution_count": 21,
     "metadata": {},
     "output_type": "execute_result"
    }
   ],
   "source": [
    "t = \"チロルリング......\"\n",
    "t.strip(\".\")"
   ]
  },
  {
   "cell_type": "markdown",
   "metadata": {},
   "source": [
    "### 末尾にあるカンマ、ピリオド、改行コードを取り除く"
   ]
  },
  {
   "cell_type": "code",
   "execution_count": 22,
   "metadata": {},
   "outputs": [
    {
     "data": {
      "text/plain": [
       "'やっちゃんタコ, チロルリング, スーパーキャンディ'"
      ]
     },
     "execution_count": 22,
     "metadata": {},
     "output_type": "execute_result"
    }
   ],
   "source": [
    "t1 = \"やっちゃんタコ, チロルリング, スーパーキャンディ,\"\n",
    "t1.rstrip(\".,\\n\")"
   ]
  },
  {
   "cell_type": "code",
   "execution_count": 23,
   "metadata": {},
   "outputs": [
    {
     "data": {
      "text/plain": [
       "'ハロー ワールド'"
      ]
     },
     "execution_count": 23,
     "metadata": {},
     "output_type": "execute_result"
    }
   ],
   "source": [
    "t2 = \"ハロー ワールド.\\n\"\n",
    "t2.rstrip(\".,\\n\")"
   ]
  },
  {
   "cell_type": "markdown",
   "metadata": {},
   "source": [
    "## 文字列に値を埋め込む\n",
    "### 文字列に引数の値を埋め込む(format)"
   ]
  },
  {
   "cell_type": "code",
   "execution_count": 24,
   "metadata": {},
   "outputs": [
    {
     "data": {
      "text/plain": [
       "'チューリップは赤と青と黄色でした。'"
      ]
     },
     "execution_count": 24,
     "metadata": {},
     "output_type": "execute_result"
    }
   ],
   "source": [
    "s = \"チューリップは{}と{}と{}でした。\"\n",
    "\n",
    "# 文字列に値を埋め込む\n",
    "s.format(\"赤\",\"青\",\"黄色\")"
   ]
  },
  {
   "cell_type": "markdown",
   "metadata": {},
   "source": [
    "### 埋め込む値に数値がある場合"
   ]
  },
  {
   "cell_type": "code",
   "execution_count": 25,
   "metadata": {},
   "outputs": [
    {
     "data": {
      "text/plain": [
       "'高橋選手、年齢23、得点102.5でした。'"
      ]
     },
     "execution_count": 25,
     "metadata": {},
     "output_type": "execute_result"
    }
   ],
   "source": [
    "name = \"高橋\"\n",
    "age = 23\n",
    "point = 102.5\n",
    "s = \"{}選手、年齢{}、得点{}でした。\"\n",
    "text = s.format(name, age, point)\n",
    "text"
   ]
  },
  {
   "cell_type": "markdown",
   "metadata": {},
   "source": [
    "### 文字列に値を埋め込む(fstring)"
   ]
  },
  {
   "cell_type": "code",
   "execution_count": 26,
   "metadata": {},
   "outputs": [
    {
     "data": {
      "text/plain": [
       "'高橋選手、年齢23、得点102.5でした。'"
      ]
     },
     "execution_count": 26,
     "metadata": {},
     "output_type": "execute_result"
    }
   ],
   "source": [
    "f\"{name}選手、年齢{age}、得点{point}でした。\""
   ]
  },
  {
   "cell_type": "markdown",
   "metadata": {},
   "source": [
    "### 対応する引数の順番を番号で指定する"
   ]
  },
  {
   "cell_type": "code",
   "execution_count": 27,
   "metadata": {},
   "outputs": [
    {
     "data": {
      "text/plain": [
       "'得点102.5、高橋、23歳'"
      ]
     },
     "execution_count": 27,
     "metadata": {},
     "output_type": "execute_result"
    }
   ],
   "source": [
    "\"得点{2}、{0}、{1}歳\".format(name, age, point)"
   ]
  },
  {
   "cell_type": "markdown",
   "metadata": {},
   "source": [
    "### 埋め込む引数をキーワード引数で指定する"
   ]
  },
  {
   "cell_type": "code",
   "execution_count": 28,
   "metadata": {},
   "outputs": [
    {
     "data": {
      "text/plain": [
       "'高橋選手、年齢23、得点102.5でした。'"
      ]
     },
     "execution_count": 28,
     "metadata": {},
     "output_type": "execute_result"
    }
   ],
   "source": [
    "\"{name}選手、年齢{age}、得点{point}でした。\".format(name=\"高橋\", age=23, point=102.5)"
   ]
  },
  {
   "cell_type": "markdown",
   "metadata": {},
   "source": [
    "## 値の書式指定\n",
    "#### {値 : 書式} の形で書式を指定できます"
   ]
  },
  {
   "cell_type": "markdown",
   "metadata": {},
   "source": [
    "### 数値を位取りして埋め込む(fstring)"
   ]
  },
  {
   "cell_type": "code",
   "execution_count": 29,
   "metadata": {},
   "outputs": [
    {
     "name": "stdout",
     "output_type": "stream",
     "text": [
      "東京123,456,000、京都53,900\n"
     ]
    }
   ],
   "source": [
    "tokyo = 123456000\n",
    "kyoto = 53900\n",
    "print(f\"東京{tokyo:,}、京都{kyoto:,}\")"
   ]
  },
  {
   "cell_type": "markdown",
   "metadata": {},
   "source": [
    "### 数値を位取りして埋め込む(format)"
   ]
  },
  {
   "cell_type": "code",
   "execution_count": 30,
   "metadata": {},
   "outputs": [
    {
     "data": {
      "text/plain": [
       "'東京123,456,000、京都53,900'"
      ]
     },
     "execution_count": 30,
     "metadata": {},
     "output_type": "execute_result"
    }
   ],
   "source": [
    "\"東京{:,}、京都{:,}\".format(tokyo, kyoto)"
   ]
  },
  {
   "cell_type": "markdown",
   "metadata": {},
   "source": [
    "### 小数点以下の桁数指定(fstring)"
   ]
  },
  {
   "cell_type": "code",
   "execution_count": 31,
   "metadata": {},
   "outputs": [
    {
     "data": {
      "text/plain": [
       "'長さ 25.3cm、厚み6mm'"
      ]
     },
     "execution_count": 31,
     "metadata": {},
     "output_type": "execute_result"
    }
   ],
   "source": [
    "length = 25.34\n",
    "thickness = 5.62\n",
    "f\"長さ{length: .1f}cm、厚み{thickness:.0f}mm\""
   ]
  },
  {
   "cell_type": "markdown",
   "metadata": {},
   "source": [
    "### 小数点以下の桁数指定(format)"
   ]
  },
  {
   "cell_type": "code",
   "execution_count": 32,
   "metadata": {},
   "outputs": [
    {
     "data": {
      "text/plain": [
       "'長さ25.3cm、厚み6mm'"
      ]
     },
     "execution_count": 32,
     "metadata": {},
     "output_type": "execute_result"
    }
   ],
   "source": [
    "\"長さ{:.1f}cm、厚み{:.0f}mm\".format(length, thickness)"
   ]
  },
  {
   "cell_type": "markdown",
   "metadata": {},
   "source": [
    "### 位取りと小数点以下２位までの表示"
   ]
  },
  {
   "cell_type": "code",
   "execution_count": 33,
   "metadata": {},
   "outputs": [
    {
     "name": "stdout",
     "output_type": "stream",
     "text": [
      "2,345.03\n"
     ]
    }
   ],
   "source": [
    "num = 2345.032\n",
    "print(f\"{num:,.2f}\")"
   ]
  },
  {
   "cell_type": "markdown",
   "metadata": {},
   "source": [
    "### 値の位置揃え"
   ]
  },
  {
   "cell_type": "markdown",
   "metadata": {},
   "source": [
    "### 10文字フィールドに右詰めで表示する"
   ]
  },
  {
   "cell_type": "code",
   "execution_count": 34,
   "metadata": {},
   "outputs": [],
   "source": [
    "num1 = 123.4\n",
    "num2 = 56.9\n",
    "num3 = 3040.1"
   ]
  },
  {
   "cell_type": "code",
   "execution_count": 35,
   "metadata": {},
   "outputs": [
    {
     "name": "stdout",
     "output_type": "stream",
     "text": [
      "     123.4\n"
     ]
    }
   ],
   "source": [
    "print(f\"{num1:>10.1f}\")"
   ]
  },
  {
   "cell_type": "code",
   "execution_count": 36,
   "metadata": {},
   "outputs": [
    {
     "name": "stdout",
     "output_type": "stream",
     "text": [
      "      56.9\n"
     ]
    }
   ],
   "source": [
    "print(f\"{num2:>10.1f}\")"
   ]
  },
  {
   "cell_type": "code",
   "execution_count": 37,
   "metadata": {},
   "outputs": [
    {
     "name": "stdout",
     "output_type": "stream",
     "text": [
      "    3040.1\n"
     ]
    }
   ],
   "source": [
    "print(f\"{num3:>10.1f}\")"
   ]
  },
  {
   "cell_type": "markdown",
   "metadata": {},
   "source": [
    "---\n",
    "---\n",
    "---\n",
    "---\n",
    "---"
   ]
  },
  {
   "cell_type": "markdown",
   "metadata": {},
   "source": [
    "## 練習プログラム4　文字列のメソッド (3.5点)"
   ]
  },
  {
   "cell_type": "markdown",
   "metadata": {},
   "source": [
    "- 英語を含む文字列を定義して、大文字・小文字を変換するメソッド（upper(),lower(),capitalize(),title()）のいずれかを使って変換し、出力してみましょう\n",
    "- 文字を検索するメソッド（find(),rfind()）のいずれかを使って検索し、見つかった位置を出力してみましょう\n",
    "- 文字を置換するメソッド（replace()）を使って置換し、置換後の文字列を出力してみましょう\n",
    "- 文字列の前後にある空白や改行コードを取り除くメソッドを使って余分な空白/改行を取り除き、取り除いたあとの文字列を出力してみましょう\n",
    "- formatメソッドを使って文字列中に文字や数値を埋め込み、出力してみましょう\n",
    "- fstringを使って文字列中に文字や数値を埋め込み、出力してみましょう\n",
    "- 小数点以下を3桁以上持つの小数値を定義し、formatメソッドまたはfstringの桁数指定を使用して小数点以下2位までにまとめた文字列として出力してみましょう"
   ]
  },
  {
   "cell_type": "code",
   "execution_count": 1,
   "metadata": {},
   "outputs": [],
   "source": [
    "# 大文字・小文字を変換するメソッド（upper(),lower(),capitalize(),title()）のいずれかを使って変換し、出力\n"
   ]
  },
  {
   "cell_type": "code",
   "execution_count": 2,
   "metadata": {},
   "outputs": [],
   "source": [
    "# 文字を検索するメソッド（find(),rfind()）のいずれかを使って検索し、見つかった位置を出力\n"
   ]
  },
  {
   "cell_type": "code",
   "execution_count": 3,
   "metadata": {},
   "outputs": [],
   "source": [
    "# 文字を置換するメソッド（replace()）を使って置換し、置換後の文字列を出力\n"
   ]
  },
  {
   "cell_type": "code",
   "execution_count": 4,
   "metadata": {},
   "outputs": [],
   "source": [
    "# 文字列の前後にある空白や改行コードを取り除くメソッドを使って余分な空白/改行を取り除き、取り除いたあとの文字列を出力\n"
   ]
  },
  {
   "cell_type": "code",
   "execution_count": 5,
   "metadata": {},
   "outputs": [],
   "source": [
    "# formatメソッドを使って文字列中に文字や数値を埋め込み、出力\n"
   ]
  },
  {
   "cell_type": "code",
   "execution_count": 6,
   "metadata": {},
   "outputs": [],
   "source": [
    "# fstringを使って文字列中に文字や数値を埋め込み、出力\n"
   ]
  },
  {
   "cell_type": "code",
   "execution_count": 7,
   "metadata": {},
   "outputs": [],
   "source": [
    "# formatメソッドまたはfstringの桁数指定を使用して小数点以下2位までにまとめた文字列として出力\n"
   ]
  },
  {
   "cell_type": "code",
   "execution_count": null,
   "metadata": {},
   "outputs": [],
   "source": []
  },
  {
   "cell_type": "code",
   "execution_count": null,
   "metadata": {},
   "outputs": [],
   "source": []
  }
 ],
 "metadata": {
  "colab": {
   "authorship_tag": "ABX9TyMOtB7OiTVLb+yu2KoVwjto",
   "include_colab_link": true,
   "provenance": []
  },
  "kernelspec": {
   "display_name": "Python 3 (ipykernel)",
   "language": "python",
   "name": "python3"
  },
  "language_info": {
   "codemirror_mode": {
    "name": "ipython",
    "version": 3
   },
   "file_extension": ".py",
   "mimetype": "text/x-python",
   "name": "python",
   "nbconvert_exporter": "python",
   "pygments_lexer": "ipython3",
   "version": "3.11.9"
  }
 },
 "nbformat": 4,
 "nbformat_minor": 4
}
