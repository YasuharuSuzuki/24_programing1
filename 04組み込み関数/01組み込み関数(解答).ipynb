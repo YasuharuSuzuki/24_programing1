{
 "cells": [
  {
   "cell_type": "markdown",
   "metadata": {
    "colab_type": "text",
    "id": "view-in-github"
   },
   "source": [
    "<a href=\"https://colab.research.google.com/github/YasuharuSuzuki/24_programing1/blob/main/\" target=\"_parent\"><img src=\"https://colab.research.google.com/assets/colab-badge.svg\" alt=\"Open In Colab\"/></a>"
   ]
  },
  {
   "cell_type": "markdown",
   "metadata": {},
   "source": [
    "# Section 4-1 組み込み関数"
   ]
  },
  {
   "cell_type": "markdown",
   "metadata": {},
   "source": [
    "## 参考サイト\n",
    "### [参考サイト1 Pythonの主な組み込み関数31個について、全て例を交えて解説する](https://zenn.dev/scytherjs/articles/99148efdb0ec73)\n",
    "※max(),abs(),input()などこのNotebookで扱われているすべての関数を網羅しています\n",
    "\n",
    "※Python入門、Python早見表には組み込み関数に関する説明はありません"
   ]
  },
  {
   "cell_type": "markdown",
   "metadata": {},
   "source": [
    "## サンプルプログラム1　組み込み関数"
   ]
  },
  {
   "cell_type": "markdown",
   "metadata": {},
   "source": [
    "### 関数とは\n",
    "- よく利用する処理のコードは、呼び出すだけで使えるようにコードに名前をつけて定義してあります。\n",
    "- 例としてmax()関数を使ってみましょう"
   ]
  },
  {
   "cell_type": "markdown",
   "metadata": {},
   "source": [
    "### 一番大きな値を返す max() 関数"
   ]
  },
  {
   "cell_type": "code",
   "execution_count": 1,
   "metadata": {},
   "outputs": [
    {
     "data": {
      "text/plain": [
       "7"
      ]
     },
     "execution_count": 1,
     "metadata": {},
     "output_type": "execute_result"
    }
   ],
   "source": [
    "# 5, 7, 3 の中から最大の値を取得する\n",
    "max(5, 7, 3)"
   ]
  },
  {
   "cell_type": "markdown",
   "metadata": {
    "jp-MarkdownHeadingCollapsed": true
   },
   "source": [
    "### 組み込み関数とは\n",
    "- いつでもどこからでも呼び出せる関数を組み込み関数といいます。"
   ]
  },
  {
   "cell_type": "markdown",
   "metadata": {},
   "source": [
    "### 数値計算に使う関数\n",
    "- Pythonには数値計算に使う組み込み関数が多数用意されています"
   ]
  },
  {
   "cell_type": "markdown",
   "metadata": {},
   "source": [
    "### 絶対値を求める"
   ]
  },
  {
   "cell_type": "code",
   "execution_count": 2,
   "metadata": {},
   "outputs": [
    {
     "data": {
      "text/plain": [
       "237.15"
      ]
     },
     "execution_count": 2,
     "metadata": {},
     "output_type": "execute_result"
    }
   ],
   "source": [
    "# -237.15の絶対値を取得する\n",
    "abs(-237.15)"
   ]
  },
  {
   "cell_type": "markdown",
   "metadata": {},
   "source": [
    "### 最小値を求める"
   ]
  },
  {
   "cell_type": "code",
   "execution_count": 3,
   "metadata": {},
   "outputs": [
    {
     "data": {
      "text/plain": [
       "-9"
      ]
     },
     "execution_count": 3,
     "metadata": {},
     "output_type": "execute_result"
    }
   ],
   "source": [
    "min(10, 9, -4, 3, -9)"
   ]
  },
  {
   "cell_type": "markdown",
   "metadata": {},
   "source": [
    "### xの値を10〜20の値にする"
   ]
  },
  {
   "cell_type": "code",
   "execution_count": 4,
   "metadata": {},
   "outputs": [
    {
     "data": {
      "text/plain": [
       "20"
      ]
     },
     "execution_count": 4,
     "metadata": {},
     "output_type": "execute_result"
    }
   ],
   "source": [
    "x = 24\n",
    "x = max(10, min(20, x))\n",
    "x"
   ]
  },
  {
   "cell_type": "markdown",
   "metadata": {},
   "source": [
    "### 文字列に使う関数\n",
    "#### Unicodeに対応する文字を調べる"
   ]
  },
  {
   "cell_type": "code",
   "execution_count": 5,
   "metadata": {},
   "outputs": [
    {
     "data": {
      "text/plain": [
       "65"
      ]
     },
     "execution_count": 5,
     "metadata": {},
     "output_type": "execute_result"
    }
   ],
   "source": [
    "# \"A\" の文字コードを求める \n",
    "ord(\"A\")"
   ]
  },
  {
   "cell_type": "code",
   "execution_count": 6,
   "metadata": {},
   "outputs": [
    {
     "data": {
      "text/plain": [
       "'A'"
      ]
     },
     "execution_count": 6,
     "metadata": {},
     "output_type": "execute_result"
    }
   ],
   "source": [
    "# 文字コード 65 の文字を求める\n",
    "chr(65)"
   ]
  },
  {
   "cell_type": "code",
   "execution_count": 7,
   "metadata": {},
   "outputs": [
    {
     "data": {
      "text/plain": [
       "26862"
      ]
     },
     "execution_count": 7,
     "metadata": {},
     "output_type": "execute_result"
    }
   ],
   "source": [
    "# \"森\" の文字コードを求める \n",
    "ord(\"森\")"
   ]
  },
  {
   "cell_type": "markdown",
   "metadata": {},
   "source": [
    "### キーボード入力を受け取る input()\n",
    "- input()はキーボードからの入力受け取りに使う関数です\n",
    "- あとあとアルゴリズムを問う問題でよく使うので、しっかり覚えておきましょう"
   ]
  },
  {
   "cell_type": "code",
   "execution_count": 1,
   "metadata": {},
   "outputs": [
    {
     "name": "stdout",
     "output_type": "stream",
     "text": [
      "好きな言葉を入力してください。：こんにちわ！\n"
     ]
    },
    {
     "data": {
      "text/plain": [
       "'こんにちわ！'"
      ]
     },
     "execution_count": 1,
     "metadata": {},
     "output_type": "execute_result"
    }
   ],
   "source": [
    "# input()を使用してキーボード入力を文字列で受け取る\n",
    "value = input(\"好きな言葉を入力してください。：\")\n",
    "\n",
    "# print()で出力する\n",
    "print(value)"
   ]
  },
  {
   "cell_type": "markdown",
   "metadata": {},
   "source": [
    "#### 組み込み定数、組み込み型、組み込み例外\n",
    "- 組み込み関数と同じように、組み込み定数、組み込み型、組み込み例外があります。\n",
    "- 数値や文字列などの標準で使える値の型は組み込み型です。\n",
    "- True、Falseは組み込み定数の例です。"
   ]
  },
  {
   "cell_type": "markdown",
   "metadata": {},
   "source": [
    "---\n",
    "---\n",
    "---\n",
    "---\n",
    "---"
   ]
  },
  {
   "cell_type": "markdown",
   "metadata": {},
   "source": [
    "## 練習プログラム1　組み込み関数 (3点)"
   ]
  },
  {
   "cell_type": "markdown",
   "metadata": {},
   "source": [
    "- 数値演算に使う組み込み関数（min(), max(), abs()）を１つ使って、結果を出力してみましょう。題材は何でも良いです\n",
    "- Unicodeに対応する文字を調べる関数（ord(), chr()）を１つ使って、結果を出力してみましょう。題材は何でも良いです\n",
    "- キーボード入力を受け取る input() 関数を使って、受け取った文字列を出力するプログラムを書いてみましょう。"
   ]
  },
  {
   "cell_type": "code",
   "execution_count": 17,
   "metadata": {},
   "outputs": [
    {
     "name": "stdout",
     "output_type": "stream",
     "text": [
      " abc\n"
     ]
    },
    {
     "name": "stdout",
     "output_type": "stream",
     "text": [
      "abc\n",
      "1文字目をordする = 97\n",
      "1文字と2文字目をordして、大きい方の文字を出力する = b\n"
     ]
    }
   ],
   "source": [
    "# キーボード入力を受け取る input() 関数を使って、受け取った文字列を出力\n",
    "input_str = input()\n",
    "print(input_str)\n",
    "\n",
    "# Unicodeに対応する文字を調べる関数（ord(), chr()）を１つ使って、結果を出力\n",
    "print('1文字目をordする =', ord(input_str[0]))\n",
    "\n",
    "# 数値演算に使う組み込み関数（min(), max(), abs()）を１つ使って、結果を出力\n",
    "print('1文字と2文字目をordして、大きい方の文字を出力する =', chr(max(ord(input_str[0]),ord(input_str[1]))))"
   ]
  },
  {
   "cell_type": "code",
   "execution_count": null,
   "metadata": {},
   "outputs": [],
   "source": []
  }
 ],
 "metadata": {
  "colab": {
   "authorship_tag": "ABX9TyMOtB7OiTVLb+yu2KoVwjto",
   "include_colab_link": true,
   "provenance": []
  },
  "kernelspec": {
   "display_name": "Python 3 (ipykernel)",
   "language": "python",
   "name": "python3"
  },
  "language_info": {
   "codemirror_mode": {
    "name": "ipython",
    "version": 3
   },
   "file_extension": ".py",
   "mimetype": "text/x-python",
   "name": "python",
   "nbconvert_exporter": "python",
   "pygments_lexer": "ipython3",
   "version": "3.11.9"
  }
 },
 "nbformat": 4,
 "nbformat_minor": 4
}
