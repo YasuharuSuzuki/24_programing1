{
 "cells": [
  {
   "cell_type": "markdown",
   "metadata": {
    "colab_type": "text",
    "id": "view-in-github"
   },
   "source": [
    "<a href=\"https://colab.research.google.com/github/YasuharuSuzuki/24_programing1/blob/main/\" target=\"_parent\"><img src=\"https://colab.research.google.com/assets/colab-badge.svg\" alt=\"Open In Colab\"/></a>"
   ]
  },
  {
   "cell_type": "markdown",
   "metadata": {},
   "source": [
    "# Section 4-2 モジュールを読み込む\n",
    "- 標準でインストールされていても、組み込み関数以外はモジュールを読み込む必要があります\n",
    "- ここではモジュールの読み込みと利用の仕方を学びましょう"
   ]
  },
  {
   "cell_type": "markdown",
   "metadata": {},
   "source": [
    "## 参考サイト\n",
    "### [参考サイト1【Python入門】5-1. モジュールの使い方](https://utokyo-ipp.github.io/5/5-1.html)\n",
    "### [参考サイト2【Python早見表】5.2. インストールされたモジュールの利用](https://chokkan.github.io/python/05module.html#id4)"
   ]
  },
  {
   "cell_type": "markdown",
   "metadata": {},
   "source": [
    "## サンプルプログラム2　モジュールを読み込む"
   ]
  },
  {
   "cell_type": "markdown",
   "metadata": {},
   "source": [
    "### mathモジュールを読み込んで使う"
   ]
  },
  {
   "cell_type": "markdown",
   "metadata": {},
   "source": [
    "#### mathモジュールを読み込んでceil()とfloor()を使う"
   ]
  },
  {
   "cell_type": "code",
   "execution_count": 4,
   "metadata": {},
   "outputs": [
    {
     "data": {
      "text/plain": [
       "171"
      ]
     },
     "execution_count": 4,
     "metadata": {},
     "output_type": "execute_result"
    }
   ],
   "source": [
    "# mathモジュールを読み込み\n",
    "import math\n",
    "\n",
    "# math.ceil()で170.3を切り上げ\n",
    "math.ceil(170.3)"
   ]
  },
  {
   "cell_type": "code",
   "execution_count": 5,
   "metadata": {},
   "outputs": [
    {
     "data": {
      "text/plain": [
       "170"
      ]
     },
     "execution_count": 5,
     "metadata": {},
     "output_type": "execute_result"
    }
   ],
   "source": [
    "# math.floor()で170.3を切りすて\n",
    "math.floor(170.3)"
   ]
  },
  {
   "cell_type": "markdown",
   "metadata": {},
   "source": [
    "#### 定数piとラジアンを度に変換するdegrees()を使う"
   ]
  },
  {
   "cell_type": "code",
   "execution_count": 6,
   "metadata": {},
   "outputs": [
    {
     "data": {
      "text/plain": [
       "3.141592653589793"
      ]
     },
     "execution_count": 6,
     "metadata": {},
     "output_type": "execute_result"
    }
   ],
   "source": [
    "import math\n",
    "math.pi"
   ]
  },
  {
   "cell_type": "code",
   "execution_count": 8,
   "metadata": {},
   "outputs": [
    {
     "data": {
      "text/plain": [
       "90.0"
      ]
     },
     "execution_count": 8,
     "metadata": {},
     "output_type": "execute_result"
    }
   ],
   "source": [
    "math.degrees(math.pi/2)"
   ]
  },
  {
   "cell_type": "markdown",
   "metadata": {},
   "source": [
    "#### tan()を使って、距離と角度から木の高さを求める"
   ]
  },
  {
   "cell_type": "code",
   "execution_count": 10,
   "metadata": {},
   "outputs": [
    {
     "name": "stdout",
     "output_type": "stream",
     "text": [
      "10.71m\n"
     ]
    }
   ],
   "source": [
    "import math\n",
    "kyori = 40\n",
    "kakudo = math.radians(15) # ラジアンに換算する\n",
    "takasa = kyori * math.tan(kakudo) # 高さを計算する\n",
    "takasa = math.floor(takasa * 100) / 100 # 小数点以下第２位で切り捨て\n",
    "print(str(takasa) + \"m\")"
   ]
  },
  {
   "cell_type": "markdown",
   "metadata": {},
   "source": [
    "### 関数を指定して読み込む\n",
    "#### randomモジュールからrandint()を読み込んで使う"
   ]
  },
  {
   "cell_type": "code",
   "execution_count": 3,
   "metadata": {},
   "outputs": [
    {
     "data": {
      "text/plain": [
       "1"
      ]
     },
     "execution_count": 3,
     "metadata": {},
     "output_type": "execute_result"
    }
   ],
   "source": [
    "# randomモジュールからrandint()関数を指定して読み込む\n",
    "from random import randint\n",
    "\n",
    "# randint()関数で1〜12の乱数を得る\n",
    "randint(1, 12)"
   ]
  },
  {
   "cell_type": "code",
   "execution_count": 11,
   "metadata": {},
   "outputs": [
    {
     "data": {
      "text/plain": [
       "4"
      ]
     },
     "execution_count": 11,
     "metadata": {},
     "output_type": "execute_result"
    }
   ],
   "source": [
    "# 乱数を取得する(2)\n",
    "randint(1, 12)"
   ]
  },
  {
   "cell_type": "code",
   "execution_count": 13,
   "metadata": {},
   "outputs": [
    {
     "data": {
      "text/plain": [
       "12"
      ]
     },
     "execution_count": 13,
     "metadata": {},
     "output_type": "execute_result"
    }
   ],
   "source": [
    "# 乱数を取得する(3)\n",
    "randint(1, 12)"
   ]
  },
  {
   "cell_type": "markdown",
   "metadata": {},
   "source": [
    "### 関数に別名を付けて使う\n",
    "#### randint()をdiceの名前で読み込む"
   ]
  },
  {
   "cell_type": "code",
   "execution_count": 14,
   "metadata": {},
   "outputs": [
    {
     "data": {
      "text/plain": [
       "6"
      ]
     },
     "execution_count": 14,
     "metadata": {},
     "output_type": "execute_result"
    }
   ],
   "source": [
    "# 別モジュールから関数に別名を付けて読み込む\n",
    "from random import randint as dice12\n",
    "\n",
    "dice12(1, 12)"
   ]
  },
  {
   "cell_type": "markdown",
   "metadata": {},
   "source": [
    "---\n",
    "---\n",
    "---\n",
    "---\n",
    "---"
   ]
  },
  {
   "cell_type": "markdown",
   "metadata": {},
   "source": [
    "## 練習プログラム2　モジュール読み込み (1.5点)"
   ]
  },
  {
   "cell_type": "markdown",
   "metadata": {},
   "source": [
    "- mathモジュールの関数（ceil(), floor(), tan()等）を最低１つ使って、結果を出力してみましょう。\n",
    "- 乱数を生成する関数を使って、結果を出力してみましょう。\n",
    "- 関数を別名で読み込み、結果を出力してみましょう。"
   ]
  },
  {
   "cell_type": "code",
   "execution_count": 18,
   "metadata": {},
   "outputs": [
    {
     "name": "stdout",
     "output_type": "stream",
     "text": [
      "高さ = 18.65m 、角度 = 25\n"
     ]
    }
   ],
   "source": [
    "# 別モジュールから関数に別名を付けて読み込む\n",
    "from random import randint as dice360\n",
    "\n",
    "# 乱数を生成する関数を使って、結果を出力\n",
    "kakudo_random = dice360(10,45)\n",
    "\n",
    "# mathモジュールの関数（ceil(), floor(), tan()等）を最低１つ使って、結果を出力\n",
    "kyori = 40\n",
    "kakudo_radian = math.radians(kakudo_random) # ラジアンに換算する\n",
    "takasa = kyori * math.tan(kakudo_radian) # 高さを計算する\n",
    "takasa = math.floor(takasa * 100) / 100 # 小数点以下第２位で切り捨て\n",
    "print(\"高さ =\", str(takasa) + \"m\", \"、角度 =\", str(kakudo_random))"
   ]
  },
  {
   "cell_type": "code",
   "execution_count": null,
   "metadata": {},
   "outputs": [],
   "source": []
  }
 ],
 "metadata": {
  "colab": {
   "authorship_tag": "ABX9TyMOtB7OiTVLb+yu2KoVwjto",
   "include_colab_link": true,
   "provenance": []
  },
  "kernelspec": {
   "display_name": "Python 3 (ipykernel)",
   "language": "python",
   "name": "python3"
  },
  "language_info": {
   "codemirror_mode": {
    "name": "ipython",
    "version": 3
   },
   "file_extension": ".py",
   "mimetype": "text/x-python",
   "name": "python",
   "nbconvert_exporter": "python",
   "pygments_lexer": "ipython3",
   "version": "3.11.9"
  }
 },
 "nbformat": 4,
 "nbformat_minor": 4
}
