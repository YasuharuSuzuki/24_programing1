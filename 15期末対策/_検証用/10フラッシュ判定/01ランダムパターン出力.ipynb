{
 "cells": [
  {
   "cell_type": "markdown",
   "id": "e0f811d1",
   "metadata": {},
   "source": [
    "# ランダムパターン出力"
   ]
  },
  {
   "cell_type": "code",
   "execution_count": 2,
   "id": "575f2e20-25b5-45c8-8739-fc6a0e5e36d9",
   "metadata": {},
   "outputs": [],
   "source": [
    "import os\n",
    "import random\n",
    "import pandas as pd\n",
    "\n",
    "COUNT_OF_SAMPLES = 100\n",
    "CARD_SUITS = [\"♡\",\"♧\",\"♤\",\"♢\"]\n",
    "CARD_NUMS = [\"A\",\"2\",\"3\",\"4\",\"5\",\"6\",\"7\",\"8\",\"9\",\"10\",\"J\",\"Q\",\"K\"]\n",
    "FLASH_PERCENT = 20  # フラッシュの発生確率を％で入れてください"
   ]
  },
  {
   "cell_type": "code",
   "execution_count": 4,
   "id": "7aaad77d-a807-4045-b28b-ef267f34b906",
   "metadata": {},
   "outputs": [
    {
     "data": {
      "text/plain": [
       "['♧A', '♧2', '♧8', '♧5', '♧J']"
      ]
     },
     "execution_count": 4,
     "metadata": {},
     "output_type": "execute_result"
    }
   ],
   "source": [
    "def gen_flash():\n",
    "    \"\"\"\n",
    "    普通にやると1件も出力されないためフラッシュの出力を作ります\n",
    "    \"\"\"\n",
    "    start_num = random.randint(0,8)\n",
    "    suits = random.choice(CARD_SUITS)\n",
    "    nums = CARD_NUMS.copy()\n",
    "    flash_choice = [suits+nums.pop(random.randint(0,len(nums)-1)) for i in range(5)]\n",
    "    return flash_choice\n",
    "\n",
    "gen_flash()"
   ]
  },
  {
   "cell_type": "code",
   "execution_count": 5,
   "id": "b7228498-8305-4222-8451-4fdfdfa224b4",
   "metadata": {},
   "outputs": [
    {
     "data": {
      "text/plain": [
       "['♧9 ♧J ♢4 ♡8 ♤3']"
      ]
     },
     "execution_count": 5,
     "metadata": {},
     "output_type": "execute_result"
    }
   ],
   "source": [
    "def get_random_inputs(not_list=[]):\n",
    "    while True:\n",
    "        if random.randint(0,100) <= FLASH_PERCENT:\n",
    "            choice = gen_flash()\n",
    "        else:\n",
    "            choice = [random.choice(CARD_SUITS)+random.choice(CARD_NUMS) for _ in range(5)]\n",
    "        if len(set(choice)) == 5:\n",
    "            inputs = [\" \".join(choice)]\n",
    "            if inputs not in not_list:\n",
    "                return inputs\n",
    "        print(\"重複\", choice)\n",
    "    raise ValueError('無限ループしたようです')\n",
    "    \n",
    "get_random_inputs()"
   ]
  },
  {
   "cell_type": "code",
   "execution_count": 12,
   "id": "a42eca56-6234-47ba-8342-235563575d92",
   "metadata": {},
   "outputs": [],
   "source": [
    "def solve(input_list):\n",
    "    # 入力を受け取る\n",
    "    cards = input_list[0].split()\n",
    "    \n",
    "    # 絵柄（スート）部分をsetで取り出す\n",
    "    suits = set([card[:1] for card in cards])\n",
    "    # print(suits)\n",
    "\n",
    "    # フラッシュの判定\n",
    "    if len(suits) == 1:\n",
    "        return [\"YES\"]\n",
    "    else:\n",
    "        return [\"NO\"]"
   ]
  },
  {
   "cell_type": "code",
   "execution_count": 13,
   "id": "01eeb8a1-587c-4177-a8de-9972e35ba2ca",
   "metadata": {},
   "outputs": [
    {
     "data": {
      "text/plain": [
       "['YES']"
      ]
     },
     "execution_count": 13,
     "metadata": {},
     "output_type": "execute_result"
    }
   ],
   "source": [
    "solve(['♤4 ♤Q ♤9 ♤5 ♤J'])"
   ]
  },
  {
   "cell_type": "code",
   "execution_count": 14,
   "id": "c2bafefa-b1a4-463e-b132-5f10036ab1aa",
   "metadata": {
    "scrolled": true
   },
   "outputs": [
    {
     "name": "stdout",
     "output_type": "stream",
     "text": [
      "重複 ['♡Q', '♢A', '♢2', '♢A', '♢2']\n",
      "重複 ['♢8', '♤3', '♡3', '♢8', '♤10']\n",
      "重複 ['♢4', '♡7', '♡K', '♧J', '♧J']\n",
      "重複 ['♢A', '♢3', '♧7', '♢A', '♢5']\n",
      "重複 ['♧10', '♡2', '♤6', '♧2', '♧2']\n",
      "重複 ['♤5', '♡Q', '♡9', '♡Q', '♡8']\n",
      "重複 ['♡6', '♢6', '♤8', '♢6', '♡6']\n",
      "重複 ['♧J', '♤A', '♡4', '♧J', '♡J']\n",
      "重複 ['♡4', '♤J', '♤J', '♡3', '♡9']\n",
      "重複 ['♧5', '♡8', '♤4', '♤4', '♧A']\n",
      "重複 ['♤10', '♡6', '♡5', '♡5', '♧5']\n",
      "重複 ['♤4', '♧7', '♡3', '♧7', '♢J']\n",
      "done\n"
     ]
    }
   ],
   "source": [
    "def output_all(out_xz_filename):\n",
    "    all_inputs = []\n",
    "    all_outputs = []\n",
    "\n",
    "    for answer_id in range(COUNT_OF_SAMPLES):\n",
    "        all_inputs.append(get_random_inputs(all_inputs))\n",
    "        all_outputs.append(solve(all_inputs[answer_id]))        # 解答を求める\n",
    "\n",
    "    df_all = pd.DataFrame({\"in\":all_inputs, \"out\":all_outputs})\n",
    "    df_all.index += 1\n",
    "    os.makedirs(os.path.dirname(out_xz_filename), exist_ok=True)\n",
    "    df_all.to_csv(out_xz_filename)\n",
    "\n",
    "output_all(\"data/answer.csv.xz\")\n",
    "print('done')"
   ]
  },
  {
   "cell_type": "code",
   "execution_count": null,
   "id": "4f8cc94d",
   "metadata": {},
   "outputs": [],
   "source": []
  },
  {
   "cell_type": "code",
   "execution_count": null,
   "id": "2516460f-ceeb-4c7b-b6a6-7fb9d77395e7",
   "metadata": {},
   "outputs": [],
   "source": []
  }
 ],
 "metadata": {
  "kernelspec": {
   "display_name": "Python 3 (ipykernel)",
   "language": "python",
   "name": "python3"
  },
  "language_info": {
   "codemirror_mode": {
    "name": "ipython",
    "version": 3
   },
   "file_extension": ".py",
   "mimetype": "text/x-python",
   "name": "python",
   "nbconvert_exporter": "python",
   "pygments_lexer": "ipython3",
   "version": "3.11.9"
  }
 },
 "nbformat": 4,
 "nbformat_minor": 5
}
