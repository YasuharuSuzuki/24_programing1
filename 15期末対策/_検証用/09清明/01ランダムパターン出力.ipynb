{
 "cells": [
  {
   "cell_type": "markdown",
   "id": "e0f811d1",
   "metadata": {},
   "source": [
    "# ランダムパターン出力"
   ]
  },
  {
   "cell_type": "code",
   "execution_count": 82,
   "id": "575f2e20-25b5-45c8-8739-fc6a0e5e36d9",
   "metadata": {},
   "outputs": [],
   "source": [
    "import os\n",
    "import random\n",
    "import pandas as pd\n",
    "import numpy as np\n",
    "\n",
    "Y_START = 1582\n",
    "Y_END = 9999\n",
    "COUNT_OF_SAMPLES = 100\n",
    "Y_004_P = 40  # 4年に1度の発生確率を％で入れてください\n",
    "Y_100_P = 20  # 100年に1度の発生確率を％で入れてください\n",
    "Y_400_P = 10  # 400年に1度の発生確率を％で入れてください"
   ]
  },
  {
   "cell_type": "code",
   "execution_count": 83,
   "id": "7aaad77d-a807-4045-b28b-ef267f34b906",
   "metadata": {},
   "outputs": [],
   "source": [
    "y_free_arr = []\n",
    "y_004_arr = []\n",
    "y_100_arr = []\n",
    "y_400_arr = []\n",
    "\n",
    "for year1 in range(Y_START,Y_END+1):\n",
    "    if (year1%4)!=0:\n",
    "        y_free_arr.append(year1)\n",
    "    else:\n",
    "        if (year1%100)!=0:\n",
    "            y_004_arr.append(year1)\n",
    "        else:\n",
    "            if (year1%400)!=0:\n",
    "                y_100_arr.append(year1)\n",
    "            else:\n",
    "                y_400_arr.append(year1)"
   ]
  },
  {
   "cell_type": "code",
   "execution_count": 84,
   "id": "d4bab874-dbe4-4af7-b11d-f4acce5184a0",
   "metadata": {},
   "outputs": [
    {
     "name": "stdout",
     "output_type": "stream",
     "text": [
      "len(all_y)=8418, Y_END-Y_START=8417, len(set_all_y)=8418\n"
     ]
    }
   ],
   "source": [
    "all_y = y_free_arr + y_004_arr + y_100_arr + y_400_arr\n",
    "set_all_y = set(all_y)\n",
    "print(\"len(all_y)={}, Y_END-Y_START={}, len(set_all_y)={}\".format(len(all_y),Y_END-Y_START,len(set_all_y)))"
   ]
  },
  {
   "cell_type": "code",
   "execution_count": 85,
   "id": "b7228498-8305-4222-8451-4fdfdfa224b4",
   "metadata": {},
   "outputs": [],
   "source": [
    "def get_random_inputs(not_list=[]):\n",
    "    while True:\n",
    "        random_p = random.randint(0,100)\n",
    "        if random_p <= Y_400_P:\n",
    "            choice = random.choice(y_400_arr)\n",
    "        elif random_p <= Y_100_P+Y_400_P:\n",
    "            choice = random.choice(y_100_arr)\n",
    "        elif random_p <= Y_004_P+Y_100_P+Y_400_P:\n",
    "            choice = random.choice(y_004_arr)\n",
    "        else:\n",
    "            choice = random.choice(y_free_arr)\n",
    "        input_y = choice-1\n",
    "\n",
    "        inputs = [str(input_y)]\n",
    "        if inputs in not_list:\n",
    "            print(\"重複\", choice)\n",
    "            continue\n",
    "\n",
    "        if random_p <= Y_400_P:\n",
    "            y_400_arr.remove(choice)\n",
    "        elif random_p <= Y_100_P+Y_400_P:\n",
    "            y_100_arr.remove(choice)\n",
    "        elif random_p <= Y_004_P+Y_100_P+Y_400_P:\n",
    "            y_004_arr.remove(choice)\n",
    "        else:\n",
    "            y_free_arr.remove(choice)\n",
    "        \n",
    "        return inputs\n",
    "    raise ValueError('無限ループしたようです')\n",
    "    \n",
    "#get_random_inputs()"
   ]
  },
  {
   "cell_type": "code",
   "execution_count": 86,
   "id": "a42eca56-6234-47ba-8342-235563575d92",
   "metadata": {},
   "outputs": [],
   "source": [
    "def solve(input_list):\n",
    "    # 入力\n",
    "    Y = int(input_list[0])\n",
    "    \n",
    "    # 翌年がうるう年かどうかの判定\n",
    "    next_year = Y + 1\n",
    "    is_next_leap = (next_year % 4 == 0) and \\\n",
    "                   (next_year % 100 != 0 or next_year % 400 == 0)\n",
    "    \n",
    "    # 日付の判定\n",
    "    if is_next_leap:\n",
    "        return [\"4月5日\"]\n",
    "    else:\n",
    "        return [\"4月4日\"]\n"
   ]
  },
  {
   "cell_type": "code",
   "execution_count": 87,
   "id": "c2bafefa-b1a4-463e-b132-5f10036ab1aa",
   "metadata": {
    "scrolled": true
   },
   "outputs": [
    {
     "name": "stdout",
     "output_type": "stream",
     "text": [
      "done\n"
     ]
    }
   ],
   "source": [
    "def output_all(out_xz_filename):\n",
    "    all_inputs = []\n",
    "    all_outputs = []\n",
    "\n",
    "    for answer_id in range(COUNT_OF_SAMPLES):\n",
    "        all_inputs.append(get_random_inputs(all_inputs))\n",
    "        all_outputs.append(solve(all_inputs[answer_id]))        # 解答を求める\n",
    "\n",
    "    df_all = pd.DataFrame({\"in\":all_inputs, \"out\":all_outputs})\n",
    "    df_all.index += 1\n",
    "    os.makedirs(os.path.dirname(out_xz_filename), exist_ok=True)\n",
    "    df_all.to_csv(out_xz_filename)\n",
    "\n",
    "output_all(\"data/answer.csv.xz\")\n",
    "print('done')"
   ]
  },
  {
   "cell_type": "code",
   "execution_count": null,
   "id": "4f8cc94d",
   "metadata": {},
   "outputs": [],
   "source": []
  },
  {
   "cell_type": "code",
   "execution_count": null,
   "id": "2516460f-ceeb-4c7b-b6a6-7fb9d77395e7",
   "metadata": {},
   "outputs": [],
   "source": []
  }
 ],
 "metadata": {
  "kernelspec": {
   "display_name": "Python 3 (ipykernel)",
   "language": "python",
   "name": "python3"
  },
  "language_info": {
   "codemirror_mode": {
    "name": "ipython",
    "version": 3
   },
   "file_extension": ".py",
   "mimetype": "text/x-python",
   "name": "python",
   "nbconvert_exporter": "python",
   "pygments_lexer": "ipython3",
   "version": "3.11.9"
  }
 },
 "nbformat": 4,
 "nbformat_minor": 5
}
