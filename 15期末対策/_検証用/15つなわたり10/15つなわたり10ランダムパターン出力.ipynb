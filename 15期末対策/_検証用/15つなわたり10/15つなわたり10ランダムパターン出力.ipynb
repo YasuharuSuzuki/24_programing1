{
 "cells": [
  {
   "cell_type": "markdown",
   "id": "e0f811d1",
   "metadata": {},
   "source": [
    "# つなわたり10 ランダムパターン出力"
   ]
  },
  {
   "cell_type": "code",
   "execution_count": 1,
   "id": "575f2e20-25b5-45c8-8739-fc6a0e5e36d9",
   "metadata": {},
   "outputs": [],
   "source": [
    "import os\n",
    "import random\n",
    "import pandas as pd\n",
    "\n",
    "COUNT_OF_SAMPLES = 100\n",
    "\n",
    "NLR_ARRAY = [\"N\",\"L\",\"R\"]\n",
    "D_MIN = 10\n",
    "D_MAX = 20"
   ]
  },
  {
   "cell_type": "code",
   "execution_count": null,
   "id": "dd65b7be-c18b-432f-8c68-5e8ed9163aa1",
   "metadata": {},
   "outputs": [],
   "source": []
  },
  {
   "cell_type": "code",
   "execution_count": 2,
   "id": "3370ffd2-b728-4152-8810-146c501a866c",
   "metadata": {},
   "outputs": [],
   "source": [
    "def solve(input_list):\n",
    "    # 入力を受け取る\n",
    "    D = int(input_list[0])\n",
    "    K = input_list[1]\n",
    "    A = input_list[2]\n",
    "    \n",
    "    # 左右の傾きを管理する変数\n",
    "    tilt = 0  # 正: 右傾き、負: 左傾き\n",
    "    \n",
    "    # 1文字ずつ処理\n",
    "    for action, air in zip(K,A):\n",
    "        # キー入力\n",
    "        match action:\n",
    "            case 'L':  tilt -= 1\n",
    "            case 'R':  tilt += 1\n",
    "        \n",
    "        # キー入力\n",
    "        match air:\n",
    "            case 'L':  tilt -= 1\n",
    "            case 'R':  tilt += 1\n",
    "        \n",
    "        # 傾きチェック\n",
    "        if abs(tilt) > 3:\n",
    "            return [\"YOU LOST\"]\n",
    "    else:\n",
    "        # breakせずに最後まで到達できた場合\n",
    "        return [\"GOAL\"]    "
   ]
  },
  {
   "cell_type": "code",
   "execution_count": 3,
   "id": "df420588-e92b-4a7a-8232-741769f90148",
   "metadata": {},
   "outputs": [
    {
     "name": "stdout",
     "output_type": "stream",
     "text": [
      "d=10, goal=False, K=NNRNLRLRRR, A=NLLLNRRRRR\n"
     ]
    },
    {
     "data": {
      "text/plain": [
       "['10', 'NNRNLRLRRR', 'NLLLNRRRRR']"
      ]
     },
     "execution_count": 3,
     "metadata": {},
     "output_type": "execute_result"
    }
   ],
   "source": [
    "def get_NLR (req_d, req_goal, not_list=[]):\n",
    "    while True:\n",
    "        K_str = \"\".join([random.choice(NLR_ARRAY) for _ in range(req_d)])\n",
    "        A_str = \"\".join([random.choice(NLR_ARRAY) for _ in range(req_d)])\n",
    "\n",
    "        inputs = [str(req_d),K_str,A_str]\n",
    "        output_array = solve(inputs)\n",
    "        is_goal = (output_array[0] == \"GOAL\")\n",
    "        if is_goal != req_goal:\n",
    "            # print(\"d={} is_goal({}) != req_goal({}) K={}, A={}\".format(req_d, is_goal, req_goal, K_str, A_str))\n",
    "            continue\n",
    "\n",
    "        if inputs in not_list:\n",
    "            # print(\"重複\", choice)\n",
    "            continue\n",
    "\n",
    "        print(\"d={}, goal={}, K={}, A={}\".format(req_d, is_goal, K_str, A_str))\n",
    "        return inputs\n",
    "\n",
    "get_NLR(10,False)"
   ]
  },
  {
   "cell_type": "code",
   "execution_count": 4,
   "id": "b7228498-8305-4222-8451-4fdfdfa224b4",
   "metadata": {},
   "outputs": [
    {
     "name": "stdout",
     "output_type": "stream",
     "text": [
      "d=10, goal=False, K=LRLNNRNLRR, A=RRRNRLRNLR\n"
     ]
    },
    {
     "data": {
      "text/plain": [
       "['10', 'LRLNNRNLRR', 'RRRNRLRNLR']"
      ]
     },
     "execution_count": 4,
     "metadata": {},
     "output_type": "execute_result"
    }
   ],
   "source": [
    "def get_random_inputs(not_list=[]):\n",
    "    while True:\n",
    "        d_size = (D_MAX - D_MIN)+1\n",
    "        answer_id = len(not_list)\n",
    "        req_d = (answer_id % d_size) + D_MIN\n",
    "        req_goal = (answer_id % (2*d_size)) >= d_size\n",
    "\n",
    "        inputs = get_NLR(req_d, req_goal, not_list)\n",
    "        \n",
    "        return inputs\n",
    "    raise ValueError('無限ループしたようです')\n",
    "    \n",
    "get_random_inputs()"
   ]
  },
  {
   "cell_type": "code",
   "execution_count": 5,
   "id": "c2bafefa-b1a4-463e-b132-5f10036ab1aa",
   "metadata": {
    "scrolled": true
   },
   "outputs": [
    {
     "name": "stdout",
     "output_type": "stream",
     "text": [
      "d=10, goal=False, K=RLLRLLNLLN, A=LNLNNLNLRN\n",
      "d=11, goal=False, K=LRLRRNLNRRL, A=RNLRNRLLRRN\n",
      "d=12, goal=False, K=RNNNRLRRNRLL, A=RNLRLNRRNNLR\n",
      "d=13, goal=False, K=LLNLRRNNNLRNL, A=NNLNRRLNNNRLR\n",
      "d=14, goal=False, K=NLRLLNNRNNRLLR, A=RNNLLNNNNRNLLR\n",
      "d=15, goal=False, K=RNNNRLLRLLNNNLR, A=RRLLRRRRRLNNLRL\n",
      "d=16, goal=False, K=LLNNNLRLNLLNLNLR, A=LRNLRNLNRRRRNNLR\n",
      "d=17, goal=False, K=RLRNNLNRNLLLLLRRL, A=NNNLNNNLNLLNRRNRR\n",
      "d=18, goal=False, K=NRNLRLRLLRRNLRNNRR, A=RLNRRLRRLNLLLRRLRN\n",
      "d=19, goal=False, K=LLLLNLRNRRNLLLLRLLR, A=NRNLRLLLLNNLRLNRNNL\n",
      "d=20, goal=False, K=RNNRRLRNRLLRNNNNNLRN, A=NRNNRNRLRNNLLLNNNNLL\n",
      "d=10, goal=True, K=LLNNRRRNLL, A=NRNLRNLRLR\n",
      "d=11, goal=True, K=RLRRRRLNRRR, A=RLLLLNNNNRL\n",
      "d=12, goal=True, K=RLLNNRNRNNLL, A=NRLNNRLLRLNN\n",
      "d=13, goal=True, K=LNRNLRLNNNRLR, A=NNNNNLRNRNRLN\n",
      "d=14, goal=True, K=NRLRNNNRNNRNNR, A=LLLNLRLLNNRNNR\n",
      "d=15, goal=True, K=NRLRRLLRNLLLNLR, A=NLLLRRRNRNRRRNL\n",
      "d=16, goal=True, K=RRNLRRRNLNLRLRRR, A=RLLNLRLRRLRLLNNN\n",
      "d=17, goal=True, K=NRRNLNRRRNRLNRNRL, A=LNLLRLLLNRNNRNRLL\n",
      "d=18, goal=True, K=LRLNLRNLNLLRRLNRNN, A=RRNLRNNLRNLNNLNRLL\n",
      "d=19, goal=True, K=NRNRLLLNRRNNRLNRLNR, A=NRRLRLNLNNLRNRNLNNL\n",
      "d=20, goal=True, K=RLNRNRLNLRLRNNRLLLRL, A=RRLNLRNLRRLLRNLLRRLN\n",
      "d=10, goal=False, K=LRRLNNRLNL, A=LRLLLLLRRR\n",
      "d=11, goal=False, K=NNNLRNNNRRR, A=NNRRRRLLRNL\n",
      "d=12, goal=False, K=NLRLNLNLLLLL, A=NNLNLLRRLLLR\n",
      "d=13, goal=False, K=LNRRNLRLRRLNR, A=NNRLNNNRRNLLR\n",
      "d=14, goal=False, K=RLRNRRRRNLNRLL, A=NLNRNRRRRNLLLR\n",
      "d=15, goal=False, K=LNRNRNRLLLLRRNL, A=LNRLNLRLNLNNRRL\n",
      "d=16, goal=False, K=RLNLLNRRNRLLRRRN, A=NRNLRNNLRNNRLRRL\n",
      "d=17, goal=False, K=LNRNNRLRNRNLLRLNN, A=LRRRRNLNRNRNLNRLN\n",
      "d=18, goal=False, K=RRRRLRLRNRRNRLLRLR, A=RRNRLLLLLNLLLLLNLN\n",
      "d=19, goal=False, K=RNLRLLRLRRRRNRNNRLN, A=NRRRNLNNRRNLNNRLLNN\n",
      "d=20, goal=False, K=NLNRRNNLNNNNNNRLLRNR, A=LNRNNLRLLLLLLRNNRNLR\n",
      "d=10, goal=True, K=RLNRNLLNRN, A=NLRLRNNLRR\n",
      "d=11, goal=True, K=RLLLRNNLNNN, A=RLNRRRLNNNN\n",
      "d=12, goal=True, K=NLRNLLLNNRRN, A=RLRNRRNNLRLL\n",
      "d=13, goal=True, K=LLNLLRRNLRNLL, A=RRRNRNNLRNRNL\n",
      "d=14, goal=True, K=NNRLLLNRRNNRRN, A=RLRRLLLLRRLNRR\n",
      "d=15, goal=True, K=LRLLNLNNRNLRNLN, A=NRNRRLLLRNNNLNR\n",
      "d=16, goal=True, K=RNRLLRLNNLRNRLLL, A=LNRNNNRLNRRLNLLN\n",
      "d=17, goal=True, K=LNRLNNNNNLLNRNLNR, A=LLRLRNNRNNNNNNNNR\n",
      "d=18, goal=True, K=LRNRLRRLNLLLNNNLLN, A=NNLNRLNRLLRNRNNNRN\n",
      "d=19, goal=True, K=RRLLLNRLRNNLNNNRRRR, A=LRNNNNRRLLNNNNNLNLR\n",
      "d=20, goal=True, K=NLNRNNLRLLNRLLRLLNLN, A=LLRRNRLNNRRNLRNRNNNR\n",
      "d=10, goal=False, K=RLLNRLLRLL, A=RNRLRLLLLN\n",
      "d=11, goal=False, K=RLNLRNRRRRL, A=NRNRLLNRNLR\n",
      "d=12, goal=False, K=NLLLRNNLRNRL, A=NRNNLLNLRLLL\n",
      "d=13, goal=False, K=LLLRNNLNRRNRN, A=RLNLNNNRRNNLN\n",
      "d=14, goal=False, K=LLNNNLLLNLRRNL, A=NLLLRRLRLRLNRN\n",
      "d=15, goal=False, K=LRNLNRLNLNLLLRN, A=RLNLNNLLRLRRNLL\n",
      "d=16, goal=False, K=RLLNLLRLLLNLLNRR, A=RLRLRRRLRNRNLRRR\n",
      "d=17, goal=False, K=RNLRNRNRRRRNNRNRL, A=NNLNNRRLRLNNNNNLN\n",
      "d=18, goal=False, K=RNRRRRNNRRRLNLLRRR, A=LNRRNRLRNLLNRNNLNR\n",
      "d=19, goal=False, K=RLLRRLLLRLLRNLNNRRL, A=LLLNRNNNLRLRRNRRNLN\n",
      "d=20, goal=False, K=LLLLRLRLNLNRRNLLNLLL, A=NNRLRLNLRNLNNNRNNLLL\n",
      "d=10, goal=True, K=NNRLNNRRNR, A=NRNNLNLNNL\n",
      "d=11, goal=True, K=LLRRNRRNNRN, A=NLLRLNNNRRL\n",
      "d=12, goal=True, K=RLLRNLLNRRLR, A=LRNRLRLLLRRN\n",
      "d=13, goal=True, K=RLNNLRNNNNLRL, A=NLRRRRLRNNRLL\n",
      "d=14, goal=True, K=NLLRRRNRLNNNNL, A=NLNRNNLLRNRNNR\n",
      "d=15, goal=True, K=NLLNNNLNNNLLNNR, A=LRRNRNRLRNNNNNR\n",
      "d=16, goal=True, K=NRNNRLNLNNNLLRNL, A=NNNNNLLRNRLNRRNR\n",
      "d=17, goal=True, K=RLNLRLLRRNLNNRRNN, A=RRLRRRLNNLLLLLRRR\n",
      "d=18, goal=True, K=RNRRLNRLNLLNNNNNLN, A=NLRLRRLRNLNRNRLRLN\n",
      "d=19, goal=True, K=LRLRLLNRNRNNNNRRRLR, A=NNLNRNNLNRRLNNNLNRN\n",
      "d=20, goal=True, K=NLLRLRLLRLLLNNLNRNRR, A=LRRRNLRRRNNNRNNRLRNN\n",
      "d=10, goal=False, K=NRNLLRRNRL, A=NLLLLLRRLL\n",
      "d=11, goal=False, K=LLLRNLLLLNR, A=NLNLLNNRNRN\n",
      "d=12, goal=False, K=RNRRRNLLLRLR, A=LRNRNRLLLLRR\n",
      "d=13, goal=False, K=LNLLLRRNNRRRN, A=NLLNNNRRLLLNN\n",
      "d=14, goal=False, K=RLRNRNNRLNNRRR, A=RNNNNRNRRRRNNL\n",
      "d=15, goal=False, K=RRNRRNLLLRRNNLN, A=LNNRRRRRLRNNRRL\n",
      "d=16, goal=False, K=LLRRLRLRNNLLLNLN, A=LRRLRRRRLNLNRRNN\n",
      "d=17, goal=False, K=LNLLNRRNRRRLNLLLR, A=LRLRLNLRNNLLNLRLN\n",
      "d=18, goal=False, K=RLLNNLLLLLNLNRRLRR, A=LNNLRLRRRNNLNNLRLR\n",
      "d=19, goal=False, K=RRRNLLLRNRLRNLLRRRL, A=LRLRRLLLRNNLRNNNRRR\n",
      "d=20, goal=False, K=RNRLLLNNNRNNNNLRNNLN, A=RRNRRRRRRLRRNLNLNNLL\n",
      "d=10, goal=True, K=NRRLLRRNLN, A=LRLNLNNRNR\n",
      "d=11, goal=True, K=LRNNLRLRRLR, A=NRRNRLLRLNR\n",
      "d=12, goal=True, K=LNNRLRNLRRNR, A=NRRNLNRNLRLL\n",
      "d=13, goal=True, K=NNLNRLLRLRNLL, A=NRRLLRNNRRRNN\n",
      "d=14, goal=True, K=RNNRNLRNRNRNLL, A=LLNLLRNNLNRLRR\n",
      "d=15, goal=True, K=RLNRNLNRNNNLNNN, A=LRLNNNNRNLRLNNL\n",
      "d=16, goal=True, K=RRNLNNNNRLLLNNLN, A=RNNNLNNNNNNRLRRN\n",
      "d=17, goal=True, K=LNNLLNRNLNRNNNLRR, A=NRNRNLRRRLLRRNNRL\n",
      "d=18, goal=True, K=NRNLLLLRNRLLRRNLNL, A=NRRNNNRNLRLRLRNRLL\n",
      "d=19, goal=True, K=NLLRRLLLNRLLLNRRNNN, A=LRNRRNNRNNRRNLLRLRL\n",
      "d=20, goal=True, K=NRRNNRLLNNLRNLLRNNNL, A=RLRNNLNNNRNRLNLNNRRR\n",
      "d=10, goal=False, K=LRLRRLRNRR, A=NLLLLLLNNN\n",
      "d=11, goal=False, K=LNNRLRRLLNN, A=LLNLNLRRLLR\n",
      "d=12, goal=False, K=RRRNRNRLLLRN, A=RLRLNLLRLNRR\n",
      "d=13, goal=False, K=NRRLNRNLRRLLN, A=LLLNNNLNLNLNL\n",
      "d=14, goal=False, K=LNRNNRRLRNLLNN, A=RRLNRRRRLRNLNR\n",
      "d=15, goal=False, K=LLLLNRNRLNRRNRR, A=NNNNRNRLRLNRLLN\n",
      "d=16, goal=False, K=NRLLLNLLRNLLRLNN, A=RNLRLLLLRNRLLRRL\n",
      "d=17, goal=False, K=RNNRRNRLLNNNRNNRR, A=RRLNNNNRNLNLLRNLL\n",
      "d=18, goal=False, K=NRRNRLNLNRLNRLLLLL, A=NNNLRRLLLNLRLRLLNN\n",
      "d=19, goal=False, K=NLNNNRRNRRRRNRNNNLL, A=RRLLLRLNRNRRLRNRRNN\n",
      "d=20, goal=False, K=NLRRLLLNNNRLLNRNRLNL, A=LLLNLNNRNNRRNRRRLLNL\n",
      "d=10, goal=True, K=LRNNLNLNRL, A=NLNRRNLNLN\n",
      "done\n"
     ]
    }
   ],
   "source": [
    "def output_all(out_xz_filename):\n",
    "    all_inputs = []\n",
    "    all_outputs = []\n",
    "\n",
    "    for answer_id in range(COUNT_OF_SAMPLES):\n",
    "        all_inputs.append(get_random_inputs(all_inputs))\n",
    "        all_outputs.append(solve(all_inputs[answer_id]))        # 解答を求める\n",
    "\n",
    "    df_all = pd.DataFrame({\"in\":all_inputs, \"out\":all_outputs})\n",
    "    df_all.index += 1\n",
    "    os.makedirs(os.path.dirname(out_xz_filename), exist_ok=True)\n",
    "    df_all.to_csv(out_xz_filename)\n",
    "\n",
    "output_all(\"data/answer.csv.xz\")\n",
    "print('done')"
   ]
  },
  {
   "cell_type": "code",
   "execution_count": null,
   "id": "4f8cc94d",
   "metadata": {},
   "outputs": [],
   "source": []
  },
  {
   "cell_type": "code",
   "execution_count": null,
   "id": "2516460f-ceeb-4c7b-b6a6-7fb9d77395e7",
   "metadata": {},
   "outputs": [],
   "source": []
  }
 ],
 "metadata": {
  "kernelspec": {
   "display_name": "Python 3 (ipykernel)",
   "language": "python",
   "name": "python3"
  },
  "language_info": {
   "codemirror_mode": {
    "name": "ipython",
    "version": 3
   },
   "file_extension": ".py",
   "mimetype": "text/x-python",
   "name": "python",
   "nbconvert_exporter": "python",
   "pygments_lexer": "ipython3",
   "version": "3.11.9"
  }
 },
 "nbformat": 4,
 "nbformat_minor": 5
}
