{
 "cells": [
  {
   "cell_type": "markdown",
   "metadata": {},
   "source": [
    "<a href=\"https://colab.research.google.com/github/YasuharuSuzuki/24_programing1/blob/main/\" target=\"_parent\"><img src=\"https://colab.research.google.com/assets/colab-badge.svg\" alt=\"Open In Colab\"/></a>"
   ]
  },
  {
   "cell_type": "markdown",
   "metadata": {
    "id": "KSSJqXOosEeX"
   },
   "source": [
    "# 02 while文・for文・try文"
   ]
  },
  {
   "cell_type": "markdown",
   "metadata": {
    "id": "VRQcesdKsEec"
   },
   "source": [
    "## 四択問題\n",
    "- 以下の問題について、正解となる選択肢を出力してください"
   ]
  },
  {
   "cell_type": "markdown",
   "metadata": {},
   "source": [
    "---\n",
    "---\n",
    "---\n",
    "### 問6  ループの完了 (0.3点)\n",
    "つなわたりの GOAL / YOU LOST 判定のプログラムを繰り返し文を使用して記述しようとしています  \n",
    "傾きが+3を超えた時に崖下へ落下するため print(\"YOU LOST\") と出力してbreak文を記述しました  \n",
    "一方で、無事GOALした時にはprint(\"GOAL\")と記述したいのですが、単純にfor文の後に記述してしまうと \"YOU LOST\" 時にも表示されてしまうため、不具合が出ないようにプログラムしたいです  \n",
    "いろいろ実装方法はありますが、for文で、break文を実行せず、全てのループが完了した時にのみ実行する構文を使用して解決することにしました。該当する構文は次のうちどれですか？  \n",
    "\n",
    "    1. for - except  \n",
    "    2. for - continue  \n",
    "    3. for - else  \n",
    "    4. for - finally  "
   ]
  },
  {
   "cell_type": "code",
   "execution_count": 1,
   "metadata": {
    "colab": {
     "base_uri": "https://localhost:8080/"
    },
    "executionInfo": {
     "elapsed": 265,
     "status": "ok",
     "timestamp": 1715146988599,
     "user": {
      "displayName": "鈴木康元",
      "userId": "15385942521303414593"
     },
     "user_tz": -540
    },
    "id": "_oiNYIaxsEed",
    "outputId": "c127d002-8e8c-45b3-d98b-c5304b00f17d"
   },
   "outputs": [],
   "source": [
    "# 正解を出力してください\n"
   ]
  },
  {
   "cell_type": "markdown",
   "metadata": {
    "id": "bP053hXUsEee"
   },
   "source": [
    "---\n",
    "---\n",
    "---\n",
    "### 問7 例外処理 (0.3点)  \n",
    "- 以下のプログラムで、input()で \"8\" と入力すると、print()で出力される文字列はどのようになりますか？\n",
    "\n",
    "```python\n",
    "try:\n",
    "    i = int(input())\n",
    "    print(8888 / i)\n",
    "    print(\"okikokudai\"[i])\n",
    "except ZeroDivisionError as e:\n",
    "    print('ゼロ除算が発生しました')\n",
    "except IndexError as e:\n",
    "    print('範囲外参照エラーが発生しました')\n",
    "else:\n",
    "    print('エラー発生なし！')\n",
    "finally:\n",
    "    print('例外処理を終了します')\n",
    "print(\"このプログラムを正常終了します\")\n",
    "```\n",
    "\n",
    "---\n",
    "#### 1\n",
    "```\n",
    "1111.0\n",
    "ゼロ除算が発生しました\n",
    "例外処理を終了します\n",
    "このプログラムを正常終了します\n",
    "```\n",
    "---\n",
    "#### 2\n",
    "```\n",
    "1111.0\n",
    "範囲外参照エラーが発生しました\n",
    "例外処理を終了します\n",
    "このプログラムを正常終了します\n",
    "```\n",
    "---\n",
    "#### 3\n",
    "```\n",
    "1111.0\n",
    "a\n",
    "エラー発生なし！\n",
    "例外処理を終了します\n",
    "このプログラムを正常終了します\n",
    "```\n",
    "---\n",
    "#### 4\n",
    "```\n",
    "例外処理を終了します\n",
    "```\n"
   ]
  },
  {
   "cell_type": "code",
   "execution_count": 2,
   "metadata": {
    "colab": {
     "base_uri": "https://localhost:8080/"
    },
    "executionInfo": {
     "elapsed": 255,
     "status": "ok",
     "timestamp": 1715147036615,
     "user": {
      "displayName": "鈴木康元",
      "userId": "15385942521303414593"
     },
     "user_tz": -540
    },
    "id": "8cg5YTLosEee",
    "outputId": "c6671804-b225-4341-ea70-8833bd5eb194"
   },
   "outputs": [],
   "source": [
    "# 正解を出力してください\n"
   ]
  },
  {
   "cell_type": "markdown",
   "metadata": {},
   "source": [
    "---\n",
    "---\n",
    "---\n",
    "### 問8 例外 (0.3点)\n",
    "\n",
    "Pythonで65535/0を計算した時に発生する例外は次のうちどれですか？\n",
    "\n",
    "    1. IndexError  \n",
    "    2. DivisionZeroError  \n",
    "    3. ArrayIndexOutOfBoundsError  \n",
    "    4. ZeroDivisionError  \n"
   ]
  },
  {
   "cell_type": "code",
   "execution_count": 3,
   "metadata": {
    "colab": {
     "base_uri": "https://localhost:8080/"
    },
    "executionInfo": {
     "elapsed": 278,
     "status": "ok",
     "timestamp": 1715147048787,
     "user": {
      "displayName": "鈴木康元",
      "userId": "15385942521303414593"
     },
     "user_tz": -540
    },
    "id": "y2CxWqMusEef",
    "outputId": "8129fcea-362e-4f33-d57b-529f8313a51f"
   },
   "outputs": [],
   "source": [
    "# 正解を出力してください\n"
   ]
  },
  {
   "cell_type": "markdown",
   "metadata": {
    "id": "sqzgb-X2sEef"
   },
   "source": [
    "---\n",
    "---\n",
    "---\n",
    "---\n",
    "---\n",
    "## アルゴリズム問題"
   ]
  },
  {
   "cell_type": "markdown",
   "metadata": {},
   "source": [
    "### 問9 清明節の日付 (1.5点)\n",
    "\n",
    "### 問題文\n",
    "沖縄の伝統行事「シーミー」の元となる清明節は、二十四節気の1つです。  \n",
    "清明節は通常4月4日ですが、うるう年の前年は4月5日となります。  \n",
    "  \n",
    "例：  \n",
    "2024年（うるう年）：4月4日  \n",
    "2023年（うるう年の前年）：4月5日  \n",
    "2025年（通常の年）：4月4日  \n",
    "  \n",
    "うるう年は通常4年に一度訪れますが、100年に1度うるう年にならない年があり、400年に1度うるう年になる年があります。  \n",
    "2025年 : うるう年ではない（4で割れない年はうるう年ではない）    \n",
    "2024年 : うるう年（4年に1度うるう年）  \n",
    "2100年 : うるう年ではない（100年に1度うるう年にならない年がある）  \n",
    "2000年 : うるう年（400年に1度うるう年になる年がある）  \n",
    "  \n",
    "西暦(Y)が与えられた時、その年の清明節の日付を出力するプログラムを作成してください。  "
   ]
  },
  {
   "cell_type": "markdown",
   "metadata": {},
   "source": [
    "---\n",
    "---"
   ]
  },
  {
   "cell_type": "markdown",
   "metadata": {},
   "source": [
    "### 制約\n",
    "\n",
    "$ 1582 \\leq Y \\leq 9999 (Yは整数) $"
   ]
  },
  {
   "cell_type": "markdown",
   "metadata": {},
   "source": [
    "---\n",
    "---"
   ]
  },
  {
   "cell_type": "markdown",
   "metadata": {},
   "source": [
    "### 入力\n",
    "入力は以下の形式で標準入力から与えられます\n",
    "\n",
    "---\n",
    "$ Y $\n",
    "\n",
    "---\n",
    "\n",
    "\n",
    "※input()１つで取得可能"
   ]
  },
  {
   "cell_type": "markdown",
   "metadata": {},
   "source": [
    "---\n",
    "---"
   ]
  },
  {
   "cell_type": "markdown",
   "metadata": {},
   "source": [
    "### 出力\n",
    "清明節の日付を以下の形式で出力：  \n",
    "M月D日  "
   ]
  },
  {
   "cell_type": "markdown",
   "metadata": {},
   "source": [
    "---\n",
    "---\n",
    "\n",
    "### 入力例1\n",
    "---\n",
    "```python\n",
    "2024\n",
    "```\n",
    "---\n",
    "\n",
    "### 出力例1\n",
    "---\n",
    "```python\n",
    "4月4日\n",
    "```\n",
    "---\n",
    "※ うるう年は4月4日になります"
   ]
  },
  {
   "cell_type": "markdown",
   "metadata": {},
   "source": [
    "---\n",
    "---"
   ]
  },
  {
   "cell_type": "markdown",
   "metadata": {},
   "source": [
    "### 入力例2\n",
    "---\n",
    "```python\n",
    "2023\n",
    "```\n",
    "---\n",
    "\n",
    "### 出力例2\n",
    "---\n",
    "```python\n",
    "4月5日\n",
    "```\n",
    "---\n",
    "※ うるう年の前年は4月5日となります"
   ]
  },
  {
   "cell_type": "markdown",
   "metadata": {},
   "source": [
    "---\n",
    "---"
   ]
  },
  {
   "cell_type": "markdown",
   "metadata": {},
   "source": [
    "### 入力例3\n",
    "---\n",
    "```python\n",
    "2099\n",
    "```\n",
    "---\n",
    "\n",
    "### 出力例3\n",
    "---\n",
    "```python\n",
    "4月4日\n",
    "```\n",
    "---\n",
    "※ 2100年はうるう年ではないため、2099年の清明は4月4日となります"
   ]
  },
  {
   "cell_type": "markdown",
   "metadata": {},
   "source": [
    "---\n",
    "---"
   ]
  },
  {
   "cell_type": "markdown",
   "metadata": {},
   "source": [
    "### ここ↓にPythonコードを記述してください"
   ]
  },
  {
   "cell_type": "code",
   "execution_count": 4,
   "metadata": {},
   "outputs": [
    {
     "name": "stdin",
     "output_type": "stream",
     "text": [
      " 1999\n"
     ]
    },
    {
     "name": "stdout",
     "output_type": "stream",
     "text": [
      "4月5日\n"
     ]
    }
   ],
   "source": [
    "\n"
   ]
  },
  {
   "cell_type": "markdown",
   "metadata": {
    "colab": {
     "base_uri": "https://localhost:8080/"
    },
    "executionInfo": {
     "elapsed": 268,
     "status": "ok",
     "timestamp": 1715147255303,
     "user": {
      "displayName": "鈴木康元",
      "userId": "15385942521303414593"
     },
     "user_tz": -540
    },
    "id": "AXmjTxIdsEeg",
    "outputId": "2e2c42b9-ea55-4aae-c6cf-38e3e3f47720"
   },
   "source": [
    "---\n",
    "---\n",
    "---\n",
    "### 問10 ポーカーのストレート判定 (1.5点)\n",
    "ポーカーの役の一つに「フラッシュ」があります。これは5枚のカードの絵柄（スート）が1種類の場合を指します。\n",
    "ただし、数字は関係ありません。\n",
    "\n",
    "与えられた5枚のカードがフラッシュかどうかを判定するプログラムを作成してください。\n",
    "\n",
    "- J（ジャック）は11として扱います\n",
    "- Q（クイーン）は12として扱います\n",
    "- K（キング）は13として扱います\n",
    "- A（エース）は1として扱います"
   ]
  },
  {
   "cell_type": "markdown",
   "metadata": {},
   "source": [
    "### 制約\n",
    "- 入力されるカードは重複しません\n",
    "- 各カードの数字は 1(A) ≤ 数字 ≤ 13(K) の範囲です\n",
    "  - 10,J,Q,K,A は連続した数として扱いません\n",
    "- スートは ♡（ハート）、♧（クラブ）、♤（スペード）、♢（ダイヤ）のいずれかです"
   ]
  },
  {
   "cell_type": "markdown",
   "metadata": {},
   "source": [
    "### 入力\n",
    "入力は以下の形式で標準入力から与えられます。\n",
    "\n",
    "---\n",
    "\n",
    "C1 C2 C3 C4 C5\n",
    "\n",
    "---\n",
    "\n",
    "- スペース区切りで5枚のカードが与えられます\n",
    "- 各カードはスートと数字（または絵札）の組み合わせです"
   ]
  },
  {
   "cell_type": "markdown",
   "metadata": {},
   "source": [
    "### 出力\n",
    "フラッシュの場合は `YES` を、そうでない場合は `NO` を出力してください。"
   ]
  },
  {
   "cell_type": "markdown",
   "metadata": {},
   "source": [
    "---\n",
    "---"
   ]
  },
  {
   "cell_type": "markdown",
   "metadata": {},
   "source": [
    "### 入力例1\n",
    "---\n",
    "```\n",
    "♧10 ♧8 ♧J ♧9 ♧Q\n",
    "```\n",
    "---\n",
    "\n",
    "### 出力例1\n",
    "---\n",
    "```\n",
    "YES\n",
    "```\n",
    "---\n",
    "- 全て同じ絵柄（スート）のため、フラッシュです"
   ]
  },
  {
   "cell_type": "markdown",
   "metadata": {},
   "source": [
    "---\n",
    "---"
   ]
  },
  {
   "cell_type": "markdown",
   "metadata": {},
   "source": [
    "### 入力例2\n",
    "---\n",
    "```\n",
    "♡3 ♧8 ♤J ♢9 ♧Q\n",
    "```\n",
    "---\n",
    "\n",
    "### 出力例2\n",
    "---\n",
    "```\n",
    "NO\n",
    "```\n",
    "---\n",
    "- 異なる絵柄（スート）が混在しているため、フラッシュとなります"
   ]
  },
  {
   "cell_type": "markdown",
   "metadata": {},
   "source": [
    "---\n",
    "---\n",
    "### ここ↓にPythonコードを記述してください"
   ]
  },
  {
   "cell_type": "code",
   "execution_count": 5,
   "metadata": {},
   "outputs": [
    {
     "name": "stdin",
     "output_type": "stream",
     "text": [
      " ♧10 ♧8 ♧J ♧9 ♧Q\n"
     ]
    },
    {
     "name": "stdout",
     "output_type": "stream",
     "text": [
      "YES\n"
     ]
    }
   ],
   "source": [
    "\n"
   ]
  },
  {
   "cell_type": "code",
   "execution_count": null,
   "metadata": {},
   "outputs": [],
   "source": []
  }
 ],
 "metadata": {
  "colab": {
   "provenance": [
    {
     "file_id": "https://github.com/YasuharuSuzuki/24_programing2/blob/main/04%E8%BE%9E%E6%9B%B8/01%E8%BE%9E%E6%9B%B8%E3%82%92%E4%BD%9C%E3%82%8B.ipynb",
     "timestamp": 1715146358060
    }
   ]
  },
  "kernelspec": {
   "display_name": "Python 3 (ipykernel)",
   "language": "python",
   "name": "python3"
  },
  "language_info": {
   "codemirror_mode": {
    "name": "ipython",
    "version": 3
   },
   "file_extension": ".py",
   "mimetype": "text/x-python",
   "name": "python",
   "nbconvert_exporter": "python",
   "pygments_lexer": "ipython3",
   "version": "3.11.9"
  }
 },
 "nbformat": 4,
 "nbformat_minor": 4
}
