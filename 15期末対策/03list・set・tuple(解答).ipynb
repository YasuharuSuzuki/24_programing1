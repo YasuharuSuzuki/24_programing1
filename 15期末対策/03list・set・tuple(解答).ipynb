{
 "cells": [
  {
   "cell_type": "markdown",
   "metadata": {},
   "source": [
    "<a href=\"https://colab.research.google.com/github/YasuharuSuzuki/24_programing1/blob/main/\" target=\"_parent\"><img src=\"https://colab.research.google.com/assets/colab-badge.svg\" alt=\"Open In Colab\"/></a>"
   ]
  },
  {
   "cell_type": "markdown",
   "metadata": {
    "id": "KSSJqXOosEeX"
   },
   "source": [
    "# 03 list・tuple・set"
   ]
  },
  {
   "cell_type": "markdown",
   "metadata": {
    "id": "VRQcesdKsEec"
   },
   "source": [
    "## 四択問題\n",
    "- 以下の問題について、正解となる選択肢を出力してください"
   ]
  },
  {
   "cell_type": "markdown",
   "metadata": {},
   "source": [
    "---\n",
    "---\n",
    "---\n",
    "### 問11 リスト操作 (0.3点)\n",
    "- リストをコロン（：）区切りで value[start:end] のように使用してリストの部分列を抽出できる機能をなんというか？\n",
    "    1. ストリップ（strip）\n",
    "    2. スプリット（split）  \n",
    "    3. スライス（slice）  \n",
    "    4. リスト内包表記  "
   ]
  },
  {
   "cell_type": "code",
   "execution_count": 18,
   "metadata": {
    "colab": {
     "base_uri": "https://localhost:8080/"
    },
    "executionInfo": {
     "elapsed": 265,
     "status": "ok",
     "timestamp": 1715146988599,
     "user": {
      "displayName": "鈴木康元",
      "userId": "15385942521303414593"
     },
     "user_tz": -540
    },
    "id": "_oiNYIaxsEed",
    "outputId": "c127d002-8e8c-45b3-d98b-c5304b00f17d"
   },
   "outputs": [
    {
     "name": "stdout",
     "output_type": "stream",
     "text": [
      "3\n"
     ]
    }
   ],
   "source": [
    "# 正解を出力してください\n",
    "print('3')"
   ]
  },
  {
   "cell_type": "markdown",
   "metadata": {},
   "source": [
    "---\n",
    "\n",
    "### 解説\n",
    "\n",
    "課題では、09list1/04スライス.ipnyb で取り扱っております\n",
    "\n",
    "---"
   ]
  },
  {
   "cell_type": "markdown",
   "metadata": {
    "id": "bP053hXUsEee"
   },
   "source": [
    "---\n",
    "---\n",
    "---\n",
    "### 問12 値を変更できないオブジェクト (0.3点)  \n",
    "tupleのように値を変更できないオブジェクトのことをなんというか\n",
    "\n",
    "    1. ミュータブル\n",
    "    2. イテラブル\n",
    "    3. イミュータブル\n",
    "    4. クラス\n",
    "    "
   ]
  },
  {
   "cell_type": "code",
   "execution_count": 19,
   "metadata": {
    "colab": {
     "base_uri": "https://localhost:8080/"
    },
    "executionInfo": {
     "elapsed": 255,
     "status": "ok",
     "timestamp": 1715147036615,
     "user": {
      "displayName": "鈴木康元",
      "userId": "15385942521303414593"
     },
     "user_tz": -540
    },
    "id": "8cg5YTLosEee",
    "outputId": "c6671804-b225-4341-ea70-8833bd5eb194"
   },
   "outputs": [
    {
     "name": "stdout",
     "output_type": "stream",
     "text": [
      "3\n"
     ]
    }
   ],
   "source": [
    "# 正解を出力してください\n",
    "print('3')"
   ]
  },
  {
   "cell_type": "markdown",
   "metadata": {},
   "source": [
    "---\n",
    "\n",
    "### 解説\n",
    "\n",
    "課題では、12tupleとset/01タプルを作る.ipnyb でイミュータブルであることがさらっと触れています  \n",
    "ミュータブル・イミュータブルの説明は、10list2/01複製と比較.ipnyb に詳しく説明されております  \n",
    "\n",
    "---"
   ]
  },
  {
   "cell_type": "markdown",
   "metadata": {},
   "source": [
    "---\n",
    "---\n",
    "---\n",
    "### 問13 set (0.3点)\n",
    "\n",
    "以下のプログラムの出力結果を選べ\n",
    "\n",
    "```python\n",
    "all_color = set([\"赤\",\"白\",\"黄\",\"紫\",\"桃\"])\n",
    "input_color = set({\"赤\",\"白\",\"白\"\"赤\",\"白\",\"黒\"})\n",
    "print(len(all_color-input_color))\n",
    "```\n",
    "\n",
    "   1. {'紫', '黄'}\n",
    "   2. {'桃', '黒, '黄'}\n",
    "   3. 2\n",
    "   4. 3\n"
   ]
  },
  {
   "cell_type": "code",
   "execution_count": 29,
   "metadata": {
    "colab": {
     "base_uri": "https://localhost:8080/"
    },
    "executionInfo": {
     "elapsed": 278,
     "status": "ok",
     "timestamp": 1715147048787,
     "user": {
      "displayName": "鈴木康元",
      "userId": "15385942521303414593"
     },
     "user_tz": -540
    },
    "id": "y2CxWqMusEef",
    "outputId": "8129fcea-362e-4f33-d57b-529f8313a51f"
   },
   "outputs": [
    {
     "name": "stdout",
     "output_type": "stream",
     "text": [
      "4\n"
     ]
    }
   ],
   "source": [
    "# 正解を出力してください\n",
    "print('4')"
   ]
  },
  {
   "cell_type": "markdown",
   "metadata": {},
   "source": [
    "---\n",
    "\n",
    "### 解説\n",
    "\n",
    "集合演算に関する理解が必要です  \n",
    "課題では、12tupleとset/03セットの集合演算.ipnyb で説明されております  \n",
    "\n",
    "---"
   ]
  },
  {
   "cell_type": "markdown",
   "metadata": {
    "id": "sqzgb-X2sEef"
   },
   "source": [
    "---\n",
    "---\n",
    "---\n",
    "---\n",
    "---\n",
    "## アルゴリズム問題"
   ]
  },
  {
   "cell_type": "markdown",
   "metadata": {},
   "source": [
    "### 問14 チューリップ5 (1.5点)\n",
    "\n",
    "### 問題文\n",
    "- ゆるるくんは、花壇に5本のチューリップの球根を植えました。色は赤、白、黄、桃、紫のいずれかです。\n",
    "- 球根の状態から購入したのですが、またもや何色かを気にせずに購入してしまったため、咲いてみるまで色がわかりません。\n",
    "- 実際に咲いたときの色に応じたゆるるくんの感想を出力してください。\n",
    "- 色の値が漢字で入力されます。入力は $ C_1 \\quad C_2 \\quad C_3 \\quad C_4 \\quad C_5 $ で与えられます。\n",
    "- 5本とも同じ色の場合は全部同じ色であることを出力してください。\n",
    "  - 例：全部赤の場合は「全部赤！」\n",
    "- すべての色が異なる場合は「キレイだなぁ〜」と出力してください。\n",
    "- 全て同じ色でもなく、かつ全て違う色でもない場合は、購入していない色を出力してください。\n",
    "  - 例：白と黄を購入していない場合は「白と黄が欲しいなぁ〜」"
   ]
  },
  {
   "cell_type": "markdown",
   "metadata": {},
   "source": [
    "---\n",
    "---"
   ]
  },
  {
   "cell_type": "markdown",
   "metadata": {},
   "source": [
    "### 制約\n",
    "\n",
    "$ Ci $は'赤','白','黄','桃','紫'のいずれかからなる文字"
   ]
  },
  {
   "cell_type": "markdown",
   "metadata": {},
   "source": [
    "---\n",
    "---"
   ]
  },
  {
   "cell_type": "markdown",
   "metadata": {},
   "source": [
    "### 入力\n",
    "入力は以下の形式で標準入力から与えられます\n",
    "\n",
    "---\n",
    "$ C_1 \\quad C_2 \\quad C_3 \\quad C_4 \\quad C_5 $\n",
    "\n",
    "---\n",
    "\n",
    "- チューリップの色 $ C_i $ を受け取ります"
   ]
  },
  {
   "cell_type": "markdown",
   "metadata": {},
   "source": [
    "### 出力\n",
    "- 全て同じ色のときは「全部$ C_i $！」と出力してください。  \n",
    "- 全て違う色のときは「キレイだなぁ〜」と出力してください。  \n",
    "- 全て同じ色でもなく、かつ全て違う色でもない場合\n",
    "   - 購入していない色が1つの場合($ C_{n} $)は「$ C_{n} $が欲しいなぁ〜」と出力せよ。  \n",
    "   - 購入していない色が2つの場合($ C_{n1}, C_{n2} $)は「$ C_{n1} $と$ C_{n2} $が欲しいなぁ〜」と出力せよ。  \n",
    "   - 購入していない色が3つの場合($ C_{n1}, C_{n2}, C_{n3} $)は「$ C_{n1} $と$ C_{n2} $と$ C_{n3} $が欲しいなぁ〜」と出力せよ。  "
   ]
  },
  {
   "cell_type": "markdown",
   "metadata": {},
   "source": [
    "---\n",
    "---\n",
    "\n",
    "### 入力例1\n",
    "---\n",
    "```python\n",
    "赤　赤　赤　赤　赤　\n",
    "```\n",
    "---\n",
    "\n",
    "### 出力例1\n",
    "---\n",
    "```python\n",
    "全部赤！\n",
    "```\n",
    "---\n",
    "\n",
    "- 全て同じ色のため「全部赤！」と出力してください。"
   ]
  },
  {
   "cell_type": "markdown",
   "metadata": {},
   "source": [
    "---\n",
    "---"
   ]
  },
  {
   "cell_type": "markdown",
   "metadata": {},
   "source": [
    "### 入力例2\n",
    "---\n",
    "```python\n",
    "赤 白 黄 桃 紫\n",
    "```\n",
    "---\n",
    "\n",
    "### 出力例2\n",
    "---\n",
    "```python\n",
    "キレイだなぁ〜\n",
    "```\n",
    "---\n",
    "- 全て違う色のため「キレイだなぁ〜」と出力してください。"
   ]
  },
  {
   "cell_type": "markdown",
   "metadata": {},
   "source": [
    "---\n",
    "---"
   ]
  },
  {
   "cell_type": "markdown",
   "metadata": {},
   "source": [
    "### 入力例3\n",
    "---\n",
    "```python\n",
    "赤 白 白 桃 紫\n",
    "```\n",
    "---\n",
    "\n",
    "### 出力例3\n",
    "---\n",
    "```python\n",
    "黄が欲しいなぁ〜\n",
    "```\n",
    "---\n",
    "- 全て同じ色でもなく、かつ全て違う色でもないため、未購入の色（黄）を用いて「黄が欲しいなぁ〜」と出力してください。"
   ]
  },
  {
   "cell_type": "markdown",
   "metadata": {},
   "source": [
    "---\n",
    "---"
   ]
  },
  {
   "cell_type": "markdown",
   "metadata": {},
   "source": [
    "### 入力例4\n",
    "---\n",
    "```python\n",
    "赤 白 白 桃 桃\n",
    "```\n",
    "---\n",
    "\n",
    "### 出力例4\n",
    "---\n",
    "```python\n",
    "黄と紫が欲しいなぁ〜\n",
    "```\n",
    "---\n",
    "- 全て同じ色でもなく、かつ全て違う色でもないため、未購入の色（黄、紫）を用いて「黄と紫が欲しいなぁ〜」と出力してください。"
   ]
  },
  {
   "cell_type": "markdown",
   "metadata": {},
   "source": [
    "---\n",
    "---"
   ]
  },
  {
   "cell_type": "markdown",
   "metadata": {},
   "source": [
    "### 入力例5\n",
    "---\n",
    "```python\n",
    "紫 白 紫 白 白\n",
    "```\n",
    "---\n",
    "\n",
    "### 出力例5\n",
    "---\n",
    "```python\n",
    "赤と黄と桃が欲しいなぁ〜\n",
    "```\n",
    "---\n",
    "- 全て同じ色でもなく、かつ全て違う色でもないため、未購入の色（赤、黄、桃）を用いて「赤と黄と桃が欲しいなぁ〜」と出力してください。"
   ]
  },
  {
   "cell_type": "markdown",
   "metadata": {},
   "source": [
    "---\n",
    "---"
   ]
  },
  {
   "cell_type": "markdown",
   "metadata": {},
   "source": [
    "### ここ↓にPythonコードを記述してください"
   ]
  },
  {
   "cell_type": "code",
   "execution_count": 3,
   "metadata": {},
   "outputs": [
    {
     "name": "stdin",
     "output_type": "stream",
     "text": [
      " 紫 白 紫 白 白\n"
     ]
    },
    {
     "name": "stdout",
     "output_type": "stream",
     "text": [
      "黄と赤と桃が欲しいなぁ〜\n"
     ]
    }
   ],
   "source": [
    "all_color = {'赤','白','黄','桃','紫'}\n",
    "input_set1 = set(input().split())\n",
    "if len(input_set1) == 1:\n",
    "    print(f'全部{input_set1.pop()}！')\n",
    "elif len(input_set1) == 5:\n",
    "    print('キレイだなぁ〜')\n",
    "else:\n",
    "    print('{}が欲しいなぁ〜'.format(\"と\".join(list(all_color - input_set1))))"
   ]
  },
  {
   "cell_type": "markdown",
   "metadata": {
    "colab": {
     "base_uri": "https://localhost:8080/"
    },
    "executionInfo": {
     "elapsed": 268,
     "status": "ok",
     "timestamp": 1715147255303,
     "user": {
      "displayName": "鈴木康元",
      "userId": "15385942521303414593"
     },
     "user_tz": -540
    },
    "id": "AXmjTxIdsEeg",
    "outputId": "2e2c42b9-ea55-4aae-c6cf-38e3e3f47720"
   },
   "source": [
    "---\n",
    "---\n",
    "---\n",
    "### 問15 つなわたりステージ10 (2点)\n",
    "ゆるるくんはつなわたりのゲームで遊んでいます。ステージ10のルールは以下の通りです：\n",
    "\n",
    "#### 川の対岸への距離\n",
    "- 川の対岸へつなが設置されています。川の対岸への距離Dは10m～20mです\n",
    "\n",
    "#### プレイヤーの挙動\n",
    "- 1秒に1回、左キー(L)もしくは右キー(R)の入力が可能です\n",
    "- キー入力をしない(N)こともできます\n",
    "- ゆるるくんは1秒間に1m進みます\n",
    "- 左キーが入力されると、ゆるるくんは左方向に+1傾きます\n",
    "- 右キーが入力されると、ゆるるくんは右方向に+1傾きます\n",
    "\n",
    "#### 風\n",
    "- ステージ10では風が吹きます\n",
    "- 1秒に1回、左方向(L)もしくは右方向(R)へ風が吹きます\n",
    "- 左向きの風を受けると、ゆるるくんは左方向に+1傾きます\n",
    "- 右向きの風を受けると、ゆるるくんは右方向に+1傾きます\n",
    "\n",
    "#### 傾き\n",
    "- 傾いている方向と逆方向にキー入力、もしくは風が吹くと、傾きが-1されます\n",
    "- 左右どちらかの傾きが+3を超えると綱から落ちてしまいます\n",
    "\n",
    "#### 求めたいもの\n",
    "川の対岸への距離を整数D、ゆるるくんのキー入力を文字列K、風を文字列Aで与えられたとき、ステージ10をクリアできるかどうかを判定してください。  \n"
   ]
  },
  {
   "cell_type": "markdown",
   "metadata": {},
   "source": [
    "### 制約\n",
    "- 10 ≤ D ≤ 20（川の対岸への距離）\n",
    "- K,A は 'L', 'R', 'N' のみからなる文字列"
   ]
  },
  {
   "cell_type": "markdown",
   "metadata": {},
   "source": [
    "### 入力\n",
    "入力は以下の形式で標準入力から与えられます\n",
    "\n",
    "---\n",
    "\n",
    "$ D $   \n",
    "$ K $   \n",
    "$ A $   \n",
    "\n",
    "---\n",
    "- $ D $ は川の対岸への距離\n",
    "- $ K $ はゆるるくんのキー入力\n",
    "- $ A $ はゆるるくんが受ける風\n"
   ]
  },
  {
   "cell_type": "markdown",
   "metadata": {},
   "source": [
    "### 出力\n",
    "- ステージクリアの場合：`GOAL`\n",
    "- 落下した場合：`YOU LOST`"
   ]
  },
  {
   "cell_type": "markdown",
   "metadata": {},
   "source": [
    "---\n",
    "---"
   ]
  },
  {
   "cell_type": "markdown",
   "metadata": {},
   "source": [
    "### 入力例1\n",
    "---\n",
    "```python\n",
    "10\n",
    "RLRRNNLRLR\n",
    "NLLLRRLLNN\n",
    "```\n",
    "---\n",
    "\n",
    "### 出力例1\n",
    "---\n",
    "```python\n",
    "GOAL\n",
    "```\n",
    "---\n",
    "- 左方向に+1傾いていますが、無事GOALできました。"
   ]
  },
  {
   "cell_type": "markdown",
   "metadata": {},
   "source": [
    "---\n",
    "---"
   ]
  },
  {
   "cell_type": "markdown",
   "metadata": {},
   "source": [
    "### 入力例2\n",
    "---\n",
    "```Python\n",
    "20\n",
    "NRLLLLLLRRLLRRLLLNLL\n",
    "LLLLNLNNLNRLRRNLNLLR\n",
    "```\n",
    "---\n",
    "\n",
    "### 出力例2\n",
    "---\n",
    "```\n",
    "\"YOU LOST\"\n",
    "```\n",
    "---\n",
    "- 4秒目のキー入力\"L\"と風向き\"L\"で左側に+5傾き、崖下に落下となりました。"
   ]
  },
  {
   "cell_type": "markdown",
   "metadata": {},
   "source": [
    "---\n",
    "---"
   ]
  },
  {
   "cell_type": "markdown",
   "metadata": {},
   "source": [
    "---\n",
    "---\n",
    "### ここ↓にPythonコードを記述してください"
   ]
  },
  {
   "cell_type": "code",
   "execution_count": 7,
   "metadata": {},
   "outputs": [
    {
     "name": "stdin",
     "output_type": "stream",
     "text": [
      " 20\n",
      " NRLLLLLLRRLLRRLLLNLL\n",
      " LLLLNLNNLNRLRRNLNLLR\n"
     ]
    },
    {
     "name": "stdout",
     "output_type": "stream",
     "text": [
      "YOU LOST\n"
     ]
    }
   ],
   "source": [
    "# 入力を受け取る\n",
    "D = int(input())\n",
    "K = input()\n",
    "A = input()\n",
    "\n",
    "# 左右の傾きを管理する変数\n",
    "tilt = 0  # 正: 右傾き、負: 左傾き\n",
    "\n",
    "# 1文字ずつ処理\n",
    "time = 0  # debug用\n",
    "for action, air in zip(K,A):\n",
    "    # キー入力\n",
    "    match action:\n",
    "        case 'L':  tilt -= 1\n",
    "        case 'R':  tilt += 1\n",
    "    \n",
    "    # キー入力\n",
    "    match air:\n",
    "        case 'L':  tilt -= 1\n",
    "        case 'R':  tilt += 1\n",
    "    \n",
    "    # 傾きチェック\n",
    "    if abs(tilt) > 3:\n",
    "        print(\"YOU LOST\")\n",
    "        #print(f\"YOU LOST, tilt={tilt}, time={time}\")  # これは動作確認用のprint()文です。途中経過を見たい時にコメントアウトを外して、変数の内容を確認します。\n",
    "        break\n",
    "\n",
    "    time += 1  # debug用\n",
    "else:\n",
    "    # breakせずに最後まで到達できた場合\n",
    "    print(\"GOAL\")\n",
    "    #print(f\"GOAL tilt={tilt}\")  # これは動作確認用のprint()文です。途中経過を見たい時にコメントアウトを外して、変数の内容を確認します。"
   ]
  },
  {
   "cell_type": "markdown",
   "metadata": {},
   "source": [
    "---\n",
    "---\n",
    "---\n",
    "### 問16 旗揚げゲーム (2点)\n",
    "- ゆるるくんは旗揚げゲームをすることにしました。  \n",
    "- 旗揚げゲームとは左右の手に赤い旗と白い旗をそれぞれ持ち、出される指示のとおりに旗を上げ下げするゲームです。  \n",
    "\n",
    "- 例えば以下のような指示と上げ下げの動作をします。\n",
    "  - 「赤上げて」で赤の旗を上げ、「白上げて」で白の旗を上げます。\n",
    "  - 「赤上げないで」で赤の旗を下げて、「白下げない」で白の旗を上げます。\n",
    "\n",
    "- 4回指示をすると一区切りとなり、次に4回指示を出すと終了となります。\n",
    "\n",
    "- 4回x2回指示が出された後に、上げている旗を空白区切りで出力してください。\n",
    "- ただし、赤白両方下げている時は\"どちらも上げない\"と出力してください。"
   ]
  },
  {
   "cell_type": "markdown",
   "metadata": {},
   "source": [
    "---\n",
    "---"
   ]
  },
  {
   "cell_type": "markdown",
   "metadata": {},
   "source": [
    "### 制約\n",
    "\n",
    "- 4回指示が2回繰り返されます。\n",
    "- 最初の4回分の指示は文字列で指定され、「、」（全角カンマ）で区切られています。\n",
    "- 1回の指示は以下の文字列で構成されています。  \n",
    "  -　1文字目は「赤」or「白」  \n",
    "  -　2文字目は「上」or「下」  \n",
    "  -　3文字目以降は「げて」or「げない」or「げないで」のいずれか  "
   ]
  },
  {
   "cell_type": "markdown",
   "metadata": {},
   "source": [
    "---\n",
    "---"
   ]
  },
  {
   "cell_type": "markdown",
   "metadata": {},
   "source": [
    "### 入力形式\n",
    "入力は以下の形式で標準入力から与えられます\n",
    "\n",
    "---\n",
    "\n",
    "$ S_1 $  \n",
    "$ S_2 $  \n",
    "\n",
    "---\n"
   ]
  },
  {
   "cell_type": "markdown",
   "metadata": {},
   "source": [
    "---\n",
    "---"
   ]
  },
  {
   "cell_type": "markdown",
   "metadata": {},
   "source": [
    "### 出力形式\n",
    "\n",
    "---\n",
    "\n",
    "\"赤\" or \"白\" or \"赤 白\" or \"どちらも上げない\"\n",
    "\n",
    "---\n",
    "\n",
    "上げている旗を出力して下さい。"
   ]
  },
  {
   "cell_type": "markdown",
   "metadata": {},
   "source": [
    "---\n",
    "---"
   ]
  },
  {
   "cell_type": "markdown",
   "metadata": {},
   "source": [
    "### 入力例1\n",
    "---\n",
    "```python\n",
    "赤上げて、白上げて、赤下げないで、白下げて\n",
    "白上げない、赤下げて、赤下げないで、白上げて\n",
    "```\n",
    "---\n",
    "\n",
    "### 出力例1\n",
    "---\n",
    "```python\n",
    "赤 白\n",
    "```\n",
    "---\n",
    "- 両方の旗を上げている状態のため、\"赤 白\"と出力します。"
   ]
  },
  {
   "cell_type": "markdown",
   "metadata": {},
   "source": [
    "---\n",
    "---"
   ]
  },
  {
   "cell_type": "markdown",
   "metadata": {},
   "source": [
    "### 入力例2\n",
    "---\n",
    "```python\n",
    "赤下げて、白下げて、赤上げないで、白上げて\n",
    "白下げない、赤下げて、赤上げないで、白下げて\n",
    "```\n",
    "---\n",
    "\n",
    "### 出力例2\n",
    "---\n",
    "```python\n",
    "どちらも上げない\n",
    "```\n",
    "---\n",
    "- 両方の旗を下げている状態のため、\"どちらも上げない\"と出力します。"
   ]
  },
  {
   "cell_type": "markdown",
   "metadata": {},
   "source": [
    "---\n",
    "---"
   ]
  },
  {
   "cell_type": "markdown",
   "metadata": {},
   "source": [
    "### 入力例3\n",
    "---\n",
    "```python\n",
    "白下げない、赤下げて、赤上げないで、白下げて\n",
    "赤下げて、赤上げない、白上げないで、白上げて\n",
    "```\n",
    "---\n",
    "\n",
    "\n",
    "### 出力例3\n",
    "---\n",
    "```python\n",
    "白\n",
    "```\n",
    "---\n",
    "- 白だけを上げている状態のため、\"白\"と出力します。"
   ]
  },
  {
   "cell_type": "markdown",
   "metadata": {},
   "source": [
    "---\n",
    "---\n",
    "### ここ↓にPythonコードを記述してください"
   ]
  },
  {
   "cell_type": "code",
   "execution_count": 9,
   "metadata": {},
   "outputs": [
    {
     "name": "stdin",
     "output_type": "stream",
     "text": [
      " 赤上げて、白上げて、赤下げないで、白下げて\n",
      " 白上げない、赤下げて、赤下げないで、白上げて\n"
     ]
    },
    {
     "name": "stdout",
     "output_type": "stream",
     "text": [
      "赤 白\n"
     ]
    }
   ],
   "source": [
    "# 2行の文字列をsplitしながら受け取ります\n",
    "s = input().split('、') # 1行の文字列 → 4つの文字列のリストに変換\n",
    "s += input().split('、') # 1行の文字列 → 4つの文字列のリストに変換 → 前のリストに追加\n",
    "\n",
    "# 分解した８つの要素を、for文で回しながら解析していきます。\n",
    "red = False # 赤フラグ。Trueのときに赤を上げている状態として判定するための変数です\n",
    "white = False # 白フラグ。Trueのときに白を上げている状態として判定するための変数です\n",
    "for s1 in s: # 8つの要素を回すループ\n",
    "    if s1[1:].startswith('上げて') or s1[1:].startswith('下げない'): # 2文字目以降を抽出して '上げて' もしくは '下げない' を判定します。つまり上げている状態の判定ですね。startswith()を用いているのは'で'が後ろにつくケースを考慮しています\n",
    "        if s1[0] == '赤': # 1文字目が赤なら\n",
    "            red = True # 赤フラグを立てます。赤を上げている状態となります。\n",
    "        else: # 1文字目が赤以外なら白しかないので\n",
    "            white = True # 白フラグを立てます。白を上げている状態となります。\n",
    "    elif s1[1:].startswith('下げて') or s1[1:].startswith('上げない'): # 2文字目以降を抽出して '下げて' もしくは '上げない' を判定します。つまり下げている状態の判定ですね。startswith()を用いているのは'で'が後ろにつくケースを考慮しています\n",
    "        if s1[0] == '赤': # 1文字目が赤なら\n",
    "            red = False # 赤フラグをOFFにします。赤を下げている状態となります。\n",
    "        else: # 1文字目が赤以外なら白しかないので\n",
    "            white = False # 白フラグをOFFにします。白を下げている状態となります。\n",
    "#     print(red, white) # これは動作確認用のprint()文です。途中経過を見たい時にコメントアウトを外して、変数の内容を確認します。\n",
    "\n",
    "# 赤/白を上げた判定を元にprint文を書きます。「赤 白」「赤」「白」「どちらも上げない」の4パターンを出力します。\n",
    "if red and white:\n",
    "    print('赤 白')\n",
    "elif red:\n",
    "    print('赤')\n",
    "elif white:\n",
    "    print('白')\n",
    "else:\n",
    "    print('どちらも上げない')"
   ]
  },
  {
   "cell_type": "code",
   "execution_count": null,
   "metadata": {},
   "outputs": [],
   "source": []
  },
  {
   "cell_type": "code",
   "execution_count": null,
   "metadata": {},
   "outputs": [],
   "source": []
  }
 ],
 "metadata": {
  "colab": {
   "provenance": [
    {
     "file_id": "https://github.com/YasuharuSuzuki/24_programing2/blob/main/04%E8%BE%9E%E6%9B%B8/01%E8%BE%9E%E6%9B%B8%E3%82%92%E4%BD%9C%E3%82%8B.ipynb",
     "timestamp": 1715146358060
    }
   ]
  },
  "kernelspec": {
   "display_name": "Python 3 (ipykernel)",
   "language": "python",
   "name": "python3"
  },
  "language_info": {
   "codemirror_mode": {
    "name": "ipython",
    "version": 3
   },
   "file_extension": ".py",
   "mimetype": "text/x-python",
   "name": "python",
   "nbconvert_exporter": "python",
   "pygments_lexer": "ipython3",
   "version": "3.11.9"
  }
 },
 "nbformat": 4,
 "nbformat_minor": 4
}
