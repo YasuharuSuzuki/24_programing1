{
 "cells": [
  {
   "cell_type": "markdown",
   "metadata": {},
   "source": [
    "<a href=\"https://colab.research.google.com/github/YasuharuSuzuki/24_programing1/blob/main/\" target=\"_parent\"><img src=\"https://colab.research.google.com/assets/colab-badge.svg\" alt=\"Open In Colab\"/></a>"
   ]
  },
  {
   "cell_type": "markdown",
   "metadata": {
    "id": "KSSJqXOosEeX"
   },
   "source": [
    "# 01 値と変数・組み込み関数"
   ]
  },
  {
   "cell_type": "markdown",
   "metadata": {
    "id": "VRQcesdKsEec"
   },
   "source": [
    "## 用語の理解を問う問題\n",
    "- 以下の問題について、正解となる選択肢を出力してください"
   ]
  },
  {
   "cell_type": "markdown",
   "metadata": {},
   "source": [
    "### 例題1\n",
    "- 繰り返し文（ループ文）で使用する制御文を次から選択してください\n",
    "  1. loop\n",
    "  2. whole\n",
    "  3. for\n",
    "  4. if"
   ]
  },
  {
   "cell_type": "code",
   "execution_count": 2,
   "metadata": {
    "colab": {
     "base_uri": "https://localhost:8080/"
    },
    "executionInfo": {
     "elapsed": 4,
     "status": "ok",
     "timestamp": 1715146891566,
     "user": {
      "displayName": "鈴木康元",
      "userId": "15385942521303414593"
     },
     "user_tz": -540
    },
    "id": "EoLQwK5fsEec",
    "outputId": "7ba8a3ba-9e37-42db-c12e-d410e0a3ab2c"
   },
   "outputs": [
    {
     "name": "stdout",
     "output_type": "stream",
     "text": [
      "3\n"
     ]
    }
   ],
   "source": [
    "# 正解例\n",
    "print('3')"
   ]
  },
  {
   "cell_type": "markdown",
   "metadata": {},
   "source": [
    "---\n",
    "---\n",
    "---\n",
    "### 問1 モジュール読み込み(0.3点)\n",
    "- 乱数を使用するために、randomモジュールを読み込む正しい方法はどれですか？\n",
    "    1. include random\n",
    "    2. using random\n",
    "    3. from random\n",
    "    4. import random\n"
   ]
  },
  {
   "cell_type": "code",
   "execution_count": 1,
   "metadata": {
    "colab": {
     "base_uri": "https://localhost:8080/"
    },
    "executionInfo": {
     "elapsed": 265,
     "status": "ok",
     "timestamp": 1715146988599,
     "user": {
      "displayName": "鈴木康元",
      "userId": "15385942521303414593"
     },
     "user_tz": -540
    },
    "id": "_oiNYIaxsEed",
    "outputId": "c127d002-8e8c-45b3-d98b-c5304b00f17d"
   },
   "outputs": [],
   "source": [
    "# 正解を出力してください\n"
   ]
  },
  {
   "cell_type": "markdown",
   "metadata": {
    "id": "bP053hXUsEee"
   },
   "source": [
    "---\n",
    "---\n",
    "---\n",
    "### 問2 小数点の桁数指定 (0.3点)\n",
    "- 小数点以下を3桁以上持つ小数値を定義し、小数点以下2桁までの文字列として出力する正しいコードはどれですか？\n",
    "---\n",
    "#### 1\n",
    "```python\n",
    "value = 3.14159\n",
    "print(value[0:4])\n",
    "```\n",
    "---\n",
    "#### 2\n",
    "```python\n",
    "value = 3.14159\n",
    "print(\"{:.2}\".format(value))\n",
    "```\n",
    "---\n",
    "#### 3\n",
    "```python\n",
    "value = 3.14159\n",
    "print(f\"{value:.2f}\")\n",
    "```\n",
    "---\n",
    "#### 4\n",
    "```python\n",
    "value = 3.14159\n",
    "print(f\"{.2f:value}\")\n",
    "```\n"
   ]
  },
  {
   "cell_type": "code",
   "execution_count": 2,
   "metadata": {
    "colab": {
     "base_uri": "https://localhost:8080/"
    },
    "executionInfo": {
     "elapsed": 255,
     "status": "ok",
     "timestamp": 1715147036615,
     "user": {
      "displayName": "鈴木康元",
      "userId": "15385942521303414593"
     },
     "user_tz": -540
    },
    "id": "8cg5YTLosEee",
    "outputId": "c6671804-b225-4341-ea70-8833bd5eb194"
   },
   "outputs": [],
   "source": [
    "# 正解を出力してください\n"
   ]
  },
  {
   "cell_type": "markdown",
   "metadata": {},
   "source": [
    "---\n",
    "---\n",
    "---\n",
    "### 問3 危険な代入 (0.3点)\n",
    "\n",
    "以下のコードのうち、Pythonの予約語や組み込み関数を変数として使用しており、プログラムの動作に重大な問題を引き起こす可能性があるものはどれですか？\n",
    "\n",
    "---\n",
    "#### 1\n",
    "```python\n",
    "print = 42\n",
    "result = print + 10\n",
    "```\n",
    "\n",
    "---\n",
    "#### 2\n",
    "```python\n",
    "number = 42\n",
    "result = number + 10\n",
    "print(result)\n",
    "```\n",
    "\n",
    "---\n",
    "#### 3\n",
    "```python\n",
    "value = 42\n",
    "total = value + 10\n",
    "print(total)\n",
    "```\n",
    "\n",
    "---\n",
    "#### 4\n",
    "```python\n",
    "score = 42\n",
    "answer = score + 10\n",
    "print(answer)\n",
    "```"
   ]
  },
  {
   "cell_type": "code",
   "execution_count": 3,
   "metadata": {
    "colab": {
     "base_uri": "https://localhost:8080/"
    },
    "executionInfo": {
     "elapsed": 278,
     "status": "ok",
     "timestamp": 1715147048787,
     "user": {
      "displayName": "鈴木康元",
      "userId": "15385942521303414593"
     },
     "user_tz": -540
    },
    "id": "y2CxWqMusEef",
    "outputId": "8129fcea-362e-4f33-d57b-529f8313a51f"
   },
   "outputs": [],
   "source": [
    "# 正解を出力してください\n"
   ]
  },
  {
   "cell_type": "markdown",
   "metadata": {
    "id": "sqzgb-X2sEef"
   },
   "source": [
    "---\n",
    "---\n",
    "---\n",
    "---\n",
    "---\n",
    "## アルゴリズム問題"
   ]
  },
  {
   "cell_type": "markdown",
   "metadata": {},
   "source": [
    "### 問4 5をかけてください (1点)\n",
    "- 数値 N が与えられます。\n",
    "- 5倍した数 5*N を出力して下さい。"
   ]
  },
  {
   "cell_type": "markdown",
   "metadata": {},
   "source": [
    "### 制約\n",
    "\n",
    "$ 1 \\leq N \\leq 10^{10} (Nは整数) $"
   ]
  },
  {
   "cell_type": "markdown",
   "metadata": {},
   "source": [
    "### 入力\n",
    "入力は以下の形式で標準入力から与えられます\n",
    "\n",
    "---\n",
    "$ N $\n",
    "\n",
    "---\n",
    "\n",
    "\n",
    "※input()１つで取得可能"
   ]
  },
  {
   "cell_type": "markdown",
   "metadata": {},
   "source": [
    "### 出力\n",
    "5倍した数を出力してください。"
   ]
  },
  {
   "cell_type": "markdown",
   "metadata": {},
   "source": [
    "---\n",
    "---\n",
    "\n",
    "### 入力例1\n",
    "---\n",
    "```python\n",
    "123456789\n",
    "```\n",
    "---\n",
    "\n",
    "### 出力例1\n",
    "---\n",
    "```python\n",
    "370370367\n",
    "```\n",
    "---\n",
    "※ 123456789の5倍の数として 617283945 を出力します"
   ]
  },
  {
   "cell_type": "markdown",
   "metadata": {},
   "source": [
    "---\n",
    "---"
   ]
  },
  {
   "cell_type": "markdown",
   "metadata": {},
   "source": [
    "### 入力例2\n",
    "---\n",
    "```python\n",
    "5\n",
    "```\n",
    "---\n",
    "\n",
    "### 出力例2\n",
    "---\n",
    "```python\n",
    "25\n",
    "```\n",
    "---\n",
    "※ 5の5倍の数は25ですので、 25 を出力します"
   ]
  },
  {
   "cell_type": "markdown",
   "metadata": {},
   "source": [
    "---\n",
    "---"
   ]
  },
  {
   "cell_type": "markdown",
   "metadata": {},
   "source": [
    "### 入力例3\n",
    "---\n",
    "```python\n",
    "99999999\n",
    "```\n",
    "---\n",
    "\n",
    "### 出力例3\n",
    "---\n",
    "```python\n",
    "499999995\n",
    "```\n",
    "---\n",
    "※ 99999999 の3倍の数は 499999995 のため、 499999995 を出力してください。"
   ]
  },
  {
   "cell_type": "markdown",
   "metadata": {},
   "source": [
    "---\n",
    "---"
   ]
  },
  {
   "cell_type": "markdown",
   "metadata": {},
   "source": [
    "### ここ↓にPythonコードを記述してください"
   ]
  },
  {
   "cell_type": "code",
   "execution_count": 23,
   "metadata": {},
   "outputs": [
    {
     "name": "stdin",
     "output_type": "stream",
     "text": [
      " 39\n"
     ]
    },
    {
     "name": "stdout",
     "output_type": "stream",
     "text": [
      "195\n"
     ]
    }
   ],
   "source": []
  },
  {
   "cell_type": "markdown",
   "metadata": {
    "colab": {
     "base_uri": "https://localhost:8080/"
    },
    "executionInfo": {
     "elapsed": 268,
     "status": "ok",
     "timestamp": 1715147255303,
     "user": {
      "displayName": "鈴木康元",
      "userId": "15385942521303414593"
     },
     "user_tz": -540
    },
    "id": "AXmjTxIdsEeg",
    "outputId": "2e2c42b9-ea55-4aae-c6cf-38e3e3f47720"
   },
   "source": [
    "---\n",
    "---\n",
    "---\n",
    "### 問5 日暮し (1点)\n",
    "- ゆるるくんは名作の名言を真似できるプログラムを作成中です。\n",
    "- その時の気分 $ S $ を入力したら、 $ S $ なるままに、日暮し... という名作と同じ文章を出力するプログラムを作成してください。\n",
    "- input()で文字列を受け取り、printで出力しましょう。"
   ]
  },
  {
   "cell_type": "markdown",
   "metadata": {},
   "source": [
    "### 制約\n",
    "$ S $ は40文字以下の文字列"
   ]
  },
  {
   "cell_type": "markdown",
   "metadata": {},
   "source": [
    "### 入力\n",
    "入力は以下の形式で標準入力から与えられます\n",
    "\n",
    "---\n",
    "$ S $\n",
    "\n",
    "---\n",
    "\n",
    "※input()１つで取得可能"
   ]
  },
  {
   "cell_type": "markdown",
   "metadata": {},
   "source": [
    "### 出力\n",
    "\n",
    "---\n",
    "$ S $ なるままに  \n",
    "日暮らし硯に向かひて、  \n",
    "心にうつりゆくよしなしごとを、  \n",
    "そこはかとなく書きつくれば、  \n",
    "あやしうこそものぐるほしけれ。  \n",
    "\n",
    "---\n",
    "\n",
    "名作の冒頭を変えて出力してください。"
   ]
  },
  {
   "cell_type": "markdown",
   "metadata": {},
   "source": [
    "---\n",
    "---"
   ]
  },
  {
   "cell_type": "markdown",
   "metadata": {},
   "source": [
    "### 入力例1\n",
    "---\n",
    "```python\n",
    "ねぇねぇ今どんな気持ち？\n",
    "```\n",
    "---\n",
    "\n",
    "### 出力例1\n",
    "---\n",
    "```python\n",
    "ねぇねぇ今どんな気持ち？なるままに\n",
    "日暮らし硯に向かひて、\n",
    "心にうつりゆくよしなしごとを、\n",
    "そこはかとなく書きつくれば、\n",
    "あやしうこそものぐるほしけれ。\n",
    "```\n",
    "---\n"
   ]
  },
  {
   "cell_type": "markdown",
   "metadata": {},
   "source": [
    "---\n",
    "---"
   ]
  },
  {
   "cell_type": "markdown",
   "metadata": {},
   "source": [
    "### 入力例2\n",
    "---\n",
    "```python\n",
    "特にやることがないのでXのタイムラインを眺め\n",
    "```\n",
    "---\n",
    "\n",
    "### 出力例2\n",
    "---\n",
    "```python\n",
    "特にやることがないのでXのタイムラインを眺めなるままに\n",
    "日暮らし硯に向かひて、\n",
    "心にうつりゆくよしなしごとを、\n",
    "そこはかとなく書きつくれば、\n",
    "あやしうこそものぐるほしけれ。\n",
    "```\n",
    "---"
   ]
  },
  {
   "cell_type": "markdown",
   "metadata": {},
   "source": [
    "---\n",
    "---\n",
    "### ここ↓にPythonコードを記述してください"
   ]
  },
  {
   "cell_type": "code",
   "execution_count": 24,
   "metadata": {},
   "outputs": [
    {
     "name": "stdin",
     "output_type": "stream",
     "text": [
      " お財布の中身は、まるでYouTuberの登録者数0人のチャンネルみたいに寂しかった\n"
     ]
    },
    {
     "name": "stdout",
     "output_type": "stream",
     "text": [
      "お財布の中身は、まるでYouTuberの登録者数0人のチャンネルみたいに寂しかったなるままに\n",
      "日暮らし硯に向かひて、\n",
      "心にうつりゆくよしなしごとを、\n",
      "そこはかとなく書きつくれば、\n",
      "あやしうこそものぐるほしけれ。\n"
     ]
    }
   ],
   "source": [
    "\n"
   ]
  }
 ],
 "metadata": {
  "colab": {
   "provenance": [
    {
     "file_id": "https://github.com/YasuharuSuzuki/24_programing2/blob/main/04%E8%BE%9E%E6%9B%B8/01%E8%BE%9E%E6%9B%B8%E3%82%92%E4%BD%9C%E3%82%8B.ipynb",
     "timestamp": 1715146358060
    }
   ]
  },
  "kernelspec": {
   "display_name": "Python 3 (ipykernel)",
   "language": "python",
   "name": "python3"
  },
  "language_info": {
   "codemirror_mode": {
    "name": "ipython",
    "version": 3
   },
   "file_extension": ".py",
   "mimetype": "text/x-python",
   "name": "python",
   "nbconvert_exporter": "python",
   "pygments_lexer": "ipython3",
   "version": "3.11.9"
  }
 },
 "nbformat": 4,
 "nbformat_minor": 4
}
