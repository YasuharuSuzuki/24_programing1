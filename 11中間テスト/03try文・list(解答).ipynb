{
 "cells": [
  {
   "cell_type": "markdown",
   "metadata": {},
   "source": [
    "<a href=\"https://colab.research.google.com/github/YasuharuSuzuki/24_programing1/blob/main/\" target=\"_parent\"><img src=\"https://colab.research.google.com/assets/colab-badge.svg\" alt=\"Open In Colab\"/></a>"
   ]
  },
  {
   "cell_type": "markdown",
   "metadata": {
    "id": "KSSJqXOosEeX"
   },
   "source": [
    "# 03 try文・list"
   ]
  },
  {
   "cell_type": "markdown",
   "metadata": {
    "id": "VRQcesdKsEec"
   },
   "source": [
    "## 用語の理解を問う問題\n",
    "- 以下の問題について、正解となる選択肢を出力してください"
   ]
  },
  {
   "cell_type": "markdown",
   "metadata": {},
   "source": [
    "---\n",
    "---\n",
    "---\n",
    "### 問11 例外処理 (0.3点)\n",
    "- 以下のプログラムで、input()で\"突然の死！\"と入力すると、print()で出力される文字列はどのようになりますか？\n",
    "\n",
    "```python\n",
    "try:\n",
    "    i = int(input())\n",
    "    print(8888 / i)\n",
    "    print(\"okikokudai\"[i])\n",
    "except ZeroDivisionError as e:\n",
    "    print('ゼロ除算が発生しました')\n",
    "except IndexError as e:\n",
    "    print('範囲外参照エラーが発生しました')\n",
    "else:\n",
    "    print('エラー発生なし！')\n",
    "finally:\n",
    "    print('例外処理を終了します')\n",
    "print(\"このプログラムを正常終了します\")\n",
    "```\n",
    "\n",
    "---\n",
    "#### 1\n",
    "```\n",
    "例外処理を終了します\n",
    "```\n",
    "---\n",
    "#### 2\n",
    "```\n",
    "ゼロ除算が発生しました\n",
    "例外処理を終了します\n",
    "このプログラムを正常終了します\n",
    "```\n",
    "---\n",
    "#### 3\n",
    "```\n",
    "例外処理を終了します\n",
    "このプログラムを正常終了します\n",
    "```\n",
    "---\n",
    "#### 4\n",
    "```\n",
    "エラー発生なし！\n",
    "例外処理を終了します\n",
    "このプログラムを正常終了します\n",
    "```"
   ]
  },
  {
   "cell_type": "code",
   "execution_count": 7,
   "metadata": {
    "colab": {
     "base_uri": "https://localhost:8080/"
    },
    "executionInfo": {
     "elapsed": 265,
     "status": "ok",
     "timestamp": 1715146988599,
     "user": {
      "displayName": "鈴木康元",
      "userId": "15385942521303414593"
     },
     "user_tz": -540
    },
    "id": "_oiNYIaxsEed",
    "outputId": "c127d002-8e8c-45b3-d98b-c5304b00f17d"
   },
   "outputs": [
    {
     "name": "stdout",
     "output_type": "stream",
     "text": [
      "1\n"
     ]
    }
   ],
   "source": [
    "# 正解を出力してください\n",
    "print('1')"
   ]
  },
  {
   "cell_type": "markdown",
   "metadata": {},
   "source": [
    "---\n",
    "\n",
    "### 解説\n",
    "- 1. finally句のみが実行されるため、1が正解です\n",
    "- 2. はゼロ除算が発生したときのため0と入力したときの出力結果です\n",
    "- 3. はprint(8888 / i) が行われてないため、このような出力結果になることはありません\n",
    "- 4. も同様にこの出力結果になることはありません\n",
    "\n",
    "課題では、08try文/01try文.ipnyb の 練習プログラム2 で出題されています\n",
    "\n",
    "---"
   ]
  },
  {
   "cell_type": "markdown",
   "metadata": {
    "id": "bP053hXUsEee"
   },
   "source": [
    "---\n",
    "---\n",
    "---\n",
    "### 問12 リストの要素を削除する (0.3点)  \n",
    "リストのメソッドの１つで、値を指定して要素を削除するメソッドはどれか\n",
    "\n",
    "1. del\n",
    "2. remove\n",
    "3. pop\n",
    "4. release"
   ]
  },
  {
   "cell_type": "code",
   "execution_count": 8,
   "metadata": {
    "colab": {
     "base_uri": "https://localhost:8080/"
    },
    "executionInfo": {
     "elapsed": 255,
     "status": "ok",
     "timestamp": 1715147036615,
     "user": {
      "displayName": "鈴木康元",
      "userId": "15385942521303414593"
     },
     "user_tz": -540
    },
    "id": "8cg5YTLosEee",
    "outputId": "c6671804-b225-4341-ea70-8833bd5eb194"
   },
   "outputs": [
    {
     "name": "stdout",
     "output_type": "stream",
     "text": [
      "2\n"
     ]
    }
   ],
   "source": [
    "# 正解を出力してください\n",
    "print('2')"
   ]
  },
  {
   "cell_type": "markdown",
   "metadata": {},
   "source": [
    "---\n",
    "\n",
    "### 解説\n",
    "1. del は位置を指定して削除することは可能ですが、値を指定して削除することは出来ません\n",
    "2. 正解です。値を指定して削除したい時はremoveを使いましょう\n",
    "3. pop も位置を指定して削除することは可能ですが、値を指定して削除することは出来ません\n",
    "4. Pythonのリストオブジェクトには存在しないメソッド名です\n",
    "\n",
    "課題では、09list1/03リストの操作.ipnyb で説明されています\n",
    "\n",
    "---"
   ]
  },
  {
   "cell_type": "markdown",
   "metadata": {},
   "source": [
    "---\n",
    "---\n",
    "---\n",
    "### 問13 for文で使用する便利な組み込み関数 (0.3点)\n",
    "\n",
    "for文で主に使用し、１つのリストから位置（カウンタ、インデックスとも言います）と要素を取り出す関数はどれか？\n",
    "\n",
    "1. range()\n",
    "2. zip()\n",
    "3. enumerate()\n",
    "4. in\n"
   ]
  },
  {
   "cell_type": "code",
   "execution_count": 9,
   "metadata": {
    "colab": {
     "base_uri": "https://localhost:8080/"
    },
    "executionInfo": {
     "elapsed": 278,
     "status": "ok",
     "timestamp": 1715147048787,
     "user": {
      "displayName": "鈴木康元",
      "userId": "15385942521303414593"
     },
     "user_tz": -540
    },
    "id": "y2CxWqMusEef",
    "outputId": "8129fcea-362e-4f33-d57b-529f8313a51f"
   },
   "outputs": [
    {
     "name": "stdout",
     "output_type": "stream",
     "text": [
      "3\n"
     ]
    }
   ],
   "source": [
    "# 正解を出力してください\n",
    "print('3')"
   ]
  },
  {
   "cell_type": "markdown",
   "metadata": {},
   "source": [
    "---\n",
    "\n",
    "### 解説\n",
    "1. range()は数列を取り出します。要素は取り出せません\n",
    "2. zip()は2つのリストから同時に要素を取り出す関数です\n",
    "3. 正解です。\n",
    "4. in はリスト内に特定の値があるかどうかを返す演算子です\n",
    "\n",
    "課題では、10list2/03要素を順番に取り出す.ipnyb で説明されています\n",
    "\n",
    "---"
   ]
  },
  {
   "cell_type": "markdown",
   "metadata": {
    "id": "sqzgb-X2sEef"
   },
   "source": [
    "---\n",
    "---\n",
    "---\n",
    "---\n",
    "---\n",
    "## アルゴリズム問題"
   ]
  },
  {
   "cell_type": "markdown",
   "metadata": {},
   "source": [
    "### 問14 駄菓子屋MAX (1.5点)\n",
    "\n",
    "### 問題文\n",
    "- ゆるるくんは駄菓子屋へ行きました。\n",
    "- 雑多に置かれた駄菓子 $ N $ 個のうち、 $ S $ 番目〜 $ E $ 番目を掴みました。\n",
    "- ゆるるくんは掴んだ駄菓子の中から、一番高いものを１つだけ買うことにしました。\n",
    "- 各駄菓子の値段が $ D_1 $ 〜 $ D_N $ で表される時、購入した駄菓子はいくらになりますか？"
   ]
  },
  {
   "cell_type": "markdown",
   "metadata": {},
   "source": [
    "### 制約\n",
    "\n",
    "$ 1 \\leq　N \\leq　10 $   \n",
    "$ 1 \\leq　S \\leq　N $   \n",
    "$ S \\leq　E \\leq　N $   \n",
    "$ 5 \\leq　D_i \\leq　100 $   \n",
    "$ N $、$ S $、$ E $ 、$ D_i $ はそれぞれ整数"
   ]
  },
  {
   "cell_type": "markdown",
   "metadata": {},
   "source": [
    "### 入力\n",
    "入力は以下の形式で標準入力から与えられます\n",
    "\n",
    "---\n",
    "$ N \\quad S \\quad E $  \n",
    "$ D_1 \\quad D_2 \\quad ... \\quad D_N $  \n",
    "\n",
    "---\n",
    "\n",
    "- 雑多に置かれた駄菓子の数 $ N $、掴んだ駄菓子の範囲（ $ S $、 $ E $）、各駄菓子の値段 $ D_1 $ 〜 $ D_N $ を受け取ります。\n",
    "- 2行の文字列ですのでinput()2回で受け取りましょう"
   ]
  },
  {
   "cell_type": "markdown",
   "metadata": {},
   "source": [
    "### 出力\n",
    "---\n",
    "購入した駄菓子の金額\n",
    "\n",
    "---\n",
    "\n",
    "掴んだ駄菓子の中から、一番高いものの金額を１つだけ出力してください"
   ]
  },
  {
   "cell_type": "markdown",
   "metadata": {},
   "source": [
    "---\n",
    "---\n",
    "\n",
    "### 入力例1\n",
    "---\n",
    "```python\n",
    "10 1 5\n",
    "5 10 15 20 25 30 35 40 45 50\n",
    "```\n",
    "---\n",
    "\n",
    "### 出力例1\n",
    "---\n",
    "```python\n",
    "25\n",
    "```\n",
    "---\n",
    "※掴んだ駄菓子の中から、一番高いものの金額を１つだけ出力します  \n",
    "※上記の例では、$D_1$ 〜 $D_5$ がそれぞれ5,10,15,20,25のため、金額は25となります  "
   ]
  },
  {
   "cell_type": "markdown",
   "metadata": {},
   "source": [
    "---\n",
    "---"
   ]
  },
  {
   "cell_type": "markdown",
   "metadata": {},
   "source": [
    "### 入力例2\n",
    "---\n",
    "```python\n",
    "5 4 5\n",
    "60 70 80 90 100\n",
    "```\n",
    "---\n",
    "\n",
    "### 出力例2\n",
    "---\n",
    "```python\n",
    "100\n",
    "```\n",
    "---\n",
    "※掴んだ駄菓子の中から、一番高いものの金額を１つだけ出力します  \n",
    "※上記の例では、$D_4$ 〜 $D_5$ がそれぞれ 90,100 のため、金額は100となります   "
   ]
  },
  {
   "cell_type": "markdown",
   "metadata": {},
   "source": [
    "---\n",
    "---"
   ]
  },
  {
   "cell_type": "markdown",
   "metadata": {},
   "source": [
    "### 入力例3\n",
    "---\n",
    "```python\n",
    "7 3 6\n",
    "10 25 15 20 30 5 40\n",
    "```\n",
    "---\n",
    "\n",
    "### 出力例3\n",
    "---\n",
    "```python\n",
    "30\n",
    "```\n",
    "---\n",
    "※3番目から6番目（15, 20, 30, 5）の中で最も高い金額は30です"
   ]
  },
  {
   "cell_type": "markdown",
   "metadata": {},
   "source": [
    "---\n",
    "---"
   ]
  },
  {
   "cell_type": "markdown",
   "metadata": {},
   "source": [
    "### ここ↓にPythonコードを記述してください"
   ]
  },
  {
   "cell_type": "code",
   "execution_count": 13,
   "metadata": {},
   "outputs": [
    {
     "name": "stdout",
     "output_type": "stream",
     "text": [
      " 10 1 5\n",
      " 5 10 15 20 25 30 35 40 45 50\n"
     ]
    },
    {
     "name": "stdout",
     "output_type": "stream",
     "text": [
      "25\n"
     ]
    }
   ],
   "source": [
    "# 駄菓子の最高値を求めるプログラム（maxを使用）\n",
    "\n",
    "# 1行目の入力を受け取る（N, S, E）\n",
    "N, S, E = map(int, input().split())\n",
    "\n",
    "# 2行目の入力を受け取る（各駄菓子の値段）\n",
    "prices = list(map(int, input().split()))\n",
    "\n",
    "# 掴んだ範囲の駄菓子（S番目からE番目）の中から最小値を求める\n",
    "# ※indexは0から始まるため、S-1, Eを使用\n",
    "max_price = max(prices[S-1:E])\n",
    "\n",
    "# 結果を出力\n",
    "print(max_price)"
   ]
  },
  {
   "cell_type": "markdown",
   "metadata": {
    "colab": {
     "base_uri": "https://localhost:8080/"
    },
    "executionInfo": {
     "elapsed": 268,
     "status": "ok",
     "timestamp": 1715147255303,
     "user": {
      "displayName": "鈴木康元",
      "userId": "15385942521303414593"
     },
     "user_tz": -540
    },
    "id": "AXmjTxIdsEeg",
    "outputId": "2e2c42b9-ea55-4aae-c6cf-38e3e3f47720"
   },
   "source": [
    "---\n",
    "---\n",
    "---\n",
    "### 問15 数当てゲームB (2点)\n",
    "- 数当てゲームで、プレイヤーは1から100までの整数の中から「正解の数字」を当てようとしています。  \n",
    "- プレイヤーが答えた数字が「正解の数字」よりも小さい場合は`Small`、大きい場合は`Big`というヒントが表示されます。  \n",
    "- 「正解の数字」を答えた時には`Correct`を出力してゲームを終了し、`YOU WIN!` と出力してください。  \n",
    "- 一度も「正解の数字」を答えられなかった時は、`YOU LOSE...` と出力してください。  "
   ]
  },
  {
   "cell_type": "markdown",
   "metadata": {},
   "source": [
    "### 制約\n",
    "- 1 ≤ N ≤ 10（回答回数）\n",
    "- 1 ≤ Answer ≤ 100（正解の数字）\n",
    "- 1 ≤ 各回答 ≤ 100（プレイヤーの回答）"
   ]
  },
  {
   "cell_type": "markdown",
   "metadata": {},
   "source": [
    "### 入力\n",
    "入力は以下の形式で標準入力から与えられます\n",
    "\n",
    "---\n",
    "\n",
    "$ Answer \\quad N $   \n",
    "$ A_1 \\quad A_2  \\quad ...  \\quad A_N $   \n",
    "\n",
    "---\n",
    "- $ Answer $ は正解の数字\n",
    "- $ N $ は回答回数\n",
    "- $ A_1 \\quad A_2  \\quad ...  \\quad A_N $ はプレイヤーの各回答"
   ]
  },
  {
   "cell_type": "markdown",
   "metadata": {},
   "source": [
    "### 出力\n",
    "N行に渡って、各回答に対する判定を出力してください。  \n",
    "各行には `Small`、`Big`、`Correct` のいずれかを出力します。  \n",
    "最後にゲームの結果を`YOU WIN!`または`YOU LOSE...`と出力してください  "
   ]
  },
  {
   "cell_type": "markdown",
   "metadata": {},
   "source": [
    "---\n",
    "---"
   ]
  },
  {
   "cell_type": "markdown",
   "metadata": {},
   "source": [
    "### 入力例1\n",
    "---\n",
    "```python\n",
    "50 4\n",
    "25 75 38 50\n",
    "```\n",
    "---\n",
    "\n",
    "### 出力例1\n",
    "---\n",
    "```python\n",
    "Small\n",
    "Big\n",
    "Small\n",
    "Correct\n",
    "YOU WIN!\n",
    "```\n",
    "---\n",
    "※1行目はプレイヤーの1つ目の回答に対するヒントを出力します。25が回答されましたが、正解の数(50)よりも小さい値のため`Small`と表示します   \n",
    "※2行目は2つ目の回答に対するヒントを出力します。75が回答されましたが、正解の数(50)よりも大きい値のため`Big`と表示します   \n",
    "※3行目は3つ目の回答に対するヒントを出力します。38が回答されましたが、正解の数(50)よりも小さい値のため`Small`と表示します   \n",
    "※4行目は4つ目の回答に対するヒントを出力します。50が回答されましたが、正解の数(50)と一致したため`Correct`と表示します   \n",
    "※数を当てることが出来ましたので最後に`YOU WIN!`と表示します   "
   ]
  },
  {
   "cell_type": "markdown",
   "metadata": {},
   "source": [
    "---\n",
    "---"
   ]
  },
  {
   "cell_type": "markdown",
   "metadata": {},
   "source": [
    "### 入力例2\n",
    "---\n",
    "```Python\n",
    "30 3\n",
    "10 20 40\n",
    "```\n",
    "---\n",
    "\n",
    "### 出力例2\n",
    "---\n",
    "```\n",
    "Small\n",
    "Small\n",
    "Big\n",
    "YOU LOSE...\n",
    "```\n",
    "---\n",
    "※1つ目は10が回答されましたが、正解の数(30)よりも小さい値のため`Small`と表示します   \n",
    "※2つ目は20が回答されましたが、正解の数(30)よりも小さい値のため`Small`と表示します   \n",
    "※3つ目は40が回答されましたが、正解の数(30)よりも大きい値のため`Big`と表示します   \n",
    "※数を当てることが出来ませんでしたので、最後に`YOU LOSE...`と表示します  "
   ]
  },
  {
   "cell_type": "markdown",
   "metadata": {},
   "source": [
    "---\n",
    "---"
   ]
  },
  {
   "cell_type": "markdown",
   "metadata": {},
   "source": [
    "### 入力例3\n",
    "---\n",
    "```python\n",
    "70 5\n",
    "70 70 70 70 70\n",
    "```\n",
    "---\n",
    "\n",
    "### 出力例3\n",
    "---\n",
    "```\n",
    "Correct\n",
    "YOU WIN!\n",
    "```\n",
    "---\n",
    "※1つ目は70が回答され、正解の数(70)と一致したため `Correct` と表示します  \n",
    "※正解が出たのでゲームを終了します。   \n",
    "※数を当てることが出来ましたので最後に `YOU WIN!` と表示します"
   ]
  },
  {
   "cell_type": "markdown",
   "metadata": {},
   "source": [
    "---\n",
    "---\n",
    "### ここ↓にPythonコードを記述してください"
   ]
  },
  {
   "cell_type": "code",
   "execution_count": 16,
   "metadata": {},
   "outputs": [
    {
     "name": "stdout",
     "output_type": "stream",
     "text": [
      " 70 5\n",
      " 70 70 70 70 70\n"
     ]
    },
    {
     "name": "stdout",
     "output_type": "stream",
     "text": [
      "Correct\n",
      "YOU WIN!\n"
     ]
    }
   ],
   "source": [
    "# 数当てゲーム判定プログラム\n",
    "\n",
    "# 1行目の入力（正解の数字と回答回数）\n",
    "answer, N = map(int, input().split())\n",
    "\n",
    "# 2行目の入力（プレイヤーの回答履歴）\n",
    "guesses = list(map(int, input().split()))\n",
    "\n",
    "# 各回答を判定\n",
    "for guess in guesses:\n",
    "    if guess < answer:\n",
    "        print(\"Small\")\n",
    "    elif guess > answer:\n",
    "        print(\"Big\")\n",
    "    else:\n",
    "        print(\"Correct\")\n",
    "        print(\"YOU WIN!\")\n",
    "        break\n",
    "else:\n",
    "    print(\"YOU LOSE...\")"
   ]
  },
  {
   "cell_type": "markdown",
   "metadata": {},
   "source": [
    "---\n",
    "---\n",
    "---\n",
    "### 問16 教室とテスト結果 (2点)\n",
    "- クラスでテストを行いました。教室には r 行 × c 列の座席があり、各行のテスト結果が前から順に与えられます。\n",
    "- クラスの上位5名の点数を求めてください。\n",
    "- 最後の行は、生徒数に応じて席が埋まっていない場合があります。"
   ]
  },
  {
   "cell_type": "markdown",
   "metadata": {},
   "source": [
    "### 制約\n",
    "\n",
    "$ 5 \\leq　r \\leq　6 $（行数）   \n",
    "$ 6 \\leq　c \\leq　7 $（列数）  \n",
    "$ 24 \\leq　N \\leq　42 $（生徒数）   \n",
    "$ r × (c-1) + 1 \\leq　N \\leq　r × c $（最後の行には必ず生徒が存在する）  \n",
    "$ 0 \\leq　Ei_j \\leq　100 $（テストの点数）  \n",
    "$ r $、$ c $、$ N $ 、$ Ei_j $ はそれぞれ整数  \n",
    "入力される値はすべて整数  \n"
   ]
  },
  {
   "cell_type": "markdown",
   "metadata": {},
   "source": [
    "### 入力形式\n",
    "入力は以下の形式で標準入力から与えられます\n",
    "\n",
    "---\n",
    "\n",
    "$ N \\quad r \\quad c $   \n",
    "$ E1_1 \\quad E1_2  \\quad ...  \\quad E1_c $   \n",
    "$ E2_1 \\quad E2_2  \\quad ...  \\quad E2_c $   \n",
    "...   \n",
    "$ Er_1 \\quad Er_2  \\quad ...  \\quad Er_k $   \n",
    "\n",
    "---\n",
    "\n",
    "- 1行目に生徒数N、行数r、列数c が与えられます。\n",
    "- 2行目から r 行にわたって、各行の点数が空白区切りで与えられます。\n",
    "- 最後の行は、$ N - (r × (c-1) + 1) $ の点数のみが与えられます（残りの席は空席）。"
   ]
  },
  {
   "cell_type": "markdown",
   "metadata": {},
   "source": [
    "### 出力形式\n",
    "\n",
    "---\n",
    "\n",
    "$ L_1 \\quad L_2 \\quad L_3 \\quad L_4 \\quad L_5 $\n",
    "\n",
    "---\n",
    "\n",
    "上位5名の点数を、高い順に空白区切りで1行に出力してください"
   ]
  },
  {
   "cell_type": "markdown",
   "metadata": {},
   "source": [
    "---\n",
    "---"
   ]
  },
  {
   "cell_type": "markdown",
   "metadata": {},
   "source": [
    "### 入力例1\n",
    "---\n",
    "```python\n",
    "25 5 6\n",
    "82 76 91 65 72 88\n",
    "79 85 83 93 87 64\n",
    "71 69 96 78 75 90\n",
    "68 70 84 81 77 66\n",
    "95\n",
    "```\n",
    "---\n",
    "\n",
    "### 出力例1\n",
    "---\n",
    "```python\n",
    "96 95 93 91 90\n",
    "```\n",
    "---\n",
    "※生徒数は25名、教室は5行6列のため最後の行が1名のみになります   \n",
    "※点数は高い順に96,95,93,91,90と5名まで出力します   "
   ]
  },
  {
   "cell_type": "markdown",
   "metadata": {},
   "source": [
    "---\n",
    "---"
   ]
  },
  {
   "cell_type": "markdown",
   "metadata": {},
   "source": [
    "### 入力例2\n",
    "---\n",
    "```python\n",
    "40 6 7\n",
    "51 45 50 46 28 96 50\n",
    "100 56 44 100 81 80 62\n",
    "67 82 66 56 56 3 72\n",
    "56 85 13 58 69 59 77\n",
    "44 48 98 82 72 94 67\n",
    "41 69 40 97 49\n",
    "```\n",
    "---\n",
    "\n",
    "### 出力例2\n",
    "---\n",
    "```python\n",
    "100 100 98 97 96\n",
    "```\n",
    "---\n",
    "※生徒数は40名、教室は6行7列のため最後の行は5名います   \n",
    "※点数は高い順に 100 100 98 97 96 と5名まで出力します   "
   ]
  },
  {
   "cell_type": "markdown",
   "metadata": {},
   "source": [
    "---\n",
    "---\n",
    "### ここ↓にPythonコードを記述してください"
   ]
  },
  {
   "cell_type": "code",
   "execution_count": 51,
   "metadata": {},
   "outputs": [
    {
     "name": "stdout",
     "output_type": "stream",
     "text": [
      " 40 6 7\n",
      " 51 45 50 46 28 96 50\n",
      " 100 56 44 100 81 80 62\n",
      " 67 82 66 56 56 3 72\n",
      " 56 85 13 58 69 59 77\n",
      " 44 48 98 82 72 94 67\n",
      " 41 69 40 97 49\n"
     ]
    },
    {
     "name": "stdout",
     "output_type": "stream",
     "text": [
      "100 100 98 97 96\n"
     ]
    }
   ],
   "source": [
    "# 入力を受け取る\n",
    "N, rows, cols = map(int, input().split())\n",
    "scores = []\n",
    "\n",
    "# 各行の点数を受け取る\n",
    "for i in range(rows):\n",
    "    scores += list(map(int, input().split()))\n",
    "\n",
    "# 点数を降順にソート\n",
    "scores.sort(reverse=True)\n",
    "\n",
    "# 上位5名の点数を出力\n",
    "print(\" \".join(str(score) for score in scores[:5]))"
   ]
  },
  {
   "cell_type": "code",
   "execution_count": null,
   "metadata": {},
   "outputs": [],
   "source": []
  },
  {
   "cell_type": "markdown",
   "metadata": {},
   "source": [
    "### おまけ：入力例生成"
   ]
  },
  {
   "cell_type": "code",
   "execution_count": 50,
   "metadata": {},
   "outputs": [
    {
     "name": "stdout",
     "output_type": "stream",
     "text": [
      "51 45 50 46 28 96 50\n",
      "100 56 44 100 81 80 62\n",
      "67 82 66 56 56 3 72\n",
      "56 85 13 58 69 59 77\n",
      "44 48 98 82 72 94 67\n",
      "41 69 40 97 49 71 58\n",
      "100 100 98 97 96\n"
     ]
    }
   ],
   "source": [
    "import random\n",
    "r=6\n",
    "c=7\n",
    "scores = []\n",
    "for _ in range(r):\n",
    "    row1_num = [max(min(int(random.gauss(60,20)),100),0) for _ in range(c)]\n",
    "    row1 = \" \".join([str(n) for n in row1_num])\n",
    "    print(row1)\n",
    "    scores += row1_num\n",
    "\n",
    "# 点数を降順にソート\n",
    "scores.sort(reverse=True)\n",
    "\n",
    "# 上位5名の点数を出力\n",
    "print(\" \".join(str(score) for score in scores[:5]))"
   ]
  },
  {
   "cell_type": "code",
   "execution_count": null,
   "metadata": {},
   "outputs": [],
   "source": []
  }
 ],
 "metadata": {
  "colab": {
   "provenance": [
    {
     "file_id": "https://github.com/YasuharuSuzuki/24_programing2/blob/main/04%E8%BE%9E%E6%9B%B8/01%E8%BE%9E%E6%9B%B8%E3%82%92%E4%BD%9C%E3%82%8B.ipynb",
     "timestamp": 1715146358060
    }
   ]
  },
  "kernelspec": {
   "display_name": "Python 3 (ipykernel)",
   "language": "python",
   "name": "python3"
  },
  "language_info": {
   "codemirror_mode": {
    "name": "ipython",
    "version": 3
   },
   "file_extension": ".py",
   "mimetype": "text/x-python",
   "name": "python",
   "nbconvert_exporter": "python",
   "pygments_lexer": "ipython3",
   "version": "3.11.9"
  }
 },
 "nbformat": 4,
 "nbformat_minor": 4
}
