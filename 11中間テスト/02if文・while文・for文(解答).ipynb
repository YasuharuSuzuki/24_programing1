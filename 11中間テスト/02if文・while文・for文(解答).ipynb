{
 "cells": [
  {
   "cell_type": "markdown",
   "metadata": {},
   "source": [
    "<a href=\"https://colab.research.google.com/github/YasuharuSuzuki/24_programing1/blob/main/\" target=\"_parent\"><img src=\"https://colab.research.google.com/assets/colab-badge.svg\" alt=\"Open In Colab\"/></a>"
   ]
  },
  {
   "cell_type": "markdown",
   "metadata": {
    "id": "KSSJqXOosEeX"
   },
   "source": [
    "# 02 if文・while文・for文"
   ]
  },
  {
   "cell_type": "markdown",
   "metadata": {
    "id": "VRQcesdKsEec"
   },
   "source": [
    "## 用語の理解を問う問題\n",
    "- 以下の問題について、正解となる選択肢を出力してください"
   ]
  },
  {
   "cell_type": "markdown",
   "metadata": {},
   "source": [
    "---\n",
    "---\n",
    "---\n",
    "### 問6 インデント (0.3点)\n",
    "- PEP 8（Pythonのスタイルガイド）で推奨されているインデントの幅は何スペースですか？\n",
    "    1. タブ１つ\n",
    "    2. 空白２つ\n",
    "    3. 空白４つ\n",
    "    4. 空白８つ\n"
   ]
  },
  {
   "cell_type": "code",
   "execution_count": 1,
   "metadata": {
    "colab": {
     "base_uri": "https://localhost:8080/"
    },
    "executionInfo": {
     "elapsed": 265,
     "status": "ok",
     "timestamp": 1715146988599,
     "user": {
      "displayName": "鈴木康元",
      "userId": "15385942521303414593"
     },
     "user_tz": -540
    },
    "id": "_oiNYIaxsEed",
    "outputId": "c127d002-8e8c-45b3-d98b-c5304b00f17d"
   },
   "outputs": [
    {
     "name": "stdout",
     "output_type": "stream",
     "text": [
      "3\n"
     ]
    }
   ],
   "source": [
    "# 正解を出力してください\n",
    "print('3')"
   ]
  },
  {
   "cell_type": "markdown",
   "metadata": {},
   "source": [
    "---\n",
    "\n",
    "### 解説\n",
    "- タブ（\\t）は推奨されていません。空白４つが正解です\n",
    "\n",
    "課題では、05if文/01if文_条件で処理を分岐する.ipnyb で説明されています\n",
    "\n",
    "---"
   ]
  },
  {
   "cell_type": "markdown",
   "metadata": {
    "id": "bP053hXUsEee"
   },
   "source": [
    "---\n",
    "---\n",
    "---\n",
    "### 問7 シンプルなコード (0.3点)  \n",
    "プログラミングはシンプルなほど不具合が起きにくく、良いプログラムとされています。  \n",
    "一方で、同じ条件判定を重複して行ったり、無駄に条件分岐を多く行うのは非効率とされ、あまり良くないプログラミングとされています。  \n",
    "\n",
    "以下のプログラムと同じ動作をする、より簡潔な書き方を選択肢から選んでください  \n",
    "\n",
    "```python\n",
    "if score < 60:\n",
    "    print(\"不合格\")\n",
    "elif 60 <= score < 80:\n",
    "    print(\"合格\")\n",
    "elif 80 <= score:\n",
    "    print(\"優秀\")\n",
    "```\n",
    "  \n",
    "---\n",
    "#### 1\n",
    "```python\n",
    "if score <= 60:\n",
    "    print(\"不合格\")\n",
    "elif score <= 80:\n",
    "    print(\"合格\")\n",
    "else:\n",
    "    print(\"優秀\")\n",
    "```\n",
    "---\n",
    "#### 2\n",
    "```python\n",
    "if score >= 80:\n",
    "    print(\"優秀\")\n",
    "elif score >= 60:\n",
    "    print(\"合格\")\n",
    "elif score < 60:\n",
    "    print(\"不合格\")\n",
    "```\n",
    "---\n",
    "#### 3\n",
    "```python\n",
    "if score < 60:\n",
    "    print(\"不合格\")\n",
    "if 60 <= score < 80:\n",
    "    print(\"合格\")\n",
    "if score >= 80:\n",
    "    print(\"優秀\")\n",
    "```\n",
    "---\n",
    "#### 4\n",
    "```python\n",
    "if score < 60:\n",
    "    print(\"不合格\")\n",
    "elif score < 80:\n",
    "    print(\"合格\")\n",
    "else:\n",
    "    print(\"優秀\")\n",
    "```\n"
   ]
  },
  {
   "cell_type": "code",
   "execution_count": 2,
   "metadata": {
    "colab": {
     "base_uri": "https://localhost:8080/"
    },
    "executionInfo": {
     "elapsed": 255,
     "status": "ok",
     "timestamp": 1715147036615,
     "user": {
      "displayName": "鈴木康元",
      "userId": "15385942521303414593"
     },
     "user_tz": -540
    },
    "id": "8cg5YTLosEee",
    "outputId": "c6671804-b225-4341-ea70-8833bd5eb194"
   },
   "outputs": [
    {
     "name": "stdout",
     "output_type": "stream",
     "text": [
      "4\n"
     ]
    }
   ],
   "source": [
    "# 正解を出力してください\n",
    "print('4')"
   ]
  },
  {
   "cell_type": "markdown",
   "metadata": {},
   "source": [
    "---\n",
    "\n",
    "### 解説\n",
    "#### 元のコードの問題点\n",
    "- 60 <= score < 80 という複合条件を使用\n",
    "- 80 <= score という明示的な条件が必要ない場所でも使用\n",
    "\n",
    "#### 選択肢4が最も簡潔な理由\n",
    "- 単純な比較 < のみを使用\n",
    "- 条件を順番に判定し、最後は else で処理\n",
    "- 必要最小限の条件判定で済む\n",
    "\n",
    "#### 他の選択肢の問題点\n",
    "- 1) <= の使用により境界値（60点、80点）の扱いが不適切\n",
    "- 2) 最後のelifで不要な条件判定（score < 60）を行っている\n",
    "- 3) if を重複使用しており非効率\n",
    "\n",
    "---"
   ]
  },
  {
   "cell_type": "markdown",
   "metadata": {},
   "source": [
    "---\n",
    "---\n",
    "---\n",
    "### 問8 break文と合計値 (0.3点)\n",
    "\n",
    "以下のコードのうち、1から9までの奇数を順に処理し、5になった時点でループを終了して、それまでの合計を1度だけ出力するコードはどれですか？\n",
    "\n",
    "---\n",
    "#### 1\n",
    "```python\n",
    "total = 0\n",
    "for i in range(1, 10, 2):\n",
    "    if i == 5:\n",
    "        total += i\n",
    "        break\n",
    "print(total)\n",
    "```\n",
    "\n",
    "---\n",
    "#### 2\n",
    "```python\n",
    "total = 0\n",
    "for i in range(1, 10, 2):\n",
    "    if i == 5:\n",
    "        total += i\n",
    "    break\n",
    "print(total)\n",
    "```\n",
    "\n",
    "---\n",
    "#### 3\n",
    "```python\n",
    "total = 0\n",
    "for i in range(1, 10, 2):\n",
    "    if i == 5:\n",
    "        break\n",
    "    total += i\n",
    "    print(total)\n",
    "```\n",
    "\n",
    "---\n",
    "#### 4\n",
    "```python\n",
    "total = 0\n",
    "for i in range(1, 10, 2):\n",
    "    if i == 5:\n",
    "        break\n",
    "    total += i\n",
    "print(total)\n",
    "```"
   ]
  },
  {
   "cell_type": "code",
   "execution_count": 3,
   "metadata": {
    "colab": {
     "base_uri": "https://localhost:8080/"
    },
    "executionInfo": {
     "elapsed": 278,
     "status": "ok",
     "timestamp": 1715147048787,
     "user": {
      "displayName": "鈴木康元",
      "userId": "15385942521303414593"
     },
     "user_tz": -540
    },
    "id": "y2CxWqMusEef",
    "outputId": "8129fcea-362e-4f33-d57b-529f8313a51f"
   },
   "outputs": [
    {
     "name": "stdout",
     "output_type": "stream",
     "text": [
      "4\n"
     ]
    }
   ],
   "source": [
    "# 正解を出力してください\n",
    "print('4')"
   ]
  },
  {
   "cell_type": "markdown",
   "metadata": {},
   "source": [
    "---\n",
    "\n",
    "### 解説\n",
    "#### 選択肢4が正しい理由\n",
    "- i=1,3の時はtotalに加算される\n",
    "- i=5の時点でループが終了する\n",
    "- ループ終了後に合計値4（1+3）が出力される\n",
    "\n",
    "#### 1,2,3が不適切な理由\n",
    "- 1) i=1,3の時にtotalに加算せず、5の時のみ加算してからbreakするため、合計が5になる\n",
    "- 2) 最初のループでいきなりbreak文が実行されてしまい、合計が0のまま終了する\n",
    "- 3) 合計値が途中経過（1, 4）として出力され、最終結果のみを表示できない\n",
    "---"
   ]
  },
  {
   "cell_type": "markdown",
   "metadata": {
    "id": "sqzgb-X2sEef"
   },
   "source": [
    "---\n",
    "---\n",
    "---\n",
    "---\n",
    "---\n",
    "## アルゴリズム問題"
   ]
  },
  {
   "cell_type": "markdown",
   "metadata": {},
   "source": [
    "### 問9 買い物割引判定B (1.5点)\n",
    "\n",
    "### 問題文\n",
    "あるスーパーマーケットでは、買い物の合計金額に応じて以下のような割引を行っています：\n",
    "\n",
    "- 1000円未満：割引なし\n",
    "- 1000円以上3000円未満：5%割引\n",
    "- 3000円以上5000円未満：10%割引\n",
    "- 5000円以上：15%割引\n",
    "\n",
    "買い物の合計金額が与えられたときに適用される割引率を求め、割り引いた後の買い物の金額を出力するプログラムを作成してください。  \n",
    "ただし、割引金額は小数点以下切り捨てとします"
   ]
  },
  {
   "cell_type": "markdown",
   "metadata": {},
   "source": [
    "### 制約\n",
    "\n",
    "$ 1 \\leq A \\leq 10000 (Aは整数) $"
   ]
  },
  {
   "cell_type": "markdown",
   "metadata": {},
   "source": [
    "### 入力\n",
    "入力は以下の形式で標準入力から与えられます\n",
    "\n",
    "---\n",
    "$ A $\n",
    "\n",
    "---\n",
    "\n",
    "\n",
    "※input()１つで取得可能"
   ]
  },
  {
   "cell_type": "markdown",
   "metadata": {},
   "source": [
    "### 出力\n",
    "割り引いた後の買い物の金額を出力してください。"
   ]
  },
  {
   "cell_type": "markdown",
   "metadata": {},
   "source": [
    "---\n",
    "---\n",
    "\n",
    "### 入力例1\n",
    "---\n",
    "```python\n",
    "1000\n",
    "```\n",
    "---\n",
    "\n",
    "### 出力例1\n",
    "---\n",
    "```python\n",
    "950\n",
    "```\n",
    "---\n",
    "※ 1000円のときは5%割引のため、950円となります"
   ]
  },
  {
   "cell_type": "markdown",
   "metadata": {},
   "source": [
    "---\n",
    "---"
   ]
  },
  {
   "cell_type": "markdown",
   "metadata": {},
   "source": [
    "### 入力例2\n",
    "---\n",
    "```python\n",
    "5111\n",
    "```\n",
    "---\n",
    "\n",
    "### 出力例2\n",
    "---\n",
    "```python\n",
    "4345\n",
    "```\n",
    "---\n",
    "※ 5000円を超えると15%割引となります  \n",
    "※ 5111円の15%は766.65円ですが、割引金額は小数点以下切り捨てのため766円となり、買い物の金額は5111円-766円=4345円となります（4344円にならないよう注意）  "
   ]
  },
  {
   "cell_type": "markdown",
   "metadata": {},
   "source": [
    "---\n",
    "---"
   ]
  },
  {
   "cell_type": "markdown",
   "metadata": {},
   "source": [
    "### 入力例3\n",
    "---\n",
    "```python\n",
    "1\n",
    "```\n",
    "---\n",
    "\n",
    "### 出力例3\n",
    "---\n",
    "```python\n",
    "1\n",
    "```\n",
    "---\n",
    "※ 1円のときは割引なしのため、1円となります"
   ]
  },
  {
   "cell_type": "markdown",
   "metadata": {},
   "source": [
    "---\n",
    "---"
   ]
  },
  {
   "cell_type": "markdown",
   "metadata": {},
   "source": [
    "### ここ↓にPythonコードを記述してください"
   ]
  },
  {
   "cell_type": "code",
   "execution_count": 13,
   "metadata": {},
   "outputs": [
    {
     "name": "stdout",
     "output_type": "stream",
     "text": [
      " 5111\n"
     ]
    },
    {
     "name": "stdout",
     "output_type": "stream",
     "text": [
      "4345\n"
     ]
    }
   ],
   "source": [
    "# 買い物金額から割引率を判定するプログラム\n",
    "\n",
    "# 標準入力から買い物金額を受け取る\n",
    "amount = int(input())\n",
    "\n",
    "# 金額に応じて割引率を判定\n",
    "if amount < 1000:\n",
    "    discount = 0\n",
    "elif amount < 3000:\n",
    "    discount = 0.05\n",
    "elif amount < 5000:\n",
    "    discount = 0.10\n",
    "else:\n",
    "    discount = 0.15\n",
    "\n",
    "# 割り引いた後の買い物の金額を計算\n",
    "amount -= int(amount * discount)\n",
    "\n",
    "# 結果を出力\n",
    "print(amount)"
   ]
  },
  {
   "cell_type": "markdown",
   "metadata": {
    "colab": {
     "base_uri": "https://localhost:8080/"
    },
    "executionInfo": {
     "elapsed": 268,
     "status": "ok",
     "timestamp": 1715147255303,
     "user": {
      "displayName": "鈴木康元",
      "userId": "15385942521303414593"
     },
     "user_tz": -540
    },
    "id": "AXmjTxIdsEeg",
    "outputId": "2e2c42b9-ea55-4aae-c6cf-38e3e3f47720"
   },
   "source": [
    "---\n",
    "---\n",
    "---\n",
    "### 問10 映画チケット料金の計算B (1.5点)\n",
    "あなたは地元の映画館でチケット販売システムのプログラムを作成しています。映画館では以下の料金体系を採用しています：\n",
    "\n",
    "- 基本料金: 2000円\n",
    "- 15歳以下の子供: 50%割引\n",
    "- 16歳～18歳: 40%割引\n",
    "- 19歳～22歳: 25%割引\n",
    "- 60歳以上の高齢者: 35%割引\n",
    "- 平日（月曜から金曜）: 300円割引\n",
    "- 夜間上映（19時45分以降の上映）: 400円割増\n",
    "\n",
    "割引の順序は、まず年齢割引適用後、平日割引と夜間割増を計算します。\n",
    "\n",
    "お客様の年齢、曜日（月曜日、火曜日、...、日曜日）、上映開始時刻（HH:MM形式）が与えられたとき、チケットの料金を計算するプログラムを作成してください。"
   ]
  },
  {
   "cell_type": "markdown",
   "metadata": {},
   "source": [
    "### 制約\n",
    "- 年齢は0以上120以下の整数\n",
    "- 曜日は月曜日、火曜日、...、日曜日 の文字列\n",
    "- 時刻はHH:MMの文字列\n",
    "- HHは`00`～`23`、MMは`00`～`59`。どちらも0埋めあり"
   ]
  },
  {
   "cell_type": "markdown",
   "metadata": {},
   "source": [
    "### 入力\n",
    "入力は以下の形式で標準入力から与えられます\n",
    "\n",
    "---\n",
    "A D T\n",
    "\n",
    "---\n",
    "\n",
    "- A: 年齢を表す整数\n",
    "- D: 曜日を表す文字列（月曜、火曜、...、日曜）\n",
    "- T: 上映開始時刻を表す文字列（HH:MM形式）"
   ]
  },
  {
   "cell_type": "markdown",
   "metadata": {},
   "source": [
    "### 出力\n",
    "計算されたチケット料金を整数で出力してください。"
   ]
  },
  {
   "cell_type": "markdown",
   "metadata": {},
   "source": [
    "---\n",
    "---"
   ]
  },
  {
   "cell_type": "markdown",
   "metadata": {},
   "source": [
    "### 入力例1\n",
    "---\n",
    "```\n",
    "25 水曜日 19:55\n",
    "```\n",
    "---\n",
    "\n",
    "### 出力例1\n",
    "---\n",
    "```\n",
    "2100\n",
    "```\n",
    "---\n",
    "※25歳のため普通料金  \n",
    "※水曜日のため平日割引（-300円）  \n",
    "※夜間のため割増（+400円）  \n",
    "※合計で2100円"
   ]
  },
  {
   "cell_type": "markdown",
   "metadata": {},
   "source": [
    "---\n",
    "---"
   ]
  },
  {
   "cell_type": "markdown",
   "metadata": {},
   "source": [
    "### 入力例2\n",
    "---\n",
    "```\n",
    "16 月曜日 20:30\n",
    "```\n",
    "---\n",
    "\n",
    "### 出力例2\n",
    "---\n",
    "```\n",
    "1300\n",
    "```\n",
    "---\n",
    "※16歳のため40%割引（-800円）  \n",
    "※月曜日のため平日割引（-300円）  \n",
    "※夜間のため割増（+400円）  \n",
    "※合計で1300円  "
   ]
  },
  {
   "cell_type": "markdown",
   "metadata": {},
   "source": [
    "---\n",
    "---"
   ]
  },
  {
   "cell_type": "markdown",
   "metadata": {},
   "source": [
    "### 入力例3\n",
    "---\n",
    "```\n",
    "12 日曜日 15:30\n",
    "```\n",
    "---\n",
    "\n",
    "### 出力例2\n",
    "---\n",
    "```\n",
    "1000\n",
    "```\n",
    "---\n",
    "※12歳のため50%割引（-1000円）  \n",
    "※日曜日のため平日割引なし  \n",
    "※昼間のため割増なし  \n",
    "※合計で1000円  "
   ]
  },
  {
   "cell_type": "markdown",
   "metadata": {},
   "source": [
    "---\n",
    "---"
   ]
  },
  {
   "cell_type": "markdown",
   "metadata": {},
   "source": [
    "### 入力例4\n",
    "---\n",
    "```\n",
    "65 金曜日 21:00\n",
    "```\n",
    "---\n",
    "\n",
    "### 出力例4\n",
    "---\n",
    "```\n",
    "1400\n",
    "```\n",
    "---\n",
    "※65歳のため35%割引（-700円）  \n",
    "※金曜日のため平日割引（-300円）  \n",
    "※夜間のため割増（+400円）  \n",
    "※合計で1400円  "
   ]
  },
  {
   "cell_type": "markdown",
   "metadata": {},
   "source": [
    "---\n",
    "---"
   ]
  },
  {
   "cell_type": "markdown",
   "metadata": {},
   "source": [
    "### 入力例5\n",
    "---\n",
    "```\n",
    "20 火曜日 14:00\n",
    "```\n",
    "---\n",
    "\n",
    "### 出力例5\n",
    "---\n",
    "```\n",
    "1200\n",
    "```\n",
    "---\n",
    "※20歳のため25%割引（-500円）  \n",
    "※火曜日のため平日割引（-300円）  \n",
    "※昼間のため割増なし\n",
    "※合計で1200円  "
   ]
  },
  {
   "cell_type": "markdown",
   "metadata": {},
   "source": [
    "---\n",
    "---\n",
    "### ここ↓にPythonコードを記述してください"
   ]
  },
  {
   "cell_type": "code",
   "execution_count": 22,
   "metadata": {},
   "outputs": [
    {
     "name": "stdout",
     "output_type": "stream",
     "text": [
      " 20 火曜日 14:00\n"
     ]
    },
    {
     "name": "stdout",
     "output_type": "stream",
     "text": [
      "1200\n"
     ]
    }
   ],
   "source": [
    "# 入力を受け取る\n",
    "age, day, time = input().split()\n",
    "age = int(age)  # 年齢を整数に変換\n",
    "\n",
    "# 基本料金\n",
    "base_price = 2000\n",
    "\n",
    "# 年齢による割引率を計算\n",
    "discount_rate = 0\n",
    "if age <= 15:\n",
    "    discount_rate = 0.50  # 50%割引\n",
    "elif age <= 18:\n",
    "    discount_rate = 0.40  # 40%割引\n",
    "elif age <= 22:\n",
    "    discount_rate = 0.25  # 25%割引\n",
    "elif age >= 60:\n",
    "    discount_rate = 0.35  # 35%割引\n",
    "\n",
    "# 年齢割引を適用\n",
    "price = base_price - int(base_price * discount_rate)\n",
    "\n",
    "# 平日割引を適用\n",
    "weekdays = [\"月曜日\", \"火曜日\", \"水曜日\", \"木曜日\", \"金曜日\"]\n",
    "if day in weekdays:\n",
    "    price -= 300\n",
    "\n",
    "# 夜間割増を適用\n",
    "hour, minute = map(int, time.split(\":\"))\n",
    "if hour > 19 or (hour == 19 and minute >= 45):\n",
    "    price += 400\n",
    "\n",
    "# 整数に切り捨てて出力\n",
    "print(int(price))"
   ]
  },
  {
   "cell_type": "code",
   "execution_count": null,
   "metadata": {},
   "outputs": [],
   "source": []
  }
 ],
 "metadata": {
  "colab": {
   "provenance": [
    {
     "file_id": "https://github.com/YasuharuSuzuki/24_programing2/blob/main/04%E8%BE%9E%E6%9B%B8/01%E8%BE%9E%E6%9B%B8%E3%82%92%E4%BD%9C%E3%82%8B.ipynb",
     "timestamp": 1715146358060
    }
   ]
  },
  "kernelspec": {
   "display_name": "Python 3 (ipykernel)",
   "language": "python",
   "name": "python3"
  },
  "language_info": {
   "codemirror_mode": {
    "name": "ipython",
    "version": 3
   },
   "file_extension": ".py",
   "mimetype": "text/x-python",
   "name": "python",
   "nbconvert_exporter": "python",
   "pygments_lexer": "ipython3",
   "version": "3.11.9"
  }
 },
 "nbformat": 4,
 "nbformat_minor": 4
}
