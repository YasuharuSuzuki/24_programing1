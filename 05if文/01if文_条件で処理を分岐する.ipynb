{
 "cells": [
  {
   "cell_type": "markdown",
   "metadata": {
    "colab_type": "text",
    "id": "view-in-github"
   },
   "source": [
    "<a href=\"https://colab.research.google.com/github/YasuharuSuzuki/24_programing1/blob/main/\" target=\"_parent\"><img src=\"https://colab.research.google.com/assets/colab-badge.svg\" alt=\"Open In Colab\"/></a>"
   ]
  },
  {
   "cell_type": "markdown",
   "metadata": {},
   "source": [
    "# Section 5-1 if文"
   ]
  },
  {
   "cell_type": "markdown",
   "metadata": {},
   "source": [
    "## 参考サイト\n",
    "### [参考サイト1 【Python入門】 条件分岐](https://utokyo-ipp.github.io/2/2-3.html)\n",
    "- インデントから詳しく説明。通常はスペース4つでインデントしましょう。if文、if-else文、if-elif-else文からif文のネストも紹介有り\n",
    "### [参考サイト2 【Python早見表】 if文（条件分岐）](https://chokkan.github.io/python/03control.html#if)\n",
    "- if文、if-else文、if-elif-else文 などを記載"
   ]
  },
  {
   "cell_type": "markdown",
   "metadata": {},
   "source": [
    "## サンプルプログラム1 if文"
   ]
  },
  {
   "cell_type": "markdown",
   "metadata": {},
   "source": [
    "### if文の基本的な形\n",
    "- 条件に応じて処理を実行するにはif文を使います。まずは形から、ということで簡単なif文の例を以下に記します"
   ]
  },
  {
   "cell_type": "code",
   "execution_count": 9,
   "metadata": {},
   "outputs": [
    {
     "name": "stdout",
     "output_type": "stream",
     "text": [
      "flagがTrueの時に実行する処理1\n",
      "flagがTrueの時に実行する処理2\n",
      "flagがTrueの時に実行する処理3\n",
      "flagの状態に関わらず実行する処理1\n",
      "flagの状態に関わらず実行する処理2\n",
      "flagの状態に関わらず実行する処理3\n"
     ]
    }
   ],
   "source": [
    "flag = True\n",
    "#flag = False\n",
    "if flag:\n",
    "    print(\"flagがTrueの時に実行する処理1\")\n",
    "    print(\"flagがTrueの時に実行する処理2\")\n",
    "    print(\"flagがTrueの時に実行する処理3\")\n",
    "    \n",
    "print(\"flagの状態に関わらず実行する処理1\")\n",
    "print(\"flagの状態に関わらず実行する処理2\")\n",
    "print(\"flagの状態に関わらず実行する処理3\")"
   ]
  },
  {
   "cell_type": "markdown",
   "metadata": {},
   "source": [
    "#### \"flag\" 変数をTrueで実行\n",
    "- \"flag\" 変数をTrueで実行すると、if flag: のすぐ後にある、字下げされたprint文が３つ実行されます\n",
    "  - この字下げされた行を **インデント** と言います。Pythonのインデントはコードブロックとして認識させることができ、ブロック単位で処理を実行する機能を持ちます\n",
    "  - if文では条件がTrueになった時に、その直後に続くコードブロックをまとめて実行することができます\n",
    "\n",
    "#### \"flag\" 変数をFalseで実行\n",
    "- \"flag\" 変数をFalseの状態で実行すると、if flag: のすぐ後にあるコードブロックは実行されず、\"flagの状態に関わらず実行する処理\" が実行されます\n"
   ]
  },
  {
   "cell_type": "markdown",
   "metadata": {},
   "source": [
    "#### **インデント** について\n",
    "- Python初心者が **つまづきやすいポイント** です\n",
    "- 空白を少し混ぜただけでもコードブロックとして認識されるため、エラーになったり、実行させたい処理が実行されなかったりします\n",
    "- くどいようですが条件がTrueになる時に実行させたい処理は、空白を揃えてインデントしましょう\n",
    "- Pythonの標準的なコード記法を定めた”PEP8”という規格では、**空白４つ** でインデントすることが推奨されています"
   ]
  },
  {
   "cell_type": "markdown",
   "metadata": {},
   "source": [
    "### input()の結果によって処理を変える\n",
    "- input()で点数を受け取り、60点未満の時は”不可”と表示する\n",
    "- 60点以上の値と、60点未満の値を入力して、動作の違いを見てみましょう！"
   ]
  },
  {
   "cell_type": "code",
   "execution_count": 2,
   "metadata": {},
   "outputs": [
    {
     "name": "stdout",
     "output_type": "stream",
     "text": [
      "50\n",
      "不可\n"
     ]
    }
   ],
   "source": [
    "exam_score1 = int(input()) # 入力した値をintに変換して取得\n",
    "if exam_score1 < 60: # 60点未満かどうかを比較。条件に適合する場合は、、、\n",
    "    print(\"不可\") # ”不可”と表示する"
   ]
  },
  {
   "cell_type": "markdown",
   "metadata": {},
   "source": [
    "---"
   ]
  },
  {
   "cell_type": "markdown",
   "metadata": {},
   "source": [
    "### 練習プログラム1 (1点)\n",
    "- input()で点数を受け取り、90点以上の時は”秀”と表示するプログラムを作成してみましょう"
   ]
  },
  {
   "cell_type": "code",
   "execution_count": null,
   "metadata": {},
   "outputs": [],
   "source": [
    "\n"
   ]
  },
  {
   "cell_type": "markdown",
   "metadata": {},
   "source": [
    "#### 考えてみよう！\n",
    "- 上記の場合、特定の条件の処理は記述できますが、例えば60点以上の人に「可」と表示することができません\n",
    "- 条件と合わない場合の処理は **else** を使って実行することが出来ます"
   ]
  },
  {
   "cell_type": "markdown",
   "metadata": {},
   "source": [
    "---\n",
    "---\n",
    "---"
   ]
  },
  {
   "cell_type": "markdown",
   "metadata": {},
   "source": [
    "## サンプルプログラム2 if-else文\n",
    "### if-else文の基本的な形\n",
    "- 条件に合わない場合の処理も行うはif-else文を使います。"
   ]
  },
  {
   "cell_type": "code",
   "execution_count": 8,
   "metadata": {},
   "outputs": [
    {
     "name": "stdout",
     "output_type": "stream",
     "text": [
      "flagがTrueの時に実行する処理1\n",
      "flagがTrueの時に実行する処理2\n",
      "flagの状態に関わらず実行する処理a\n",
      "flagの状態に関わらず実行する処理b\n"
     ]
    }
   ],
   "source": [
    "flag = True\n",
    "if flag:\n",
    "    print(\"flagがTrueの時に実行する処理1\")\n",
    "    print(\"flagがTrueの時に実行する処理2\")\n",
    "else:\n",
    "    print(\"flagがFalseの時に実行する処理A\")\n",
    "    print(\"flagがFalseの時に実行する処理B\")\n",
    "\n",
    "print(\"flagの状態に関わらず実行する処理a\")\n",
    "print(\"flagの状態に関わらず実行する処理b\")"
   ]
  },
  {
   "cell_type": "markdown",
   "metadata": {},
   "source": [
    "### input()の結果によって処理を変える (if-else文)\n",
    "input()で点数を受け取り、60点未満の時は”不可”、60点以上の場合は\"可\"と表示するプログラム"
   ]
  },
  {
   "cell_type": "code",
   "execution_count": 5,
   "metadata": {},
   "outputs": [
    {
     "name": "stdout",
     "output_type": "stream",
     "text": [
      "61\n",
      "可\n"
     ]
    }
   ],
   "source": [
    "exam_score3 = int(input()) # 入力した値をintに変換して取得\n",
    "if exam_score3 < 60: # 60点未満かどうかを比較。条件に適合する場合は、\n",
    "    print(\"不可\") # ”不可”と表示する\n",
    "else: # 条件に適合しない場合は\n",
    "    print(\"可\") # ”可”と表示する"
   ]
  },
  {
   "cell_type": "markdown",
   "metadata": {},
   "source": [
    "---"
   ]
  },
  {
   "cell_type": "markdown",
   "metadata": {},
   "source": [
    "### 練習プログラム2 (1点)\n",
    "- input()で点数を受け取り、90点以上の時は”秀”、90点未満の場合は\"不可\"と表示するプログラムを作成してみましょう"
   ]
  },
  {
   "cell_type": "code",
   "execution_count": null,
   "metadata": {},
   "outputs": [],
   "source": [
    "\n",
    "\n"
   ]
  },
  {
   "cell_type": "markdown",
   "metadata": {},
   "source": [
    "#### if-else文 考えてみよう！\n",
    "- この場合、特定の2通りの条件の処理は記述できますが、例えば60点未満を「不可」、70点未満を「可」と表示した上でさらに70点以上を「良」と表示することができません\n",
    "- 3つ以上の条件に応じて処理を実行したい場合は if-elif-else を使って実行することが出来ます"
   ]
  },
  {
   "cell_type": "markdown",
   "metadata": {},
   "source": [
    "---\n",
    "---\n",
    "---"
   ]
  },
  {
   "cell_type": "markdown",
   "metadata": {},
   "source": [
    "## サンプルプログラム3 if-elif-else文\n",
    "- 3つ以上の条件に応じて処理を実行したい場合はif-elif-else文を使います。\n",
    "- 以下は３つに分岐する例です"
   ]
  },
  {
   "cell_type": "code",
   "execution_count": 10,
   "metadata": {},
   "outputs": [
    {
     "name": "stdout",
     "output_type": "stream",
     "text": [
      "条件が2の時に実行する処理\n"
     ]
    }
   ],
   "source": [
    "条件 = 2\n",
    "if 条件 == 1:\n",
    "    print(\"条件が1の時に実行する処理\")\n",
    "elif 条件 == 2:\n",
    "    print(\"条件が2の時に実行する処理\")\n",
    "else:\n",
    "    print(\"条件がその他の時に実行する処理\")"
   ]
  },
  {
   "cell_type": "markdown",
   "metadata": {},
   "source": [
    "### input()の結果によって処理を変える (if-elif-else文)\n",
    "- input()で点数を受け取り、60点未満の時は”不可”、70点未満の時は”可”、70点以上の時は”良”と表示しましょう"
   ]
  },
  {
   "cell_type": "code",
   "execution_count": 11,
   "metadata": {},
   "outputs": [
    {
     "name": "stdin",
     "output_type": "stream",
     "text": [
      " 69\n"
     ]
    },
    {
     "name": "stdout",
     "output_type": "stream",
     "text": [
      "可\n"
     ]
    }
   ],
   "source": [
    "exam_score5 = int(input()) # 入力した値をintに変換して取得\n",
    "if exam_score5 < 60: # 60点未満かどうかを比較。条件に適合する場合は、\n",
    "    print(\"不可\") # ”不可”と表示する\n",
    "elif exam_score5 < 70: # 70点未満の場合は\n",
    "    print(\"可\") # ”可”と表示する\n",
    "else: # 条件に適合しない場合は\n",
    "    print(\"良\") # ”良”と表示する"
   ]
  },
  {
   "cell_type": "markdown",
   "metadata": {},
   "source": [
    "---"
   ]
  },
  {
   "cell_type": "markdown",
   "metadata": {},
   "source": [
    "### 練習プログラム3 (1点)\n",
    "- input()で点数を受け取り、90点以上の時は”秀”、80点以上の場合は\"優\"、80点未満の場合は\"不可\"と表示するプログラムを作成してみましょう"
   ]
  },
  {
   "cell_type": "code",
   "execution_count": null,
   "metadata": {},
   "outputs": [],
   "source": [
    "\n",
    "\n"
   ]
  },
  {
   "cell_type": "markdown",
   "metadata": {},
   "source": [
    "---\n",
    "---\n",
    "---"
   ]
  },
  {
   "cell_type": "markdown",
   "metadata": {},
   "source": [
    "## サンプルプログラム4　4つ以上の分岐\n",
    "- input()で点数を受け取り、60点未満の時は”不可”、70点未満の時は”可”、70点以上の時は”良”、80点以上の時は”優”と表示しましょう"
   ]
  },
  {
   "cell_type": "code",
   "execution_count": 12,
   "metadata": {},
   "outputs": [
    {
     "name": "stdin",
     "output_type": "stream",
     "text": [
      " 79\n"
     ]
    },
    {
     "name": "stdout",
     "output_type": "stream",
     "text": [
      "良\n"
     ]
    }
   ],
   "source": [
    "exam_score7 = int(input()) # 入力した値をintに変換して取得\n",
    "if exam_score7 < 60: # 60点未満かどうかを比較。条件に適合する場合は、\n",
    "    print(\"不可\") # ”不可”と表示する\n",
    "elif exam_score7 < 70: # 70点未満の場合は\n",
    "    print(\"可\") # ”可”と表示する\n",
    "elif exam_score7 < 80: # 80点未満の場合は\n",
    "    print(\"良\") # ”良”と表示する\n",
    "else: # 条件に適合しない場合は\n",
    "    print(\"優\") # ”優”と表示する"
   ]
  },
  {
   "cell_type": "markdown",
   "metadata": {},
   "source": [
    "### 練習プログラム4 (1.5点)\n",
    "- input()で点数を受け取り、90点以上の時は”秀”、80点以上の場合は\"優\"、70点以上の場合は\"良\"、60点以上の場合は\"可\"、60点未満の場合は\"不可\"と表示するプログラムを作成してみましょう"
   ]
  },
  {
   "cell_type": "code",
   "execution_count": null,
   "metadata": {},
   "outputs": [],
   "source": [
    "\n",
    "\n",
    "\n",
    "\n"
   ]
  }
 ],
 "metadata": {
  "colab": {
   "authorship_tag": "ABX9TyMOtB7OiTVLb+yu2KoVwjto",
   "include_colab_link": true,
   "provenance": []
  },
  "kernelspec": {
   "display_name": "Python 3 (ipykernel)",
   "language": "python",
   "name": "python3"
  },
  "language_info": {
   "codemirror_mode": {
    "name": "ipython",
    "version": 3
   },
   "file_extension": ".py",
   "mimetype": "text/x-python",
   "name": "python",
   "nbconvert_exporter": "python",
   "pygments_lexer": "ipython3",
   "version": "3.11.9"
  }
 },
 "nbformat": 4,
 "nbformat_minor": 4
}
