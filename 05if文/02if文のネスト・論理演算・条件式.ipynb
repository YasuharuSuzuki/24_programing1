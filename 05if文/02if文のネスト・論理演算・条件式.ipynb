{
 "cells": [
  {
   "cell_type": "markdown",
   "metadata": {
    "colab_type": "text",
    "id": "view-in-github"
   },
   "source": [
    "<a href=\"https://colab.research.google.com/github/YasuharuSuzuki/23_programing1/blob/main/\" target=\"_parent\"><img src=\"https://colab.research.google.com/assets/colab-badge.svg\" alt=\"Open In Colab\"/></a>"
   ]
  },
  {
   "cell_type": "markdown",
   "metadata": {},
   "source": [
    "# Section 5-2　if文のネスト"
   ]
  },
  {
   "cell_type": "markdown",
   "metadata": {},
   "source": [
    "## 参考サイト\n",
    "### [参考サイト1 【Python入門】 条件分岐(if文のネストに関する記述あり)](https://utokyo-ipp.github.io/2/2-3.html#if-...-else-%E3%81%AB%E3%82%88%E3%82%8B%E6%9D%A1%E4%BB%B6%E5%88%86%E5%B2%90)\n",
    "- if文のネストも紹介有り"
   ]
  },
  {
   "cell_type": "markdown",
   "metadata": {},
   "source": [
    "## サンプルプログラム5 if文のネスト\n",
    "- if文の中でif文を使うことで、より複雑な条件分岐ができます。"
   ]
  },
  {
   "cell_type": "markdown",
   "metadata": {},
   "source": [
    "### 映画館チケット購入判断プログラム\n",
    "ユーザーの年齢と所持金に基づいて、映画館のチケットを購入できるかどうかを判断するプログラムを作成しましょう\n",
    "1. ユーザーから年齢と所持金を入力として受け取ります。\n",
    "2. 最初のif文で年齢が12歳以下かどうかを判断します。\n",
    "3. ネストされたif文で、所持金が十分かどうかを確認します。\n",
    "4. 13歳以上の場合、さらにネストされたif文で60歳以上かどうかを判断し、シニア割引を適用します。"
   ]
  },
  {
   "cell_type": "code",
   "execution_count": 9,
   "metadata": {},
   "outputs": [
    {
     "name": "stdin",
     "output_type": "stream",
     "text": [
      "あなたの年齢を入力してください:  15\n",
      "所持金を入力してください（円）:  5222\n"
     ]
    },
    {
     "name": "stdout",
     "output_type": "stream",
     "text": [
      "チケットを購入できます！大人料金の1800円です。\n",
      "プログラムを終了します。\n"
     ]
    }
   ],
   "source": [
    "# 映画館チケット購入判断プログラム\n",
    "\n",
    "# ユーザーからの入力\n",
    "age = int(input(\"あなたの年齢を入力してください: \"))\n",
    "money = int(input(\"所持金を入力してください（円）: \"))\n",
    "\n",
    "# チケットの価格設定\n",
    "child_price = 1000  # 子供料金（12歳以下）\n",
    "adult_price = 1800  # 大人料金（13歳以上）\n",
    "senior_price = 1500  # シニア料金（60歳以上）\n",
    "\n",
    "# 年齢と所持金に基づいてチケット購入可否を判断\n",
    "if age < 13:\n",
    "    if money >= child_price:\n",
    "        print(f\"チケットを購入できます！子供料金の{child_price}円です。\")\n",
    "    else:\n",
    "        print(f\"申し訳ありません。所持金が足りません。{child_price}円必要です。\")\n",
    "elif age < 60:\n",
    "    if money >= adult_price:\n",
    "        print(f\"チケットを購入できます！大人料金の{adult_price}円です。\")\n",
    "    else:\n",
    "        print(f\"申し訳ありません。所持金が足りません。{adult_price}円必要です。\")\n",
    "else:\n",
    "    if money >= senior_price:\n",
    "        print(f\"チケットを購入できます！シニア料金の{senior_price}円です。\")\n",
    "    else:\n",
    "        print(f\"申し訳ありません。所持金が足りません。{senior_price}円必要です。\")\n",
    "\n",
    "print(\"プログラムを終了します。\")"
   ]
  },
  {
   "cell_type": "markdown",
   "metadata": {},
   "source": [
    "---"
   ]
  },
  {
   "cell_type": "markdown",
   "metadata": {},
   "source": [
    "### 練習プログラム5 (1.5点)\n",
    "出席日数と課題提出、期末試験の点数に基づいて、単位を取得できるかどうかを判断するプログラムを作成しましょう\n",
    "- 出席日数、期末試験の点数、課題提出の点数をそれぞれinput()で受け取ります\n",
    "- 出席日数が10日未満の場合は ```出席日数不足によって不可となります。10日以上の出席が必要です``` と表示します\n",
    "- 出席日数が10日以上の場合はif文のネストを用いて ```期末試験の点数*0.5 + 課題提出の点数*0.5``` を計算し、成績の点数とします\n",
    "- 成績点数が60点以上の場合は ```単位取得できます！```、60点未満の場合は ```得点不足によって不可となります。成績点数が60点以上必要です``` と表示します"
   ]
  },
  {
   "cell_type": "code",
   "execution_count": 10,
   "metadata": {},
   "outputs": [
    {
     "name": "stdin",
     "output_type": "stream",
     "text": [
      " 15\n",
      " 59\n",
      " 60\n"
     ]
    },
    {
     "name": "stdout",
     "output_type": "stream",
     "text": [
      "得点不足によって不可となります。成績点数が60点以上必要です\n"
     ]
    }
   ],
   "source": [
    "# 単位取得判定プログラム(if文のネスト)\n",
    "\n"
   ]
  },
  {
   "cell_type": "markdown",
   "metadata": {},
   "source": [
    "#### 考察\n",
    "- if文だけならだいぶ実用的なプログラムになってきましたね"
   ]
  },
  {
   "cell_type": "markdown",
   "metadata": {},
   "source": [
    "---\n",
    "---\n",
    "---"
   ]
  },
  {
   "cell_type": "markdown",
   "metadata": {},
   "source": [
    "## サンプルプログラム6　論理演算andを使ったif文\n",
    "- ネストを使わずに論理演算andを使って分岐させることも可能です\n",
    "- コードが短くなるためどちらかというとこちらの方がベターですが、一概にandを使ったほうが良いとは言いにくいです。条件が複雑になりすぎる時はわかりやすくif文を書き換えた方が良い場合もあります"
   ]
  },
  {
   "cell_type": "markdown",
   "metadata": {},
   "source": [
    "### 単位取得判定プログラム(and バージョン)\n",
    "出席日数と課題提出、期末試験の点数に基づいて、単位を取得できるかどうかを判断するプログラムを作成しましょう\n",
    "- 出席日数、期末試験の点数、課題提出の点数をそれぞれinput()で受け取ります\n",
    "- ```期末試験の点数*0.5+課題提出の点数*0.5``` を計算し、成績の点数とします\n",
    "- and 演算子を用いて出席日数が10日以上かつ成績点数60点以上の場合は```単位取得できます！```と表示します\n",
    "- 条件に満たない場合は```不可となります。10日以上の出席と60点以上の成績点数が必要です```と表示します"
   ]
  },
  {
   "cell_type": "code",
   "execution_count": 13,
   "metadata": {},
   "outputs": [
    {
     "name": "stdin",
     "output_type": "stream",
     "text": [
      " 10\n",
      " 40\n",
      " 79\n"
     ]
    },
    {
     "name": "stdout",
     "output_type": "stream",
     "text": [
      "不可となります。10日以上の出席と60点以上の成績点数が必要です\n"
     ]
    }
   ],
   "source": [
    "出席日数 = int(input())\n",
    "期末試験 = int(input())\n",
    "課題提出 = int(input())\n",
    "成績点数 = min(int(期末試験*0.5 + 課題提出*0.5),100)\n",
    "if 出席日数 >= 10 and 成績点数 >= 60: # andを使って書いた場合。両方の条件がTrueのとき単位取得\n",
    "    print(\"単位取得できます！\")\n",
    "else:\n",
    "    print(\"不可となります。10日以上の出席と60点以上の成績点数が必要です\")"
   ]
  },
  {
   "cell_type": "markdown",
   "metadata": {},
   "source": [
    "---"
   ]
  },
  {
   "cell_type": "markdown",
   "metadata": {},
   "source": [
    "### 練習プログラム6 (1.5点)\n",
    "ユーザーの年齢と身長に基づいて、遊園地のアトラクションに乗れるかどうかを判断するプログラムを作成しましょう\n",
    "1. ユーザーから年齢と身長(cm)を入力として受け取ります。\n",
    "2. アトラクションの乗車条件（最低年齢と最低身長）は12歳以上かつ150cm以上です。\n",
    "3. if文とand演算子を使用して、年齢と身長の両方の条件を同時に確認します。アトラクションに乗車可能な場合は、以下の２つを出力してください\n",
    "   - 祝福のメッセージ（「おめでとうございます！」等で良いです）\n",
    "   - 入力された年齢と身長（「あなたの年齢は xxx 歳、身長は xxx cmです」）\n",
    "4. else句ではアトラクションに乗車不可能であることを伝えるために、以下の３つを出力してください\n",
    "   - 乗車できないことを告げるメッセージ\n",
    "   - 入力された年齢と身長\n",
    "   - 乗車に必要な最低年齢と最低身長"
   ]
  },
  {
   "cell_type": "code",
   "execution_count": 17,
   "metadata": {},
   "outputs": [
    {
     "name": "stdin",
     "output_type": "stream",
     "text": [
      "あなたの年齢を入力してください:  18\n",
      "あなたの身長をcmで入力してください:  149\n"
     ]
    },
    {
     "name": "stdout",
     "output_type": "stream",
     "text": [
      "申し訳ありません。アトラクションの乗車条件を満たしていません。\n",
      "あなたは18歳で、身長は149.0cmです。\n",
      "アトラクションに乗車するには12歳以上かつ150.0cm以上の身長が必要です。\n",
      "プログラムを終了します。ご利用ありがとうございました。\n"
     ]
    }
   ],
   "source": [
    "# 遊園地アトラクション乗車判定プログラム\n",
    "\n",
    "\n"
   ]
  },
  {
   "cell_type": "markdown",
   "metadata": {},
   "source": [
    "---\n",
    "---\n",
    "---"
   ]
  },
  {
   "cell_type": "markdown",
   "metadata": {},
   "source": [
    "## サンプルプログラム7　論理演算orを使ったif文\n",
    "- 論理演算orを使って分岐させることも可能です"
   ]
  },
  {
   "cell_type": "markdown",
   "metadata": {},
   "source": [
    "#### 遊園地アトラクション乗車判定プログラム (orバージョン)\n",
    "ユーザーの年齢と身長に基づいて、遊園地のアトラクションに乗れるかどうかを判断するプログラムを作成しましょう\n",
    "1. ユーザーから年齢と身長(cm)を入力として受け取ります。\n",
    "2. アトラクションに乗車できない条件（最低年齢と最低身長）は13歳未満または150cm未満です。\n",
    "3. if文とor演算子を使用して、年齢と身長の両方の条件を同時に確認します。アトラクションに乗車不可能な場合は以下の３つを出力してください\n",
    "   - 乗車できないことを告げるメッセージ\n",
    "   - 入力された年齢と身長\n",
    "   - 乗車に必要な最低年齢と最低身長\n",
    "4. else句ではアトラクションに乗車可能であることを伝えるために、以下の2つを出力してください\n",
    "   - 祝福のメッセージ（「おめでとうございます！」等で良いです）\n",
    "   - 入力された年齢と身長（「あなたの年齢は xxx 歳、身長は xxx cmです」）"
   ]
  },
  {
   "cell_type": "code",
   "execution_count": 18,
   "metadata": {},
   "outputs": [
    {
     "name": "stdin",
     "output_type": "stream",
     "text": [
      "あなたの年齢を入力してください:  12\n",
      "あなたの身長をcmで入力してください:  151\n"
     ]
    },
    {
     "name": "stdout",
     "output_type": "stream",
     "text": [
      "申し訳ありません。アトラクションの乗車条件を満たしていません。\n",
      "あなたは12歳で、身長は151.0cmです。\n",
      "アトラクションに乗車するには13歳以上かつ150.0cm以上の身長が必要です。\n",
      "プログラムを終了します。ご利用ありがとうございました。\n"
     ]
    }
   ],
   "source": [
    "# 遊園地アトラクション乗車判定プログラム\n",
    "\n",
    "# ユーザーからの入力\n",
    "age = int(input(\"あなたの年齢を入力してください: \"))\n",
    "height = float(input(\"あなたの身長をcmで入力してください: \"))\n",
    "\n",
    "# アトラクションの乗車条件\n",
    "min_age = 13\n",
    "min_height = 150.0\n",
    "\n",
    "# 年齢と身長の条件を確認\n",
    "if age < min_age or height < min_height:\n",
    "    print(f\"申し訳ありません。アトラクションの乗車条件を満たしていません。\")\n",
    "    print(f\"あなたは{age}歳で、身長は{height}cmです。\")\n",
    "    print(f\"アトラクションに乗車するには{min_age}歳以上かつ{min_height}cm以上の身長が必要です。\")\n",
    "else:\n",
    "    print(f\"おめでとうございます！アトラクションに乗ることができます。\")\n",
    "    print(f\"あなたは{age}歳で、身長は{height}cmです。\")\n",
    "print(\"プログラムを終了します。ご利用ありがとうございました。\")"
   ]
  },
  {
   "cell_type": "markdown",
   "metadata": {},
   "source": [
    "---"
   ]
  },
  {
   "cell_type": "markdown",
   "metadata": {},
   "source": [
    "### 練習プログラム7 (1.5点)\n",
    "出席日数と課題提出、期末試験の点数に基づいて、単位を取得できるかどうかを判断するプログラムを作成しましょう(orバージョン)\n",
    "- 出席日数、期末試験の点数、課題提出の点数をそれぞれinput()で受け取ります\n",
    "- ```期末試験の点数*0.5+課題提出の点数*0.5``` を計算し、成績の点数とします\n",
    "- or 演算子を用いて出席日数が10日未満かつ成績点数60点未満の場合は```不可となります。出席日数が10日未満または成績点数が60点未満の場合は不可となります```と表示します\n",
    "- else句では、単位取得可能なことを伝えるメッセージとして ```単位取得できます！``` と表示します"
   ]
  },
  {
   "cell_type": "code",
   "execution_count": 22,
   "metadata": {},
   "outputs": [
    {
     "name": "stdin",
     "output_type": "stream",
     "text": [
      " 10\n",
      " 40\n",
      " 79\n"
     ]
    },
    {
     "name": "stdout",
     "output_type": "stream",
     "text": [
      "不可となります。出席日数が10日未満または成績点数が60点未満の場合は不可となります\n"
     ]
    }
   ],
   "source": [
    "# 単位取得判定プログラム(orバージョン)\n",
    "\n"
   ]
  }
 ],
 "metadata": {
  "colab": {
   "authorship_tag": "ABX9TyMOtB7OiTVLb+yu2KoVwjto",
   "include_colab_link": true,
   "provenance": []
  },
  "kernelspec": {
   "display_name": "Python 3 (ipykernel)",
   "language": "python",
   "name": "python3"
  },
  "language_info": {
   "codemirror_mode": {
    "name": "ipython",
    "version": 3
   },
   "file_extension": ".py",
   "mimetype": "text/x-python",
   "name": "python",
   "nbconvert_exporter": "python",
   "pygments_lexer": "ipython3",
   "version": "3.11.9"
  }
 },
 "nbformat": 4,
 "nbformat_minor": 4
}
