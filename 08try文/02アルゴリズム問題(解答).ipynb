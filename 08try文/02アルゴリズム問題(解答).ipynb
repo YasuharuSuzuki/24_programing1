{
 "cells": [
  {
   "cell_type": "markdown",
   "metadata": {
    "colab_type": "text",
    "id": "view-in-github"
   },
   "source": [
    "<a href=\"https://colab.research.google.com/github/YasuharuSuzuki/24_programing1/blob/main/\" target=\"_parent\"><img src=\"https://colab.research.google.com/assets/colab-badge.svg\" alt=\"Open In Colab\"/></a>"
   ]
  },
  {
   "cell_type": "markdown",
   "metadata": {},
   "source": [
    "# アルゴリズム問題\n",
    "- 2問あります"
   ]
  },
  {
   "cell_type": "markdown",
   "metadata": {},
   "source": [
    "## 練習プログラム3　バス運賃の計算　(2点)\n",
    "あなたは、地域のバス会社の運賃計算プログラムを作成しています。\n",
    "バスの運賃は乗車距離に応じて以下のように決められています：\n",
    "\n",
    "- 2km以下: 100円\n",
    "- 2kmを超え4km以下: 150円\n",
    "- 4kmを超え8km以下: 200円\n",
    "- 8kmを超える: 300円\n",
    "\n",
    "乗車距離（km）が整数で与えられたとき、運賃を計算するプログラムを作成してください。"
   ]
  },
  {
   "cell_type": "markdown",
   "metadata": {},
   "source": [
    "### 制約\n",
    "- 1 ≤ N ≤ 20\n",
    "- Nは整数"
   ]
  },
  {
   "cell_type": "markdown",
   "metadata": {},
   "source": [
    "### 入力\n",
    "入力は以下の形式で標準入力から与えられます\n",
    "\n",
    "---\n",
    "$ N $\n",
    "\n",
    "---\n",
    "\n",
    "- Nは乗車距離を表す整数（km）\n",
    "\n",
    "※input()１つで取得可能"
   ]
  },
  {
   "cell_type": "markdown",
   "metadata": {},
   "source": [
    "### 出力\n",
    "運賃を整数で出力してください。"
   ]
  },
  {
   "cell_type": "markdown",
   "metadata": {},
   "source": [
    "---\n",
    "---\n",
    "\n",
    "### 入力例1\n",
    "---\n",
    "```python\n",
    "2\n",
    "```\n",
    "---\n",
    "\n",
    "### 出力例1\n",
    "---\n",
    "```python\n",
    "100\n",
    "```\n",
    "---\n",
    "※ 2kmの場合の運賃は100円です"
   ]
  },
  {
   "cell_type": "markdown",
   "metadata": {},
   "source": [
    "---\n",
    "---"
   ]
  },
  {
   "cell_type": "markdown",
   "metadata": {},
   "source": [
    "### 入力例2\n",
    "---\n",
    "```python\n",
    "5\n",
    "```\n",
    "---\n",
    "\n",
    "### 出力例2\n",
    "---\n",
    "```python\n",
    "200\n",
    "```\n",
    "---\n",
    "※ 5km時の運賃は200円です"
   ]
  },
  {
   "cell_type": "markdown",
   "metadata": {},
   "source": [
    "### 入力例2\n",
    "---\n",
    "```python\n",
    "10\n",
    "```\n",
    "---\n",
    "\n",
    "### 出力例2\n",
    "---\n",
    "```python\n",
    "300\n",
    "```\n",
    "---\n",
    "※ 10km時の運賃は300円です"
   ]
  },
  {
   "cell_type": "markdown",
   "metadata": {},
   "source": [
    "---"
   ]
  },
  {
   "cell_type": "markdown",
   "metadata": {},
   "source": [
    "### ここ↓にPythonコードを記述してください"
   ]
  },
  {
   "cell_type": "code",
   "execution_count": 2,
   "metadata": {},
   "outputs": [
    {
     "name": "stdin",
     "output_type": "stream",
     "text": [
      " 7\n"
     ]
    },
    {
     "name": "stdout",
     "output_type": "stream",
     "text": [
      "200\n"
     ]
    }
   ],
   "source": [
    "# バス運賃計算プログラム\n",
    "\n",
    "# 乗車距離を入力\n",
    "distance = int(input())\n",
    "\n",
    "# 距離に応じて運賃を計算\n",
    "if distance <= 2:\n",
    "    fare = 100\n",
    "elif distance <= 4:\n",
    "    fare = 150\n",
    "elif distance <= 8:\n",
    "    fare = 200\n",
    "else:\n",
    "    fare = 300\n",
    "\n",
    "# 結果を出力\n",
    "print(fare)"
   ]
  },
  {
   "cell_type": "markdown",
   "metadata": {},
   "source": [
    "---\n",
    "---\n",
    "---"
   ]
  },
  {
   "cell_type": "markdown",
   "metadata": {},
   "source": [
    "## 練習プログラム4　数当てゲームの結果判定(2点)"
   ]
  },
  {
   "cell_type": "markdown",
   "metadata": {},
   "source": [
    "### 問題文\n",
    "数当てゲームで、プレイヤーは1から100までの整数の中から「正解の数」を当てようとしています。  \n",
    "プレイヤーが答えた数が「正解の数」よりも小さい場合は\"Small\"、大きい場合は\"Big\"というヒントが表示されます。  \n",
    "\n",
    "「正解の数」と、プレイヤーが答えた数の履歴が与えられます。  \n",
    "プレイヤーの各回答に対して、\"Small\"、\"Big\"、\"Correct\"のいずれかを出力するプログラムを作成してください。  "
   ]
  },
  {
   "cell_type": "markdown",
   "metadata": {},
   "source": [
    "### 制約\n",
    "- 1 ≤ N ≤ 10（回答回数）\n",
    "- 1 ≤ Answer ≤ 100（正解の数）\n",
    "- 1 ≤ 各回答 ≤ 100（プレイヤーの回答）"
   ]
  },
  {
   "cell_type": "markdown",
   "metadata": {},
   "source": [
    "### 入力\n",
    "入力は以下の形式で標準入力から与えられます。\n",
    "\n",
    "---\n",
    "```\n",
    "Answer N\n",
    "A1 A2 ... AN\n",
    "```\n",
    "---\n",
    "- Answerは正解の数\n",
    "- Nは回答回数\n",
    "- A1, A2, ..., ANはプレイヤーの各回答"
   ]
  },
  {
   "cell_type": "markdown",
   "metadata": {},
   "source": [
    "### 出力\n",
    "N行に渡って、各回答に対する判定を出力してください。  \n",
    "各行には\"Small\"、\"Big\"、\"Correct\"のいずれかを出力します。  "
   ]
  },
  {
   "cell_type": "markdown",
   "metadata": {},
   "source": [
    "### 入力例1\n",
    "---\n",
    "```\n",
    "50 4\n",
    "25 75 38 50\n",
    "```\n",
    "---\n",
    "\n",
    "### 出力例1\n",
    "---\n",
    "```\n",
    "Small\n",
    "Big\n",
    "Small\n",
    "Correct\n",
    "```\n",
    "---"
   ]
  },
  {
   "cell_type": "markdown",
   "metadata": {},
   "source": [
    "### 入力例2\n",
    "---\n",
    "```\n",
    "30 3\n",
    "10 20 40\n",
    "```\n",
    "---\n",
    "\n",
    "### 出力例2\n",
    "---\n",
    "```\n",
    "Small\n",
    "Small\n",
    "Big\n",
    "```\n",
    "---"
   ]
  },
  {
   "cell_type": "markdown",
   "metadata": {},
   "source": [
    "### 入力例3\n",
    "---\n",
    "```\n",
    "70 5\n",
    "70 70 70 70 70\n",
    "```\n",
    "---\n",
    "\n",
    "### 出力例3\n",
    "---\n",
    "```\n",
    "Correct\n",
    "Correct\n",
    "Correct\n",
    "Correct\n",
    "Correct\n",
    "```\n",
    "---"
   ]
  },
  {
   "cell_type": "code",
   "execution_count": 3,
   "metadata": {},
   "outputs": [
    {
     "name": "stdin",
     "output_type": "stream",
     "text": [
      " 50 4\n",
      " 25 75 38 50\n"
     ]
    },
    {
     "name": "stdout",
     "output_type": "stream",
     "text": [
      "Small\n",
      "Big\n",
      "Small\n",
      "Correct\n"
     ]
    }
   ],
   "source": [
    "# 数当てゲーム判定プログラム\n",
    "\n",
    "# 1行目の入力（正解の数と回答回数）\n",
    "answer, N = map(int, input().split())\n",
    "\n",
    "# 2行目の入力（プレイヤーの回答履歴）\n",
    "guesses = list(map(int, input().split()))\n",
    "\n",
    "# 各回答を判定\n",
    "for guess in guesses:\n",
    "    if guess < answer:\n",
    "        print(\"Small\")\n",
    "    elif guess > answer:\n",
    "        print(\"Big\")\n",
    "    else:\n",
    "        print(\"Correct\")"
   ]
  },
  {
   "cell_type": "code",
   "execution_count": null,
   "metadata": {},
   "outputs": [],
   "source": []
  }
 ],
 "metadata": {
  "colab": {
   "authorship_tag": "ABX9TyMOtB7OiTVLb+yu2KoVwjto",
   "include_colab_link": true,
   "provenance": []
  },
  "kernelspec": {
   "display_name": "Python 3 (ipykernel)",
   "language": "python",
   "name": "python3"
  },
  "language_info": {
   "codemirror_mode": {
    "name": "ipython",
    "version": 3
   },
   "file_extension": ".py",
   "mimetype": "text/x-python",
   "name": "python",
   "nbconvert_exporter": "python",
   "pygments_lexer": "ipython3",
   "version": "3.11.9"
  }
 },
 "nbformat": 4,
 "nbformat_minor": 4
}
