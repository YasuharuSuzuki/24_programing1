{
 "cells": [
  {
   "cell_type": "markdown",
   "metadata": {
    "colab_type": "text",
    "id": "view-in-github"
   },
   "source": [
    "<a href=\"https://colab.research.google.com/github/YasuharuSuzuki/24_programing1/blob/main/\" target=\"_parent\"><img src=\"https://colab.research.google.com/assets/colab-badge.svg\" alt=\"Open In Colab\"/></a>"
   ]
  },
  {
   "cell_type": "markdown",
   "metadata": {},
   "source": [
    "# Section 8 try文 / 例外処理\n",
    "エラーが発生したときの処理を記述する"
   ]
  },
  {
   "cell_type": "markdown",
   "metadata": {},
   "source": [
    "## try文 参考サイト\n",
    "### [参考サイト1 【Python早見表】 例外の補足](https://chokkan.github.io/python/14exception.html)\n",
    "\n",
    "### [参考サイト2  Pythonの例外処理（try, except, else, finally）](https://note.nkmk.me/python-try-except-else-finally/)"
   ]
  },
  {
   "cell_type": "markdown",
   "metadata": {},
   "source": [
    "## エラーの発生\n",
    "- 実行中に様々なエラーが発生します\n",
    "- 発生するエラーと、その補足方法について学びましょう"
   ]
  },
  {
   "cell_type": "markdown",
   "metadata": {},
   "source": [
    "---\n",
    "## サンプルプログラム1　ゼロ除算エラー"
   ]
  },
  {
   "cell_type": "markdown",
   "metadata": {},
   "source": [
    "### ゼロ除算エラー（例外）の発生\n",
    "- 入力値で9999を除算するプログラムです\n",
    "- ゼロを入力するとゼロ除算エラー（ZeroDivisionError）が発生します\n",
    "  - [ゼロ除算とは(wikiより抜粋)](https://ja.wikipedia.org/wiki/%E3%82%BC%E3%83%AD%E9%99%A4%E7%AE%97)\n",
    "    - ゼロ除算（ゼロじょさん、英語: division by zero）とは、0で除す割り算のことである。このような除算は除される数をaとするならば、形式上は a/0と書くことができるが、数学において、このような式を矛盾なく定義することはできない。\n",
    "コンピュータの数値計算においてゼロ除算が発生した場合、無限大というシンボルで置き換えられるか、発生した時点で処理が破綻する（システムエラーとなる）かのどちらかである。\n",
    "  - Pythonの場合はZeroDivisionErrorという例外が発生します。\n",
    "- 1などの数値を入力すると"
   ]
  },
  {
   "cell_type": "code",
   "execution_count": 1,
   "metadata": {},
   "outputs": [
    {
     "name": "stdout",
     "output_type": "stream",
     "text": [
      "0\n"
     ]
    },
    {
     "ename": "ZeroDivisionError",
     "evalue": "division by zero",
     "output_type": "error",
     "traceback": [
      "\u001b[0;31m---------------------------------------------------------------------------\u001b[0m",
      "\u001b[0;31mZeroDivisionError\u001b[0m                         Traceback (most recent call last)",
      "Cell \u001b[0;32mIn [1], line 2\u001b[0m\n\u001b[1;32m      1\u001b[0m divider \u001b[38;5;241m=\u001b[39m \u001b[38;5;28mint\u001b[39m(\u001b[38;5;28minput\u001b[39m())\n\u001b[0;32m----> 2\u001b[0m divided \u001b[38;5;241m=\u001b[39m \u001b[38;5;241m9999\u001b[39m \u001b[38;5;241m/\u001b[39m divider\n\u001b[1;32m      3\u001b[0m \u001b[38;5;28mprint\u001b[39m(\u001b[38;5;124mf\u001b[39m\u001b[38;5;124m\"\u001b[39m\u001b[38;5;124mdivided=\u001b[39m\u001b[38;5;132;01m{\u001b[39;00mdivided\u001b[38;5;132;01m}\u001b[39;00m\u001b[38;5;124m\"\u001b[39m)\n",
      "\u001b[0;31mZeroDivisionError\u001b[0m: division by zero"
     ]
    }
   ],
   "source": [
    "divider = int(input())\n",
    "divided = 9999 / divider\n",
    "print(f\"divided={divided}\")"
   ]
  },
  {
   "cell_type": "markdown",
   "metadata": {},
   "source": [
    "### try 〜 except 節\n",
    "- try 〜 except 節を使用すると発生した例外を補足できます"
   ]
  },
  {
   "cell_type": "code",
   "execution_count": 2,
   "metadata": {},
   "outputs": [
    {
     "name": "stdout",
     "output_type": "stream",
     "text": [
      "0\n",
      "ゼロ除算発生！！！\n"
     ]
    }
   ],
   "source": [
    "try:\n",
    "    divider = int(input())\n",
    "    divided = 9999 / divider\n",
    "    print(f\"divided={divided}\")\n",
    "except ZeroDivisionError as e:\n",
    "    print('ゼロ除算発生！！！')"
   ]
  },
  {
   "cell_type": "markdown",
   "metadata": {},
   "source": [
    "### 動作を確認しよう！\n",
    "- 0を入力して ZeroDivisionError が発生することを確認しましょう\n",
    "  - 「ゼロ除算発生」と出力されることも確認しましょう\n",
    "- 1を入力して、divided=9999.0 と出力されることを確認しましょう\n",
    "  - 正常終了しているためexcept節は実行されません。\n",
    "- ”突然の死！”を入力して、ValueError例外が発生することを確認しましょう\n",
    "  - 異常終了していますが、ZeroDivisionErrorではないためexcept節は実行されません。"
   ]
  },
  {
   "cell_type": "markdown",
   "metadata": {},
   "source": [
    "---\n",
    "## サンプルプログラム2　複数のexcept節\n",
    "- except節を複数記述することで例外の種類を複数に振り分けることが出来ます。\n",
    "- 0を入力するとゼロ除算、文字列を入力するとValueErrorを補足するプログラムは以下のようになります。"
   ]
  },
  {
   "cell_type": "code",
   "execution_count": 3,
   "metadata": {},
   "outputs": [
    {
     "name": "stdout",
     "output_type": "stream",
     "text": [
      "突然の死！\n",
      "ValueError発生！！！\n"
     ]
    }
   ],
   "source": [
    "try:\n",
    "    divider2 = int(input())\n",
    "    divided2 = 9999 / divider2\n",
    "    print(f\"divided2={divided2}\")\n",
    "except ZeroDivisionError as e:\n",
    "    print('ゼロ除算発生！！！')\n",
    "except ValueError as e:\n",
    "    print('ValueError発生！！！')"
   ]
  },
  {
   "cell_type": "markdown",
   "metadata": {},
   "source": [
    "### 動作を確認しよう！\n",
    "- 0を入力して ZeroDivisionError が発生することを確認しましょう\n",
    "  - \"ゼロ除算発生！！！\"と出力されることも確認しましょう\n",
    "- 1を入力して、divided2=9999.0 と出力されることを確認しましょう\n",
    "  - 正常終了しているためexcept節は実行されません。\n",
    "- ”突然の死！”を入力して、ValueError例外が発生することを確認しましょう\n",
    "  - \"ValueError発生！！！\"と出力されることも確認しましょう"
   ]
  },
  {
   "cell_type": "markdown",
   "metadata": {},
   "source": [
    "---\n",
    "## サンプルプログラム3　ワイルドカードのexcept節（bare except）\n",
    "- except節から例外名を省略するとすべての例外をキャッチできます。\n",
    "- この書き方は”ワイルドカードのexcept節”や”bare except”などと呼ばれます。\n",
    "- Pythonの[公式ドキュメント](https://docs.python.org/ja/3/tutorial/errors.html#handling-exceptions)には、bare exceptは全ての例外を補足してしまうため、使用には十分注意する必要がある、と記載があります。\n",
    "  - 通常のexcept節のように例外クラスのインスタンスを変数で取得できません\n",
    "  - SystemExitやKeyboardInterruptなど、補足しないことが適切な特殊な例外も補足してしまう問題があります\n",
    "- 各エラー例外処理を記述する際には、基本的には次に説明する基底クラスExceptionを使用したexcept節を使用するべきです。"
   ]
  },
  {
   "cell_type": "code",
   "execution_count": 4,
   "metadata": {},
   "outputs": [
    {
     "name": "stdout",
     "output_type": "stream",
     "text": [
      "0\n",
      "例外発生！！！(bare except)\n"
     ]
    }
   ],
   "source": [
    "try:\n",
    "    divider3 = int(input())\n",
    "    divided3 = 9999 / divider3\n",
    "    print(f\"divided3={divided3}\")\n",
    "except:\n",
    "    print('例外発生！！！(bare except)')"
   ]
  },
  {
   "cell_type": "markdown",
   "metadata": {},
   "source": [
    "### 動作を確認しよう！\n",
    "- 0を入力して ZeroDivisionError が発生することを確認しましょう\n",
    "  - \"例外発生！！！(bare except)\"と出力されることも確認しましょう\n",
    "- 1を入力して、divided3=9999.0 と出力されることを確認しましょう\n",
    "  - 正常終了しているためexcept節は実行されません。\n",
    "- ”突然の死！”を入力して、ValueError例外が発生することを確認しましょう\n",
    "  - \"例外発生！！！(bare except)\"と出力されることも確認しましょう"
   ]
  },
  {
   "cell_type": "markdown",
   "metadata": {},
   "source": [
    "---\n",
    "## サンプルプログラム4　基底クラス Exception を使用したexcept節\n",
    "- システム終了（SystemExit, KeyboardInterruptなど）以外のすべての組み込み例外の基底クラスであるExceptionをexcept節に指定することで、殆どの例外を補足できます。\n",
    "- [公式ドキュメント](https://docs.python.org/ja/3/library/exceptions.html#exception-hierarchy)に記載の通り、プログラム上で処理するべき例外はExceptionクラスを継承しています\n",
    "- 例外クラスの階層構造\n",
    "```\n",
    "BaseException\n",
    " ├── BaseExceptionGroup\n",
    " ├── GeneratorExit\n",
    " ├── KeyboardInterrupt\n",
    " ├── SystemExit\n",
    " └── Exception\n",
    "      ├── ArithmeticError\n",
    "      │    └── ZeroDivisionError\n",
    "      ├── ValueError\n",
    "```"
   ]
  },
  {
   "cell_type": "code",
   "execution_count": 5,
   "metadata": {},
   "outputs": [
    {
     "name": "stdout",
     "output_type": "stream",
     "text": [
      "0\n",
      "Exception 例外発生！！！  division by zero\n"
     ]
    }
   ],
   "source": [
    "try:\n",
    "    divider4 = int(input())\n",
    "    divided4 = 9999 / divider4\n",
    "    print(f\"divided4={divided4}\")\n",
    "except Exception as e:\n",
    "    print('Exception 例外発生！！！ ', e)"
   ]
  },
  {
   "cell_type": "markdown",
   "metadata": {},
   "source": [
    "### 動作を確認しよう！\n",
    "- 0を入力して ZeroDivisionError が発生することを確認しましょう\n",
    "  - \"Exception 例外発生！！！  division by zero\"と出力されることも確認しましょう\n",
    "- 1を入力して、divided4=9999.0 と出力されることを確認しましょう\n",
    "  - 正常終了しているためexcept節は実行されません。\n",
    "- ”突然の死！”を入力して、ValueError例外が発生することを確認しましょう\n",
    "  - \"Exception 例外発生！！！  invalid literal for int() with base 10: '突然の死！'\"と出力されることも確認しましょう"
   ]
  },
  {
   "cell_type": "markdown",
   "metadata": {},
   "source": [
    "---\n",
    "## サンプルプログラム5　else節、finally節、例外処理後のプログラムの実行\n",
    "- else節では、例外が発生しなかったときに実行される処理を記述することが出来ます。\n",
    "- finally節では、例外発生してもしなくても実行される処理を記述することが出来ます。\n",
    "- 例外が発生しなかった時はelse節とfinally節がともに実行されることを確認しましょう。\n",
    "- 例外が発生した時はelse節が実行されず、finally節が実行されることを確認しましょう。"
   ]
  },
  {
   "cell_type": "code",
   "execution_count": 6,
   "metadata": {},
   "outputs": [
    {
     "name": "stdout",
     "output_type": "stream",
     "text": [
      "1\n",
      "divided5=9999.0\n",
      "else節実行！！！\n",
      "finally節実行！！！\n",
      "例外処理後のプログラムの実行\n"
     ]
    }
   ],
   "source": [
    "try:\n",
    "    divider5 = int(input())\n",
    "    divided5 = 9999 / divider5\n",
    "    print(f\"divided5={divided5}\")\n",
    "except ZeroDivisionError as e:\n",
    "    print('ゼロ除算発生！！！')\n",
    "else:\n",
    "    print('else節実行！！！')\n",
    "finally:\n",
    "    print('finally節実行！！！')\n",
    "print('例外処理後のプログラムの実行')"
   ]
  },
  {
   "cell_type": "markdown",
   "metadata": {},
   "source": [
    "### 動作を確認しよう！\n",
    "- 0を入力して以下のように出力されることと、処理の流れを確認しましょう\n",
    "  - \"ゼロ除算発生！\" と出力\n",
    "  - \"finally節実行！！！\" と出力\n",
    "  - \"例外処理後のプログラムの実行\" と出力\n",
    "- 1を入力して、以下のように出力されることと、処理の流れを確認しましょう\n",
    "  - \"divided5=9999.0\" と出力\n",
    "  - \"else節実行！！！\" と出力\n",
    "  - \"finally節実行！！！\" と出力\n",
    "  - \"例外処理後のプログラムの実行\" と出力\n",
    "- ”突然の死！”を入力して、以下のように出力されることと、処理の流れを確認しましょう\n",
    "  - \"finally節実行！！！\" と出力\n",
    "  - ValueError例外に関する情報も出力\n",
    "\n",
    "### まとめ\n",
    "- else節は正常終了しているときのみ実行される\n",
    "- finally節はすべてのパターンで実行される\n",
    "- except節は補足する例外が発生するときのみ実行される\n",
    "- 正常終了した時または例外が補足された時は、その後に続くプログラムがそのまま実行される"
   ]
  },
  {
   "cell_type": "markdown",
   "metadata": {},
   "source": [
    "---\n",
    "## サンプルプログラム6　範囲外参照エラー\n",
    "### 範囲外参照エラーの発生\n",
    "- 入力値で文字列から文字を抽出するプログラムです\n",
    "- 5以上の値を入力するとIndexErrorが発生します"
   ]
  },
  {
   "cell_type": "code",
   "execution_count": 7,
   "metadata": {},
   "outputs": [
    {
     "name": "stdout",
     "output_type": "stream",
     "text": [
      "6\n"
     ]
    },
    {
     "ename": "IndexError",
     "evalue": "string index out of range",
     "output_type": "error",
     "traceback": [
      "\u001b[0;31m---------------------------------------------------------------------------\u001b[0m",
      "\u001b[0;31mIndexError\u001b[0m                                Traceback (most recent call last)",
      "Cell \u001b[0;32mIn [7], line 3\u001b[0m\n\u001b[1;32m      1\u001b[0m data \u001b[38;5;241m=\u001b[39m \u001b[38;5;124m\"\u001b[39m\u001b[38;5;124mabcde\u001b[39m\u001b[38;5;124m\"\u001b[39m\n\u001b[1;32m      2\u001b[0m index \u001b[38;5;241m=\u001b[39m \u001b[38;5;28mint\u001b[39m(\u001b[38;5;28minput\u001b[39m())\n\u001b[0;32m----> 3\u001b[0m char \u001b[38;5;241m=\u001b[39m data[index]\n\u001b[1;32m      4\u001b[0m \u001b[38;5;28mprint\u001b[39m(\u001b[38;5;124mf\u001b[39m\u001b[38;5;124m\"\u001b[39m\u001b[38;5;124mchar=\u001b[39m\u001b[38;5;132;01m{\u001b[39;00mchar\u001b[38;5;132;01m}\u001b[39;00m\u001b[38;5;124m\"\u001b[39m)\n",
      "\u001b[0;31mIndexError\u001b[0m: string index out of range"
     ]
    }
   ],
   "source": [
    "data = \"abcde\"\n",
    "index = int(input())\n",
    "char = data[index]\n",
    "print(f\"char={char}\")"
   ]
  },
  {
   "cell_type": "markdown",
   "metadata": {},
   "source": [
    "---\n",
    "---\n",
    "---"
   ]
  },
  {
   "cell_type": "markdown",
   "metadata": {},
   "source": [
    "## 練習プログラム1 (3点)\n",
    "サンプルプログラム6を参考に、以下の処理を実装してください\n",
    "- 入力値 i を整数値で受け取ります\n",
    "- 文字列\"abcde\"から、入力値 i 文字目の文字を取り出します\n",
    "- i > 4 の値が入力された場合、範囲外参照エラー(IndexError)が発生します\n",
    "  - try 〜 except節を使用して、範囲外参照エラー(IndexError)を補足しましょう\n",
    "  - 例外を補足したときには '範囲外参照エラー発生！！！' と表示しましょう\n",
    "- 0 =< i <= 4 の値が入力された時は、その文字を出力しましょう"
   ]
  },
  {
   "cell_type": "code",
   "execution_count": 2,
   "metadata": {},
   "outputs": [
    {
     "name": "stdin",
     "output_type": "stream",
     "text": [
      " 5\n"
     ]
    },
    {
     "name": "stdout",
     "output_type": "stream",
     "text": [
      "範囲外参照エラー発生！！！\n"
     ]
    }
   ],
   "source": [
    "\n"
   ]
  },
  {
   "cell_type": "markdown",
   "metadata": {},
   "source": [
    "---\n",
    "## 練習プログラム2 (3点)\n",
    "以下の処理を実装してください\n",
    "1. 入力値 i を整数値で受け取ります\n",
    "1. 8888をiで割った値を出力します\n",
    "  - i がゼロの場合、値は出力されずにZeroDivisionErrorが発生するため、'ゼロ除算が発生しました'と表示してください\n",
    "1. 文字列\"okikokudai\"から、入力値 i 文字目の文字を出力します\n",
    "  -  i > 9 の値が入力された場合、文字は出力されずに範囲外参照エラー(IndexError)が発生するため、'範囲外参照エラーが発生しました'と表示してください\n",
    "1. エラーが発生しなかった場合\n",
    "  - \"エラー発生なし！\"と出力します\n",
    "1. ゼロ除算、範囲外参照エラー以外のエラーが発生した時\n",
    "  - ”突然の死！”などと入力するとValueErrorが発生します\n",
    "  - エラーは補足しないでおきます\n",
    "1. すべての場合において、\"例外処理を終了します\"と出力します\n",
    "1. 例外を補足した時または正常終了した時は \"このプログラムを正常終了します\" と出力します"
   ]
  },
  {
   "cell_type": "code",
   "execution_count": 9,
   "metadata": {},
   "outputs": [
    {
     "name": "stdout",
     "output_type": "stream",
     "text": [
      "10\n",
      "888.8\n",
      "範囲外参照エラーが発生しました\n",
      "例外処理を終了します\n",
      "このプログラムを正常終了します\n"
     ]
    }
   ],
   "source": []
  },
  {
   "cell_type": "code",
   "execution_count": null,
   "metadata": {},
   "outputs": [],
   "source": []
  }
 ],
 "metadata": {
  "colab": {
   "authorship_tag": "ABX9TyMOtB7OiTVLb+yu2KoVwjto",
   "include_colab_link": true,
   "provenance": []
  },
  "kernelspec": {
   "display_name": "Python 3 (ipykernel)",
   "language": "python",
   "name": "python3"
  },
  "language_info": {
   "codemirror_mode": {
    "name": "ipython",
    "version": 3
   },
   "file_extension": ".py",
   "mimetype": "text/x-python",
   "name": "python",
   "nbconvert_exporter": "python",
   "pygments_lexer": "ipython3",
   "version": "3.11.9"
  }
 },
 "nbformat": 4,
 "nbformat_minor": 4
}
