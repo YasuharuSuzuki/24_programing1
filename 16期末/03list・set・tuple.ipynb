{
 "cells": [
  {
   "cell_type": "markdown",
   "metadata": {},
   "source": [
    "<a href=\"https://colab.research.google.com/github/YasuharuSuzuki/24_programing1/blob/main/\" target=\"_parent\"><img src=\"https://colab.research.google.com/assets/colab-badge.svg\" alt=\"Open In Colab\"/></a>"
   ]
  },
  {
   "cell_type": "markdown",
   "metadata": {
    "id": "KSSJqXOosEeX"
   },
   "source": [
    "# 03 list・tuple・set"
   ]
  },
  {
   "cell_type": "markdown",
   "metadata": {
    "id": "VRQcesdKsEec"
   },
   "source": [
    "## 四択問題\n",
    "- 以下の問題について、正解となる選択肢を出力してください"
   ]
  },
  {
   "cell_type": "markdown",
   "metadata": {},
   "source": [
    "---\n",
    "---\n",
    "---\n",
    "### 問11 合計 (0.3点)\n",
    "- よく使用される組み込み関数で、リストを渡すと合計値を返す関数はどれか\n",
    "    1. total()  \n",
    "    2. sum()  \n",
    "    3. count()  \n",
    "    4. aggregate()  "
   ]
  },
  {
   "cell_type": "code",
   "execution_count": 1,
   "metadata": {
    "colab": {
     "base_uri": "https://localhost:8080/"
    },
    "executionInfo": {
     "elapsed": 265,
     "status": "ok",
     "timestamp": 1715146988599,
     "user": {
      "displayName": "鈴木康元",
      "userId": "15385942521303414593"
     },
     "user_tz": -540
    },
    "id": "_oiNYIaxsEed",
    "outputId": "c127d002-8e8c-45b3-d98b-c5304b00f17d"
   },
   "outputs": [
    {
     "name": "stdout",
     "output_type": "stream",
     "text": [
      "\n"
     ]
    }
   ],
   "source": [
    "# 解答の番号を出力してください\n",
    "print('')"
   ]
  },
  {
   "cell_type": "markdown",
   "metadata": {
    "id": "bP053hXUsEee"
   },
   "source": [
    "---\n",
    "---\n",
    "---\n",
    "### 問12 差集合 (0.3点)  \n",
    "Pythonのsetにおける「集合の差集合を求める演算子」として正しいものはどれですか？\n",
    "\n",
    "    1. 　in\n",
    "    2. 　&\n",
    "    3. 　-\n",
    "    4. 　not in\n",
    "    "
   ]
  },
  {
   "cell_type": "code",
   "execution_count": 2,
   "metadata": {
    "colab": {
     "base_uri": "https://localhost:8080/"
    },
    "executionInfo": {
     "elapsed": 255,
     "status": "ok",
     "timestamp": 1715147036615,
     "user": {
      "displayName": "鈴木康元",
      "userId": "15385942521303414593"
     },
     "user_tz": -540
    },
    "id": "8cg5YTLosEee",
    "outputId": "c6671804-b225-4341-ea70-8833bd5eb194"
   },
   "outputs": [
    {
     "name": "stdout",
     "output_type": "stream",
     "text": [
      "\n"
     ]
    }
   ],
   "source": [
    "# 解答の番号を出力してください\n",
    "print('')"
   ]
  },
  {
   "cell_type": "markdown",
   "metadata": {},
   "source": [
    "---\n",
    "---\n",
    "---\n",
    "### 問13 setの良いところ (0.3点)\n",
    "\n",
    "setを使用する主な利点として、最も適切なものはどれですか？\n",
    "\n",
    "   1. 要素を追加した順序を記憶できる\n",
    "   2. 重複チェックを高速に行える\n",
    "   3. 要素を数値の昇順で自動的にソートできる\n",
    "   4. 文字列の連結を効率的に行える\n"
   ]
  },
  {
   "cell_type": "code",
   "execution_count": 3,
   "metadata": {
    "colab": {
     "base_uri": "https://localhost:8080/"
    },
    "executionInfo": {
     "elapsed": 278,
     "status": "ok",
     "timestamp": 1715147048787,
     "user": {
      "displayName": "鈴木康元",
      "userId": "15385942521303414593"
     },
     "user_tz": -540
    },
    "id": "y2CxWqMusEef",
    "outputId": "8129fcea-362e-4f33-d57b-529f8313a51f"
   },
   "outputs": [
    {
     "name": "stdout",
     "output_type": "stream",
     "text": [
      "\n"
     ]
    }
   ],
   "source": [
    "# 解答の番号を出力してください\n",
    "print('')"
   ]
  },
  {
   "cell_type": "markdown",
   "metadata": {},
   "source": [
    "---\n",
    "\n",
    "### 解説\n",
    "\n",
    "setは要素の重複を自動的に排除し、要素の存在確認を高速に行えるデータ構造です。これは、大量のデータから重複を除去する場合や、特定の要素の存在をチェックする場合に特に有用です。\n",
    "\n",
    "---"
   ]
  },
  {
   "cell_type": "markdown",
   "metadata": {
    "id": "sqzgb-X2sEef"
   },
   "source": [
    "---\n",
    "---\n",
    "---\n",
    "---\n",
    "---\n",
    "## アルゴリズム問題"
   ]
  },
  {
   "cell_type": "markdown",
   "metadata": {},
   "source": [
    "### 問14 チューリップ4 (1.5点)\n",
    "\n",
    "### 問題文\n",
    "- ゆるるくんは、花壇に4本のチューリップの球根を植えました。色は赤、白、黄、桃のいずれかです。\n",
    "- 球根の状態から購入したのですが、またもや何色かを気にせずに購入してしまったため、咲いてみるまで色がわかりません。\n",
    "- 実際に咲いたときの色に応じたゆるるくんの感想を出力してください。\n",
    "- 色の値が漢字で入力されます。入力は $ C_1 \\quad C_2 \\quad C_3 \\quad C_4 $ で与えられます。\n",
    "- 4本とも同じ色の場合は全部同じ色であることを出力してください。\n",
    "  - 例：全部赤の場合は「全部赤！」\n",
    "- すべての色が異なる場合は「キレイだなぁ〜」と出力してください。\n",
    "- 全て同じ色でもなく、かつ全て違う色でもない場合は、購入していない色を出力してください。\n",
    "  - 例：白と黄を購入していない場合は「白と黄が欲しいなぁ〜」"
   ]
  },
  {
   "cell_type": "markdown",
   "metadata": {},
   "source": [
    "---\n",
    "---"
   ]
  },
  {
   "cell_type": "markdown",
   "metadata": {},
   "source": [
    "### 制約\n",
    "\n",
    "$ Ci $ は'赤','白','黄','桃' のいずれかからなる文字"
   ]
  },
  {
   "cell_type": "markdown",
   "metadata": {},
   "source": [
    "---\n",
    "---"
   ]
  },
  {
   "cell_type": "markdown",
   "metadata": {},
   "source": [
    "### 入力\n",
    "入力は以下の形式で標準入力から与えられます\n",
    "\n",
    "---\n",
    "$ C_1 \\quad C_2 \\quad C_3 \\quad C_4 $\n",
    "\n",
    "---\n",
    "\n",
    "- チューリップの色 $ C_i $ を受け取ります"
   ]
  },
  {
   "cell_type": "markdown",
   "metadata": {},
   "source": [
    "### 出力\n",
    "- 全て同じ色のときは「全部$ C_i $！」と出力してください。  \n",
    "- 全て違う色のときは「キレイだなぁ〜」と出力してください。  \n",
    "- 全て同じ色でもなく、かつ全て違う色でもない場合\n",
    "   - 購入していない色が1つの場合($ C_{n} $)は「$ C_{n} $が欲しいなぁ〜」と出力せよ。  \n",
    "   - 購入していない色が2つの場合($ C_{n1}, C_{n2} $)は「$ C_{n1} $と$ C_{n2} $が欲しいなぁ〜」と出力せよ。  "
   ]
  },
  {
   "cell_type": "markdown",
   "metadata": {},
   "source": [
    "---\n",
    "---\n",
    "\n",
    "### 入力例1\n",
    "---\n",
    "```python\n",
    "赤　赤　赤　赤　　\n",
    "```\n",
    "---\n",
    "\n",
    "### 出力例1\n",
    "---\n",
    "```python\n",
    "全部赤！\n",
    "```\n",
    "---\n",
    "\n",
    "- 全て同じ色のため「全部赤！」と出力してください。"
   ]
  },
  {
   "cell_type": "markdown",
   "metadata": {},
   "source": [
    "---\n",
    "---"
   ]
  },
  {
   "cell_type": "markdown",
   "metadata": {},
   "source": [
    "### 入力例2\n",
    "---\n",
    "```python\n",
    "赤 白 黄 桃\n",
    "```\n",
    "---\n",
    "\n",
    "### 出力例2\n",
    "---\n",
    "```python\n",
    "キレイだなぁ〜\n",
    "```\n",
    "---\n",
    "- 全て違う色のため「キレイだなぁ〜」と出力してください。"
   ]
  },
  {
   "cell_type": "markdown",
   "metadata": {},
   "source": [
    "---\n",
    "---"
   ]
  },
  {
   "cell_type": "markdown",
   "metadata": {},
   "source": [
    "### 入力例3\n",
    "---\n",
    "```python\n",
    "赤 白 白 桃\n",
    "```\n",
    "---\n",
    "\n",
    "### 出力例3\n",
    "---\n",
    "```python\n",
    "黄が欲しいなぁ〜\n",
    "```\n",
    "---\n",
    "- 全て同じ色でもなく、かつ全て違う色でもないため、未購入の色（黄）を用いて「黄が欲しいなぁ〜」と出力してください。"
   ]
  },
  {
   "cell_type": "markdown",
   "metadata": {},
   "source": [
    "---\n",
    "---"
   ]
  },
  {
   "cell_type": "markdown",
   "metadata": {},
   "source": [
    "### 入力例4\n",
    "---\n",
    "```python\n",
    "白 白 桃 桃  \n",
    "```\n",
    "---\n",
    "\n",
    "### 出力例4\n",
    "---\n",
    "```python\n",
    "黄と赤が欲しいなぁ〜\n",
    "```\n",
    "---\n",
    "- 全て同じ色でもなく、かつ全て違う色でもないため、未購入の色（黄、赤）を用いて「黄と赤が欲しいなぁ〜」と出力してください。"
   ]
  },
  {
   "cell_type": "markdown",
   "metadata": {},
   "source": [
    "---\n",
    "---"
   ]
  },
  {
   "cell_type": "markdown",
   "metadata": {},
   "source": [
    "### ここ↓にPythonコードを記述してください"
   ]
  },
  {
   "cell_type": "code",
   "execution_count": 1,
   "metadata": {},
   "outputs": [
    {
     "name": "stdin",
     "output_type": "stream",
     "text": [
      " 白 白 桃 桃\n"
     ]
    },
    {
     "name": "stdout",
     "output_type": "stream",
     "text": [
      "赤と黄が欲しいなぁ〜\n"
     ]
    }
   ],
   "source": [
    "\n",
    "\n"
   ]
  },
  {
   "cell_type": "markdown",
   "metadata": {
    "colab": {
     "base_uri": "https://localhost:8080/"
    },
    "executionInfo": {
     "elapsed": 268,
     "status": "ok",
     "timestamp": 1715147255303,
     "user": {
      "displayName": "鈴木康元",
      "userId": "15385942521303414593"
     },
     "user_tz": -540
    },
    "id": "AXmjTxIdsEeg",
    "outputId": "2e2c42b9-ea55-4aae-c6cf-38e3e3f47720"
   },
   "source": [
    "---\n",
    "---\n",
    "---\n",
    "### 問15 Top3 (2点)\n",
    "20人の生徒の点数 $ P_i $ が与えられます。点数の高い順に上位3名の点数を出力してください。"
   ]
  },
  {
   "cell_type": "markdown",
   "metadata": {},
   "source": [
    "### 制約\n",
    "- 0 ≤ $ P_i $ ≤ 100（入力される点数 $ P_i $ は整数）"
   ]
  },
  {
   "cell_type": "markdown",
   "metadata": {},
   "source": [
    "### 入力\n",
    "1行に20個の整数が空白区切りで与えられます。\n",
    "\n",
    "---\n",
    "\n",
    "$ P_1 \\quad P_2 \\quad P_3 ... \\quad P_{20}  $   \n",
    "\n",
    "---\n"
   ]
  },
  {
   "cell_type": "markdown",
   "metadata": {},
   "source": [
    "### 出力\n",
    "- 3行に分けて、点数の高い順に上位3名の点数を出力してください。"
   ]
  },
  {
   "cell_type": "markdown",
   "metadata": {},
   "source": [
    "---\n",
    "---"
   ]
  },
  {
   "cell_type": "markdown",
   "metadata": {},
   "source": [
    "### 入力例1\n",
    "---\n",
    "```python\n",
    "67 89 45 78 90 56 34 88 76 54 43 67 87 65 43 98 45 66 78 89\n",
    "```\n",
    "---\n",
    "\n",
    "### 出力例1\n",
    "---\n",
    "```python\n",
    "98\n",
    "90\n",
    "89\n",
    "```\n",
    "---\n"
   ]
  },
  {
   "cell_type": "markdown",
   "metadata": {},
   "source": [
    "---\n",
    "---"
   ]
  },
  {
   "cell_type": "markdown",
   "metadata": {},
   "source": [
    "### 入力例2\n",
    "---\n",
    "```Python\n",
    "100 100 100 95 95 95 90 90 90 85 85 85 80 80 80 75 75 75 70 70\n",
    "```\n",
    "---\n",
    "\n",
    "### 出力例2\n",
    "---\n",
    "```\n",
    "100\n",
    "100\n",
    "100\n",
    "```\n",
    "---\n"
   ]
  },
  {
   "cell_type": "markdown",
   "metadata": {},
   "source": [
    "---\n",
    "---\n",
    "### ここ↓にPythonコードを記述してください"
   ]
  },
  {
   "cell_type": "code",
   "execution_count": 2,
   "metadata": {},
   "outputs": [
    {
     "name": "stdin",
     "output_type": "stream",
     "text": [
      " 100 100 100 95 95 95 90 90 90 85 85 85 80 80 80 75 75 75 70 70\n"
     ]
    },
    {
     "name": "stdout",
     "output_type": "stream",
     "text": [
      "100\n",
      "100\n",
      "100\n"
     ]
    }
   ],
   "source": [
    "\n"
   ]
  },
  {
   "cell_type": "markdown",
   "metadata": {},
   "source": [
    "---\n",
    "---\n",
    "---\n",
    "### 問16 特定年間の日数 (2点)\n",
    "- 通常、1年の日数は365日ですが、うるう年は366日となります。\n",
    "- うるう年は通常4年に一度訪れますが、100年に1度うるう年にならない年があり、400年に1度うるう年になる年があります。\n",
    "- 西暦の開始年を　$ Y_s $  終了年を $ Y_e $ で与えられる時、合計の日数を求めて出力してください。\n",
    "- ただし西暦は1582年〜9999年で与えられることとします。"
   ]
  },
  {
   "cell_type": "markdown",
   "metadata": {},
   "source": [
    "---\n",
    "---"
   ]
  },
  {
   "cell_type": "markdown",
   "metadata": {},
   "source": [
    "### 制約\n",
    "\n",
    "$ 1582 \\leqq Y_s \\leqq 9999 \\qquad ※Y_s は整数  $  \n",
    "$ 1582 \\leqq Y_e \\leqq 9999 \\qquad ※Y_e は整数  $  \n",
    "$ Y_s < Y_e \\qquad ※Y_e は必ず Y_s より大きい  $  \n"
   ]
  },
  {
   "cell_type": "markdown",
   "metadata": {},
   "source": [
    "---\n",
    "---"
   ]
  },
  {
   "cell_type": "markdown",
   "metadata": {},
   "source": [
    "### 入力形式\n",
    "入力は以下の形式で標準入力から与えられます\n",
    "\n",
    "---\n",
    "\n",
    "$ Y_s \\quad Y_e $  \n",
    "\n",
    "---\n",
    "\n",
    "※空白区切りです"
   ]
  },
  {
   "cell_type": "markdown",
   "metadata": {},
   "source": [
    "---\n",
    "---"
   ]
  },
  {
   "cell_type": "markdown",
   "metadata": {},
   "source": [
    "### 出力形式\n",
    "\n",
    "合計の日数を求めて出力してください。"
   ]
  },
  {
   "cell_type": "markdown",
   "metadata": {},
   "source": [
    "---\n",
    "---"
   ]
  },
  {
   "cell_type": "markdown",
   "metadata": {},
   "source": [
    "### 入力例1\n",
    "---\n",
    "```python\n",
    "2000 2001\n",
    "```\n",
    "---\n",
    "\n",
    "### 出力例1\n",
    "---\n",
    "```python\n",
    "731\n",
    "```\n",
    "---\n",
    "- 2000年は100の倍数ですが、400の倍数でもあるため、400年に一度のうるう年です。合計日数は366日+365日＝731日となります"
   ]
  },
  {
   "cell_type": "markdown",
   "metadata": {},
   "source": [
    "---\n",
    "---"
   ]
  },
  {
   "cell_type": "markdown",
   "metadata": {},
   "source": [
    "### 入力例2\n",
    "---\n",
    "```python\n",
    "1900 1901\n",
    "```\n",
    "---\n",
    "\n",
    "### 出力例2\n",
    "---\n",
    "```python\n",
    "730\n",
    "```\n",
    "---\n",
    "- 1900年は4の倍数ですが、100の倍数でもあるため、100年に一度のうるう年 **ではない** 年です。合計日数は365日＋365日＝730日となります"
   ]
  },
  {
   "cell_type": "markdown",
   "metadata": {},
   "source": [
    "---\n",
    "---"
   ]
  },
  {
   "cell_type": "markdown",
   "metadata": {},
   "source": [
    "### 入力例3\n",
    "---\n",
    "```python\n",
    "1600 2000\n",
    "```\n",
    "---\n",
    "\n",
    "\n",
    "### 出力例3\n",
    "---\n",
    "```python\n",
    "146463\n",
    "```\n",
    "---\n",
    "- 1600年から2000年は401年間あります。単純にうるう年を考慮せずに365日をかけると、401年ｘ365日=146365日となります。  \n",
    "- 401年間の間にうるう年が何回あるか計算してみると\n",
    "  - 4で割り切れる数＝101回\n",
    "  - 100で割り切れる数＝5回（うるう年ではない）\n",
    "  - 400で割り切れる数＝2回\n",
    "- 101回-5回+2回＝98回\n",
    "- 401年間の間にうるう年は98回あります\n",
    "- 以上から、合計日数は 146365 + 98 = 146463日となります。"
   ]
  },
  {
   "cell_type": "markdown",
   "metadata": {},
   "source": [
    "---\n",
    "---\n",
    "### ここ↓にPythonコードを記述してください"
   ]
  },
  {
   "cell_type": "code",
   "execution_count": 4,
   "metadata": {},
   "outputs": [
    {
     "name": "stdin",
     "output_type": "stream",
     "text": [
      " 1600 2000\n"
     ]
    },
    {
     "name": "stdout",
     "output_type": "stream",
     "text": [
      "146463\n"
     ]
    }
   ],
   "source": [
    "\n"
   ]
  },
  {
   "cell_type": "code",
   "execution_count": null,
   "metadata": {},
   "outputs": [],
   "source": []
  },
  {
   "cell_type": "code",
   "execution_count": null,
   "metadata": {},
   "outputs": [],
   "source": []
  }
 ],
 "metadata": {
  "colab": {
   "provenance": [
    {
     "file_id": "https://github.com/YasuharuSuzuki/24_programing2/blob/main/04%E8%BE%9E%E6%9B%B8/01%E8%BE%9E%E6%9B%B8%E3%82%92%E4%BD%9C%E3%82%8B.ipynb",
     "timestamp": 1715146358060
    }
   ]
  },
  "kernelspec": {
   "display_name": "Python 3 (ipykernel)",
   "language": "python",
   "name": "python3"
  },
  "language_info": {
   "codemirror_mode": {
    "name": "ipython",
    "version": 3
   },
   "file_extension": ".py",
   "mimetype": "text/x-python",
   "name": "python",
   "nbconvert_exporter": "python",
   "pygments_lexer": "ipython3",
   "version": "3.11.9"
  }
 },
 "nbformat": 4,
 "nbformat_minor": 4
}
