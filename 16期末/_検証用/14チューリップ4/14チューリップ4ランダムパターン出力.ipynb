{
 "cells": [
  {
   "cell_type": "markdown",
   "id": "e0f811d1",
   "metadata": {},
   "source": [
    "# ランダムパターン出力"
   ]
  },
  {
   "cell_type": "code",
   "execution_count": 1,
   "id": "575f2e20-25b5-45c8-8739-fc6a0e5e36d9",
   "metadata": {},
   "outputs": [],
   "source": [
    "import os\n",
    "import random\n",
    "import pandas as pd\n",
    "\n",
    "ALL_COLOR = ['赤','白','黄','桃']\n",
    "COUNT_OF_SAMPLES = 100\n",
    "ZENBU_P = 5  # 全部同じ色の確率。全パターン出力し終えると、自動的に出力対象から外れるようにしています\n",
    "KIREI_P = 10  # キレイだなーが出る確率。"
   ]
  },
  {
   "cell_type": "code",
   "execution_count": 2,
   "id": "dd65b7be-c18b-432f-8c68-5e8ed9163aa1",
   "metadata": {},
   "outputs": [
    {
     "data": {
      "text/plain": [
       "['黄', '白', '赤', '桃']"
      ]
     },
     "execution_count": 2,
     "metadata": {},
     "output_type": "execute_result"
    }
   ],
   "source": [
    "color_tmp = ALL_COLOR.copy()\n",
    "random.shuffle(color_tmp)\n",
    "color_tmp"
   ]
  },
  {
   "cell_type": "code",
   "execution_count": 3,
   "id": "7aaad77d-a807-4045-b28b-ef267f34b906",
   "metadata": {
    "scrolled": true
   },
   "outputs": [
    {
     "data": {
      "text/plain": [
       "['赤 赤 赤 赤 赤', '白 白 白 白 白', '黄 黄 黄 黄 黄', '桃 桃 桃 桃 桃']"
      ]
     },
     "execution_count": 3,
     "metadata": {},
     "output_type": "execute_result"
    }
   ],
   "source": [
    "zenbu_arr = [((c+\" \")*5).strip() for c in ALL_COLOR]\n",
    "zenbu_arr"
   ]
  },
  {
   "cell_type": "code",
   "execution_count": 4,
   "id": "b7228498-8305-4222-8451-4fdfdfa224b4",
   "metadata": {},
   "outputs": [],
   "source": [
    "def get_random_inputs(not_list=[]):\n",
    "    while True:\n",
    "        random_p = random.randint(0,100)\n",
    "        if random_p <= ZENBU_P and zenbu_arr:\n",
    "            choice = random.choice(zenbu_arr)\n",
    "        elif random_p <= KIREI_P+ZENBU_P:\n",
    "            color_tmp = ALL_COLOR.copy()\n",
    "            random.shuffle(color_tmp)\n",
    "            choice = \" \".join(color_tmp)\n",
    "        else:\n",
    "            choice = \" \".join([random.choice(ALL_COLOR) for _ in range(5)])\n",
    "\n",
    "        inputs = [choice]\n",
    "        if inputs in not_list:\n",
    "            print(\"重複\", choice)\n",
    "            continue\n",
    "\n",
    "        if random_p <= ZENBU_P and zenbu_arr:\n",
    "            zenbu_arr.remove(choice)\n",
    "        \n",
    "        return inputs\n",
    "    raise ValueError('無限ループしたようです')\n",
    "    \n",
    "#get_random_inputs()"
   ]
  },
  {
   "cell_type": "code",
   "execution_count": 7,
   "id": "a42eca56-6234-47ba-8342-235563575d92",
   "metadata": {},
   "outputs": [],
   "source": [
    "def solve(input_list):\n",
    "    all_color = {'赤','白','黄','桃'}\n",
    "    input_set1 = set(input_list[0].split())\n",
    "    if len(input_set1) == 1:\n",
    "        return [f'全部{input_set1.pop()}！']\n",
    "    elif len(input_set1) == 4:\n",
    "        return ['キレイだなぁ〜']\n",
    "    else:\n",
    "        return ['{}が欲しいなぁ〜'.format(\"と\".join(list(all_color - input_set1)))]\n"
   ]
  },
  {
   "cell_type": "code",
   "execution_count": 8,
   "id": "c2bafefa-b1a4-463e-b132-5f10036ab1aa",
   "metadata": {
    "scrolled": true
   },
   "outputs": [
    {
     "name": "stdout",
     "output_type": "stream",
     "text": [
      "重複 赤 白 桃 黄\n",
      "重複 赤 黄 白 黄 黄\n",
      "重複 赤 黄 白 黄 黄\n",
      "重複 桃 黄 赤 白\n",
      "重複 白 桃 赤 黄 赤\n",
      "重複 赤 桃 白 黄\n",
      "重複 白 赤 桃 黄\n",
      "重複 桃 黄 赤 白\n",
      "重複 赤 赤 白 桃 桃\n",
      "重複 黄 黄 黄 桃 赤\n",
      "重複 黄 白 白 桃 赤\n",
      "done\n"
     ]
    }
   ],
   "source": [
    "def output_all(out_xz_filename):\n",
    "    all_inputs = []\n",
    "    all_outputs = []\n",
    "\n",
    "    for answer_id in range(COUNT_OF_SAMPLES):\n",
    "        all_inputs.append(get_random_inputs(all_inputs))\n",
    "        all_outputs.append(solve(all_inputs[answer_id]))        # 解答を求める\n",
    "\n",
    "    df_all = pd.DataFrame({\"in\":all_inputs, \"out\":all_outputs})\n",
    "    df_all.index += 1\n",
    "    os.makedirs(os.path.dirname(out_xz_filename), exist_ok=True)\n",
    "    df_all.to_csv(out_xz_filename)\n",
    "\n",
    "output_all(\"data/answer.csv.xz\")\n",
    "print('done')"
   ]
  },
  {
   "cell_type": "code",
   "execution_count": null,
   "id": "4f8cc94d",
   "metadata": {},
   "outputs": [],
   "source": []
  },
  {
   "cell_type": "code",
   "execution_count": null,
   "id": "2516460f-ceeb-4c7b-b6a6-7fb9d77395e7",
   "metadata": {},
   "outputs": [],
   "source": []
  }
 ],
 "metadata": {
  "kernelspec": {
   "display_name": "Python 3 (ipykernel)",
   "language": "python",
   "name": "python3"
  },
  "language_info": {
   "codemirror_mode": {
    "name": "ipython",
    "version": 3
   },
   "file_extension": ".py",
   "mimetype": "text/x-python",
   "name": "python",
   "nbconvert_exporter": "python",
   "pygments_lexer": "ipython3",
   "version": "3.11.9"
  }
 },
 "nbformat": 4,
 "nbformat_minor": 5
}
