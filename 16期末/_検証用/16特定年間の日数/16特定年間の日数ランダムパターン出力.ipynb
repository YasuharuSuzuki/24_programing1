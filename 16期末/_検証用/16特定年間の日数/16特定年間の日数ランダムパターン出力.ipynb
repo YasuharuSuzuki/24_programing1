{
 "cells": [
  {
   "cell_type": "markdown",
   "id": "e0f811d1",
   "metadata": {},
   "source": [
    "# 特定年間の日数 ランダムパターン出力"
   ]
  },
  {
   "cell_type": "code",
   "execution_count": 1,
   "id": "575f2e20-25b5-45c8-8739-fc6a0e5e36d9",
   "metadata": {},
   "outputs": [],
   "source": [
    "import os\n",
    "import random\n",
    "import pandas as pd\n",
    "\n",
    "COUNT_OF_SAMPLES = 100\n",
    "\n",
    "Y_MIN = 1582\n",
    "Y_MAX = 9999"
   ]
  },
  {
   "cell_type": "code",
   "execution_count": 2,
   "id": "3370ffd2-b728-4152-8810-146c501a866c",
   "metadata": {},
   "outputs": [],
   "source": [
    "def solve(input_list):\n",
    "    Y_s, Y_e = map(int,input_list[0].split())\n",
    "    days = 0\n",
    "    for y in range(Y_s,Y_e+1):\n",
    "        days_per_year = 365\n",
    "        if y%400 == 0:\n",
    "            days_per_year = 366\n",
    "        elif y%100 == 0:\n",
    "            days_per_year = 365\n",
    "        elif y%4 == 0:\n",
    "            days_per_year = 366\n",
    "        days += days_per_year\n",
    "    \n",
    "    return [str(days)]"
   ]
  },
  {
   "cell_type": "code",
   "execution_count": 3,
   "id": "b7228498-8305-4222-8451-4fdfdfa224b4",
   "metadata": {},
   "outputs": [
    {
     "data": {
      "text/plain": [
       "['4428 6652']"
      ]
     },
     "execution_count": 3,
     "metadata": {},
     "output_type": "execute_result"
    }
   ],
   "source": [
    "def get_random_inputs(not_list=[]):\n",
    "    while True:\n",
    "        y_start = random.randint(Y_MIN,Y_MAX-1)\n",
    "        y_end = random.randint(y_start,Y_MAX)\n",
    "        inputs = [f'{y_start} {y_end}']\n",
    "        if inputs not in not_list:\n",
    "            return inputs\n",
    "        print(\"重複\", choice)\n",
    "    raise ValueError('無限ループしたようです')\n",
    "    \n",
    "get_random_inputs()"
   ]
  },
  {
   "cell_type": "code",
   "execution_count": 4,
   "id": "c2bafefa-b1a4-463e-b132-5f10036ab1aa",
   "metadata": {
    "scrolled": true
   },
   "outputs": [
    {
     "name": "stdout",
     "output_type": "stream",
     "text": [
      "done\n"
     ]
    }
   ],
   "source": [
    "def output_all(out_xz_filename):\n",
    "    all_inputs = []\n",
    "    all_outputs = []\n",
    "\n",
    "    for answer_id in range(COUNT_OF_SAMPLES):\n",
    "        all_inputs.append(get_random_inputs(all_inputs))\n",
    "        all_outputs.append(solve(all_inputs[answer_id]))        # 解答を求める\n",
    "\n",
    "    df_all = pd.DataFrame({\"in\":all_inputs, \"out\":all_outputs})\n",
    "    df_all.index += 1\n",
    "    os.makedirs(os.path.dirname(out_xz_filename), exist_ok=True)\n",
    "    df_all.to_csv(out_xz_filename)\n",
    "\n",
    "output_all(\"data/answer.csv.xz\")\n",
    "print('done')"
   ]
  },
  {
   "cell_type": "code",
   "execution_count": null,
   "id": "4f8cc94d",
   "metadata": {},
   "outputs": [],
   "source": []
  },
  {
   "cell_type": "code",
   "execution_count": null,
   "id": "2516460f-ceeb-4c7b-b6a6-7fb9d77395e7",
   "metadata": {},
   "outputs": [],
   "source": []
  }
 ],
 "metadata": {
  "kernelspec": {
   "display_name": "Python 3 (ipykernel)",
   "language": "python",
   "name": "python3"
  },
  "language_info": {
   "codemirror_mode": {
    "name": "ipython",
    "version": 3
   },
   "file_extension": ".py",
   "mimetype": "text/x-python",
   "name": "python",
   "nbconvert_exporter": "python",
   "pygments_lexer": "ipython3",
   "version": "3.11.9"
  }
 },
 "nbformat": 4,
 "nbformat_minor": 5
}
