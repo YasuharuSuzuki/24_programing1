{
 "cells": [
  {
   "cell_type": "markdown",
   "id": "e0f811d1",
   "metadata": {},
   "source": [
    "# 10FizzBuzz・パターン出力"
   ]
  },
  {
   "cell_type": "code",
   "execution_count": 1,
   "id": "575f2e20-25b5-45c8-8739-fc6a0e5e36d9",
   "metadata": {},
   "outputs": [],
   "source": [
    "import os\n",
    "import pandas as pd\n",
    "\n",
    "INPUT_TEST_CSV = \"data/10test-cases.csv\"  # claudeで出力した.csv"
   ]
  },
  {
   "cell_type": "code",
   "execution_count": 5,
   "id": "3743d810-cefd-4632-8fda-590ae04457df",
   "metadata": {},
   "outputs": [
    {
     "data": {
      "text/html": [
       "<div>\n",
       "<style scoped>\n",
       "    .dataframe tbody tr th:only-of-type {\n",
       "        vertical-align: middle;\n",
       "    }\n",
       "\n",
       "    .dataframe tbody tr th {\n",
       "        vertical-align: top;\n",
       "    }\n",
       "\n",
       "    .dataframe thead th {\n",
       "        text-align: right;\n",
       "    }\n",
       "</style>\n",
       "<table border=\"1\" class=\"dataframe\">\n",
       "  <thead>\n",
       "    <tr style=\"text-align: right;\">\n",
       "      <th></th>\n",
       "      <th>N</th>\n",
       "      <th>M</th>\n",
       "    </tr>\n",
       "  </thead>\n",
       "  <tbody>\n",
       "    <tr>\n",
       "      <th>1</th>\n",
       "      <td>1</td>\n",
       "      <td>10</td>\n",
       "    </tr>\n",
       "    <tr>\n",
       "      <th>2</th>\n",
       "      <td>5</td>\n",
       "      <td>15</td>\n",
       "    </tr>\n",
       "    <tr>\n",
       "      <th>3</th>\n",
       "      <td>10</td>\n",
       "      <td>20</td>\n",
       "    </tr>\n",
       "    <tr>\n",
       "      <th>4</th>\n",
       "      <td>15</td>\n",
       "      <td>30</td>\n",
       "    </tr>\n",
       "    <tr>\n",
       "      <th>5</th>\n",
       "      <td>1</td>\n",
       "      <td>15</td>\n",
       "    </tr>\n",
       "    <tr>\n",
       "      <th>...</th>\n",
       "      <td>...</td>\n",
       "      <td>...</td>\n",
       "    </tr>\n",
       "    <tr>\n",
       "      <th>96</th>\n",
       "      <td>96</td>\n",
       "      <td>98</td>\n",
       "    </tr>\n",
       "    <tr>\n",
       "      <th>97</th>\n",
       "      <td>97</td>\n",
       "      <td>99</td>\n",
       "    </tr>\n",
       "    <tr>\n",
       "      <th>98</th>\n",
       "      <td>98</td>\n",
       "      <td>100</td>\n",
       "    </tr>\n",
       "    <tr>\n",
       "      <th>99</th>\n",
       "      <td>1</td>\n",
       "      <td>100</td>\n",
       "    </tr>\n",
       "    <tr>\n",
       "      <th>100</th>\n",
       "      <td>50</td>\n",
       "      <td>100</td>\n",
       "    </tr>\n",
       "  </tbody>\n",
       "</table>\n",
       "<p>100 rows × 2 columns</p>\n",
       "</div>"
      ],
      "text/plain": [
       "      N    M\n",
       "1     1   10\n",
       "2     5   15\n",
       "3    10   20\n",
       "4    15   30\n",
       "5     1   15\n",
       "..   ..  ...\n",
       "96   96   98\n",
       "97   97   99\n",
       "98   98  100\n",
       "99    1  100\n",
       "100  50  100\n",
       "\n",
       "[100 rows x 2 columns]"
      ]
     },
     "execution_count": 5,
     "metadata": {},
     "output_type": "execute_result"
    }
   ],
   "source": [
    "df_input = pd.read_csv(INPUT_TEST_CSV)\n",
    "df_input.index += 1\n",
    "df_input"
   ]
  },
  {
   "cell_type": "code",
   "execution_count": 6,
   "id": "a42eca56-6234-47ba-8342-235563575d92",
   "metadata": {},
   "outputs": [],
   "source": [
    "def solve(input_list):\n",
    "\n",
    "    # 入力を受け取る\n",
    "    N, M = map(int, input_list[0].split())\n",
    "\n",
    "    result = []\n",
    "    for i in range(N, M+1):\n",
    "        if i % 15 == 0:\n",
    "            result.append(\"FizzBuzz\")\n",
    "        elif i % 3 == 0:\n",
    "            result.append(\"Fizz\")\n",
    "        elif i % 5 == 0:\n",
    "            result.append(\"Buzz\")\n",
    "        else:\n",
    "            result.append(str(i))\n",
    "    \n",
    "    return [\" \".join(result)]\n"
   ]
  },
  {
   "cell_type": "code",
   "execution_count": 7,
   "id": "c2bafefa-b1a4-463e-b132-5f10036ab1aa",
   "metadata": {},
   "outputs": [],
   "source": [
    "def output_all(out_xz_filename):\n",
    "    all_inputs = [[f\"{n} {m}\"] for n,m in zip(df_input['N'],df_input['M'])]\n",
    "    all_outputs = []\n",
    "\n",
    "    for answer_id in range(len(all_inputs)):\n",
    "        all_outputs.append(solve(all_inputs[answer_id]))        # 解答を求める\n",
    "\n",
    "    df_all = pd.DataFrame({\"in\":all_inputs, \"out\":all_outputs})\n",
    "    df_all.index += 1\n",
    "    os.makedirs(os.path.dirname(out_xz_filename), exist_ok=True)\n",
    "    df_all.to_csv(out_xz_filename)\n",
    "\n",
    "output_all(\"data/answer.csv.xz\")"
   ]
  },
  {
   "cell_type": "code",
   "execution_count": null,
   "id": "4f8cc94d",
   "metadata": {},
   "outputs": [],
   "source": []
  },
  {
   "cell_type": "code",
   "execution_count": null,
   "id": "af7748e8-8431-44b7-a335-169d74825356",
   "metadata": {},
   "outputs": [],
   "source": []
  }
 ],
 "metadata": {
  "kernelspec": {
   "display_name": "Python 3 (ipykernel)",
   "language": "python",
   "name": "python3"
  },
  "language_info": {
   "codemirror_mode": {
    "name": "ipython",
    "version": 3
   },
   "file_extension": ".py",
   "mimetype": "text/x-python",
   "name": "python",
   "nbconvert_exporter": "python",
   "pygments_lexer": "ipython3",
   "version": "3.11.9"
  }
 },
 "nbformat": 4,
 "nbformat_minor": 5
}
