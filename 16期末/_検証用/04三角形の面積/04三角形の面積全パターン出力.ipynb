{
 "cells": [
  {
   "cell_type": "markdown",
   "id": "e0f811d1",
   "metadata": {},
   "source": [
    "# 04三角形の面積・全パターン出力"
   ]
  },
  {
   "cell_type": "code",
   "execution_count": 7,
   "id": "575f2e20-25b5-45c8-8739-fc6a0e5e36d9",
   "metadata": {},
   "outputs": [],
   "source": [
    "import os\n",
    "import pandas as pd\n",
    "\n",
    "B_MIN,B_MAX = 1,9\n",
    "H_MIN,H_MAX = 1,9"
   ]
  },
  {
   "cell_type": "code",
   "execution_count": 8,
   "id": "ec38a8d7-cf16-4cf3-8dee-0dfa97948ffa",
   "metadata": {},
   "outputs": [
    {
     "data": {
      "text/plain": [
       "81"
      ]
     },
     "execution_count": 8,
     "metadata": {},
     "output_type": "execute_result"
    }
   ],
   "source": [
    "def generate_combinations():\n",
    "\n",
    "    # 全ての組み合わせをリストとして格納\n",
    "    combinations = []\n",
    "\n",
    "    for bottom in range(B_MIN,B_MAX+1):\n",
    "        for height in range(H_MIN,H_MAX+1):\n",
    "            combinations.append([f\"{bottom} {height}\"])\n",
    "\n",
    "    return combinations\n",
    "\n",
    "combinations = generate_combinations()\n",
    "len(combinations)"
   ]
  },
  {
   "cell_type": "code",
   "execution_count": 15,
   "id": "a42eca56-6234-47ba-8342-235563575d92",
   "metadata": {},
   "outputs": [],
   "source": [
    "def solve(input_list):\n",
    "    b, h = map(int,input_list[0].split())\n",
    "    r = \"{:.1f}\".format(b*h/2)\n",
    "    output_list = [\n",
    "        f\"{b} x {h} ÷ 2 = {r}\",\n",
    "        f\"こたえは{r}cm^2です\",\n",
    "    ]\n",
    "    return output_list\n"
   ]
  },
  {
   "cell_type": "code",
   "execution_count": 16,
   "id": "c2bafefa-b1a4-463e-b132-5f10036ab1aa",
   "metadata": {},
   "outputs": [],
   "source": [
    "def output_all(out_xz_filename):\n",
    "    all_inputs = generate_combinations()\n",
    "    all_outputs = []\n",
    "\n",
    "    for answer_id in range(len(all_inputs)):\n",
    "        all_outputs.append(solve(all_inputs[answer_id]))        # 解答を求める\n",
    "\n",
    "    df_all = pd.DataFrame({\"in\":all_inputs, \"out\":all_outputs})\n",
    "    df_all.index += 1\n",
    "    os.makedirs(os.path.dirname(out_xz_filename), exist_ok=True)\n",
    "    df_all.to_csv(out_xz_filename)\n",
    "\n",
    "output_all(\"data/answer.csv.xz\")"
   ]
  },
  {
   "cell_type": "code",
   "execution_count": null,
   "id": "4f8cc94d",
   "metadata": {},
   "outputs": [],
   "source": []
  },
  {
   "cell_type": "code",
   "execution_count": null,
   "id": "af7748e8-8431-44b7-a335-169d74825356",
   "metadata": {},
   "outputs": [],
   "source": []
  }
 ],
 "metadata": {
  "kernelspec": {
   "display_name": "Python 3 (ipykernel)",
   "language": "python",
   "name": "python3"
  },
  "language_info": {
   "codemirror_mode": {
    "name": "ipython",
    "version": 3
   },
   "file_extension": ".py",
   "mimetype": "text/x-python",
   "name": "python",
   "nbconvert_exporter": "python",
   "pygments_lexer": "ipython3",
   "version": "3.11.9"
  }
 },
 "nbformat": 4,
 "nbformat_minor": 5
}
