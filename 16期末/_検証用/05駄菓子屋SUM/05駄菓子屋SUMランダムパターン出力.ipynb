{
 "cells": [
  {
   "cell_type": "markdown",
   "id": "e0f811d1",
   "metadata": {},
   "source": [
    "# ランダムパターン出力"
   ]
  },
  {
   "cell_type": "code",
   "execution_count": 23,
   "id": "575f2e20-25b5-45c8-8739-fc6a0e5e36d9",
   "metadata": {},
   "outputs": [],
   "source": [
    "import os\n",
    "import random\n",
    "import pandas as pd\n",
    "\n",
    "PERCENT_BY_NUMS = [3,5,8,10,10,12,12,12,14,14]  # Nごとの発生確率\n",
    "COUNT_OF_SAMPLES = 100\n",
    "DAGASHI_PRICE_MIN,DAGASHI_PRICE_MAX = 5,100"
   ]
  },
  {
   "cell_type": "code",
   "execution_count": 24,
   "id": "b8a827fc-e382-4955-920a-2bea36121f09",
   "metadata": {},
   "outputs": [
    {
     "data": {
      "text/plain": [
       "100"
      ]
     },
     "execution_count": 24,
     "metadata": {},
     "output_type": "execute_result"
    }
   ],
   "source": [
    "sum(PERCENT_BY_NUMS)"
   ]
  },
  {
   "cell_type": "code",
   "execution_count": 43,
   "id": "b7228498-8305-4222-8451-4fdfdfa224b4",
   "metadata": {},
   "outputs": [],
   "source": [
    "def get_random_inputs(not_list=[]):\n",
    "    while True:\n",
    "        generate_id = len(not_list)\n",
    "        generate_num,p_sum = 0,0\n",
    "        for generate_num,p in enumerate(PERCENT_BY_NUMS):\n",
    "            p_sum += p\n",
    "            if generate_id < p_sum:\n",
    "                generate_num+=1  # 0 からのindexで取得しているので＋１しておく\n",
    "                break\n",
    "\n",
    "        generate_start_pos = random.randint(1,generate_num)\n",
    "        generate_end_pos = random.randint(generate_num,generate_num)\n",
    "        generate_d = [random.randint(DAGASHI_PRICE_MIN,DAGASHI_PRICE_MAX) for i in range(generate_num)]\n",
    "\n",
    "        inputs = [f\"{generate_num} {generate_start_pos} {generate_end_pos}\",\" \".join([str(d) for d in generate_d])]\n",
    "        if inputs in not_list:\n",
    "            print(\"重複\", choice)\n",
    "            continue\n",
    "\n",
    "        return inputs\n",
    "    raise ValueError('無限ループしたようです')\n",
    "    \n",
    "#get_random_inputs()"
   ]
  },
  {
   "cell_type": "code",
   "execution_count": 44,
   "id": "a42eca56-6234-47ba-8342-235563575d92",
   "metadata": {},
   "outputs": [],
   "source": [
    "def solve(input_list):\n",
    "    N, S, E = map(int,input_list[0].split())\n",
    "    D = list(map(int,input_list[1].split()))\n",
    "    return [str(sum(D[S-1:E]))]"
   ]
  },
  {
   "cell_type": "code",
   "execution_count": 45,
   "id": "c2bafefa-b1a4-463e-b132-5f10036ab1aa",
   "metadata": {
    "scrolled": true
   },
   "outputs": [
    {
     "name": "stdout",
     "output_type": "stream",
     "text": [
      "done\n"
     ]
    }
   ],
   "source": [
    "def output_all(out_xz_filename):\n",
    "    all_inputs = []\n",
    "    all_outputs = []\n",
    "\n",
    "    for answer_id in range(COUNT_OF_SAMPLES):\n",
    "        all_inputs.append(get_random_inputs(all_inputs))\n",
    "        all_outputs.append(solve(all_inputs[answer_id]))        # 解答を求める\n",
    "\n",
    "    df_all = pd.DataFrame({\"in\":all_inputs, \"out\":all_outputs})\n",
    "    df_all.index += 1\n",
    "    os.makedirs(os.path.dirname(out_xz_filename), exist_ok=True)\n",
    "    df_all.to_csv(out_xz_filename)\n",
    "\n",
    "output_all(\"data/answer.csv.xz\")\n",
    "print('done')"
   ]
  },
  {
   "cell_type": "code",
   "execution_count": null,
   "id": "2516460f-ceeb-4c7b-b6a6-7fb9d77395e7",
   "metadata": {},
   "outputs": [],
   "source": []
  }
 ],
 "metadata": {
  "kernelspec": {
   "display_name": "Python 3 (ipykernel)",
   "language": "python",
   "name": "python3"
  },
  "language_info": {
   "codemirror_mode": {
    "name": "ipython",
    "version": 3
   },
   "file_extension": ".py",
   "mimetype": "text/x-python",
   "name": "python",
   "nbconvert_exporter": "python",
   "pygments_lexer": "ipython3",
   "version": "3.11.9"
  }
 },
 "nbformat": 4,
 "nbformat_minor": 5
}
