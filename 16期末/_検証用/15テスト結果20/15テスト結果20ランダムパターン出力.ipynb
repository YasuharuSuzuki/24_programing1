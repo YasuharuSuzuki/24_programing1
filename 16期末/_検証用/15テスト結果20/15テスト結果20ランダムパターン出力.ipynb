{
 "cells": [
  {
   "cell_type": "markdown",
   "id": "e0f811d1",
   "metadata": {},
   "source": [
    "# 15テスト結果20ランダムパターン出力"
   ]
  },
  {
   "cell_type": "code",
   "execution_count": 2,
   "id": "575f2e20-25b5-45c8-8739-fc6a0e5e36d9",
   "metadata": {},
   "outputs": [],
   "source": [
    "import os\n",
    "import random\n",
    "import pandas as pd\n",
    "\n",
    "COUNT_OF_SAMPLES = 100\n",
    "N_STUDENTS = 20\n",
    "TOP_RANK_DISPLAY_COUNT = 3\n",
    "EXAM_MAX = 100\n",
    "EXAM_MIN = 0\n",
    "\n",
    "# 特殊なテストケースを追加\n",
    "SPECIAL_CASES = [\n",
    "    [EXAM_MAX] * N_STUDENTS,   # すべての点数が同じケース\n",
    "    [EXAM_MIN] * N_STUDENTS,   # すべての点数が同じケース\n",
    "    list(range(EXAM_MAX, EXAM_MAX-N_STUDENTS, -1)),  # 降順に並んでいるケース\n",
    "    list(range(EXAM_MAX+1-N_STUDENTS, EXAM_MAX+1))  # 昇順に並んでいるケース\n",
    "]"
   ]
  },
  {
   "cell_type": "code",
   "execution_count": 7,
   "id": "b7228498-8305-4222-8451-4fdfdfa224b4",
   "metadata": {},
   "outputs": [
    {
     "data": {
      "text/plain": [
       "['100 100 100 100 100 100 100 100 100 100 100 100 100 100 100 100 100 100 100 100']"
      ]
     },
     "execution_count": 7,
     "metadata": {},
     "output_type": "execute_result"
    }
   ],
   "source": [
    "def get_random_inputs(not_list=[]):\n",
    "    while True:\n",
    "        output_id = len(not_list)\n",
    "        if output_id < len(SPECIAL_CASES):\n",
    "            test_results = SPECIAL_CASES[output_id]\n",
    "        else:\n",
    "            test_results = [random.randint(EXAM_MIN,EXAM_MAX) for _ in range(N_STUDENTS)]\n",
    "\n",
    "        inputs = [\" \".join([str(test_result) for test_result in test_results])]\n",
    "        if inputs not in not_list:\n",
    "            return inputs\n",
    "        print(\"重複\", choice)\n",
    "    raise ValueError('無限ループしたようです')\n",
    "    \n",
    "get_random_inputs()"
   ]
  },
  {
   "cell_type": "code",
   "execution_count": 8,
   "id": "a42eca56-6234-47ba-8342-235563575d92",
   "metadata": {},
   "outputs": [],
   "source": [
    "def solve(input_list):\n",
    "    # 入力を受け取る\n",
    "    scores = list(map(int, input_list[0].split()))\n",
    "    \n",
    "    # スコアを降順にソート\n",
    "    sorted_scores = sorted(scores, reverse=True)\n",
    "    \n",
    "    # 上位3つのスコアを出力\n",
    "    output_list = []\n",
    "    for i in range(TOP_RANK_DISPLAY_COUNT):\n",
    "        output_list.append(str(sorted_scores[i]))\n",
    "    return output_list\n"
   ]
  },
  {
   "cell_type": "code",
   "execution_count": 9,
   "id": "c2bafefa-b1a4-463e-b132-5f10036ab1aa",
   "metadata": {
    "scrolled": true
   },
   "outputs": [
    {
     "name": "stdout",
     "output_type": "stream",
     "text": [
      "done\n"
     ]
    }
   ],
   "source": [
    "def output_all(out_xz_filename):\n",
    "    all_inputs = []\n",
    "    all_outputs = []\n",
    "\n",
    "    for answer_id in range(COUNT_OF_SAMPLES):\n",
    "        all_inputs.append(get_random_inputs(all_inputs))\n",
    "        all_outputs.append(solve(all_inputs[answer_id]))        # 解答を求める\n",
    "\n",
    "    df_all = pd.DataFrame({\"in\":all_inputs, \"out\":all_outputs})\n",
    "    df_all.index += 1\n",
    "    os.makedirs(os.path.dirname(out_xz_filename), exist_ok=True)\n",
    "    df_all.to_csv(out_xz_filename)\n",
    "\n",
    "output_all(\"data/answer.csv.xz\")\n",
    "print('done')"
   ]
  },
  {
   "cell_type": "code",
   "execution_count": null,
   "id": "4f8cc94d",
   "metadata": {},
   "outputs": [],
   "source": []
  },
  {
   "cell_type": "code",
   "execution_count": null,
   "id": "2516460f-ceeb-4c7b-b6a6-7fb9d77395e7",
   "metadata": {},
   "outputs": [],
   "source": []
  }
 ],
 "metadata": {
  "kernelspec": {
   "display_name": "Python 3 (ipykernel)",
   "language": "python",
   "name": "python3"
  },
  "language_info": {
   "codemirror_mode": {
    "name": "ipython",
    "version": 3
   },
   "file_extension": ".py",
   "mimetype": "text/x-python",
   "name": "python",
   "nbconvert_exporter": "python",
   "pygments_lexer": "ipython3",
   "version": "3.11.9"
  }
 },
 "nbformat": 4,
 "nbformat_minor": 5
}
