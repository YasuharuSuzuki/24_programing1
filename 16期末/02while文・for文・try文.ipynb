{
 "cells": [
  {
   "cell_type": "markdown",
   "metadata": {},
   "source": [
    "<a href=\"https://colab.research.google.com/github/YasuharuSuzuki/24_programing1/blob/main/\" target=\"_parent\"><img src=\"https://colab.research.google.com/assets/colab-badge.svg\" alt=\"Open In Colab\"/></a>"
   ]
  },
  {
   "cell_type": "markdown",
   "metadata": {
    "id": "KSSJqXOosEeX"
   },
   "source": [
    "# 02 while文・for文・try文"
   ]
  },
  {
   "cell_type": "markdown",
   "metadata": {
    "id": "VRQcesdKsEec"
   },
   "source": [
    "## 四択問題\n",
    "- 以下の問題について、正解となる選択肢を出力してください"
   ]
  },
  {
   "cell_type": "markdown",
   "metadata": {},
   "source": [
    "---\n",
    "---\n",
    "---\n",
    "### 問6 ループの強制終了 (0.3点)\n",
    "Pythonでループ処理の途中で、残りの処理を終了してループを抜ける制御文はどれですか？  \n",
    "\n",
    "    1. break  \n",
    "    2. continue  \n",
    "    3. for - else  \n",
    "    4. finally  "
   ]
  },
  {
   "cell_type": "code",
   "execution_count": 1,
   "metadata": {
    "colab": {
     "base_uri": "https://localhost:8080/"
    },
    "executionInfo": {
     "elapsed": 265,
     "status": "ok",
     "timestamp": 1715146988599,
     "user": {
      "displayName": "鈴木康元",
      "userId": "15385942521303414593"
     },
     "user_tz": -540
    },
    "id": "_oiNYIaxsEed",
    "outputId": "c127d002-8e8c-45b3-d98b-c5304b00f17d"
   },
   "outputs": [
    {
     "name": "stdout",
     "output_type": "stream",
     "text": [
      "\n"
     ]
    }
   ],
   "source": [
    "# 解答の番号を出力してください\n",
    "print('')"
   ]
  },
  {
   "cell_type": "markdown",
   "metadata": {
    "id": "bP053hXUsEee"
   },
   "source": [
    "---\n",
    "---\n",
    "---\n",
    "### 問7 ループのエラー (0.3点)  \n",
    "- 次のコードにはエラーがあります。なぜでしょうか?\n",
    "\n",
    "```python\n",
    "for i in range(3):\n",
    "print(\"Hello\")\n",
    "    print(\"World\")\n",
    "```\n",
    "\n",
    "    1. range(3)の使い方が間違っている  \n",
    "    2. インデントが不適切である  \n",
    "    3. printの使い方が間違っている  \n",
    "    4. forの使い方が間違っている  \n"
   ]
  },
  {
   "cell_type": "code",
   "execution_count": 2,
   "metadata": {
    "colab": {
     "base_uri": "https://localhost:8080/"
    },
    "executionInfo": {
     "elapsed": 255,
     "status": "ok",
     "timestamp": 1715147036615,
     "user": {
      "displayName": "鈴木康元",
      "userId": "15385942521303414593"
     },
     "user_tz": -540
    },
    "id": "8cg5YTLosEee",
    "outputId": "c6671804-b225-4341-ea70-8833bd5eb194"
   },
   "outputs": [
    {
     "name": "stdout",
     "output_type": "stream",
     "text": [
      "\n"
     ]
    }
   ],
   "source": [
    "# 解答の番号を出力してください\n",
    "print('')"
   ]
  },
  {
   "cell_type": "markdown",
   "metadata": {},
   "source": [
    "---\n",
    "---\n",
    "---\n",
    "### 問8 例外の補足 (0.3点)\n",
    "\n",
    "Pythonで例外を補足するブロックを指定するための制御文はどれですか？\n",
    "\n",
    "    1. try ～ catch  \n",
    "    2. try ～ except  \n",
    "    3. error ～ catch  \n",
    "    4. try ～ finally  \n"
   ]
  },
  {
   "cell_type": "code",
   "execution_count": 3,
   "metadata": {
    "colab": {
     "base_uri": "https://localhost:8080/"
    },
    "executionInfo": {
     "elapsed": 278,
     "status": "ok",
     "timestamp": 1715147048787,
     "user": {
      "displayName": "鈴木康元",
      "userId": "15385942521303414593"
     },
     "user_tz": -540
    },
    "id": "y2CxWqMusEef",
    "outputId": "8129fcea-362e-4f33-d57b-529f8313a51f"
   },
   "outputs": [
    {
     "name": "stdout",
     "output_type": "stream",
     "text": [
      "\n"
     ]
    }
   ],
   "source": [
    "# 解答の番号を出力してください\n",
    "print('')"
   ]
  },
  {
   "cell_type": "markdown",
   "metadata": {
    "id": "sqzgb-X2sEef"
   },
   "source": [
    "---\n",
    "---\n",
    "---\n",
    "---\n",
    "---\n",
    "## アルゴリズム問題"
   ]
  },
  {
   "cell_type": "markdown",
   "metadata": {},
   "source": [
    "### 問9 SplitOut (1.5点)\n",
    "\n",
    "### 問題文\n",
    "空白区切りの文字列が1行で与えられます。\n",
    "与えられた文字列を空白区切りで分割し、1行に1単語ずつ出力してください。 "
   ]
  },
  {
   "cell_type": "markdown",
   "metadata": {},
   "source": [
    "---\n",
    "---"
   ]
  },
  {
   "cell_type": "markdown",
   "metadata": {},
   "source": [
    "### 制約\n",
    "\n",
    "- 2 ≤ 単語数 ≤ 7\n",
    "- 各単語は1文字以上100文字以下の日本語文字列\n",
    "- 単語と単語の間は半角スペース1つで区切られている"
   ]
  },
  {
   "cell_type": "markdown",
   "metadata": {},
   "source": [
    "---\n",
    "---"
   ]
  },
  {
   "cell_type": "markdown",
   "metadata": {},
   "source": [
    "### 入力\n",
    "入力は以下の形式で標準入力から与えられます\n",
    "\n",
    "---\n",
    "$ S $\n",
    "\n",
    "---\n",
    "\n",
    "\n",
    "Sは空白区切りの文字列"
   ]
  },
  {
   "cell_type": "markdown",
   "metadata": {},
   "source": [
    "---\n",
    "---"
   ]
  },
  {
   "cell_type": "markdown",
   "metadata": {},
   "source": [
    "### 出力\n",
    "入力で与えられた文字列を単語ごとに分割し、1行に1単語ずつ出力してください。"
   ]
  },
  {
   "cell_type": "markdown",
   "metadata": {},
   "source": [
    "---\n",
    "---\n",
    "\n",
    "### 入力例1\n",
    "---\n",
    "```python\n",
    "こんにちは 世界\n",
    "```\n",
    "---\n",
    "\n",
    "### 出力例1\n",
    "---\n",
    "```python\n",
    "こんにちは\n",
    "世界\n",
    "```\n",
    "---"
   ]
  },
  {
   "cell_type": "markdown",
   "metadata": {},
   "source": [
    "---\n",
    "---"
   ]
  },
  {
   "cell_type": "markdown",
   "metadata": {},
   "source": [
    "### 入力例2\n",
    "---\n",
    "```python\n",
    "私 は プログラミング が 好き です\n",
    "```\n",
    "---\n",
    "\n",
    "### 出力例2\n",
    "---\n",
    "```python\n",
    "私\n",
    "は\n",
    "プログラミング\n",
    "が\n",
    "好き\n",
    "です\n",
    "```\n",
    "---\n"
   ]
  },
  {
   "cell_type": "markdown",
   "metadata": {},
   "source": [
    "---\n",
    "---"
   ]
  },
  {
   "cell_type": "markdown",
   "metadata": {},
   "source": [
    "### ここ↓にPythonコードを記述してください"
   ]
  },
  {
   "cell_type": "code",
   "execution_count": 1,
   "metadata": {},
   "outputs": [
    {
     "name": "stdin",
     "output_type": "stream",
     "text": [
      " 寿司 天ぷら うどん そば ラーメン\n"
     ]
    },
    {
     "name": "stdout",
     "output_type": "stream",
     "text": [
      "寿司\n",
      "天ぷら\n",
      "うどん\n",
      "そば\n",
      "ラーメン\n"
     ]
    }
   ],
   "source": [
    "\n"
   ]
  },
  {
   "cell_type": "markdown",
   "metadata": {
    "colab": {
     "base_uri": "https://localhost:8080/"
    },
    "executionInfo": {
     "elapsed": 268,
     "status": "ok",
     "timestamp": 1715147255303,
     "user": {
      "displayName": "鈴木康元",
      "userId": "15385942521303414593"
     },
     "user_tz": -540
    },
    "id": "AXmjTxIdsEeg",
    "outputId": "2e2c42b9-ea55-4aae-c6cf-38e3e3f47720"
   },
   "source": [
    "---\n",
    "---\n",
    "---\n",
    "### 問10 FizzBuzz (1.5点)\n",
    "N以上M以下の整数について、以下のルールに従って出力してください\n",
    "\n",
    "- 3の倍数のときは \"Fizz\" を出力\n",
    "- 5の倍数のときは \"Buzz\" を出力\n",
    "- 3と5の両方の倍数のときは \"FizzBuzz\" を出力- \n",
    "- それ以外の数のときは、その数自体を出力"
   ]
  },
  {
   "cell_type": "markdown",
   "metadata": {},
   "source": [
    "### 制約\n",
    "- 1 ≤ N < M ≤ 100\n",
    "- N, Mは整数"
   ]
  },
  {
   "cell_type": "markdown",
   "metadata": {},
   "source": [
    "### 入力\n",
    "入力は以下の形式で標準入力から与えられます。\n",
    "\n",
    "---\n",
    "\n",
    "$ N \\quad M $  \n",
    "\n",
    "---\n"
   ]
  },
  {
   "cell_type": "markdown",
   "metadata": {},
   "source": [
    "### 出力\n",
    "N以上M以下の各整数について、FizzBuzzのルールに従って空白区切りで1行に出力してください。"
   ]
  },
  {
   "cell_type": "markdown",
   "metadata": {},
   "source": [
    "---\n",
    "---"
   ]
  },
  {
   "cell_type": "markdown",
   "metadata": {},
   "source": [
    "### 入力例1\n",
    "---\n",
    "\n",
    "$ 1 \\quad 15 $\n",
    "\n",
    "---\n",
    "\n",
    "### 出力例1\n",
    "---\n",
    "```\n",
    "1 2 Fizz 4 Buzz Fizz 7 8 Fizz Buzz 11 Fizz 13 14 FizzBuzz\n",
    "```\n",
    "---\n"
   ]
  },
  {
   "cell_type": "markdown",
   "metadata": {},
   "source": [
    "---\n",
    "---"
   ]
  },
  {
   "cell_type": "markdown",
   "metadata": {},
   "source": [
    "### 入力例2\n",
    "---\n",
    "\n",
    "$ 14 \\quad 20 $\n",
    "\n",
    "---\n",
    "\n",
    "### 出力例2\n",
    "---\n",
    "```\n",
    "14 FizzBuzz 16 17 Fizz 19 Buzz\n",
    "```\n",
    "---\n"
   ]
  },
  {
   "cell_type": "markdown",
   "metadata": {},
   "source": [
    "---\n",
    "---\n",
    "### ここ↓にPythonコードを記述してください"
   ]
  },
  {
   "cell_type": "code",
   "execution_count": 3,
   "metadata": {},
   "outputs": [
    {
     "name": "stdin",
     "output_type": "stream",
     "text": [
      " 79 100\n"
     ]
    },
    {
     "name": "stdout",
     "output_type": "stream",
     "text": [
      "79 Buzz Fizz 82 83 Fizz Buzz 86 Fizz 88 89 FizzBuzz 91 92 Fizz 94 Buzz Fizz 97 98 Fizz Buzz\n"
     ]
    }
   ],
   "source": [
    "\n"
   ]
  },
  {
   "cell_type": "code",
   "execution_count": null,
   "metadata": {},
   "outputs": [],
   "source": []
  }
 ],
 "metadata": {
  "colab": {
   "provenance": [
    {
     "file_id": "https://github.com/YasuharuSuzuki/24_programing2/blob/main/04%E8%BE%9E%E6%9B%B8/01%E8%BE%9E%E6%9B%B8%E3%82%92%E4%BD%9C%E3%82%8B.ipynb",
     "timestamp": 1715146358060
    }
   ]
  },
  "kernelspec": {
   "display_name": "Python 3 (ipykernel)",
   "language": "python",
   "name": "python3"
  },
  "language_info": {
   "codemirror_mode": {
    "name": "ipython",
    "version": 3
   },
   "file_extension": ".py",
   "mimetype": "text/x-python",
   "name": "python",
   "nbconvert_exporter": "python",
   "pygments_lexer": "ipython3",
   "version": "3.11.9"
  }
 },
 "nbformat": 4,
 "nbformat_minor": 4
}
