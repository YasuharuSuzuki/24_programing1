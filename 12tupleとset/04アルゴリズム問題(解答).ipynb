{
 "cells": [
  {
   "cell_type": "markdown",
   "metadata": {
    "colab_type": "text",
    "id": "view-in-github"
   },
   "source": [
    "<a href=\"https://colab.research.google.com/github/YasuharuSuzuki/24_programing1/blob/main/\" target=\"_parent\"><img src=\"https://colab.research.google.com/assets/colab-badge.svg\" alt=\"Open In Colab\"/></a>"
   ]
  },
  {
   "cell_type": "markdown",
   "metadata": {},
   "source": [
    "# アルゴリズム問題\n",
    "- 3問あります"
   ]
  },
  {
   "cell_type": "markdown",
   "metadata": {},
   "source": [
    "## 練習プログラム6　順番による割引  (0.8点)\n",
    "\n",
    "あなたは3つの商品を購入することにしました。店のルールでは、購入する順番によって以下のように割引が適用されます\n",
    "\n",
    "- 2番目に購入する商品は、1番目に購入した商品より安い場合のみ20%割引\n",
    "- 3番目に購入する商品は、2番目に購入した商品より安い場合のみ30%割引\n",
    "\n",
    "3つの商品の価格が与えられるので、最も安く購入できる合計金額を求めてください。  \n",
    "購入する順番は自由に変更できます。"
   ]
  },
  {
   "cell_type": "markdown",
   "metadata": {},
   "source": [
    "### 制約\n",
    "\n",
    "- 1 ≤ 各商品の価格 ≤ 10000\n",
    "- 各商品の価格は整数\n",
    "- 割引後の価格も整数になるように切り捨てで計算する\n"
   ]
  },
  {
   "cell_type": "markdown",
   "metadata": {},
   "source": [
    "### 入力\n",
    "\n",
    "---\n",
    "A B C\n",
    "\n",
    "---\n",
    "\n",
    "1行に空白区切りで3つの整数A, B, Cが与えられる。  \n",
    "それぞれ商品の価格を表す。"
   ]
  },
  {
   "cell_type": "markdown",
   "metadata": {},
   "source": [
    "### 出力\n",
    "\n",
    "最も安く購入できる合計金額を1行で出力してください。"
   ]
  },
  {
   "cell_type": "markdown",
   "metadata": {},
   "source": [
    "---\n",
    "---\n",
    "\n",
    "### 入力例1\n",
    "標準的なケース\n",
    "\n",
    "---\n",
    "```python\n",
    "300 200 100\n",
    "```\n",
    "---\n",
    "\n",
    "### 出力例1\n",
    "---\n",
    "```python\n",
    "530\n",
    "```\n",
    "---\n",
    "\n",
    "2番目に小さい値に0.8、最も小さい値に0.7を掛けて足し合わせます  \n",
    "```\n",
    "300 + 200*0.8 + 100*0.7  \n",
    "= 300 + 160 + 70  \n",
    "= 530  \n",
    "```"
   ]
  },
  {
   "cell_type": "markdown",
   "metadata": {},
   "source": [
    "---\n",
    "---"
   ]
  },
  {
   "cell_type": "markdown",
   "metadata": {},
   "source": [
    "### 入力例2\n",
    "標準的なケース2\n",
    "\n",
    "---\n",
    "```python\n",
    "100 300 200\n",
    "```\n",
    "---\n",
    "\n",
    "### 出力例2\n",
    "---\n",
    "```python\n",
    "530\n",
    "```\n",
    "---\n",
    "\n",
    "購入する順番は自由に変更可能なため、同じ数列を違う並び順で入力した場合、結果は同じになります\n"
   ]
  },
  {
   "cell_type": "markdown",
   "metadata": {},
   "source": [
    "### 入力例3\n",
    "大きい順に並べても最適な値にならない例\n",
    "\n",
    "---\n",
    "```python\n",
    "1 99 100\n",
    "```\n",
    "---\n",
    "\n",
    "### 出力例3\n",
    "---\n",
    "```python\n",
    "170\n",
    "```\n",
    "---\n",
    "\n",
    "ソート後に2番目に小さい値に0.8、最も小さい値に0.7を掛けて足し合わせてみると  \n",
    "```\n",
    "100 + 99*0.8 + 1*0.7  \n",
    "= 100 + 79 + 0  \n",
    "= 179\n",
    "```\n",
    "\n",
    "順番を変えると\n",
    "```\n",
    "1 + 100 + 99*0.7  \n",
    "= 1 + 100 + 69  \n",
    "= 170\n",
    "```"
   ]
  },
  {
   "cell_type": "markdown",
   "metadata": {},
   "source": [
    "### 入力例4\n",
    "３つ同じ価格の場合\n",
    "\n",
    "---\n",
    "```python\n",
    "100 100 100\n",
    "```\n",
    "---\n",
    "\n",
    "### 出力例4\n",
    "---\n",
    "```python\n",
    "300\n",
    "```\n",
    "---\n",
    " ”より小さい”の条件を満たさないため、すべてそのまま足し合わせます"
   ]
  },
  {
   "cell_type": "markdown",
   "metadata": {},
   "source": [
    "### 入力例5\n",
    "大きい２つの価格が同じケース\n",
    "\n",
    "---\n",
    "```python\n",
    "99 100 100\n",
    "```\n",
    "---\n",
    "\n",
    "### 出力例5\n",
    "---\n",
    "```python\n",
    "269\n",
    "```\n",
    "---\n",
    "最も小さい値にのみ0.7を掛けて足し合わせます"
   ]
  },
  {
   "cell_type": "markdown",
   "metadata": {},
   "source": [
    "### 入力例6\n",
    "小さい２つの価格が同じケース\n",
    "\n",
    "---\n",
    "```python\n",
    "99 99 100\n",
    "```\n",
    "---\n",
    "\n",
    "### 出力例6\n",
    "---\n",
    "```python\n",
    "268\n",
    "```\n",
    "---\n",
    "\n",
    "3つ目にのみ0.7を掛けて足し合わせます\n",
    "```\n",
    "99 + 100 + 99*0.7  \n",
    "= 99 + 100 + 69  \n",
    "= 268\n",
    "```\n"
   ]
  },
  {
   "cell_type": "markdown",
   "metadata": {},
   "source": [
    "---"
   ]
  },
  {
   "cell_type": "markdown",
   "metadata": {},
   "source": [
    "### ここ↓にPythonコードを記述してください"
   ]
  },
  {
   "cell_type": "code",
   "execution_count": 4,
   "metadata": {},
   "outputs": [
    {
     "name": "stdin",
     "output_type": "stream",
     "text": [
      " 99 99 100\n"
     ]
    },
    {
     "name": "stdout",
     "output_type": "stream",
     "text": [
      "268\n"
     ]
    }
   ],
   "source": [
    "# if 文による解決\n",
    "prices = list(map(int,input().split()))\n",
    "prices = sorted(prices, reverse=True)\n",
    "total = 0\n",
    "if prices[0] == prices[1]:  # 大きい順に２つ同じ価格の場合\n",
    "    if prices[0] == prices[2]:  # ３つ同じ価格の場合\n",
    "        total = prices[0] + prices[1] + prices[2]  # ”より小さい”の条件を満たさないため、すべて足し合わせる\n",
    "    else:\n",
    "        total = prices[0] + prices[1] + prices[2] * 0.7  # ３つ目のみ小さい場合は３つ目にのみ0.7を掛ける\n",
    "elif prices[1] == prices[2]:  # 小さい順に２つ同じ価格の場合\n",
    "    total = prices[1] + prices[0] + prices[2] * 0.7  # ３つ目にのみ0.7を掛ける\n",
    "else:  # すべて違う値の場合\n",
    "    total = min(prices[0] + prices[1]*0.8 + prices[2]*0.7,\n",
    "                # prices[0] + prices[2]*0.8 + prices[1],  # この組み合わせが、大きい順にならべた組み合わせより安くなることはない\n",
    "                # prices[1] + prices[0] + prices[2]*0.7,  # この組み合わせが、大きい順にならべた組み合わせより安くなることはない\n",
    "                # prices[1] + prices[2]*0.8 + prices[0],  # この組み合わせが、大きい順にならべた組み合わせより安くなることはない\n",
    "                prices[2] + prices[0] + prices[1]*0.7)  # この組み合わせは安くなる可能性あり ex. 100 99 1 など\n",
    "                # prices[2] + prices[1]*0.8 + prices[0])  # この組み合わせは安くなる可能性なし\n",
    "\n",
    "print(int(total))"
   ]
  },
  {
   "cell_type": "markdown",
   "metadata": {},
   "source": [
    "#### 別解"
   ]
  },
  {
   "cell_type": "code",
   "execution_count": 1,
   "metadata": {},
   "outputs": [
    {
     "name": "stdin",
     "output_type": "stream",
     "text": [
      " 99 99 100\n"
     ]
    },
    {
     "name": "stdout",
     "output_type": "stream",
     "text": [
      "268\n"
     ]
    }
   ],
   "source": [
    "# for 文による解決(総当たり・全探索)\n",
    "prices = list(map(int,input().split()))\n",
    "indexes = [[0,1,2],[0,2,1],[1,0,2],[1,2,0],[2,0,1],[2,1,0]]\n",
    "total = 30000\n",
    "for count in range(6):\n",
    "    index1, index2, index3 = indexes[count]\n",
    "    price1 = prices[index1]\n",
    "    price2 = prices[index2]\n",
    "    price3 = prices[index3]\n",
    "    \n",
    "    if price1 > price2:\n",
    "        price1 += price2 * 0.8\n",
    "    else:\n",
    "        price1 += price2\n",
    "\n",
    "    if price2 > price3:\n",
    "        price1 += price3 * 0.7\n",
    "    else:\n",
    "        price1 += price3\n",
    "\n",
    "    total = min(total, int(price1))\n",
    "\n",
    "print(total)"
   ]
  },
  {
   "cell_type": "markdown",
   "metadata": {},
   "source": [
    "---\n",
    "---\n",
    "---"
   ]
  },
  {
   "cell_type": "markdown",
   "metadata": {},
   "source": [
    "## 練習プログラム7　Adding FizzBuzz(1点)"
   ]
  },
  {
   "cell_type": "markdown",
   "metadata": {
    "jp-MarkdownHeadingCollapsed": true
   },
   "source": [
    "### 問題文\n",
    "- 数列 $ A_1 $ 〜 $ A_N $ が与えられます\n",
    "- 要素を１つずつ取り出し、取り出した位置までの合計値が３の倍数の場合\"Fizz\"、5の倍数の場合\"Buzz\"、15の倍数の場合は\"FizzBuzz\"と出力し、いずれにも該当しない場合は合計値をそのまま出力してください。"
   ]
  },
  {
   "cell_type": "markdown",
   "metadata": {
    "jp-MarkdownHeadingCollapsed": true
   },
   "source": [
    "### 制約\n",
    "\n",
    "$ 1 \\leqq N \\leqq 10 \\qquad ※ N は整数 $  \n",
    "$ 1 \\leqq A_i \\leqq 10 \\qquad ※ A_i は整数 $  \n"
   ]
  },
  {
   "cell_type": "markdown",
   "metadata": {},
   "source": [
    "### 入力\n",
    "入力は以下の形式で標準入力から与えられます。\n",
    "\n",
    "---\n",
    "\n",
    "$ N $  \n",
    "$ A_1 \\quad A_2 \\quad ... \\quad A_N $  \n",
    "\n",
    "---\n",
    "\n",
    "- 各値は空白区切りです"
   ]
  },
  {
   "cell_type": "markdown",
   "metadata": {},
   "source": [
    "### 出力\n",
    "\n",
    "$ N $ 行出力せよ。  \n",
    "$i (1≤i≤N) $ 行目には、配列 $ A_1 $ 〜 $ A_i $ の合計値を計算し、その合計値が３の倍数の場合`Fizz`、5の倍数の場合`Buzz`、15の倍数の場合は`FizzBuzz`と出力し、いずれにも該当しない場合は合計値をそのまま出力してください。"
   ]
  },
  {
   "cell_type": "markdown",
   "metadata": {},
   "source": [
    "### 入力例1\n",
    "\n",
    "---\n",
    "```\n",
    "4\n",
    "7 2 4 4\n",
    "```\n",
    "---\n",
    "\n",
    "### 出力例1\n",
    "---\n",
    "```\n",
    "7\n",
    "Fizz\n",
    "13\n",
    "17\n",
    "```\n",
    "---\n",
    "\n",
    "$ i = 2 $ の時に、合計値が9となり、３の倍数のため`Fizz`と出力します。  \n",
    "その他では合計値をそのまま出力します。  "
   ]
  },
  {
   "cell_type": "markdown",
   "metadata": {},
   "source": [
    "### 入力例2\n",
    "\n",
    "---\n",
    "```\n",
    "8\n",
    "6 2 7 10 9 3 7 4\n",
    "```\n",
    "---\n",
    "\n",
    "### 出力例2\n",
    "---\n",
    "```\n",
    "Fizz\n",
    "8\n",
    "FizzBuzz\n",
    "Buzz\n",
    "34\n",
    "37\n",
    "44\n",
    "Fizz\n",
    "```\n",
    "---\n"
   ]
  },
  {
   "cell_type": "markdown",
   "metadata": {},
   "source": [
    "### ここ↓にPythonコードを記述してください"
   ]
  },
  {
   "cell_type": "code",
   "execution_count": 21,
   "metadata": {},
   "outputs": [
    {
     "name": "stdin",
     "output_type": "stream",
     "text": [
      " 8\n",
      " 6 2 7 10 9 3 7 4\n"
     ]
    },
    {
     "name": "stdout",
     "output_type": "stream",
     "text": [
      "Fizz\n",
      "8\n",
      "FizzBuzz\n",
      "Buzz\n",
      "34\n",
      "37\n",
      "44\n",
      "Fizz\n"
     ]
    }
   ],
   "source": [
    "# 入力を受け取る\n",
    "n = int(input())\n",
    "a = list(map(int,input().split()))\n",
    "count = 0\n",
    "for ai in a:\n",
    "    count += ai\n",
    "    if count%15 == 0:\n",
    "        print('FizzBuzz')\n",
    "    elif count%3 == 0:\n",
    "        print('Fizz')\n",
    "    elif count%5 == 0:\n",
    "        print('Buzz')\n",
    "    else:\n",
    "        print(count)"
   ]
  },
  {
   "cell_type": "markdown",
   "metadata": {},
   "source": [
    "---\n",
    "---\n",
    "---"
   ]
  },
  {
   "cell_type": "markdown",
   "metadata": {},
   "source": [
    "## 練習プログラム8　チューリップ(1点)"
   ]
  },
  {
   "cell_type": "markdown",
   "metadata": {},
   "source": [
    "### 問題文\n",
    "- ゆるるくんは、花壇に３本のチューリップの球根を植えました。色は赤、白、黄のいずれかです。\n",
    "- 球根の状態から購入したのですが、何色かを気にせずに購入してしまったため、咲いてみるまで色がわかりません。\n",
    "- 実際に咲いたときの色に応じたゆるるくんの感想を出力してください。\n",
    "- 色の値が漢字で入力されます。入力は $ C_1 \\quad C_2 \\quad C_3 $ で与えられます。\n",
    "- ３本とも同じ色の場合は全部同じ色であることを出力してください。\n",
    "  - 例：全部赤の場合は「全部赤！」\n",
    "- すべての色が異なる場合は「キレイだなぁ〜」と出力してください。\n",
    "- 全て同じ色でもなく、かつ全て違う色でもない場合は、購入していない色を出力してください。\n",
    "  - 例：白を購入していない場合は「白が欲しいなぁ〜」"
   ]
  },
  {
   "cell_type": "markdown",
   "metadata": {},
   "source": [
    "### 制約\n",
    "\n",
    "$ C_i $は'赤','白','黄'のいずれかからなる文字\n"
   ]
  },
  {
   "cell_type": "markdown",
   "metadata": {},
   "source": [
    "### 入力\n",
    "入力は以下の形式で標準入力から与えられます\n",
    "\n",
    "---\n",
    "$ C_1 \\quad C_2 \\quad C_3 $\n",
    "\n",
    "---\n",
    "\n",
    "チューリップの色 $ C_i $ を受け取ります"
   ]
  },
  {
   "cell_type": "markdown",
   "metadata": {},
   "source": [
    "### 出力\n",
    "\n",
    "全て同じ色のときは「全部$ C_i $！」と出力せよ。  \n",
    "全て違う色のときは「キレイだなぁ〜」と出力せよ。  \n",
    "全て同じ色でもなく、かつ全て違う色でもない場合は、購入していない色(C_n)を「$ C_n $が欲しいなぁ〜」と出力せよ。  "
   ]
  },
  {
   "cell_type": "markdown",
   "metadata": {},
   "source": [
    "### 入力例1\n",
    "\n",
    "---\n",
    "```\n",
    "赤 赤 赤\n",
    "```\n",
    "---\n",
    "\n",
    "### 出力例1\n",
    "---\n",
    "```\n",
    "全部赤！\n",
    "```\n",
    "---\n",
    "\n",
    "※ 全て同じ色のため「全部赤！」と出力してください。"
   ]
  },
  {
   "cell_type": "markdown",
   "metadata": {},
   "source": [
    "### 入力例2\n",
    "---\n",
    "```python\n",
    "赤 白 黄\n",
    "```\n",
    "---\n",
    "\n",
    "### 出力例2\n",
    "---\n",
    "```python\n",
    "キレイだなぁ〜\n",
    "```\n",
    "---\n",
    "※全て違う色のため「キレイだなぁ〜」と出力してください。"
   ]
  },
  {
   "cell_type": "markdown",
   "metadata": {},
   "source": [
    "### 入力例3\n",
    "---\n",
    "```python\n",
    "赤 白 白\n",
    "```\n",
    "---\n",
    "\n",
    "### 出力例3\n",
    "---\n",
    "```python\n",
    "黄が欲しいなぁ〜\n",
    "```\n",
    "---\n",
    "※全て同じ色でもなく、かつ全て違う色でもないため、未購入の色（黄）を用いて「黄が欲しいなぁ〜」と出力してください。"
   ]
  },
  {
   "cell_type": "code",
   "execution_count": 28,
   "metadata": {},
   "outputs": [
    {
     "name": "stdin",
     "output_type": "stream",
     "text": [
      " 赤 白 白\n"
     ]
    },
    {
     "name": "stdout",
     "output_type": "stream",
     "text": [
      "黃が欲しいなぁ\n"
     ]
    }
   ],
   "source": [
    "# setを使って解く\n",
    "all_color = {'赤','白','黃'}\n",
    "input_set1 = set(input().split())\n",
    "if len(input_set1) == 1:\n",
    "    print(f'全部{input_set1.pop()}！')\n",
    "elif len(input_set1) == 3:\n",
    "    print('キレイだなぁ〜')\n",
    "else:\n",
    "    print('{}が欲しいなぁ'.format(list(all_color - input_set1)[0]))"
   ]
  },
  {
   "cell_type": "markdown",
   "metadata": {},
   "source": [
    "#### 別解"
   ]
  },
  {
   "cell_type": "code",
   "execution_count": 26,
   "metadata": {},
   "outputs": [
    {
     "name": "stdin",
     "output_type": "stream",
     "text": [
      " 赤 白 白\n"
     ]
    },
    {
     "name": "stdout",
     "output_type": "stream",
     "text": [
      "黄が欲しいなぁ～\n"
     ]
    }
   ],
   "source": [
    "# if文で力技で解く\n",
    "a, b, c = input().split()\n",
    "if a == b == c:\n",
    "    print(f\"全部{a}！\")\n",
    "elif a != \"白\" and b != \"白\" and c != \"白\":\n",
    "    print(\"白が欲しいなぁ～\")\n",
    "elif a != \"赤\" and b != \"赤\" and c != \"赤\":\n",
    "    print(\"赤が欲しいなぁ～\")\n",
    "elif a != \"黄\" and b != \"黄\" and c != \"黄\":\n",
    "    print(\"黄が欲しいなぁ～\")\n",
    "else:\n",
    "    print(\"キレイだなぁ～\")"
   ]
  },
  {
   "cell_type": "code",
   "execution_count": null,
   "metadata": {},
   "outputs": [],
   "source": []
  },
  {
   "cell_type": "code",
   "execution_count": null,
   "metadata": {},
   "outputs": [],
   "source": []
  },
  {
   "cell_type": "code",
   "execution_count": null,
   "metadata": {},
   "outputs": [],
   "source": []
  }
 ],
 "metadata": {
  "colab": {
   "authorship_tag": "ABX9TyMOtB7OiTVLb+yu2KoVwjto",
   "include_colab_link": true,
   "provenance": []
  },
  "kernelspec": {
   "display_name": "Python 3 (ipykernel)",
   "language": "python",
   "name": "python3"
  },
  "language_info": {
   "codemirror_mode": {
    "name": "ipython",
    "version": 3
   },
   "file_extension": ".py",
   "mimetype": "text/x-python",
   "name": "python",
   "nbconvert_exporter": "python",
   "pygments_lexer": "ipython3",
   "version": "3.11.9"
  }
 },
 "nbformat": 4,
 "nbformat_minor": 4
}
