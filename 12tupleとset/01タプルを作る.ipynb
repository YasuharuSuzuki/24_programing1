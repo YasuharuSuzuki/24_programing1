{
 "cells": [
  {
   "cell_type": "markdown",
   "metadata": {
    "colab_type": "text",
    "id": "view-in-github"
   },
   "source": [
    "<a href=\"https://colab.research.google.com/github/YasuharuSuzuki/24_programing1/blob/main/\" target=\"_parent\"><img src=\"https://colab.research.google.com/assets/colab-badge.svg\" alt=\"Open In Colab\"/></a>"
   ]
  },
  {
   "cell_type": "markdown",
   "metadata": {},
   "source": [
    "# Section 12-1 タプルを作る\n",
    "タプルはリスト同様に複数の値をまとめて使う方法の１つです。  \n",
    "タプルはリストと違ってイミュータブルなオブジェクトですが、リストとほとんど同じ様に取り扱うことが出来ます。"
   ]
  },
  {
   "cell_type": "markdown",
   "metadata": {},
   "source": [
    "## タプル 参考サイト\n",
    "### [参考サイト1【Python早見表】タプル](https://chokkan.github.io/python/07tuple.html)\n",
    "\n",
    "### [参考サイト2【Python入門】タプル](https://utokyo-ipp.github.io/2/2-2.html#%E3%82%BF%E3%83%97%E3%83%AB-(tuple))"
   ]
  },
  {
   "cell_type": "markdown",
   "metadata": {},
   "source": [
    "---\n",
    "---\n",
    "---"
   ]
  },
  {
   "cell_type": "markdown",
   "metadata": {},
   "source": [
    "## サンプルプログラム1　タプルの作成・type・出力・参照・IndexError"
   ]
  },
  {
   "cell_type": "code",
   "execution_count": 1,
   "metadata": {},
   "outputs": [],
   "source": [
    "# タプルの作成 (数字でも、文字列でも可)\n",
    "kadai = (10, 9, 8, 9, 10, 9, 10, 11, 15, 7, 10, 9, 9, 10, 12) # 15回分の授業課題の点数\n",
    "seiseki_kanji = (\"不可\",\"可\",\"良\",\"優\",\"秀\") # 漢字表記の成績"
   ]
  },
  {
   "cell_type": "markdown",
   "metadata": {},
   "source": [
    "- 上記のように、数字でも、文字列でもタプルに追加することができます。\n",
    "- 数字と文字列を混在させることも可能です。\n",
    "- 要素を,で区切って並べ、全体を( )で囲んで作成します。"
   ]
  },
  {
   "cell_type": "code",
   "execution_count": 2,
   "metadata": {},
   "outputs": [
    {
     "name": "stdout",
     "output_type": "stream",
     "text": [
      "type(kadai)=<class 'tuple'>\n"
     ]
    }
   ],
   "source": [
    "# 型を確認\n",
    "print('type(kadai)={}'.format(type(kadai)))"
   ]
  },
  {
   "cell_type": "markdown",
   "metadata": {},
   "source": [
    "- tuple型となります。\n",
    "- list型や後で出てくるset型なども同様に複数の値をまとめて使う事ができますが、どれを使っているのかわからないときはこちらのようにtypeを使いましょう"
   ]
  },
  {
   "cell_type": "code",
   "execution_count": 3,
   "metadata": {},
   "outputs": [
    {
     "name": "stdout",
     "output_type": "stream",
     "text": [
      "seiseki_kanji[0]=不可\n",
      "seiseki_kanji[1]=可\n",
      "seiseki_kanji[4]=秀\n"
     ]
    }
   ],
   "source": [
    "# 要素の参照\n",
    "print(f'seiseki_kanji[0]={seiseki_kanji[0]}')\n",
    "print(f'seiseki_kanji[1]={seiseki_kanji[1]}')\n",
    "print(f'seiseki_kanji[4]={seiseki_kanji[4]}')"
   ]
  },
  {
   "cell_type": "markdown",
   "metadata": {},
   "source": [
    "- [ ]を使用してindexを指定すると、要素を取り出すことが出来ます。\n",
    "- indexはゼロスタートのため、5番目のデータを指定するには4を指定する必要があります。"
   ]
  },
  {
   "cell_type": "code",
   "execution_count": 4,
   "metadata": {},
   "outputs": [
    {
     "name": "stdout",
     "output_type": "stream",
     "text": [
      "seiseki_kanji[-1]=秀\n",
      "seiseki_kanji[-4]=可\n"
     ]
    }
   ],
   "source": [
    "# 要素の参照(マイナス値)\n",
    "print(f'seiseki_kanji[-1]={seiseki_kanji[-1]}')\n",
    "print(f'seiseki_kanji[-4]={seiseki_kanji[-4]}')"
   ]
  },
  {
   "cell_type": "markdown",
   "metadata": {},
   "source": [
    "- 要素にマイナス値を指定すると後ろからのindex値で取得することが出来ます。\n",
    "- Pythonならではの便利な機能です。他言語では配列外参照エラーになることも多いので気をつけましょう。"
   ]
  },
  {
   "cell_type": "code",
   "execution_count": 5,
   "metadata": {},
   "outputs": [
    {
     "name": "stdout",
     "output_type": "stream",
     "text": [
      "len(kadai)= 15\n",
      "len(seiseki_kanji)= 5\n"
     ]
    }
   ],
   "source": [
    "# タプルの長さ\n",
    "print('len(kadai)=',len(kadai))\n",
    "print('len(seiseki_kanji)=',len(seiseki_kanji))"
   ]
  },
  {
   "cell_type": "markdown",
   "metadata": {},
   "source": [
    "- tupleの長さはlen()で取得できます。"
   ]
  },
  {
   "cell_type": "code",
   "execution_count": 6,
   "metadata": {},
   "outputs": [
    {
     "name": "stdout",
     "output_type": "stream",
     "text": [
      "11\n",
      "範囲外参照エラー tuple index out of range\n"
     ]
    }
   ],
   "source": [
    "# タプルの長さを超えた要素を参照しようとするとエラー(IndexError)になる。\n",
    "try:\n",
    "    index = int(input()) # 入力値をintに変換してindexという変数で受け取る\n",
    "    print(f'seiseki_kanji[{index}]={seiseki_kanji[index]}') # 漢字の成績を表示する\n",
    "except IndexError as e: # IndexErrorの捕捉\n",
    "    print('範囲外参照エラー', e)"
   ]
  },
  {
   "cell_type": "markdown",
   "metadata": {},
   "source": [
    "---"
   ]
  },
  {
   "cell_type": "markdown",
   "metadata": {},
   "source": [
    "## 練習プログラム1 (2.4点)\n",
    "1. タプルを作成してみましょう\n",
    "1. タプルの型を出力してみましょう\n",
    "1. 要素を参照してみましょう\n",
    "1. 要素をマイナス値で指定して参照してみましょう\n",
    "1. タプルの長さを出力してみましょう\n",
    "1. 入力値 i を整数値で取得し、作成したタプルの要素 i を表示するプログラムを作成してみましょう\n",
    "  - ただし、IndexErrorのときは'範囲外参照エラー'と表示すること"
   ]
  },
  {
   "cell_type": "code",
   "execution_count": 1,
   "metadata": {},
   "outputs": [],
   "source": [
    "# 1. タプルを作成してみましょう\n",
    "# 入れる値は何でも良いですが、このNotebookのサンプルプログラムとは違う独自の値を入れましょう\n",
    "# 変数名も独自のものに変えましょう\n",
    "\n",
    "# ここにPythonプログラムを記述してください"
   ]
  },
  {
   "cell_type": "code",
   "execution_count": 8,
   "metadata": {},
   "outputs": [],
   "source": [
    "# 2. 作成したタプルの型を出力してみましょう\n",
    "# 変数名を変えているはずですので、間違いないように型を出力してみましょう\n",
    "\n",
    "# ここにPythonプログラムを記述してください"
   ]
  },
  {
   "cell_type": "code",
   "execution_count": 9,
   "metadata": {},
   "outputs": [],
   "source": [
    "# 3. 要素を参照してみましょう\n",
    "# 変数名を変えているはずですので、間違いないように要素を出力してみましょう\n",
    "\n",
    "# ここにPythonプログラムを記述してください"
   ]
  },
  {
   "cell_type": "code",
   "execution_count": 10,
   "metadata": {},
   "outputs": [],
   "source": [
    "# 4. 要素をマイナス値で指定して参照してみましょう\n",
    "# 変数名を変えているはずですので、間違いないように要素を出力してみましょう\n",
    "\n",
    "# ここにPythonプログラムを記述してください"
   ]
  },
  {
   "cell_type": "code",
   "execution_count": 11,
   "metadata": {},
   "outputs": [],
   "source": [
    "# 5. タプルの長さを出力してみましょう\n",
    "# 変数名を変えているはずですので、間違いないようにタプルの長さを出力してみましょう\n",
    "\n",
    "# ここにPythonプログラムを記述してください"
   ]
  },
  {
   "cell_type": "code",
   "execution_count": 12,
   "metadata": {},
   "outputs": [],
   "source": [
    "# 6. 入力値 i を整数値で取得し、作成したタプルの要素 i を表示するプログラムを作成してみましょう\n",
    "# 変数名を変えているはずですので、間違いないようにタプルの要素を出力してみましょう\n",
    "# 入力値によってはIndexErrorが発生するため、そのときは'範囲外参照エラー'と表示しましょう\n",
    "\n",
    "# ここにPythonプログラムを記述してください"
   ]
  },
  {
   "cell_type": "code",
   "execution_count": null,
   "metadata": {},
   "outputs": [],
   "source": []
  },
  {
   "cell_type": "markdown",
   "metadata": {},
   "source": [
    "---\n",
    "---\n",
    "---"
   ]
  },
  {
   "cell_type": "markdown",
   "metadata": {},
   "source": [
    "## サンプルプログラム2　タプルのアンパック・in演算子・sum(),max(),min()・比較"
   ]
  },
  {
   "cell_type": "markdown",
   "metadata": {},
   "source": [
    "- タプルの各要素の値をカンマ区切りの変数に取り出すことができます（「アンパック」と呼ばれる）。\n",
    "- in 演算子やsum(),max(),min()などもリストと同様に使用することが出来ます\n",
    "- tupleは変数へ代入すると参照を保持するため、比較もほとんどリストと同様の挙動を示します。"
   ]
  },
  {
   "cell_type": "code",
   "execution_count": 13,
   "metadata": {},
   "outputs": [],
   "source": [
    "# タプルの各要素の値をカンマ区切りの変数に取り出すことができます（「アンパック」と呼ばれる）。\n",
    "fuka, ka, ryo, yu, shu = seiseki_kanji"
   ]
  },
  {
   "cell_type": "code",
   "execution_count": 14,
   "metadata": {},
   "outputs": [
    {
     "data": {
      "text/plain": [
       "'不可'"
      ]
     },
     "execution_count": 14,
     "metadata": {},
     "output_type": "execute_result"
    }
   ],
   "source": [
    "fuka"
   ]
  },
  {
   "cell_type": "code",
   "execution_count": 15,
   "metadata": {},
   "outputs": [
    {
     "data": {
      "text/plain": [
       "'優'"
      ]
     },
     "execution_count": 15,
     "metadata": {},
     "output_type": "execute_result"
    }
   ],
   "source": [
    "yu"
   ]
  },
  {
   "cell_type": "code",
   "execution_count": 16,
   "metadata": {},
   "outputs": [
    {
     "data": {
      "text/plain": [
       "True"
      ]
     },
     "execution_count": 16,
     "metadata": {},
     "output_type": "execute_result"
    }
   ],
   "source": [
    "# in演算子\n",
    "'良' in seiseki_kanji"
   ]
  },
  {
   "cell_type": "code",
   "execution_count": 17,
   "metadata": {},
   "outputs": [
    {
     "data": {
      "text/plain": [
       "False"
      ]
     },
     "execution_count": 17,
     "metadata": {},
     "output_type": "execute_result"
    }
   ],
   "source": [
    "'悪' in seiseki_kanji"
   ]
  },
  {
   "cell_type": "code",
   "execution_count": 18,
   "metadata": {},
   "outputs": [
    {
     "data": {
      "text/plain": [
       "148"
      ]
     },
     "execution_count": 18,
     "metadata": {},
     "output_type": "execute_result"
    }
   ],
   "source": [
    "# sum()\n",
    "sum(kadai)"
   ]
  },
  {
   "cell_type": "code",
   "execution_count": 19,
   "metadata": {},
   "outputs": [
    {
     "data": {
      "text/plain": [
       "15"
      ]
     },
     "execution_count": 19,
     "metadata": {},
     "output_type": "execute_result"
    }
   ],
   "source": [
    "# max()\n",
    "max(kadai)"
   ]
  },
  {
   "cell_type": "code",
   "execution_count": 20,
   "metadata": {},
   "outputs": [
    {
     "data": {
      "text/plain": [
       "7"
      ]
     },
     "execution_count": 20,
     "metadata": {},
     "output_type": "execute_result"
    }
   ],
   "source": [
    "# min()\n",
    "min(kadai)"
   ]
  },
  {
   "cell_type": "code",
   "execution_count": 21,
   "metadata": {},
   "outputs": [
    {
     "name": "stdout",
     "output_type": "stream",
     "text": [
      "a is b = True\n",
      "a == b = True\n"
     ]
    }
   ],
   "source": [
    "# 代入した変数との比較\n",
    "a = (1,2,3)\n",
    "b = a\n",
    "print('a is b =', a is b) # tupleは変数へ代入すると参照を保持するため、インスタンスは同じ。つまりこちらはTrueになる\n",
    "print('a == b =', a == b) # 値は当然同じのため、こちらもTrue"
   ]
  },
  {
   "cell_type": "code",
   "execution_count": 22,
   "metadata": {},
   "outputs": [
    {
     "name": "stdout",
     "output_type": "stream",
     "text": [
      "a is c = False\n",
      "a == c = False\n"
     ]
    }
   ],
   "source": [
    "# 逆順にしたtuple変数との比較\n",
    "c = tuple(sorted(a, reverse=True)) # sorted()を使用して逆順のlistを作り、tuple()でタプル型に変換している\n",
    "print('a is c =', a is c) # オブジェクトが異なるためこちらの比較はFalse\n",
    "print('a == c =', a == c) # 値も異なるのでこちらの比較もFalseになります"
   ]
  },
  {
   "cell_type": "code",
   "execution_count": 23,
   "metadata": {},
   "outputs": [
    {
     "name": "stdout",
     "output_type": "stream",
     "text": [
      "c is d = False\n",
      "c == d = True\n"
     ]
    }
   ],
   "source": [
    "# 逆順にしたtuple変数同士の比較\n",
    "d = (3,2,1)\n",
    "print('c is d =', c is d) # インスタンスは異なるのでこちらはFalse\n",
    "print('c == d =', c == d) # 値は一致するのでこちらはTrue"
   ]
  },
  {
   "cell_type": "markdown",
   "metadata": {},
   "source": [
    "---"
   ]
  },
  {
   "cell_type": "markdown",
   "metadata": {},
   "source": [
    "## 練習プログラム2 (1.6点)\n",
    "- アンパックでタプルの値を取り出してみよう\n",
    "- in演算子で比較してみよう\n",
    "- sum(),max(),min()をリストと同様に使用してみよう\n",
    "- タプル同士を比較してみよう"
   ]
  },
  {
   "cell_type": "code",
   "execution_count": 24,
   "metadata": {},
   "outputs": [],
   "source": [
    "# 1. アンパックでタプルの値を取り出してみよう\n",
    "# 入れる値は何でも良いですが、このNotebookのサンプルプログラムとは違う独自の値を入れましょう\n",
    "# 変数名も独自のものに変えましょう\n",
    "\n",
    "# ここにPythonプログラムを記述してください"
   ]
  },
  {
   "cell_type": "code",
   "execution_count": 25,
   "metadata": {},
   "outputs": [],
   "source": [
    "# 2. in演算子で比較してみよう\n",
    "# 入れる値は何でも良いですが、このNotebookのサンプルプログラムとは違う独自の値を入れましょう\n",
    "# 変数名も独自のものに変えましょう\n",
    "\n",
    "# ここにPythonプログラムを記述してください"
   ]
  },
  {
   "cell_type": "code",
   "execution_count": 26,
   "metadata": {},
   "outputs": [],
   "source": [
    "# 3. sum(),max(),min()をリストと同様に使用してみよう\n",
    "# 入れる値は何でも良いですが、このNotebookのサンプルプログラムとは違う独自の値を入れましょう\n",
    "# 変数名も独自のものに変えましょう\n",
    "\n",
    "# ここにPythonプログラムを記述してください"
   ]
  },
  {
   "cell_type": "code",
   "execution_count": 27,
   "metadata": {},
   "outputs": [],
   "source": [
    "# 4. タプル同士を比較してみよう\n",
    "# 入れる値は何でも良いですが、このNotebookのサンプルプログラムとは違う独自の値を入れましょう\n",
    "# 変数名も独自のものに変えましょう\n",
    "# 比較の結果Trueとなる時、Falseとなる時それぞれについて考察をコメントで記入してみましょう\n",
    "\n",
    "# ここにPythonプログラムを記述してください"
   ]
  },
  {
   "cell_type": "code",
   "execution_count": null,
   "metadata": {},
   "outputs": [],
   "source": []
  },
  {
   "cell_type": "code",
   "execution_count": null,
   "metadata": {},
   "outputs": [],
   "source": []
  },
  {
   "cell_type": "code",
   "execution_count": null,
   "metadata": {},
   "outputs": [],
   "source": []
  }
 ],
 "metadata": {
  "colab": {
   "authorship_tag": "ABX9TyMOtB7OiTVLb+yu2KoVwjto",
   "include_colab_link": true,
   "provenance": []
  },
  "kernelspec": {
   "display_name": "Python 3 (ipykernel)",
   "language": "python",
   "name": "python3"
  },
  "language_info": {
   "codemirror_mode": {
    "name": "ipython",
    "version": 3
   },
   "file_extension": ".py",
   "mimetype": "text/x-python",
   "name": "python",
   "nbconvert_exporter": "python",
   "pygments_lexer": "ipython3",
   "version": "3.11.9"
  }
 },
 "nbformat": 4,
 "nbformat_minor": 4
}
