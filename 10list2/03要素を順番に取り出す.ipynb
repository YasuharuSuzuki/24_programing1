{
 "cells": [
  {
   "cell_type": "markdown",
   "metadata": {
    "colab_type": "text",
    "id": "view-in-github"
   },
   "source": [
    "<a href=\"https://colab.research.google.com/github/YasuharuSuzuki/23_programing1/blob/main/\" target=\"_parent\"><img src=\"https://colab.research.google.com/assets/colab-badge.svg\" alt=\"Open In Colab\"/></a>"
   ]
  },
  {
   "cell_type": "markdown",
   "metadata": {},
   "source": [
    "# 要素を順番に取り出す"
   ]
  },
  {
   "cell_type": "markdown",
   "metadata": {},
   "source": [
    "## リスト 参考サイト\n",
    "### [参考サイト1【Python早見表】リストの要素に対する繰り返し](https://chokkan.github.io/python/06list.html#id4)\n",
    "\n",
    "### [参考サイト2【Python入門】for文 enumrate](https://utokyo-ipp.github.io/3/3-2.html#enumerate)\n"
   ]
  },
  {
   "cell_type": "markdown",
   "metadata": {},
   "source": [
    "## サンプルプログラム4　要素を順番に取り出す\n",
    "- リストを作る\n",
    "- 要素を順番に取り出す(for in)\n",
    "- カウンタを付けて要素を順番に取り出す(for in enumerate)\n",
    "- 複数のリストを順番に、かつ同時に取り出す(for in zip)"
   ]
  },
  {
   "cell_type": "code",
   "execution_count": 2,
   "metadata": {},
   "outputs": [
    {
     "name": "stdout",
     "output_type": "stream",
     "text": [
      "increments3 = [0, 3, 6, 9, 12, 15, 18, 21, 24, 27, 30, 33, 36, 39, 42, 45, 48]\n",
      "increments5 = [0, 5, 10, 15, 20, 25, 30, 35, 40, 45]\n",
      "0\n",
      "5\n",
      "10\n",
      "15\n",
      "20\n",
      "25\n",
      "30\n",
      "35\n",
      "40\n",
      "45\n"
     ]
    }
   ],
   "source": [
    "# リストを作る\n",
    "increments3 = list(range(0,50,3)) # 3刻みの0〜50までのリストを作る\n",
    "increments5 = list(range(0,50,5)) # 5刻みの0〜50までのリストを作る\n",
    "print('increments3 =',increments3)\n",
    "print('increments5 =',increments5)\n",
    "\n",
    "# 要素を順番に取り出す\n",
    "for element in increments5:\n",
    "    print(element)"
   ]
  },
  {
   "cell_type": "markdown",
   "metadata": {},
   "source": [
    "- for 〜 in を使用すると値を１つずつ取り出すことができます\n",
    "- 取り出した要素をprint文で出力しています"
   ]
  },
  {
   "cell_type": "code",
   "execution_count": 3,
   "metadata": {},
   "outputs": [
    {
     "name": "stdout",
     "output_type": "stream",
     "text": [
      "0 0\n",
      "1 5\n",
      "2 10\n",
      "3 15\n",
      "4 20\n",
      "5 25\n",
      "6 30\n",
      "7 35\n",
      "8 40\n",
      "9 45\n"
     ]
    }
   ],
   "source": [
    "# カウンタを付けて要素を順番に取り出す(for in enumerate)\n",
    "for i, element in enumerate(increments5):\n",
    "    print(i, element)"
   ]
  },
  {
   "cell_type": "markdown",
   "metadata": {},
   "source": [
    "- for 〜 in enumerate を使用すると値を１つずつ取り出しながら、カウントを付けることが出来ます\n",
    "- 取り出したカウンタと要素をprint文で出力しています"
   ]
  },
  {
   "cell_type": "code",
   "execution_count": 4,
   "metadata": {},
   "outputs": [
    {
     "name": "stdout",
     "output_type": "stream",
     "text": [
      "0 0\n",
      "3 5\n",
      "6 10\n",
      "9 15\n",
      "12 20\n",
      "15 25\n",
      "18 30\n",
      "21 35\n",
      "24 40\n",
      "27 45\n"
     ]
    }
   ],
   "source": [
    "# 複数のリストを順番に、かつ同時に取り出す(for in zip)\n",
    "for element3, element5 in zip(increments3, increments5):\n",
    "    print(element3, element5)"
   ]
  },
  {
   "cell_type": "markdown",
   "metadata": {},
   "source": [
    "- for 〜 in zipを使用すると複数のリストから値を同時に１つずつ取り出すことができます。\n",
    "- 取り出した要素をprint文で出力しています。\n",
    "- リストの長さが異なる場合は、短い方のリストに合わせて処理が終了します。"
   ]
  },
  {
   "cell_type": "markdown",
   "metadata": {},
   "source": [
    "## 練習プログラム4 (0.9点)\n",
    "- リストを2つを作る\n",
    "- カウンタを付けて要素を順番に取り出す(for in enumerate)\n",
    "- 複数のリストを順番に、かつ同時に取り出す(for in zip)"
   ]
  },
  {
   "cell_type": "code",
   "execution_count": null,
   "metadata": {},
   "outputs": [],
   "source": [
    "# 1. リストを新たに2つ作成してみましょう\n",
    "# 入れる値は何でも良いですが、このNotebookのサンプルプログラムとは違う独自の値を入れましょう\n",
    "\n"
   ]
  },
  {
   "cell_type": "code",
   "execution_count": null,
   "metadata": {},
   "outputs": [],
   "source": [
    "# 2. カウンタを付けて要素を順番に取り出す(for in enumerate)\n",
    "\n"
   ]
  },
  {
   "cell_type": "code",
   "execution_count": 11,
   "metadata": {},
   "outputs": [],
   "source": [
    "# 3. 複数のリストを順番に、かつ同時に取り出す(for in zip)\n",
    "\n"
   ]
  },
  {
   "cell_type": "code",
   "execution_count": null,
   "metadata": {},
   "outputs": [],
   "source": []
  },
  {
   "cell_type": "code",
   "execution_count": null,
   "metadata": {},
   "outputs": [],
   "source": []
  },
  {
   "cell_type": "code",
   "execution_count": null,
   "metadata": {},
   "outputs": [],
   "source": []
  },
  {
   "cell_type": "code",
   "execution_count": null,
   "metadata": {},
   "outputs": [],
   "source": []
  },
  {
   "cell_type": "code",
   "execution_count": null,
   "metadata": {},
   "outputs": [],
   "source": []
  }
 ],
 "metadata": {
  "colab": {
   "authorship_tag": "ABX9TyMOtB7OiTVLb+yu2KoVwjto",
   "include_colab_link": true,
   "provenance": []
  },
  "kernelspec": {
   "display_name": "Python 3 (ipykernel)",
   "language": "python",
   "name": "python3"
  },
  "language_info": {
   "codemirror_mode": {
    "name": "ipython",
    "version": 3
   },
   "file_extension": ".py",
   "mimetype": "text/x-python",
   "name": "python",
   "nbconvert_exporter": "python",
   "pygments_lexer": "ipython3",
   "version": "3.11.9"
  }
 },
 "nbformat": 4,
 "nbformat_minor": 4
}
