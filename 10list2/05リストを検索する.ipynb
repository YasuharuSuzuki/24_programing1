{
 "cells": [
  {
   "cell_type": "markdown",
   "metadata": {
    "colab_type": "text",
    "id": "view-in-github"
   },
   "source": [
    "<a href=\"https://colab.research.google.com/github/YasuharuSuzuki/23_programing1/blob/main/\" target=\"_parent\"><img src=\"https://colab.research.google.com/assets/colab-badge.svg\" alt=\"Open In Colab\"/></a>"
   ]
  },
  {
   "cell_type": "markdown",
   "metadata": {},
   "source": [
    "# リストを検索する"
   ]
  },
  {
   "cell_type": "markdown",
   "metadata": {},
   "source": [
    "## リスト 参考サイト\n",
    "### [参考サイト1【Python早見表】リスト 所属検査(in)](https://chokkan.github.io/python/06list.html#id7)\n",
    "### [参考サイト2【Python入門】リストと演算子(in)](https://utokyo-ipp.github.io/2/2-2.html#%E3%83%AA%E3%82%B9%E3%83%88%E3%81%A8%E6%BC%94%E7%AE%97%E5%AD%90)\n",
    "### [参考サイト3【Python入門】指定した要素のインデックス取得と数えあげ](https://utokyo-ipp.github.io/2/2-2.html#%E6%8C%87%E5%AE%9A%E3%81%97%E3%81%9F%E8%A6%81%E7%B4%A0%E3%81%AE%E3%82%A4%E3%83%B3%E3%83%87%E3%83%83%E3%82%AF%E3%82%B9%E5%8F%96%E5%BE%97%E3%81%A8%E6%95%B0%E3%81%88%E3%81%82%E3%81%92)"
   ]
  },
  {
   "cell_type": "markdown",
   "metadata": {},
   "source": [
    "## リストの検索・合計値など\n",
    "\n",
    "|  方法  |  処理  | 使用例 |\n",
    "| :---- | :---- | :---- |\n",
    "| in | リストに特定の値が含まれるか  | 3 in [1,2,3,4,5] → True |\n",
    "| index()  | 見つかった位置を返す  | [1,2,3,4,5].index(3) → 2 |\n",
    "| count()  | 見つかった個数を返す  | [2,2,3,3,4,5,5].count(3) → 2 |\n",
    "| random.choice()  | ランダムに値を取り出す  | random.choice([1,2,3,4,5,6]) → 5(ランダムなので毎回異なる) |\n",
    "| sum()  | 合計値  | sum([2,2,3,3,4,5,5]) → 24 |\n",
    "| max()  | 最大値  | max([2,2,3,3,4,5,5]) → 5 |\n",
    "| min()  | 最小値  | min([2,2,3,3,4,5,5]) → 2 |"
   ]
  },
  {
   "cell_type": "markdown",
   "metadata": {},
   "source": [
    "## サンプルプログラム7　リストの検索\n",
    "- リストに特定の値が含まれるか判定する（含まれている場合/含まれていない場合）\n",
    "- リスト内の見つかった位置を返す（見つかった場合/見つからない場合）\n",
    "- 見つかった個数を返す"
   ]
  },
  {
   "cell_type": "code",
   "execution_count": 3,
   "metadata": {},
   "outputs": [
    {
     "name": "stdout",
     "output_type": "stream",
     "text": [
      "increments1 = [0, 1, 2, 3, 4, 5, 6, 7, 8, 9, 10, 11, 12, 13, 14, 15, 16, 17, 18, 19]\n"
     ]
    }
   ],
   "source": [
    "# リストを作る\n",
    "increments1 = [i for i in range(20)] # iterableにrangeを使って0〜19までのリストを作る\n",
    "print('increments1 =',increments1)"
   ]
  },
  {
   "cell_type": "code",
   "execution_count": 4,
   "metadata": {},
   "outputs": [
    {
     "name": "stdout",
     "output_type": "stream",
     "text": [
      "11 in increments1 = True\n"
     ]
    }
   ],
   "source": [
    "# リストに特定の値が含まれるか判定する（含まれている場合）\n",
    "print('11 in increments1 =',11 in increments1)"
   ]
  },
  {
   "cell_type": "markdown",
   "metadata": {},
   "source": [
    "- リスト内に特定の値が含まれているかどうかを判定するには、in演算子を使用します。\n",
    "- 含まれている時はTrueを返します。"
   ]
  },
  {
   "cell_type": "code",
   "execution_count": 5,
   "metadata": {},
   "outputs": [
    {
     "name": "stdout",
     "output_type": "stream",
     "text": [
      "32 in increments1 = False\n"
     ]
    }
   ],
   "source": [
    "# リストに特定の値が含まれるか判定する（含まれていない場合）\n",
    "print('32 in increments1 =',32 in increments1)"
   ]
  },
  {
   "cell_type": "markdown",
   "metadata": {},
   "source": [
    "- in演算子は、含まれていない時はFalseを返します。"
   ]
  },
  {
   "cell_type": "code",
   "execution_count": 6,
   "metadata": {},
   "outputs": [
    {
     "name": "stdout",
     "output_type": "stream",
     "text": [
      "increments1.index(8) = 8\n"
     ]
    }
   ],
   "source": [
    "# リスト内の見つかった位置を返す（見つかった場合）\n",
    "print('increments1.index(8) =',increments1.index(8))"
   ]
  },
  {
   "cell_type": "markdown",
   "metadata": {},
   "source": [
    "- リスト内で特定の値を検索して位置を取得するには、index()メソッドを使用します。\n",
    "- 見つかった時は位置をを返します。（この場合は8番の要素で見つかったため、8を返しています）"
   ]
  },
  {
   "cell_type": "code",
   "execution_count": 7,
   "metadata": {},
   "outputs": [
    {
     "name": "stdout",
     "output_type": "stream",
     "text": [
      "見つからなかった場合はValueErrorが発生します 27 is not in list\n"
     ]
    }
   ],
   "source": [
    "# リスト内の見つかった位置を返す（見つからなかった場合）\n",
    "try:\n",
    "    print('increments1.index(27) =',increments1.index(27))\n",
    "except ValueError as e:\n",
    "    print(\"見つからなかった場合はValueErrorが発生します\", e)"
   ]
  },
  {
   "cell_type": "markdown",
   "metadata": {},
   "source": [
    "- 見つからなかった場合はValueErrorが発生します。"
   ]
  },
  {
   "cell_type": "code",
   "execution_count": 8,
   "metadata": {},
   "outputs": [
    {
     "name": "stdout",
     "output_type": "stream",
     "text": [
      "kadai.count(10) = 5\n"
     ]
    }
   ],
   "source": [
    "# 見つかった個数を返す\n",
    "kadai = [10, 9, 8, 9, 10, 9, 10, 11, 15, 7, 10, 9, 9, 10, 12] # 15回分の授業課題の点数\n",
    "print('kadai.count(10) =', kadai.count(10))"
   ]
  },
  {
   "cell_type": "markdown",
   "metadata": {},
   "source": [
    "- リスト内で特定の値の個数を取得するには、count()メソッドを使用します。\n",
    "- この場合は10の値が5箇所で見つかったため、5を返しています。"
   ]
  },
  {
   "cell_type": "markdown",
   "metadata": {},
   "source": [
    "---"
   ]
  },
  {
   "cell_type": "markdown",
   "metadata": {},
   "source": [
    "## 練習プログラム7 (1.5点)\n",
    "- リストに特定の値が含まれるか判定する（含まれている場合）\n",
    "- リストに特定の値が含まれるか判定する（含まれていない場合）\n",
    "- リスト内の見つかった位置を返す（見つかった場合）\n",
    "- リスト内の見つかった位置を返す（見つからない場合）\n",
    "- 見つかった個数を返す"
   ]
  },
  {
   "cell_type": "code",
   "execution_count": 2,
   "metadata": {},
   "outputs": [],
   "source": [
    "# 1. リストに特定の値が含まれるか判定してみましょう（含まれている場合）\n",
    "# 入れる値は何でも良いですが、このNotebookのサンプルプログラムや教科書の値とは違う独自の値を入れましょう\n",
    "\n"
   ]
  },
  {
   "cell_type": "code",
   "execution_count": 18,
   "metadata": {},
   "outputs": [],
   "source": [
    "# 2. リストに特定の値が含まれるか判定してみましょう（含まれていない場合）\n",
    "\n"
   ]
  },
  {
   "cell_type": "code",
   "execution_count": 3,
   "metadata": {},
   "outputs": [],
   "source": [
    "# 3. リスト内の見つかった位置を返すプログラムを作成してみましょう（見つかった場合）\n",
    "\n"
   ]
  },
  {
   "cell_type": "code",
   "execution_count": 4,
   "metadata": {},
   "outputs": [],
   "source": [
    "# 4. リスト内の見つかった位置を返すプログラムを作成してみましょう（見つからない場合）\n",
    "\n"
   ]
  },
  {
   "cell_type": "code",
   "execution_count": null,
   "metadata": {},
   "outputs": [],
   "source": [
    "# 5. 見つかった個数を返すプログラムを作成してみましょう\n",
    "\n"
   ]
  },
  {
   "cell_type": "markdown",
   "metadata": {},
   "source": [
    "---\n",
    "---\n",
    "---"
   ]
  },
  {
   "cell_type": "markdown",
   "metadata": {},
   "source": [
    "## サンプルプログラム8　その他の操作\n",
    "- ランダムに値を取り出す\n",
    "- 合計値を算出する\n",
    "- 最大値を算出する\n",
    "- 最小値を算出する"
   ]
  },
  {
   "cell_type": "code",
   "execution_count": 9,
   "metadata": {},
   "outputs": [
    {
     "name": "stdout",
     "output_type": "stream",
     "text": [
      "random.choice() = 1\n"
     ]
    }
   ],
   "source": [
    "# ランダムに値を取り出す : 0〜7の乱数を返す\n",
    "import random\n",
    "print(\"random.choice() =\", random.choice(list(range(8))))"
   ]
  },
  {
   "cell_type": "code",
   "execution_count": 10,
   "metadata": {},
   "outputs": [
    {
     "name": "stdout",
     "output_type": "stream",
     "text": [
      "sum(kadai) = 148\n"
     ]
    }
   ],
   "source": [
    "# 合計値を算出する\n",
    "print(\"sum(kadai) =\", sum(kadai))"
   ]
  },
  {
   "cell_type": "code",
   "execution_count": 11,
   "metadata": {},
   "outputs": [
    {
     "name": "stdout",
     "output_type": "stream",
     "text": [
      "max(kadai) = 15\n"
     ]
    }
   ],
   "source": [
    "# 最大値を算出する\n",
    "print(\"max(kadai) =\", max(kadai))"
   ]
  },
  {
   "cell_type": "code",
   "execution_count": 12,
   "metadata": {},
   "outputs": [
    {
     "name": "stdout",
     "output_type": "stream",
     "text": [
      "min(kadai) = 7\n"
     ]
    }
   ],
   "source": [
    "# 最小値を算出する\n",
    "print(\"min(kadai) =\", min(kadai))"
   ]
  },
  {
   "cell_type": "markdown",
   "metadata": {},
   "source": [
    "---"
   ]
  },
  {
   "cell_type": "markdown",
   "metadata": {},
   "source": [
    "## 練習プログラム8 (1.2点)\n",
    "- ランダムに値を取り出す\n",
    "- 合計値を算出する\n",
    "- 最大値を算出する\n",
    "- 最小値を算出する"
   ]
  },
  {
   "cell_type": "code",
   "execution_count": null,
   "metadata": {},
   "outputs": [],
   "source": [
    "# 1. ランダムに値を取り出してみましょう\n",
    "\n"
   ]
  },
  {
   "cell_type": "code",
   "execution_count": null,
   "metadata": {},
   "outputs": [],
   "source": [
    "# 2. 合計値を算出してみましょう\n",
    "\n"
   ]
  },
  {
   "cell_type": "code",
   "execution_count": null,
   "metadata": {},
   "outputs": [],
   "source": [
    "# 3. 最大値を算出してみましょう\n",
    "\n"
   ]
  },
  {
   "cell_type": "code",
   "execution_count": null,
   "metadata": {},
   "outputs": [],
   "source": [
    "# 4. 最小値を算出してみましょう\n",
    "\n"
   ]
  }
 ],
 "metadata": {
  "colab": {
   "authorship_tag": "ABX9TyMOtB7OiTVLb+yu2KoVwjto",
   "include_colab_link": true,
   "provenance": []
  },
  "kernelspec": {
   "display_name": "Python 3 (ipykernel)",
   "language": "python",
   "name": "python3"
  },
  "language_info": {
   "codemirror_mode": {
    "name": "ipython",
    "version": 3
   },
   "file_extension": ".py",
   "mimetype": "text/x-python",
   "name": "python",
   "nbconvert_exporter": "python",
   "pygments_lexer": "ipython3",
   "version": "3.11.9"
  }
 },
 "nbformat": 4,
 "nbformat_minor": 4
}
