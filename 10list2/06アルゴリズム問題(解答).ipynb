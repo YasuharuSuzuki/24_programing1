{
 "cells": [
  {
   "cell_type": "markdown",
   "metadata": {
    "colab_type": "text",
    "id": "view-in-github"
   },
   "source": [
    "<a href=\"https://colab.research.google.com/github/YasuharuSuzuki/24_programing1/blob/main/\" target=\"_parent\"><img src=\"https://colab.research.google.com/assets/colab-badge.svg\" alt=\"Open In Colab\"/></a>"
   ]
  },
  {
   "cell_type": "markdown",
   "metadata": {},
   "source": [
    "# アルゴリズム問題\n",
    "- 2問あります"
   ]
  },
  {
   "cell_type": "markdown",
   "metadata": {},
   "source": [
    "## 練習プログラム9　激怒した  (0.9点)\n",
    "\n",
    "- ゆるるくんは名作の名言を真似できるプログラムを作成中です。\n",
    "- 名前Sを入力したら、Sは激怒した！というプログラムを作成してください。\n",
    "- input()で文字列を受け取り、printで出力しましょう。"
   ]
  },
  {
   "cell_type": "markdown",
   "metadata": {},
   "source": [
    "### 制約\n",
    "\n",
    "$ Sは20文字以下の文字列 $"
   ]
  },
  {
   "cell_type": "markdown",
   "metadata": {},
   "source": [
    "### 入力\n",
    "入力は以下の形式で標準入力から与えられます\n",
    "\n",
    "---\n",
    "$ S $\n",
    "\n",
    "---\n",
    "\n",
    "\n",
    "※input()１つで取得可能"
   ]
  },
  {
   "cell_type": "markdown",
   "metadata": {},
   "source": [
    "### 出力\n",
    "\n",
    "---\n",
    "$ S $ は激怒した！\n",
    "\n",
    "---\n",
    "\n",
    "名作の名言の名前を変えて出力してください。"
   ]
  },
  {
   "cell_type": "markdown",
   "metadata": {},
   "source": [
    "---\n",
    "---\n",
    "\n",
    "### 入力例1\n",
    "---\n",
    "```python\n",
    "ゆるるくん\n",
    "```\n",
    "---\n",
    "\n",
    "### 出力例1\n",
    "---\n",
    "```python\n",
    "ゆるるくんは激怒した！\n",
    "```\n",
    "---\n",
    "※ 激怒した文字列を出力してください。"
   ]
  },
  {
   "cell_type": "markdown",
   "metadata": {},
   "source": [
    "---\n",
    "---"
   ]
  },
  {
   "cell_type": "markdown",
   "metadata": {},
   "source": [
    "### 入力例2\n",
    "---\n",
    "```python\n",
    "センチメンタル小室マイケル坂本ダダ先生\n",
    "```\n",
    "---\n",
    "\n",
    "### 出力例2\n",
    "---\n",
    "```python\n",
    "センチメンタル小室マイケル坂本ダダ先生は激怒した！\n",
    "```\n",
    "---\n",
    "※ 激怒した文字列を出力してください。"
   ]
  },
  {
   "cell_type": "markdown",
   "metadata": {},
   "source": [
    "---"
   ]
  },
  {
   "cell_type": "markdown",
   "metadata": {},
   "source": [
    "### ここ↓にPythonコードを記述してください"
   ]
  },
  {
   "cell_type": "code",
   "execution_count": 1,
   "metadata": {},
   "outputs": [
    {
     "name": "stdin",
     "output_type": "stream",
     "text": [
      " 第七王子\n"
     ]
    },
    {
     "name": "stdout",
     "output_type": "stream",
     "text": [
      "第七王子は激怒した！\n"
     ]
    }
   ],
   "source": [
    "S = input()\n",
    "print(f\"{S}は激怒した！\")"
   ]
  },
  {
   "cell_type": "markdown",
   "metadata": {},
   "source": [
    "---\n",
    "---\n",
    "---"
   ]
  },
  {
   "cell_type": "markdown",
   "metadata": {},
   "source": [
    "## 練習プログラム10　プログラミングⅠの成績算出(1点)"
   ]
  },
  {
   "cell_type": "markdown",
   "metadata": {
    "jp-MarkdownHeadingCollapsed": true
   },
   "source": [
    "### 問題文\n",
    "- ゆるるくんは”プログラミングⅠ”の科目を受けています。\n",
    "- この科目では、期末試験の点数Fの0.5倍が成績Rに加算されます。\n",
    "- この授業では、課題がN回あります。各課題の点数Hは0〜13.9点の点数が与えられ、各授業ごとの平均点数 $ \\times 5 $ が成績Rに加算されます。\n",
    "  - 課題Hは基本は10点満点ですが、AtCoderなどのボーナス要素によって13.9点まで加算される可能性があります\n",
    "- $ \\frac{\\sum_{i=0}^{n} H_i}{n} \\times 5 $ が50を超えることがありますが、成績Rにはそのまま加点され、Rが100を超えた場合はR=100に丸められます\n",
    "- 成績の点数Rは小数点以下切り捨てです。\n",
    "- Rが90点以上の場合は\"秀\"、80点以上の場合は\"優\"、70点以上の場合は\"良\"、60点以上の場合は\"可\"、60点未満の場合は”不可”となります。\n",
    "- ゆるるくんの成績Sを文字列で出力し、成績点Rを整数で出力してください。"
   ]
  },
  {
   "cell_type": "markdown",
   "metadata": {
    "jp-MarkdownHeadingCollapsed": true
   },
   "source": [
    "---\n",
    "---\n",
    "\n",
    "### 制約\n",
    "\n",
    "$ 0 \\leqq F \\leqq 100 \\qquad ※Fは整数 $  \n",
    "$ 0 \\leqq R \\leqq 100 \\qquad ※Rは整数 $  \n",
    "$ 10 \\leqq N \\leqq 15 \\qquad ※Nは整数 $  \n",
    "$ 0 \\leqq H_i \\leqq 13.9 \\qquad ※H_iは浮動小数点数。小数部は小数点以下第1位まで有効 $  \n",
    "$ S  \\qquad  ※Sは 秀、優、良、可、不可 のいずれかの文字列。  $   \n"
   ]
  },
  {
   "cell_type": "markdown",
   "metadata": {},
   "source": [
    "---\n",
    "---\n",
    "\n",
    "### 入力\n",
    "入力は以下の形式で標準入力から与えられます。\n",
    "\n",
    "---\n",
    "\n",
    "$ F \\quad N $  \n",
    "$ H_1 \\quad H_2 \\quad ... \\quad H_N $  \n",
    "\n",
    "---\n",
    "\n",
    "- 各値は空白区切りです"
   ]
  },
  {
   "cell_type": "markdown",
   "metadata": {},
   "source": [
    "---\n",
    "---\n",
    "\n",
    "### 出力\n",
    "---\n",
    "$ S \\qquad R $\n",
    "\n",
    "---\n",
    "\n",
    "- ゆるるくんの成績Sを 秀、優、良、可、不可のいずれかで出力し、成績Rも出力して下さい"
   ]
  },
  {
   "cell_type": "markdown",
   "metadata": {},
   "source": [
    "---\n",
    "---\n",
    "\n",
    "### 入力例1\n",
    "標準的なケース\n",
    "\n",
    "---\n",
    "```\n",
    "80 10\n",
    "10.0 10.0 10.0 10.0 10.0 10.0 10.0 10.0 10.0 10.0\n",
    "```\n",
    "---\n",
    "\n",
    "### 出力例1\n",
    "---\n",
    "```\n",
    "秀 90\n",
    "```\n",
    "---\n",
    "\n",
    "- 期末試験: 80 × 0.5 = 40点\n",
    "- 課題平均: (10.0 × 10) ÷ 10 × 5 = 50点\n",
    "- 合計: 40 + 50 = 90点 → \"秀\""
   ]
  },
  {
   "cell_type": "markdown",
   "metadata": {
    "jp-MarkdownHeadingCollapsed": true
   },
   "source": [
    "---\n",
    "---\n",
    "\n",
    "### 入力例2\n",
    "ボーナス点数ケース\n",
    "\n",
    "---\n",
    "```\n",
    "70 10\n",
    "13.9 13.9 13.9 13.9 13.9 13.9 13.9 13.9 13.9 13.9\n",
    "```\n",
    "---\n",
    "\n",
    "### 出力例2\n",
    "---\n",
    "```\n",
    "秀 100\n",
    "```\n",
    "---\n",
    "\n",
    "- 期末試験: 70 × 0.5 = 35点\n",
    "- 課題平均: (13.9 × 10) ÷ 10 × 5 = 69.5点\n",
    "- 合計: 35 + 69.5 = 104.5点 → 100点に丸められる → \"秀\""
   ]
  },
  {
   "cell_type": "markdown",
   "metadata": {},
   "source": [
    "---\n",
    "---\n",
    "\n",
    "### 入力例3\n",
    "切り捨てによる不可のケース\n",
    "\n",
    "---\n",
    "```\n",
    "47 15\n",
    "7.2 7.2 7.2 7.2 7.2 7.2 7.3 7.3 7.3 7.3 7.3 7.3 7.3 7.3 7.3\n",
    "```\n",
    "---\n",
    "\n",
    "### 出力例3\n",
    "---\n",
    "```\n",
    "不可 59\n",
    "```\n",
    "---\n",
    "\n",
    "- 期末試験: 47 × 0.5 = 23.5点\n",
    "- 課題平均: (7.2 × 6 + 7.3 × 9) ÷ 15 × 5 = 36.3点\n",
    "- 合計: 23.5 + 36.3 = 59.8点 → 59点（切り捨て） → \"不可\""
   ]
  },
  {
   "cell_type": "markdown",
   "metadata": {},
   "source": [
    "---\n",
    "---\n",
    "\n",
    "### 入力例4\n",
    "小数点以下の加算による可のケース\n",
    "\n",
    "---\n",
    "```\n",
    "47 15\n",
    "7.3 7.3 7.3 7.3 7.3 7.3 7.3 7.3 7.3 7.3 7.3 7.3 7.3 7.3 7.4\n",
    "```\n",
    "---\n",
    "\n",
    "### 出力例4\n",
    "---\n",
    "```\n",
    "可 60\n",
    "```\n",
    "---\n",
    "\n",
    "- 期末試験: 47 × 0.5 = 23.5点\n",
    "- 課題平均: (7.3 × 14 + 7.4) ÷ 15 × 5 = 36.53点\n",
    "- 合計: 23.5 + 36.53 = 60.03点 → \"可\""
   ]
  },
  {
   "cell_type": "markdown",
   "metadata": {},
   "source": [
    "---\n",
    "---\n",
    "\n",
    "### ここ↓にPythonコードを記述してください"
   ]
  },
  {
   "cell_type": "code",
   "execution_count": 8,
   "metadata": {},
   "outputs": [
    {
     "name": "stdin",
     "output_type": "stream",
     "text": [
      " 48 15\n",
      " 7.1 7.1 7.1 7.1 7.1 7.1 7.1 7.1 7.1 7.1 7.1 7.1 7.2 7.2 7.2\n"
     ]
    },
    {
     "name": "stdout",
     "output_type": "stream",
     "text": [
      "不可 59\n"
     ]
    }
   ],
   "source": [
    "# 入力を受け取る\n",
    "F, N = map(int, input().split())\n",
    "H = list(map(float, input().split()))\n",
    "\n",
    "# 期末試験の点数を計算 (0.5倍)\n",
    "exam_score = F * 0.5\n",
    "\n",
    "# 課題の平均点を計算し、5倍する\n",
    "assignment_avg = sum(H) / N\n",
    "assignment_score = assignment_avg * 5\n",
    "\n",
    "# 合計点を計算（小数点以下切り捨て）\n",
    "total_score = int(exam_score + assignment_score)\n",
    "\n",
    "# 100点を超える場合は100点に丸める\n",
    "if total_score > 100:\n",
    "    total_score = 100\n",
    "\n",
    "# 成績評価を判定\n",
    "seiseki_kanji = [\"不可\",\"可\",\"良\",\"優\",\"秀\"]  # 漢字表記の成績\n",
    "seiseki_boarder = [60,70,80,90]  # 各成績の境界点\n",
    "grade = seiseki_kanji[0]  # デフォルトは\"不可\"\n",
    "\n",
    "for i, border in enumerate(seiseki_boarder):\n",
    "    if total_score >= border:\n",
    "        grade = seiseki_kanji[i + 1]\n",
    "\n",
    "# 結果を出力\n",
    "print(f\"{grade} {total_score}\")"
   ]
  },
  {
   "cell_type": "code",
   "execution_count": null,
   "metadata": {},
   "outputs": [],
   "source": []
  }
 ],
 "metadata": {
  "colab": {
   "authorship_tag": "ABX9TyMOtB7OiTVLb+yu2KoVwjto",
   "include_colab_link": true,
   "provenance": []
  },
  "kernelspec": {
   "display_name": "Python 3 (ipykernel)",
   "language": "python",
   "name": "python3"
  },
  "language_info": {
   "codemirror_mode": {
    "name": "ipython",
    "version": 3
   },
   "file_extension": ".py",
   "mimetype": "text/x-python",
   "name": "python",
   "nbconvert_exporter": "python",
   "pygments_lexer": "ipython3",
   "version": "3.11.9"
  }
 },
 "nbformat": 4,
 "nbformat_minor": 4
}
