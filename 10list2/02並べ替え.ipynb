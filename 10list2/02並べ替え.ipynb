{
 "cells": [
  {
   "cell_type": "markdown",
   "metadata": {
    "colab_type": "text",
    "id": "view-in-github"
   },
   "source": [
    "<a href=\"https://colab.research.google.com/github/YasuharuSuzuki/24_programing1/blob/main/\" target=\"_parent\"><img src=\"https://colab.research.google.com/assets/colab-badge.svg\" alt=\"Open In Colab\"/></a>"
   ]
  },
  {
   "cell_type": "markdown",
   "metadata": {},
   "source": [
    "# リストの要素を並べ替える"
   ]
  },
  {
   "cell_type": "markdown",
   "metadata": {},
   "source": [
    "## リスト 参考サイト\n",
    "### [参考サイト1【Python早見表】リスト要素の並べ替え](https://chokkan.github.io/python/06list.html#id6)\n",
    "\n",
    "### [参考サイト2【Python入門】リスト並べ替え（sort メソッド）](https://utokyo-ipp.github.io/2/2-2.html#%E4%B8%A6%E3%81%B9%E6%9B%BF%E3%81%88%EF%BC%88sort-%E3%83%A1%E3%82%BD%E3%83%83%E3%83%89%EF%BC%89)\n"
   ]
  },
  {
   "cell_type": "code",
   "execution_count": 8,
   "metadata": {},
   "outputs": [
    {
     "name": "stdout",
     "output_type": "stream",
     "text": [
      "increments = [0, 5, 10, 15, 20, 25, 30, 35, 40, 45, 50, 55, 60, 65, 70, 75, 80, 85, 90, 95]\n"
     ]
    }
   ],
   "source": []
  },
  {
   "cell_type": "markdown",
   "metadata": {},
   "source": [
    "- 5刻みの値が0〜95まで格納されています"
   ]
  },
  {
   "cell_type": "code",
   "execution_count": 9,
   "metadata": {},
   "outputs": [
    {
     "name": "stdout",
     "output_type": "stream",
     "text": [
      "shuffled = [45, 35, 85, 5, 0, 90, 75, 20, 25, 15, 40, 60, 50, 55, 30, 65, 10, 95, 70, 80]\n"
     ]
    }
   ],
   "source": []
  },
  {
   "cell_type": "markdown",
   "metadata": {},
   "source": [
    "- 元のデータをそのまま保持しておきたいため、copy()を使って複製し、shuffled変数に格納します\n",
    "- random.shuffle()を使ってランダムに並べ替えています"
   ]
  },
  {
   "cell_type": "markdown",
   "metadata": {},
   "source": [
    "## サンプルプログラム2　sort()、sorted() を使って並べ替える\n",
    "- ランダムなリストを作る(random.shuffle())\n",
    "  - random.shuffle()はリストをランダムに並べ替えるメソッドです\n",
    "  - 0〜95まで5刻みのリストを作り、random.shuffle()を使ってランダムに並べ替えます\n",
    "- sort() を使って並べ替える(昇順)\n",
    "  - sort()はリストの値を直接並べ替えるメソッドです\n",
    "  - 引数reverse=Trueを指定すると降順ソート（値が大きい順に並べる)となります。デフォルトは昇順(値が小さい順に並べる）です。\n",
    "  - 並べ替えた後の結果と、元の配列とで == 演算子で比べてみましょう\n",
    "- sorted() を使って並べ替える(昇順)\n",
    "  - sorted()は元になっているリストはそのままで、並べ替えた後新しいリストを返すメソッドです\n",
    "  - sorted()も引数reverse=Trueを指定すると降順ソート（値が大きい順に並べる)となります。デフォルトは昇順(値が小さい順に並べる）です。\n",
    "  - 並べ替えた後の結果と、元の配列と == 演算子で比べてみましょう\n",
    "- 降順ソート\n",
    "  - sort()、sorted()各メソッドにreverse=Trueを指定して降順ソートしてみましょう\n",
    "  - 降順に並べ替えたデータを == 演算子で比較してみましょう\n",
    "- リストを逆順に並べる（降順ソートとは異なるので注意）\n",
    "  - ランダムに並べ替えたリスト(shuffled)を複製し、変数(reverse1)に格納します。\n",
    "  - 降順に並べ替えたリスト(descending1)を複製し、変数(reverse2)に格納します。\n",
    "  - それぞれ逆順になっていることを確認してみましょう\n",
    "  - reverse1と元のリスト(increments)を == 演算子で比較してみましょう。\n",
    "  - reverse2と元のリスト(increments)を == 演算子で比較してみましょう。"
   ]
  },
  {
   "cell_type": "code",
   "execution_count": 1,
   "metadata": {},
   "outputs": [
    {
     "name": "stdout",
     "output_type": "stream",
     "text": [
      "increments = [0, 5, 10, 15, 20, 25, 30, 35, 40, 45, 50, 55, 60, 65, 70, 75, 80, 85, 90, 95]\n"
     ]
    }
   ],
   "source": [
    "# 0〜95までのリストを作る\n",
    "increments = list(range(0,99,5)) # 5刻みの0〜95までのリストを作る\n",
    "print('increments =',increments)"
   ]
  },
  {
   "cell_type": "markdown",
   "metadata": {},
   "source": [
    "- 5刻みの値が0〜95まで格納されています"
   ]
  },
  {
   "cell_type": "code",
   "execution_count": 2,
   "metadata": {},
   "outputs": [
    {
     "name": "stdout",
     "output_type": "stream",
     "text": [
      "shuffled = [60, 95, 10, 35, 15, 20, 55, 50, 75, 5, 40, 90, 70, 65, 80, 0, 45, 25, 30, 85]\n"
     ]
    }
   ],
   "source": [
    "# ランダムに並べ替える(random.shuffle())\n",
    "import random\n",
    "shuffled = increments.copy()\n",
    "random.shuffle(shuffled)\n",
    "print('shuffled =',shuffled)"
   ]
  },
  {
   "cell_type": "markdown",
   "metadata": {},
   "source": [
    "- 元のデータをそのまま保持しておきたいため、copy()を使って複製し、shuffled変数に格納します\n",
    "- random.shuffle()を使ってランダムに並べ替えています"
   ]
  },
  {
   "cell_type": "code",
   "execution_count": 15,
   "metadata": {},
   "outputs": [
    {
     "name": "stdout",
     "output_type": "stream",
     "text": [
      "ascending1 = [0, 5, 10, 15, 20, 25, 30, 35, 40, 45, 50, 55, 60, 65, 70, 75, 80, 85, 90, 95]\n",
      "(increments == ascending1) = True\n"
     ]
    }
   ],
   "source": [
    "# sort() を使って並べ替える(昇順)\n",
    "ascending1 = shuffled.copy() # sort()はリストの値を直接並べ替えるメソッドのため、一度複製しておきます。\n",
    "ascending1.sort() # sort()を使って並べ替えます\n",
    "print('ascending1 =',ascending1)\n",
    "print('(increments == ascending1) =', increments == ascending1)"
   ]
  },
  {
   "cell_type": "markdown",
   "metadata": {},
   "source": [
    "- ランダムに並べ方変数（shuffled）を複製して ascending1 に格納します。\n",
    "- sort()を使って並べ替えます（直接データの中身を書き換えます）\n",
    "- print()してみると、値が小さい順（昇順）に並んでいることがわかります。\n",
    "- 並べ替えた結果、shuffle前のリストと同じデータに戻るため、== 演算子で比較するとTrueとなります。"
   ]
  },
  {
   "cell_type": "code",
   "execution_count": 16,
   "metadata": {},
   "outputs": [
    {
     "name": "stdout",
     "output_type": "stream",
     "text": [
      "ascending2 = [0, 5, 10, 15, 20, 25, 30, 35, 40, 45, 50, 55, 60, 65, 70, 75, 80, 85, 90, 95]\n",
      "(increments == ascending2) = True\n"
     ]
    }
   ],
   "source": [
    "# sorted() を使って並べ替える(昇順)\n",
    "ascending2 = sorted(shuffled) # sorted()を使って並べ替えます。sorted()は並べ替えた新しいリストを返します。\n",
    "print('ascending2 =',ascending2)\n",
    "print('(increments == ascending2) =', increments == ascending2)"
   ]
  },
  {
   "cell_type": "markdown",
   "metadata": {},
   "source": [
    "- sorted()を使って並べ替えます（並べ替えた新しいリストを返します）\n",
    "- こちらもprint()してみると、値が小さい順（昇順）に並んでいることがわかります。\n",
    "- 並べ替えた結果、shuffle前のリストと同じデータに戻るため、== 演算子で比較するとTrueとなります。"
   ]
  },
  {
   "cell_type": "code",
   "execution_count": 17,
   "metadata": {},
   "outputs": [
    {
     "name": "stdout",
     "output_type": "stream",
     "text": [
      "descending1 = [95, 90, 85, 80, 75, 70, 65, 60, 55, 50, 45, 40, 35, 30, 25, 20, 15, 10, 5, 0]\n",
      "descending2 = [95, 90, 85, 80, 75, 70, 65, 60, 55, 50, 45, 40, 35, 30, 25, 20, 15, 10, 5, 0]\n",
      "(descending1 == descending2) = True\n"
     ]
    }
   ],
   "source": [
    "# sort()、sorted()各メソッドにreverse=Trueを指定して降順ソート\n",
    "descending1 = shuffled.copy() # sort()はリストの値を直接並べ替えるメソッドのため、一度複製しておきます。\n",
    "descending1.sort(reverse=True) # 降順ソートします。\n",
    "descending2 = sorted(shuffled,reverse=True) # sorted()を使って降順ソートします。sorted()は並べ替えた新しいリストを返します。\n",
    "print('descending1 =', descending1)\n",
    "print('descending2 =', descending2)\n",
    "print('(descending1 == descending2) =', descending1 == descending2)"
   ]
  },
  {
   "cell_type": "markdown",
   "metadata": {},
   "source": [
    "- sort()メソッドにreverse=Trueを指定して降順ソートし、descending1に格納します。\n",
    "- sorted()メソッドにreverse=Trueを指定して降順ソートし、descending2に格納します。\n",
    "- それぞれprint()してみると、両方とも値が大きい順に並んでいることがわかります。\n",
    "- 並べ替えた結果、descending1とdescending2が同じデータになるため、== 演算子で比較するとTrueとなります。"
   ]
  },
  {
   "cell_type": "code",
   "execution_count": 20,
   "metadata": {},
   "outputs": [
    {
     "name": "stdout",
     "output_type": "stream",
     "text": [
      "reverse1 = [80, 70, 95, 10, 65, 30, 55, 50, 60, 40, 15, 25, 20, 75, 90, 0, 5, 85, 35, 45]\n",
      "reverse2 = [0, 5, 10, 15, 20, 25, 30, 35, 40, 45, 50, 55, 60, 65, 70, 75, 80, 85, 90, 95]\n",
      "(increments == reverse1) = False\n",
      "(increments == reverse2) = True\n"
     ]
    }
   ],
   "source": [
    "# リストを逆順に並べる\n",
    "reverse1 = shuffled.copy() # reverse()はリストの値を直接並べ替えるメソッドのため、一度複製しておきます。\n",
    "reverse2 = descending1.copy() # reverse()はリストの値を直接並べ替えるメソッドのため、一度複製しておきます。\n",
    "reverse1.reverse()\n",
    "reverse2.reverse()\n",
    "print('reverse1 =', reverse1)\n",
    "print('reverse2 =', reverse2)\n",
    "print('(increments == reverse1) =', increments == reverse1)\n",
    "print('(increments == reverse2) =', increments == reverse2)"
   ]
  },
  {
   "cell_type": "markdown",
   "metadata": {},
   "source": [
    "- reverse1はリスト要素の順序が逆になっていることがわかります。\n",
    "- reverse2も同様にリスト要素の順序が逆になっていることがわかります。\n",
    "  - reverse2では降順に並べたリストの順序を逆にしているため、昇順でソートされた状態になっています。\n",
    "- reverse1と元のリスト(increments)を == 演算子で比較してみると、ランダムに並べ替えたリストを逆順にしただけですので、結果はFalseとなります。\n",
    "- reverse2と元のリスト(increments)を == 演算子で比較してみると、結果はTrueとなります。"
   ]
  },
  {
   "cell_type": "markdown",
   "metadata": {},
   "source": [
    "---"
   ]
  },
  {
   "cell_type": "markdown",
   "metadata": {},
   "source": [
    "## 練習プログラム2 (1.2点)\n",
    "自分で実装してみましょう\n",
    "- randomなリストを作る\n",
    "- sort() を使って並べ替える(昇順ソート)\n",
    "- sorted() を使って並べ替える(昇順ソート)\n",
    "- 降順ソートを試す\n",
    "- リストを逆順に並べ替える"
   ]
  },
  {
   "cell_type": "code",
   "execution_count": 3,
   "metadata": {},
   "outputs": [],
   "source": [
    "# 0. ランダムなリストを新たに作成してみましょう\n",
    "# 入れる値は何でも良いですが、このNotebookのサンプルプログラムや教科書の値とは違う独自の値を入れましょう\n",
    "\n"
   ]
  },
  {
   "cell_type": "code",
   "execution_count": null,
   "metadata": {},
   "outputs": [],
   "source": [
    "# 1. sort() を使って並べ替えてみましょう(昇順ソート)\n",
    "# このNotebookのサンプルプログラムや教科書の値とは違う独自の値を入れて作成してみましょう\n",
    "\n"
   ]
  },
  {
   "cell_type": "code",
   "execution_count": null,
   "metadata": {},
   "outputs": [],
   "source": [
    "# 2. sorted() を使って並べ替える(昇順ソート)\n",
    "\n"
   ]
  },
  {
   "cell_type": "code",
   "execution_count": null,
   "metadata": {},
   "outputs": [],
   "source": [
    "# 3. 降順ソートを試す\n",
    "\n"
   ]
  },
  {
   "cell_type": "code",
   "execution_count": null,
   "metadata": {},
   "outputs": [],
   "source": [
    "# 4. リストを逆順に並べ替える\n",
    "\n",
    "\n"
   ]
  },
  {
   "cell_type": "markdown",
   "metadata": {},
   "source": [
    "---\n",
    "---\n",
    "---"
   ]
  },
  {
   "cell_type": "markdown",
   "metadata": {},
   "source": [
    "## サンプルプログラム3　ソートで使う比較関数を指定する\n",
    "- 文字列の長さでソートする\n",
    "- 大文字小文字を区別せずに比較する"
   ]
  },
  {
   "cell_type": "code",
   "execution_count": 5,
   "metadata": {},
   "outputs": [
    {
     "name": "stdout",
     "output_type": "stream",
     "text": [
      "normal_sorted = ['Buffaloes', 'Giants', 'Hawks', 'Tigers', 'ball', 'ground', 'home base', 'picher', 'touch up']\n",
      "length_sorted = ['ball', 'Hawks', 'picher', 'Tigers', 'Giants', 'ground', 'touch up', 'home base', 'Buffaloes']\n"
     ]
    }
   ],
   "source": [
    "# 文字列の長さでソートする\n",
    "baseball_words = [\"picher\", \"ball\", \"Tigers\", \"Giants\", \"home base\", \"ground\", \"touch up\", \"Buffaloes\", \"Hawks\"]\n",
    "normal_sorted = sorted(baseball_words)\n",
    "length_sorted = sorted(baseball_words, key=len)\n",
    "print(\"normal_sorted =\", normal_sorted)\n",
    "print(\"length_sorted =\", length_sorted)"
   ]
  },
  {
   "cell_type": "markdown",
   "metadata": {},
   "source": [
    "- 何も指定せずに単純にソートすると、先頭が大文字の単語が先で、小文字の単語が後になります。\n",
    "- key=len を指定すると、文字列長の小さい順に並びます"
   ]
  },
  {
   "cell_type": "code",
   "execution_count": 4,
   "metadata": {},
   "outputs": [
    {
     "name": "stdout",
     "output_type": "stream",
     "text": [
      "lower_sorted = ['ball', 'Buffaloes', 'Giants', 'ground', 'Hawks', 'home base', 'picher', 'Tigers', 'touch up']\n"
     ]
    }
   ],
   "source": [
    "lower_sorted = sorted(baseball_words, key=str.lower)\n",
    "print(\"lower_sorted =\", lower_sorted)"
   ]
  },
  {
   "cell_type": "markdown",
   "metadata": {},
   "source": [
    "- key=str.lower を指定すると、全ての文字を小文字にして比較するため、大文字小文字を区別せずにソート出来ます"
   ]
  },
  {
   "cell_type": "markdown",
   "metadata": {},
   "source": [
    "---"
   ]
  },
  {
   "cell_type": "markdown",
   "metadata": {},
   "source": [
    "## 練習プログラム3 (0.9点)\n",
    "- リストを新たに作る\n",
    "- 文字列の長さでソートする\n",
    "- 大文字小文字を区別せずに比較する"
   ]
  },
  {
   "cell_type": "code",
   "execution_count": 7,
   "metadata": {},
   "outputs": [],
   "source": [
    "# 1. リストを新たに作成してみましょう\n",
    "# 入れる値は何でも良いですが、このNotebookのサンプルプログラムや教科書の値とは違う独自の値を入れましょう\n",
    "\n"
   ]
  },
  {
   "cell_type": "code",
   "execution_count": 8,
   "metadata": {},
   "outputs": [],
   "source": [
    "# 2. 文字列の長さでソートする\n"
   ]
  },
  {
   "cell_type": "code",
   "execution_count": 9,
   "metadata": {},
   "outputs": [],
   "source": [
    "# 3. 大文字小文字を区別せずに比較する\n"
   ]
  },
  {
   "cell_type": "code",
   "execution_count": null,
   "metadata": {},
   "outputs": [],
   "source": []
  },
  {
   "cell_type": "code",
   "execution_count": null,
   "metadata": {},
   "outputs": [],
   "source": []
  }
 ],
 "metadata": {
  "colab": {
   "authorship_tag": "ABX9TyMOtB7OiTVLb+yu2KoVwjto",
   "include_colab_link": true,
   "provenance": []
  },
  "kernelspec": {
   "display_name": "Python 3 (ipykernel)",
   "language": "python",
   "name": "python3"
  },
  "language_info": {
   "codemirror_mode": {
    "name": "ipython",
    "version": 3
   },
   "file_extension": ".py",
   "mimetype": "text/x-python",
   "name": "python",
   "nbconvert_exporter": "python",
   "pygments_lexer": "ipython3",
   "version": "3.11.9"
  }
 },
 "nbformat": 4,
 "nbformat_minor": 4
}
