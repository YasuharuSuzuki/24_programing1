{
 "cells": [
  {
   "cell_type": "markdown",
   "metadata": {
    "colab_type": "text",
    "id": "view-in-github"
   },
   "source": [
    "<a href=\"https://colab.research.google.com/github/YasuharuSuzuki/24_programing1/blob/main/\" target=\"_parent\"><img src=\"https://colab.research.google.com/assets/colab-badge.svg\" alt=\"Open In Colab\"/></a>"
   ]
  },
  {
   "cell_type": "markdown",
   "metadata": {},
   "source": [
    "# リスト内包表記"
   ]
  },
  {
   "cell_type": "markdown",
   "metadata": {},
   "source": [
    "## リスト 参考サイト\n",
    "### [参考サイト1【Python早見表】リスト内包表記](https://chokkan.github.io/python/06list.html#id13)\n",
    "\n",
    "### [参考サイト2【Python入門】リスト内包表記](https://utokyo-ipp.github.io/6/6-1.html)"
   ]
  },
  {
   "cell_type": "markdown",
   "metadata": {},
   "source": [
    "## リスト内包表記とは\n",
    "- listの中にfor inを書いて新しいリストを作る構文です\n",
    "- Pythonではよく使用されます。Pythonの代表的な構文の１つです。\n",
    "\n",
    "### 通常のfor文\n",
    "```python\n",
    "a1 = []\n",
    "for i in range(10):\n",
    "    a1.append(i)\n",
    "```\n",
    "\n",
    "### リスト内包表記を使うと...？\n",
    "```python\n",
    "a1 = [i for i in range(10)]\n",
    "```\n",
    "\n",
    "- このようにスッキリ書けます\n",
    "- ソースコードを左から\"list of i for all i in the range of ten\"のように英語読みをすると解釈しやすいです。なので日本語読みするときは右から読んだほうがわかりやすいかもしれませんね。\n",
    "\n",
    "### リスト内包表記の構文\n",
    "\n",
    "```python\n",
    "[式 for 変数 in イテラブル]\n",
    "```\n",
    "- 構文的には in の場所に「イテラブル」という、値を列挙可能なオブジェクトを定義することになっています。\n",
    "\n",
    "### イテラブル(iterable)とは？\n",
    "- Pythonのイテラブル(iterable)オブジェクトは、リストの他に、文字列、range()で作るシーケンス、辞書(dict)、tuple、setなどがあります。\n"
   ]
  },
  {
   "cell_type": "markdown",
   "metadata": {},
   "source": [
    "## サンプルプログラム5　リスト内包表記\n",
    "- リスト内包表記でrangeを使ってリストを作る\n",
    "- リスト内包表記でリストを加工して新たに作る\n",
    "- リスト内包表記で文字列で単位を追加したリストを新たに作る"
   ]
  },
  {
   "cell_type": "code",
   "execution_count": 2,
   "metadata": {},
   "outputs": [
    {
     "name": "stdout",
     "output_type": "stream",
     "text": [
      "increments1 = [0, 1, 2, 3, 4, 5, 6, 7, 8, 9]\n",
      "increments5 = [0, 5, 10, 15, 20, 25, 30, 35, 40, 45]\n"
     ]
    }
   ],
   "source": [
    "# リストを作る\n",
    "increments1 = [i for i in range(10)] # iterableにrangeを使って0〜9までのリストを作る\n",
    "increments5 = [i*5 for i in increments1] # iterableにlistを使って5刻みの0〜45までのリストを作る\n",
    "print('increments1 =',increments1)\n",
    "print('increments5 =',increments5)"
   ]
  },
  {
   "cell_type": "markdown",
   "metadata": {},
   "source": [
    "- range を使用して簡単に1行でリストを作ることが出来ます。\n",
    "- listを使用して値を加工したリストを新たに作ることも出来ます。\n",
    "- 取り出した要素をprint文で出力しています"
   ]
  },
  {
   "cell_type": "code",
   "execution_count": 3,
   "metadata": {},
   "outputs": [
    {
     "name": "stdout",
     "output_type": "stream",
     "text": [
      "unit_cm = ['0cm', '5cm', '10cm', '15cm', '20cm', '25cm', '30cm', '35cm', '40cm', '45cm']\n"
     ]
    }
   ],
   "source": [
    "# 文字列で”cm”と単位をつけたリストを作る\n",
    "unit_cm =  [f\"{i}cm\" for i in increments5]\n",
    "print('unit_cm =',unit_cm)"
   ]
  },
  {
   "cell_type": "markdown",
   "metadata": {},
   "source": [
    "---"
   ]
  },
  {
   "cell_type": "markdown",
   "metadata": {},
   "source": [
    "## 練習プログラム5 (0.9点)\n",
    "- リスト内包表記でrangeを使ってリストを作る\n",
    "- リスト内包表記でリストを加工して新たに作る\n",
    "- リスト内包表記で文字列で単位を追加したリストを新たに作る"
   ]
  },
  {
   "cell_type": "code",
   "execution_count": 2,
   "metadata": {},
   "outputs": [],
   "source": [
    "# 1. リスト内包表記でrangeを使ってリストを作ってみましょう\n",
    "# 入れる値は何でも良いですが、このNotebookのサンプルプログラムとは違う独自の値を入れましょう\n",
    "\n"
   ]
  },
  {
   "cell_type": "code",
   "execution_count": 3,
   "metadata": {},
   "outputs": [],
   "source": [
    "# 2. リスト内包表記でリストを加工して新たに作ってみましょう\n",
    "\n"
   ]
  },
  {
   "cell_type": "code",
   "execution_count": 5,
   "metadata": {},
   "outputs": [],
   "source": [
    "# 3. リスト内包表記で文字列で単位を追加したリストを新たに作ってみましょう\n",
    "\n"
   ]
  },
  {
   "cell_type": "code",
   "execution_count": null,
   "metadata": {},
   "outputs": [],
   "source": []
  },
  {
   "cell_type": "markdown",
   "metadata": {},
   "source": [
    "---\n",
    "---\n",
    "---"
   ]
  },
  {
   "cell_type": "markdown",
   "metadata": {},
   "source": [
    "## 条件付きリスト内包表記の構文\n",
    "リスト内包表記にifを使って条件式を追加することで、条件にみあったリストを作ることが出来ます\n",
    "```python\n",
    "[式 for 変数 in イテラブル if 条件式]\n",
    "```"
   ]
  },
  {
   "cell_type": "markdown",
   "metadata": {},
   "source": [
    "## サンプルプログラム6　条件付きのリスト内包表記\n",
    "- 条件付きリスト内包表記"
   ]
  },
  {
   "cell_type": "code",
   "execution_count": 5,
   "metadata": {},
   "outputs": [
    {
     "name": "stdout",
     "output_type": "stream",
     "text": [
      "number2to4 = [2, 3, 4]\n"
     ]
    }
   ],
   "source": [
    "# 条件付きリスト内包表記：1〜9のリストから２〜４の値だけ取り出してリストを作る\n",
    "number2to4 = [num for num in increments1 if 2<=num<=4]\n",
    "print('number2to4 =',number2to4)"
   ]
  },
  {
   "cell_type": "markdown",
   "metadata": {},
   "source": [
    "---"
   ]
  },
  {
   "cell_type": "markdown",
   "metadata": {},
   "source": [
    "## 練習プログラム6 (0.3点)\n",
    "- 条件付きリスト内包表記を作る"
   ]
  },
  {
   "cell_type": "code",
   "execution_count": null,
   "metadata": {},
   "outputs": [],
   "source": [
    "# 1. 条件付きリスト内包表記を作ってみましょう\n",
    "\n"
   ]
  },
  {
   "cell_type": "code",
   "execution_count": null,
   "metadata": {},
   "outputs": [],
   "source": []
  },
  {
   "cell_type": "code",
   "execution_count": null,
   "metadata": {},
   "outputs": [],
   "source": []
  },
  {
   "cell_type": "code",
   "execution_count": null,
   "metadata": {},
   "outputs": [],
   "source": []
  },
  {
   "cell_type": "code",
   "execution_count": null,
   "metadata": {},
   "outputs": [],
   "source": []
  }
 ],
 "metadata": {
  "colab": {
   "authorship_tag": "ABX9TyMOtB7OiTVLb+yu2KoVwjto",
   "include_colab_link": true,
   "provenance": []
  },
  "kernelspec": {
   "display_name": "Python 3 (ipykernel)",
   "language": "python",
   "name": "python3"
  },
  "language_info": {
   "codemirror_mode": {
    "name": "ipython",
    "version": 3
   },
   "file_extension": ".py",
   "mimetype": "text/x-python",
   "name": "python",
   "nbconvert_exporter": "python",
   "pygments_lexer": "ipython3",
   "version": "3.11.9"
  }
 },
 "nbformat": 4,
 "nbformat_minor": 4
}
