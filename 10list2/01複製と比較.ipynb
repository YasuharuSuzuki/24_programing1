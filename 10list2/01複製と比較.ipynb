{
 "cells": [
  {
   "cell_type": "markdown",
   "metadata": {
    "colab_type": "text",
    "id": "view-in-github"
   },
   "source": [
    "<a href=\"https://colab.research.google.com/github/YasuharuSuzuki/24_programing1/blob/main/\" target=\"_parent\"><img src=\"https://colab.research.google.com/assets/colab-badge.svg\" alt=\"Open In Colab\"/></a>"
   ]
  },
  {
   "cell_type": "markdown",
   "metadata": {},
   "source": [
    "# リストの複製と比較"
   ]
  },
  {
   "cell_type": "markdown",
   "metadata": {},
   "source": [
    "## リスト 参考サイト\n",
    "### [参考サイト1【Python早見表】リストと参照](https://chokkan.github.io/python/06list.html#id8)\n",
    "\n",
    "### [参考サイト2【Python入門】リストやタプルの比較演算](https://utokyo-ipp.github.io/2/2-2.html#%E3%83%AA%E3%82%B9%E3%83%88%E3%82%84%E3%82%BF%E3%83%97%E3%83%AB%E3%81%AE%E6%AF%94%E8%BC%83%E6%BC%94%E7%AE%97)\n"
   ]
  },
  {
   "cell_type": "markdown",
   "metadata": {},
   "source": [
    "# リストはミュータブルなオブジェクト"
   ]
  },
  {
   "cell_type": "markdown",
   "metadata": {},
   "source": [
    "## ミュータブルとイミュータブル\n",
    "※参考サイト [Python公式 オブジェクト、値、および型](https://docs.python.org/ja/3/reference/datamodel.html?highlight=mutable)\n",
    "- ミュータブルとは値を変更できるオブジェクトのことです\n",
    "  - listの他に、後ほど習うsetやdictもミュータブルです\n",
    "- イミュータブルはその逆で、値を変更できないインスタンスのことを指します\n",
    "  - 数値型や文字列型の他に、後ほど習うtupleやfrozensetはイミュータブルです\n",
    "- listについて\n",
    "  - listはミュータブルなオブジェクトの中に、数値や文字列などのイミュータブルなインスタンスを格納可能です。\n",
    "  - ミュータブルなオブジェクトは新しい変数に格納すると参照(reference)が格納されます。\n",
    "  - 新しい変数と元の変数のどちらからでも要素を書き換えることができますが、一方を変更するともう一方も書き換わります。\n",
    "- listの複製\n",
    "  - 一方の変更をもう一方へ反映したくない場合はcopy()を使って複製しましょう。\n",
    "  - スライスを使ってcopy()同様に複製することも可能です。\n",
    "\n",
    "文章だけでは直感的な理解は難しいと思うので、実際にプログラムを修正しながら感触をつかみましょう"
   ]
  },
  {
   "cell_type": "markdown",
   "metadata": {},
   "source": [
    "## is 演算子\n",
    "- is 演算子は２つの変数同士が同じオブジェクトかどうかを返します\n",
    "- 同じ時には True、違うときには Falseを返します\n",
    "- 中身が同じかどうかを比較するには == 演算子を使用しましょう"
   ]
  },
  {
   "cell_type": "markdown",
   "metadata": {},
   "source": [
    "## サンプルプログラム1　リストの複製と比較\n",
    "- 0〜95まで5刻みのリストを作る\n",
    "- 異なる変数に代入する\n",
    "- is 演算子を用いた比較\n",
    "- copy()を用いた複製\n",
    "- is 演算子を用いた比較\n",
    "- リストに100を追加する\n",
    "  - copy()を使用して作成したリストを確認\n",
    "  - 元のリストを確認\n",
    "  - 異なる変数に格納したリストを確認\n",
    "- スライスを用いて複製する"
   ]
  },
  {
   "cell_type": "code",
   "execution_count": 1,
   "metadata": {},
   "outputs": [
    {
     "name": "stdout",
     "output_type": "stream",
     "text": [
      "increments = [0, 5, 10, 15, 20, 25, 30, 35, 40, 45, 50, 55, 60, 65, 70, 75, 80, 85, 90, 95]\n"
     ]
    }
   ],
   "source": [
    "# 0〜95までのリストを作る\n",
    "increments = list(range(0,99,5)) # 5刻みの0〜95までのリストを作る\n",
    "print('increments =',increments)"
   ]
  },
  {
   "cell_type": "markdown",
   "metadata": {},
   "source": [
    "- 5刻みの値が0〜95まで格納されています"
   ]
  },
  {
   "cell_type": "code",
   "execution_count": 2,
   "metadata": {},
   "outputs": [
    {
     "name": "stdout",
     "output_type": "stream",
     "text": [
      "data1 = [0, 5, 10, 15, 20, 25, 30, 35, 40, 45, 50, 55, 60, 65, 70, 75, 80, 85, 90, 95]\n"
     ]
    }
   ],
   "source": [
    "# 異なる変数に代入する\n",
    "data1 = increments\n",
    "print('data1 =',data1)"
   ]
  },
  {
   "cell_type": "markdown",
   "metadata": {},
   "source": [
    "- 異なる変数に代入します\n",
    "- 中身を見てみると、オリジナルのincrementsと同じデータが格納されているように見えます\n",
    "  - 実際は参照を格納しているだけなので、同じデータを参照しています"
   ]
  },
  {
   "cell_type": "code",
   "execution_count": 3,
   "metadata": {},
   "outputs": [
    {
     "name": "stdout",
     "output_type": "stream",
     "text": [
      "(increments is data1) = True\n",
      "(increments == data1) = True\n"
     ]
    }
   ],
   "source": [
    "# is 演算子、== 演算子を用いた比較\n",
    "print('(increments is data1) =', increments is data1)\n",
    "print('(increments == data1) =', increments == data1)"
   ]
  },
  {
   "cell_type": "markdown",
   "metadata": {},
   "source": [
    "- is 演算子を用いると同じオブジェクトであることがわかります。\n",
    "- 同じオブジェクトであるため、== 演算子もTrueを返します"
   ]
  },
  {
   "cell_type": "code",
   "execution_count": 4,
   "metadata": {},
   "outputs": [
    {
     "name": "stdout",
     "output_type": "stream",
     "text": [
      "data2 = [0, 5, 10, 15, 20, 25, 30, 35, 40, 45, 50, 55, 60, 65, 70, 75, 80, 85, 90, 95]\n"
     ]
    }
   ],
   "source": [
    "# copy()を用いた複製\n",
    "data2 = increments.copy()\n",
    "print('data2 =',data2)"
   ]
  },
  {
   "cell_type": "markdown",
   "metadata": {},
   "source": [
    "- copy()を用いて複製し、異なる変数(data2)に代入します\n",
    "- 中身を見てみると、オリジナルのincrementsと同じデータが格納されているように見えます\n",
    "  - data1と全く同じ見た目ですが、こちらはdata2に新しいデータが複製されて格納されています"
   ]
  },
  {
   "cell_type": "code",
   "execution_count": 5,
   "metadata": {},
   "outputs": [
    {
     "name": "stdout",
     "output_type": "stream",
     "text": [
      "(increments is data2) = False\n",
      "(increments == data2) = True\n"
     ]
    }
   ],
   "source": [
    "# is 演算子を用いた比較\n",
    "print('(increments is data2) =', increments is data2)\n",
    "print('(increments == data2) =', increments == data2)"
   ]
  },
  {
   "cell_type": "markdown",
   "metadata": {},
   "source": [
    "- is 演算子を用いると異なるオブジェクトであることがわかります。\n",
    "- 違うオブジェクトですが、中身が同じため == 演算子はTrueを返します"
   ]
  },
  {
   "cell_type": "code",
   "execution_count": 6,
   "metadata": {
    "scrolled": true
   },
   "outputs": [
    {
     "name": "stdout",
     "output_type": "stream",
     "text": [
      "increments = [0, 5, 10, 15, 20, 25, 30, 35, 40, 45, 50, 55, 60, 65, 70, 75, 80, 85, 90, 95, 100]\n",
      "data1 = [0, 5, 10, 15, 20, 25, 30, 35, 40, 45, 50, 55, 60, 65, 70, 75, 80, 85, 90, 95, 100]\n",
      "data2 = [0, 5, 10, 15, 20, 25, 30, 35, 40, 45, 50, 55, 60, 65, 70, 75, 80, 85, 90, 95]\n",
      "(increments == data1) = True\n",
      "(increments == data2) = False\n"
     ]
    }
   ],
   "source": [
    "# リストに100を追加して、各変数を見てみます\n",
    "increments.append(100)\n",
    "print('increments =',increments)\n",
    "print('data1 =',data1)\n",
    "print('data2 =',data2)\n",
    "print('(increments == data1) =', increments == data1)\n",
    "print('(increments == data2) =', increments == data2)"
   ]
  },
  {
   "cell_type": "markdown",
   "metadata": {},
   "source": [
    "- 元の変数(increments)だけではなく、代入しただけの変数(data1)にも100が格納されていることがわかります。\n",
    "  - これはdata1は参照を格納しているだけなので、同じデータを参照しているからです。\n",
    "  - 同じオブジェクトを == 演算子で比較すると、当然ですがTrueとなります。\n",
    "- copy()を用いて複製した変数(data2)には100が格納されていないことがわかります。\n",
    "  - data2には新しいデータが複製されて格納されているため、元の変数(increments)の変更が反映されません。\n",
    "  - 値が変わっているため == 演算子で比較するとFalseとなります。"
   ]
  },
  {
   "cell_type": "code",
   "execution_count": 11,
   "metadata": {},
   "outputs": [
    {
     "name": "stdout",
     "output_type": "stream",
     "text": [
      "data3 = [0, 5, 10, 15, 20, 25, 30, 35, 40, 45, 50, 55, 60, 65, 70, 75, 80, 85, 90, 95, 100]\n",
      "(increments is data3) = False\n",
      "(increments == data3) = True\n"
     ]
    }
   ],
   "source": [
    "# スライスを用いた複製\n",
    "data3 = increments[:]\n",
    "print('data3 =',data3)\n",
    "print('(increments is data3) =', increments is data3)\n",
    "print('(increments == data3) =', increments == data3)"
   ]
  },
  {
   "cell_type": "markdown",
   "metadata": {},
   "source": [
    "- スライスを用いて全てを抽出するとcopy()と同じ挙動となります。"
   ]
  },
  {
   "cell_type": "markdown",
   "metadata": {},
   "source": [
    "---"
   ]
  },
  {
   "cell_type": "markdown",
   "metadata": {},
   "source": [
    "## 練習プログラム1 (1.2点)\n",
    "- リストを新たに作る\n",
    "- 異なる変数に代入する(参照)\n",
    "  - is 演算子、== 演算子を用いて比較する\n",
    "- リストを複製する(copy()でもスライスでも可)\n",
    "  - is 演算子、== 演算子を用いて比較する\n",
    "- 元のリストのデータを修正する（追加、更新、削除のいずれでも可）\n",
    "  - 元のリストを確認\n",
    "  - 異なる変数に格納したリストを確認\n",
    "  - 複製したリストを確認"
   ]
  },
  {
   "cell_type": "code",
   "execution_count": 7,
   "metadata": {},
   "outputs": [],
   "source": [
    "# 1. リストを新たに作成してみましょう\n",
    "# 入れる値は何でも良いですが、このNotebookのサンプルプログラムとは違う独自の値を入れましょう\n",
    "\n"
   ]
  },
  {
   "cell_type": "code",
   "execution_count": 8,
   "metadata": {},
   "outputs": [],
   "source": [
    "# 2. 異なる変数に代入(参照)し、is 演算子、== 演算子を用いて比較してみましょう\n"
   ]
  },
  {
   "cell_type": "code",
   "execution_count": 9,
   "metadata": {},
   "outputs": [],
   "source": [
    "# 3. リストを複製して、is 演算子、== 演算子を用いて比較してみましょう\n"
   ]
  },
  {
   "cell_type": "code",
   "execution_count": 10,
   "metadata": {},
   "outputs": [],
   "source": [
    "# 4. 元のリストのデータを修正し、３つの変数に格納されているリストの内容を確認しましょう\n"
   ]
  },
  {
   "cell_type": "code",
   "execution_count": null,
   "metadata": {},
   "outputs": [],
   "source": []
  },
  {
   "cell_type": "code",
   "execution_count": null,
   "metadata": {},
   "outputs": [],
   "source": []
  }
 ],
 "metadata": {
  "colab": {
   "authorship_tag": "ABX9TyMOtB7OiTVLb+yu2KoVwjto",
   "include_colab_link": true,
   "provenance": []
  },
  "kernelspec": {
   "display_name": "Python 3 (ipykernel)",
   "language": "python",
   "name": "python3"
  },
  "language_info": {
   "codemirror_mode": {
    "name": "ipython",
    "version": 3
   },
   "file_extension": ".py",
   "mimetype": "text/x-python",
   "name": "python",
   "nbconvert_exporter": "python",
   "pygments_lexer": "ipython3",
   "version": "3.11.9"
  }
 },
 "nbformat": 4,
 "nbformat_minor": 4
}
