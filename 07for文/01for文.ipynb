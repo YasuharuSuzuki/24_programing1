{
 "cells": [
  {
   "cell_type": "markdown",
   "metadata": {
    "colab_type": "text",
    "id": "view-in-github"
   },
   "source": [
    "<a href=\"https://colab.research.google.com/github/YasuharuSuzuki/24_programing1/blob/main/\" target=\"_parent\"><img src=\"https://colab.research.google.com/assets/colab-badge.svg\" alt=\"Open In Colab\"/></a>"
   ]
  },
  {
   "cell_type": "markdown",
   "metadata": {},
   "source": [
    "# Section 7 for文\n",
    "処理を繰り返す"
   ]
  },
  {
   "cell_type": "markdown",
   "metadata": {},
   "source": [
    "## for文 参考サイト\n",
    "### [参考サイト1 【Python早見表】 for文（反復処理）](https://chokkan.github.io/python/03control.html#for)\n",
    "- for文、continue文、break文、for-else文が簡単にわかりやすく説明されています。\n",
    "\n",
    "### [参考サイト2 【Python入門】for文による繰り返し](https://utokyo-ipp.github.io/3/3-2.html#for%E6%96%87%E3%81%AB%E3%82%88%E3%82%8B%E7%B9%B0%E3%82%8A%E8%BF%94%E3%81%97)\n",
    "- こちらはfor文を中心に解説されています。練習問題もあります。"
   ]
  },
  {
   "cell_type": "markdown",
   "metadata": {},
   "source": [
    "---\n",
    "---\n",
    "---"
   ]
  },
  {
   "cell_type": "markdown",
   "metadata": {},
   "source": [
    "## for文\n",
    "### for文とは？\n",
    "- 条件に応じて繰り返し処理を実行するにはfor文も使うことができます。\n",
    "- [Python早見表の説明](https://chokkan.github.io/python/03control.html#for)\n",
    "- 前回学んだwhile文も同じ繰り返し処理ですが、私はfor文の方をよく使います。\n",
    "  - 繰り返し回数が明確になっている処理（AIの学習用画像の一括読み込みや、AIの学習処理など）はfor文を使うことが多いです。\n",
    "  - 繰り返し回数が明確になっていない処理ではwhileを使用することがあります。"
   ]
  },
  {
   "cell_type": "markdown",
   "metadata": {},
   "source": [
    "---"
   ]
  },
  {
   "cell_type": "markdown",
   "metadata": {},
   "source": [
    "## サンプルプログラム1　for文\n",
    "- 5回繰り返すプログラムをfor文で書くと以下のようになります"
   ]
  },
  {
   "cell_type": "code",
   "execution_count": 1,
   "metadata": {},
   "outputs": [
    {
     "name": "stdout",
     "output_type": "stream",
     "text": [
      "for開始！\n",
      "for繰り返し中！ (count=0)\n",
      "for繰り返し中！ (count=1)\n",
      "for繰り返し中！ (count=2)\n",
      "for繰り返し中！ (count=3)\n",
      "for繰り返し中！ (count=4)\n",
      "for終了！\n"
     ]
    }
   ],
   "source": [
    "print(\"for開始！\")\n",
    "for count in range(5):\n",
    "    print(f\"for繰り返し中！ (count={count})\")\n",
    "print(\"for終了！\")"
   ]
  },
  {
   "cell_type": "markdown",
   "metadata": {},
   "source": [
    "### 説明\n",
    "- ```for開始!``` でプログラムを開始しています\n",
    "- countが5になるまでの間、```for繰り返し中！``` が実行されます。\n",
    "- countが5になると条件が満たされなくなり、forループを抜けて ```for終了！``` と表示されます\n",
    "- 上記のように、単純な繰り返し処理ならwhile文よりもスッキリ書けます\n",
    "- range()は初期値やステップを指定することが出来ます。\n",
    "  - range(初期値、終了値)と渡すと、初期値から終了値-1までカウントアップします。range(2,5)と書くと2,3,4とcountに値が代入されす\n",
    "  - range(初期値、終了値、ステップ)と渡すと、初期値から終了値-1までステップずつカウントアップします。range(3,10,2)と書くと3,5,7,9とcountに値が代入されます"
   ]
  },
  {
   "cell_type": "markdown",
   "metadata": {},
   "source": [
    "---"
   ]
  },
  {
   "cell_type": "markdown",
   "metadata": {},
   "source": [
    "## 練習プログラム1 (2点)\n",
    "- input()でループ回数を数字で受け取り、その回数分ループするプログラムを作成しましょう\n",
    "- サンプルプログラム１をベースに開始や繰り返し中、終了などを表示します"
   ]
  },
  {
   "cell_type": "code",
   "execution_count": 2,
   "metadata": {},
   "outputs": [
    {
     "name": "stdout",
     "output_type": "stream",
     "text": [
      "7\n",
      "for開始！ (loop_count=7)\n",
      "for繰り返し中！ (count=0)\n",
      "for繰り返し中！ (count=1)\n",
      "for繰り返し中！ (count=2)\n",
      "for繰り返し中！ (count=3)\n",
      "for繰り返し中！ (count=4)\n",
      "for繰り返し中！ (count=5)\n",
      "for繰り返し中！ (count=6)\n",
      "for終了！\n"
     ]
    }
   ],
   "source": [
    "\n"
   ]
  },
  {
   "cell_type": "markdown",
   "metadata": {},
   "source": [
    "### 動作確認\n",
    "- 最初にinputでループ回数を取得します。\n",
    "- ```for開始!``` でプログラムを開始します。その時にループ回数も表示しましょう\n",
    "- countがループ回数になるまでの間、```for繰り返し中！``` が実行されます。\n",
    "- countがループ回数に達すると条件が満たされなくなり、forループを抜けて ```for終了！``` と表示されます\n",
    "- マイナス値を入力すると１回も実行されないことも確認してみましょう\n",
    "- 1万など大きな値を入力すると実行に時間がかかることも確認しましょう（計算量を意識しましょう）"
   ]
  },
  {
   "cell_type": "markdown",
   "metadata": {},
   "source": [
    "---"
   ]
  },
  {
   "cell_type": "markdown",
   "metadata": {},
   "source": [
    "## サンプルプログラム2\n",
    "- for文では in の後ろにリストを渡すと、そのリストが終わるまでループすることが出来ます\n",
    "- ```[\"blue\",\"pink\",\"green\",\"red\"]``` というリストを宣言し、ループしてみましょう\n",
    "- リストを作成するには、リストを構成する要素をコンマで区切り全体をかぎ括弧 ```[...]``` で囲みます。"
   ]
  },
  {
   "cell_type": "code",
   "execution_count": 2,
   "metadata": {},
   "outputs": [
    {
     "name": "stdout",
     "output_type": "stream",
     "text": [
      "for開始！\n",
      "for繰り返し中！ (color=blue)\n",
      "for繰り返し中！ (color=pink)\n",
      "for繰り返し中！ (color=green)\n",
      "for繰り返し中！ (color=red)\n",
      "for終了！\n"
     ]
    }
   ],
   "source": [
    "colors = [\"blue\",\"pink\",\"green\",\"red\"]\n",
    "print(\"for開始！\")\n",
    "for color in colors:\n",
    "    print(f\"for繰り返し中！ (color={color})\")\n",
    "print(\"for終了！\")"
   ]
  },
  {
   "cell_type": "markdown",
   "metadata": {},
   "source": [
    "---\n",
    "---\n",
    "---"
   ]
  },
  {
   "cell_type": "markdown",
   "metadata": {},
   "source": [
    "## 練習プログラム2 (2点)\n",
    "- [\"春\",\"夏\",\"秋\",\"冬\"]というリストを宣言し、サンプルプログラム2をベースに開始や繰り返し中、終了などを出力してみましょう"
   ]
  },
  {
   "cell_type": "code",
   "execution_count": 4,
   "metadata": {},
   "outputs": [
    {
     "name": "stdout",
     "output_type": "stream",
     "text": [
      "for開始！\n",
      "for繰り返し中！ (season=春)\n",
      "for繰り返し中！ (season=夏)\n",
      "for繰り返し中！ (season=秋)\n",
      "for繰り返し中！ (season=冬)\n",
      "for終了！\n"
     ]
    }
   ],
   "source": [
    "\n"
   ]
  },
  {
   "cell_type": "markdown",
   "metadata": {},
   "source": [
    "---"
   ]
  },
  {
   "cell_type": "markdown",
   "metadata": {},
   "source": [
    "## break文\n",
    "- while文同様にfor文による繰り返し実行中にbreak文を実行すると、以降の処理を実行せずに繰り返しを終了します。\n",
    "- 終了条件をループ文中に好きなだけ追加できるため、よく使用します。"
   ]
  },
  {
   "cell_type": "markdown",
   "metadata": {},
   "source": [
    "## サンプルプログラム3\n",
    "- countが3になるとbreak文を実行し、繰り返しを終了します。"
   ]
  },
  {
   "cell_type": "code",
   "execution_count": 6,
   "metadata": {},
   "outputs": [
    {
     "name": "stdout",
     "output_type": "stream",
     "text": [
      "for開始！\n",
      "for繰り返し中！ (count=0)\n",
      "for繰り返し中！ (count=1)\n",
      "for繰り返し中！ (count=2)\n",
      "for繰り返し中！ (count=3)\n",
      "break実行！ループを抜けます (count=3)\n",
      "for終了！\n"
     ]
    }
   ],
   "source": [
    "print(\"for開始！\")\n",
    "for count in range(9):\n",
    "    print(f\"for繰り返し中！ (count={count})\")\n",
    "    if count >= 3:\n",
    "        print(f\"break実行！ループを抜けます (count={count})\")\n",
    "        break\n",
    "print(\"for終了！\")"
   ]
  },
  {
   "cell_type": "markdown",
   "metadata": {},
   "source": [
    "### 説明\n",
    "- ```for開始!``` でプログラムを開始しています\n",
    "- countが3になるまでの間、```for繰り返し中！``` が実行されます。\n",
    "- countが3になるとif文の中が実行され、```break実行！ループを抜けます``` と表示したあと<b>break文を実行</b>してループを抜けます。\n",
    "- forループを抜けたあと ```for終了！``` と表示します。"
   ]
  },
  {
   "cell_type": "markdown",
   "metadata": {},
   "source": [
    "---"
   ]
  },
  {
   "cell_type": "markdown",
   "metadata": {},
   "source": [
    "## 練習プログラム3 (1点)\n",
    "- input()で初期値、ループ回数、break番号を空白区切りで受け取り、サンプルプログラム3のように出力するプログラムを作成してみましょう"
   ]
  },
  {
   "cell_type": "code",
   "execution_count": 8,
   "metadata": {},
   "outputs": [
    {
     "name": "stdout",
     "output_type": "stream",
     "text": [
      "0 5 9\n",
      "for繰り返し中！ (count=0)\n",
      "for繰り返し中！ (count=1)\n",
      "for繰り返し中！ (count=2)\n",
      "for繰り返し中！ (count=3)\n",
      "for繰り返し中！ (count=4)\n",
      "for終了！\n"
     ]
    }
   ],
   "source": [
    "\n"
   ]
  },
  {
   "cell_type": "markdown",
   "metadata": {},
   "source": [
    "## 説明\n",
    "- 初期値 < ループ回数　かつ　break番号 < ループ回数 の場合に（break番号-初期値)分ループが繰り返され、breakが実行されます。\n",
    "- 初期値 >= ループ回数の場合、一度もループは実行されません。"
   ]
  },
  {
   "cell_type": "markdown",
   "metadata": {},
   "source": [
    "---\n",
    "---\n",
    "---"
   ]
  },
  {
   "cell_type": "markdown",
   "metadata": {},
   "source": [
    "## continue文\n",
    "- while文同様にfor文による繰り返し実行中にcontinue文を実行すると、以降の処理を実行せずに繰り返し処理を継続します。\n",
    "- break文と比較するとあまり使わないです。比較的複雑なループ文で使うことが多いですかね"
   ]
  },
  {
   "cell_type": "markdown",
   "metadata": {},
   "source": [
    "## サンプルプログラム4\n",
    "- for文中でcountが3の倍数の場合は ```continue実行！``` と表示して<b>continue文を実行</b>し、繰り返し処理を継続します。\n",
    "- countが3倍数以外の時は ```for繰り返し中！``` と表示します。（通常のループ処理を実行)"
   ]
  },
  {
   "cell_type": "code",
   "execution_count": 9,
   "metadata": {},
   "outputs": [
    {
     "name": "stdout",
     "output_type": "stream",
     "text": [
      "for開始！\n",
      "continue実行！ (count=0)\n",
      "for繰り返し中！ (count=1)\n",
      "for繰り返し中！ (count=2)\n",
      "continue実行！ (count=3)\n",
      "for繰り返し中！ (count=4)\n",
      "for繰り返し中！ (count=5)\n",
      "continue実行！ (count=6)\n",
      "for繰り返し中！ (count=7)\n",
      "for繰り返し中！ (count=8)\n",
      "for終了！\n"
     ]
    }
   ],
   "source": [
    "print(\"for開始！\")\n",
    "for count in range(9):\n",
    "    if (count%3) == 0:\n",
    "        print(f\"continue実行！ (count={count})\")\n",
    "        continue\n",
    "    print(f\"for繰り返し中！ (count={count})\")\n",
    "print(\"for終了！\")"
   ]
  },
  {
   "cell_type": "markdown",
   "metadata": {},
   "source": [
    "---"
   ]
  },
  {
   "cell_type": "markdown",
   "metadata": {},
   "source": [
    "## 練習プログラム4 (1点)\n",
    "- input()で初期値、ループ回数、continue倍数を空白区切りで受け取り、サンプルプログラム4のように出力するプログラムを作成してみましょう"
   ]
  },
  {
   "cell_type": "code",
   "execution_count": 10,
   "metadata": {},
   "outputs": [
    {
     "name": "stdout",
     "output_type": "stream",
     "text": [
      "1 8 4\n",
      "for開始！\n",
      "for繰り返し中！ (count=1)\n",
      "for繰り返し中！ (count=2)\n",
      "for繰り返し中！ (count=3)\n",
      "continue実行！ (count=4)\n",
      "for繰り返し中！ (count=5)\n",
      "for繰り返し中！ (count=6)\n",
      "for繰り返し中！ (count=7)\n",
      "continue実行！ (count=8)\n",
      "for終了！\n"
     ]
    }
   ],
   "source": [
    "\n"
   ]
  },
  {
   "cell_type": "markdown",
   "metadata": {},
   "source": [
    "- continue倍の時だけcontinueが実行され、すぐに次のループを実行します。"
   ]
  },
  {
   "cell_type": "markdown",
   "metadata": {},
   "source": [
    "---\n",
    "---\n",
    "---"
   ]
  },
  {
   "cell_type": "markdown",
   "metadata": {},
   "source": [
    "## for 〜 else文\n",
    "- while文同様にfor文による繰り返しを終了した後で実行する処理をelseブロックにて記述することが出来ます。\n",
    "- break文によってループを中断した時はelseブロックは実行されません。\n",
    "- 普段ほとんど使用しませんが、ループを全部終わらせた時に実行させたい処理がある時に使うことがあります。"
   ]
  },
  {
   "cell_type": "markdown",
   "metadata": {},
   "source": [
    "## サンプルプログラム5\n",
    "- input()でbreak番号を受け取り、サンプルプログラム3のように表示するプログラムを作成してみましょう\n",
    "- for文中でcountがbreak番号以上の場合は ```break実行！ループを抜けます``` と表示して<b>break文を実行</b>し、繰り返し処理を終了します。\n",
    "- breakしない間は ```for繰り返し中！``` と表示します。（通常のループ処理を実行)\n",
    "- breakせずにループを終了した場合は ```for 〜 elseブロック実行！``` と表示します"
   ]
  },
  {
   "cell_type": "code",
   "execution_count": 8,
   "metadata": {},
   "outputs": [
    {
     "name": "stdin",
     "output_type": "stream",
     "text": [
      " 3\n"
     ]
    },
    {
     "name": "stdout",
     "output_type": "stream",
     "text": [
      "for開始！\n",
      "for繰り返し中！ (count=0)\n",
      "for繰り返し中！ (count=1)\n",
      "for繰り返し中！ (count=2)\n",
      "break実行！ループを抜けます (count=3)\n",
      "for終了！\n"
     ]
    }
   ],
   "source": [
    "break_num = int(input())\n",
    "print(\"for開始！\")\n",
    "for count in range(5):\n",
    "    if count >= break_num:\n",
    "        print(f\"break実行！ループを抜けます (count={count})\")\n",
    "        break\n",
    "    print(f\"for繰り返し中！ (count={count})\")\n",
    "else:\n",
    "    print(\"for 〜 elseブロック実行！\")\n",
    "print(\"for終了！\")"
   ]
  },
  {
   "cell_type": "markdown",
   "metadata": {},
   "source": [
    "### 説明\n",
    "- input()にてbreak番号を受け取り、break_numに格納します。\n",
    "- ```for開始!``` でループを開始します\n",
    "- countが5になるまでの間、```for繰り返し中！``` が実行されます。\n",
    "- break番号が5より小さい場合\n",
    "  - countがbreak番号になるとif文の中が実行され、```break実行！ループを抜けます``` と表示したあと<b>break文を実行</b>してループを抜けます。\n",
    "  - この時は<b>for 〜 elseブロックが実行されない</b>\n",
    "- break番号が5以上の場合\n",
    "  - この時はbreakが実行されないため<b>for 〜 elseブロックが実行</b>され、```for 〜 elseブロック実行！``` と表示します。\n",
    "- forループを抜けたあと ```for終了！``` と表示します。"
   ]
  },
  {
   "cell_type": "markdown",
   "metadata": {},
   "source": [
    "## 練習プログラム5 (1点)\n",
    "- input()でループ回数、倍数A、倍数Bを空白区切りのint値で受け取ります。\n",
    "- 受け取った各値をprint文で表示します。\n",
    "- countは初期値1から開始し、倍数Aの倍数になった時はFizz、倍数Bの倍数になった時はBuzz、倍数Aと倍数B両方の倍数になった時はFizzBuzzと表示します\n",
    "  - どちらの倍数にもならない場合は ```for繰り返し中！``` と表示します。\n",
    "- FizzBuzzの表示回数をカウントし、5回に達した時は ```break実行！ループを抜けます``` と表示後にbreak文を実行してループを抜けます\n",
    "- break文を実行せずにループを終了した場合は ```for 〜 elseブロック実行！``` と表示します。"
   ]
  },
  {
   "cell_type": "code",
   "execution_count": 9,
   "metadata": {
    "scrolled": true
   },
   "outputs": [
    {
     "name": "stdin",
     "output_type": "stream",
     "text": [
      " 60 5 3\n"
     ]
    },
    {
     "name": "stdout",
     "output_type": "stream",
     "text": [
      "for開始！ (loop_count=60、pow1=5、pow2=3)\n",
      "for繰り返し中！ (count=1)\n",
      "for繰り返し中！ (count=2)\n",
      "Buzz！ (count=3)\n",
      "for繰り返し中！ (count=4)\n",
      "Fizz！ (count=5)\n",
      "Buzz！ (count=6)\n",
      "for繰り返し中！ (count=7)\n",
      "for繰り返し中！ (count=8)\n",
      "Buzz！ (count=9)\n",
      "Fizz！ (count=10)\n",
      "for繰り返し中！ (count=11)\n",
      "Buzz！ (count=12)\n",
      "for繰り返し中！ (count=13)\n",
      "for繰り返し中！ (count=14)\n",
      "FizzBuzz！ (count=15、fizz_buzz_count=1)\n",
      "for繰り返し中！ (count=16)\n",
      "for繰り返し中！ (count=17)\n",
      "Buzz！ (count=18)\n",
      "for繰り返し中！ (count=19)\n",
      "Fizz！ (count=20)\n",
      "Buzz！ (count=21)\n",
      "for繰り返し中！ (count=22)\n",
      "for繰り返し中！ (count=23)\n",
      "Buzz！ (count=24)\n",
      "Fizz！ (count=25)\n",
      "for繰り返し中！ (count=26)\n",
      "Buzz！ (count=27)\n",
      "for繰り返し中！ (count=28)\n",
      "for繰り返し中！ (count=29)\n",
      "FizzBuzz！ (count=30、fizz_buzz_count=2)\n",
      "for繰り返し中！ (count=31)\n",
      "for繰り返し中！ (count=32)\n",
      "Buzz！ (count=33)\n",
      "for繰り返し中！ (count=34)\n",
      "Fizz！ (count=35)\n",
      "Buzz！ (count=36)\n",
      "for繰り返し中！ (count=37)\n",
      "for繰り返し中！ (count=38)\n",
      "Buzz！ (count=39)\n",
      "Fizz！ (count=40)\n",
      "for繰り返し中！ (count=41)\n",
      "Buzz！ (count=42)\n",
      "for繰り返し中！ (count=43)\n",
      "for繰り返し中！ (count=44)\n",
      "FizzBuzz！ (count=45、fizz_buzz_count=3)\n",
      "for繰り返し中！ (count=46)\n",
      "for繰り返し中！ (count=47)\n",
      "Buzz！ (count=48)\n",
      "for繰り返し中！ (count=49)\n",
      "Fizz！ (count=50)\n",
      "Buzz！ (count=51)\n",
      "for繰り返し中！ (count=52)\n",
      "for繰り返し中！ (count=53)\n",
      "Buzz！ (count=54)\n",
      "Fizz！ (count=55)\n",
      "for繰り返し中！ (count=56)\n",
      "Buzz！ (count=57)\n",
      "for繰り返し中！ (count=58)\n",
      "for繰り返し中！ (count=59)\n",
      "FizzBuzz！ (count=60、fizz_buzz_count=4)\n",
      "for 〜 elseブロック実行！\n",
      "for終了！\n"
     ]
    }
   ],
   "source": [
    "\n"
   ]
  },
  {
   "cell_type": "markdown",
   "metadata": {},
   "source": [
    "---\n",
    "---\n",
    "---"
   ]
  },
  {
   "cell_type": "markdown",
   "metadata": {},
   "source": [
    "## for文のネスト\n",
    "- for文の中にfor文を書くと2重ループのプログラムを書くことが出来ます。"
   ]
  },
  {
   "cell_type": "markdown",
   "metadata": {},
   "source": [
    "### 多重リスト\n",
    "- リストの要素としてリストを指定することもできます。リストを要素とするリストは多重リストと呼ばれます。次は二重リストの例です。\n",
    "```python\n",
    "lns = [['a', 'b', 'c'], ['aaa', 'bbb', 'ccc'], [10, 20, 30]]\n",
    "```\n",
    "- 多重リストの要素指定は複数のインデックスで行います。 前の例で外側の [] で示されるリストの2番目の要素のリスト、 すなわち ['aaa', 'bbb', 'ccc'] の最初の要素は次のように指定します。\n",
    "```python\n",
    "lns[1][0]\n",
    "```\n",
    "---\n",
    "```\n",
    "aaa\n",
    "```\n",
    "---"
   ]
  },
  {
   "cell_type": "markdown",
   "metadata": {},
   "source": [
    "## サンプルプログラム6\n",
    "- 2重のリストを表示するプログラムを作成してみます"
   ]
  },
  {
   "cell_type": "code",
   "execution_count": 30,
   "metadata": {},
   "outputs": [
    {
     "name": "stdout",
     "output_type": "stream",
     "text": [
      "list1の1番目の要素（リスト）の1番目の要素 =a\n",
      "list1の1番目の要素（リスト）の2番目の要素 =b\n",
      "list1の1番目の要素（リスト）の3番目の要素 =c\n",
      "list1の2番目の要素（リスト）の1番目の要素 =d\n",
      "list1の2番目の要素（リスト）の2番目の要素 =e\n",
      "list1の2番目の要素（リスト）の3番目の要素 =f\n",
      "list1の3番目の要素（リスト）の1番目の要素 =g\n",
      "list1の3番目の要素（リスト）の2番目の要素 =h\n",
      "list1の3番目の要素（リスト）の3番目の要素 =i\n",
      "list1の4番目の要素（リスト）の1番目の要素 =j\n",
      "list1の4番目の要素（リスト）の2番目の要素 =k\n",
      "list1の4番目の要素（リスト）の3番目の要素 =l\n"
     ]
    }
   ],
   "source": [
    "list1 = [['a', 'b', 'c'], ['d', 'e', 'f'], ['g', 'h', 'i'], ['j', 'k', 'l']]\n",
    "\n",
    "for y in range(4):\n",
    "    for x in range(3):\n",
    "        print(f'list1の{y+1}番目の要素（リスト）の{x+1}番目の要素 = {list1[y][x]}')"
   ]
  },
  {
   "cell_type": "markdown",
   "metadata": {},
   "source": [
    "## 練習プログラム6 (1点)\n",
    "- 2重ループを使って”突然の死”ジェネレータを作ってみましょう\n",
    "- [突然の死とは](https://dic.nicovideo.jp/a/%E7%AA%81%E7%84%B6%E3%81%AE%E6%AD%BB)(興味ある方だけ)"
   ]
  },
  {
   "cell_type": "markdown",
   "metadata": {},
   "source": [
    "サンプル「突然の死」"
   ]
  },
  {
   "cell_type": "markdown",
   "metadata": {},
   "source": [
    "＿人人人人人人＿   \n",
    "＞　突然の死　＜   \n",
    "￣Y^Y^Y^Y^Y^￣   "
   ]
  },
  {
   "cell_type": "markdown",
   "metadata": {},
   "source": [
    "- 「突然の死」の部分はinput()で文字列を受け取り、好きな文字を入れることが出来るように作りましょう。\n",
    "- 文字数に応じて上下の文字も増やして表示しましょう\n",
    "- 2重ループを使うために1文字ずつ出力してみましょう"
   ]
  },
  {
   "cell_type": "markdown",
   "metadata": {},
   "source": [
    "### 入力例1\n",
    "---\n",
    "```\n",
    "突然の死\n",
    "```\n",
    "---\n",
    "\n",
    "### 出力例1\n",
    "---\n",
    "```\n",
    "＿人人人人人人＿\n",
    "＞　突然の死　＜\n",
    "￣Y^Y^Y^Y^Y^￣\n",
    "```\n",
    "---\n",
    "---"
   ]
  },
  {
   "cell_type": "markdown",
   "metadata": {},
   "source": [
    "### 入力例2\n",
    "---\n",
    "```\n",
    "ゆたしくうにげーさびら！\n",
    "```\n",
    "---\n",
    "\n",
    "### 出力例2\n",
    "---\n",
    "```\n",
    "＿人人人人人人人人人人人人人人＿\n",
    "＞　ゆたしくうにげーさびら！　＜\n",
    "￣Y^Y^Y^Y^Y^Y^Y^Y^Y^Y^Y^Y^Y^￣\n",
    "```\n",
    "---\n",
    "- 上記のように文字列が長くなった時は、それに応じて周囲の装飾も長くしましょう\n",
    "---\n",
    "---"
   ]
  },
  {
   "cell_type": "code",
   "execution_count": 13,
   "metadata": {},
   "outputs": [],
   "source": [
    "# 受け取った文字列のうち、全角文字を2、半角文字を1としてカウントして返す関数\n",
    "# 関数の作成については後の章で学びますので、こちらのプログラムは何も考えずに実行しておいてください\n",
    "import unicodedata\n",
    "\n",
    "def get_east_asian_width_count(text):\n",
    "    count = 0\n",
    "    for char1 in text:\n",
    "        if unicodedata.east_asian_width(char1) in 'FWA':\n",
    "            count += 2\n",
    "        else:\n",
    "            count += 1\n",
    "    return count"
   ]
  },
  {
   "cell_type": "code",
   "execution_count": 19,
   "metadata": {},
   "outputs": [
    {
     "data": {
      "text/plain": [
       "8"
      ]
     },
     "execution_count": 19,
     "metadata": {},
     "output_type": "execute_result"
    }
   ],
   "source": [
    "# ヒント：以下のように文字列を渡すと、その文字数を返します。\n",
    "# 全角文字を2、半角文字を1としてカウントして返すため、”突然の死”を渡すと8を返します\n",
    "get_east_asian_width_count(\"突然の死\")"
   ]
  },
  {
   "cell_type": "markdown",
   "metadata": {},
   "source": [
    "### ここ↓にPythonコードを記述してください"
   ]
  },
  {
   "cell_type": "code",
   "execution_count": 18,
   "metadata": {},
   "outputs": [
    {
     "name": "stdin",
     "output_type": "stream",
     "text": [
      " ゆたしくうにげーさびら！\n"
     ]
    },
    {
     "name": "stdout",
     "output_type": "stream",
     "text": [
      "＿人人人人人人人人人人人人人人＿\n",
      "＞　ゆたしくうにげーさびら！　＜\n",
      "￣Y^Y^Y^Y^Y^Y^Y^Y^Y^Y^Y^Y^Y^￣\n"
     ]
    }
   ],
   "source": [
    "\n"
   ]
  },
  {
   "cell_type": "code",
   "execution_count": null,
   "metadata": {},
   "outputs": [],
   "source": []
  }
 ],
 "metadata": {
  "colab": {
   "authorship_tag": "ABX9TyMOtB7OiTVLb+yu2KoVwjto",
   "include_colab_link": true,
   "provenance": []
  },
  "kernelspec": {
   "display_name": "Python 3 (ipykernel)",
   "language": "python",
   "name": "python3"
  },
  "language_info": {
   "codemirror_mode": {
    "name": "ipython",
    "version": 3
   },
   "file_extension": ".py",
   "mimetype": "text/x-python",
   "name": "python",
   "nbconvert_exporter": "python",
   "pygments_lexer": "ipython3",
   "version": "3.11.9"
  }
 },
 "nbformat": 4,
 "nbformat_minor": 4
}
