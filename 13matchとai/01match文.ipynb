{
 "cells": [
  {
   "cell_type": "markdown",
   "metadata": {},
   "source": [
    "<a href=\"https://colab.research.google.com/github/YasuharuSuzuki/24_programing1/blob/main/\" target=\"_parent\"><img src=\"https://colab.research.google.com/assets/colab-badge.svg\" alt=\"Open In Colab\"/></a>"
   ]
  },
  {
   "cell_type": "markdown",
   "metadata": {
    "id": "DTSVsV23pXg5"
   },
   "source": [
    "# Section 13-1 match文"
   ]
  },
  {
   "cell_type": "markdown",
   "metadata": {
    "id": "9478UYtI0tFg"
   },
   "source": [
    "- Pythonのmatch文は、Python 3.10で導入された機能で、値やデータ構造を様々なパターンと照合できる制御フローです。\n",
    "- 他のプログラミング言語のswitch文に似ていますが、よりPythonらしく強力な機能を持っています。"
   ]
  },
  {
   "cell_type": "markdown",
   "metadata": {},
   "source": [
    "---"
   ]
  },
  {
   "cell_type": "markdown",
   "metadata": {
    "id": "13oCxvfQpXg-"
   },
   "source": [
    "## 参考サイト\n",
    "### [参考サイト1 【Python.jp】パターンマッチ](https://www.python.jp/news/wnpython310/index.html)\n",
    "- Python3.10の新機能としてmatch文が実装された時の紹介ページです\n",
    "- 基本構文の紹介と、リスト・タプルによるパターンマッチが紹介されています\n",
    "\n",
    "### [参考サイト2 【サクッと始めるプログラミング入門(Python)】 match文 - パターンマッチング](https://zenn.dev/umi_mori/books/python-programming/viewer/python-basics-control-structures#match%E6%96%87---%E3%83%91%E3%82%BF%E3%83%BC%E3%83%B3%E3%83%9E%E3%83%83%E3%83%81%E3%83%B3%E3%82%B0)\n",
    "- こちらも基本構文の紹介と、リスト・タプルによるパターンマッチ、if文のコードをmatch文で置き換えた場合の例が紹介されています"
   ]
  },
  {
   "cell_type": "markdown",
   "metadata": {},
   "source": [
    "---"
   ]
  },
  {
   "cell_type": "markdown",
   "metadata": {
    "id": "SB_znpuNpXg_"
   },
   "source": [
    "## match文の基本"
   ]
  },
  {
   "cell_type": "markdown",
   "metadata": {
    "id": "I5JumBbyz1YF"
   },
   "source": [
    "### match文の基本的な構文\n",
    "\n",
    "```python\n",
    "match 値:\n",
    "    case パターン1:\n",
    "        # パターン1に一致した場合の処理\n",
    "    case パターン2:\n",
    "        # パターン2に一致した場合の処理\n",
    "    case _:\n",
    "        # どのパターンにも一致しない場合の処理\n",
    "```\n",
    "\n",
    "具体例としてサンプルプログラムを見てみましょう"
   ]
  },
  {
   "cell_type": "markdown",
   "metadata": {},
   "source": [
    "---"
   ]
  },
  {
   "cell_type": "markdown",
   "metadata": {
    "id": "5n0qJeFF19_0"
   },
   "source": [
    "## サンプルプログラム1　match文"
   ]
  },
  {
   "cell_type": "markdown",
   "metadata": {
    "id": "785CumqU2-SU"
   },
   "source": [
    "- 入力で天気を受け取り、メッセージを出力するサンプルプログラムです\n",
    "- 天気を \"晴れ\", \"雨\", \"曇り\" のいずれかで入力するとそれぞれに応じたメッセージが出力されます。それら以外では \"天気情報が不明です\" と出力されます。"
   ]
  },
  {
   "cell_type": "code",
   "execution_count": 3,
   "metadata": {
    "colab": {
     "base_uri": "https://localhost:8080/"
    },
    "id": "j3KrgVa7pXhA",
    "outputId": "11eae67c-c446-44d1-836c-43c4f6798483"
   },
   "outputs": [
    {
     "name": "stdout",
     "output_type": "stream",
     "text": [
      "晴れ\n",
      "散歩日和です\n"
     ]
    }
   ],
   "source": [
    "weather = input()  # 天気を \"晴れ\", \"雨\", \"曇り\" のいずれかで入力してください\n",
    "match weather:\n",
    "    case \"晴れ\":\n",
    "        print(\"散歩日和です\")\n",
    "    case \"雨\":\n",
    "        print(\"傘を持って行きましょう\")\n",
    "    case \"曇り\":\n",
    "        print(\"天気が悪くなるかもしれません\")\n",
    "    case _:\n",
    "        print(\"天気情報が不明です\")"
   ]
  },
  {
   "cell_type": "markdown",
   "metadata": {},
   "source": [
    "---"
   ]
  },
  {
   "cell_type": "markdown",
   "metadata": {
    "id": "wqxq1KqkpXhB"
   },
   "source": [
    "### サンプルプログラムの動作について\n",
    "#### \"晴れ\" と入力\n",
    "- \"晴れ\" と入力すると、match weather: のすぐ後にある、字下げされたcase文のうち一致するもののコードブロックが実行されます\n",
    "- \"晴れ\" の場合は一番上のcase文が一致するため、その中のコードブロック ``` print(\"散歩日和です\") ``` が実行されます\n",
    "\n",
    "#### \"雨\" と入力\n",
    "- \"雨\" の場合は2番目のcase文が一致するため、その中のコードブロック ``` print(\"傘を持って行きましょう\") ``` が実行されます\n",
    "\n",
    "#### それら以外\n",
    "- \"晴れ\", \"雨\", \"曇り\" 以外では ``` case _: ``` のcase文のコードブロック ``` print(\"天気情報が不明です\") ``` が実行されます\n",
    "- このcase文をデフォルトケースと呼び、 ``` _ ``` はワイルドカードとして使用しています\n",
    "- デフォルトケースには、どのパターンにもマッチしない場合の処理を記述できます。"
   ]
  },
  {
   "cell_type": "markdown",
   "metadata": {},
   "source": [
    "---"
   ]
  },
  {
   "cell_type": "markdown",
   "metadata": {
    "id": "cHPLV2Dx6sTb"
   },
   "source": [
    "### 同じプログラムをif文で書いてみましょう"
   ]
  },
  {
   "cell_type": "code",
   "execution_count": 4,
   "metadata": {
    "colab": {
     "base_uri": "https://localhost:8080/"
    },
    "id": "kss0pYbm6rRh",
    "outputId": "b5a2cf9e-ef1c-4fe7-cc56-e609da4d8b29"
   },
   "outputs": [
    {
     "name": "stdout",
     "output_type": "stream",
     "text": [
      "雨\n",
      "傘を持って行きましょう\n"
     ]
    }
   ],
   "source": [
    "weather = input()  # 天気を \"晴れ\", \"雨\", \"曇り\" のいずれかで入力してください\n",
    "if weather == \"晴れ\":\n",
    "    print(\"散歩日和です\")\n",
    "elif weather == \"雨\":\n",
    "    print(\"傘を持って行きましょう\")\n",
    "elif weather == \"曇り\":\n",
    "    print(\"天気が悪くなるかもしれません\")\n",
    "else:\n",
    "    print(\"天気情報が不明です\")"
   ]
  },
  {
   "cell_type": "markdown",
   "metadata": {
    "id": "U-UxLm6D7I0G"
   },
   "source": [
    "- 上記の通り、単純なmatch文は簡単にif文で書き換えることができます\n",
    "- if文の場合、比較する変数 ``` weather ``` を毎回記述しており、少しだけ煩わしいです\n",
    "- どちらを使うかは好みの問題もありますが、私はシンプルな数値、文字列によって分岐できる時はmatch文、範囲を指定したりやや複雑な条件分岐を書きたい時はif文を使いたいかなぁ、という感じです"
   ]
  },
  {
   "cell_type": "markdown",
   "metadata": {
    "id": "1I4nO6qrpXhB"
   },
   "source": [
    "### match文の特徴\n",
    "- 単純なパターンによる条件分岐がすっきり書ける\n",
    "- ワイルドカード(_)でどのパターンにもマッチしない場合の処理を記述できる"
   ]
  },
  {
   "cell_type": "markdown",
   "metadata": {},
   "source": [
    "---\n",
    "---"
   ]
  },
  {
   "cell_type": "markdown",
   "metadata": {},
   "source": [
    "### 練習プログラム1 (2点)\n",
    "- input()で \"コーラ\", \"ホットドッグ\", \"ピザ\" を受け取り、うちなーぐちで出力するプログラムをmatch文を用いて書いてみましょう  \n",
    "- 上記以外の言葉では、\"説明がごりっごりのうちなーぐちだと？！聞いてないぞ・・・！\"と出力しましょう  \n",
    "- [参考サイト](https://www.youtube.com/shorts/G7UJbxfJYYo)"
   ]
  },
  {
   "cell_type": "code",
   "execution_count": 5,
   "metadata": {},
   "outputs": [
    {
     "name": "stdin",
     "output_type": "stream",
     "text": [
      " ピザ\n"
     ]
    },
    {
     "name": "stdout",
     "output_type": "stream",
     "text": [
      "いたりあんひらやーちー\n"
     ]
    }
   ],
   "source": [
    "# \"コーラ\", \"ホットドッグ\", \"ピザ\" のいずれかで入力してください\n",
    "\n",
    "# 入力された単語に応じてmatch文でうちなーぐちを出力\n"
   ]
  },
  {
   "cell_type": "markdown",
   "metadata": {},
   "source": [
    "---\n",
    "---\n",
    "---"
   ]
  },
  {
   "cell_type": "markdown",
   "metadata": {},
   "source": [
    "## サンプルプログラム2　case文で複数条件を指定する\n",
    "- case文でパイプ（|）を使用して複数の条件を指定することが可能です"
   ]
  },
  {
   "cell_type": "code",
   "execution_count": 7,
   "metadata": {},
   "outputs": [
    {
     "name": "stdout",
     "output_type": "stream",
     "text": [
      "おすすめの献立を提案します\n",
      "食材を入力してください："
     ]
    },
    {
     "name": "stdin",
     "output_type": "stream",
     "text": [
      " Egg\n"
     ]
    },
    {
     "name": "stdout",
     "output_type": "stream",
     "text": [
      "オムライスはいかがですか？\n"
     ]
    }
   ],
   "source": [
    "# 食材を入力してもらう\n",
    "print(\"おすすめの献立を提案します\")\n",
    "print(\"食材を入力してください：\", end=\"\")\n",
    "食材 = input()\n",
    "\n",
    "# 入力された食材に応じて献立を提案\n",
    "match 食材.lower():\n",
    "    case \"たまご\" | \"卵\" | \"egg\" | \"エッグ\":\n",
    "        print(\"オムライスはいかがですか？\")\n",
    "    case \"とまと\" | \"トマト\" | \"tomato\":\n",
    "        print(\"パスタを作りましょう！\")\n",
    "    case \"きゃべつ\" | \"キャベツ\" | \"やさい\" | \"野菜\" | \"cabbage\":\n",
    "        print(\"野菜炒めがおすすめです\")\n",
    "    case \"ぶた\" | \"豚\" | \"ぶたにく\" | \"豚肉\" | \"pork\":\n",
    "        print(\"生姜焼きを作りましょう！\")\n",
    "    case _:\n",
    "        print(\"その食材のレシピは登録されていません\")"
   ]
  },
  {
   "cell_type": "markdown",
   "metadata": {
    "id": "xKqy0HaRpXhC"
   },
   "source": [
    "---"
   ]
  },
  {
   "cell_type": "markdown",
   "metadata": {
    "id": "NKZrImvNpXhD"
   },
   "source": [
    "### 練習プログラム2 (2点)\n",
    "- input()で月を受け取り、日本の季節を出力するプログラムをmatch文を用いて書いてみましょう  \n",
    "　春：3月、4月、5月  \n",
    "　夏：6月、7月、8月  \n",
    "　秋：9月、10月、11月  \n",
    "　冬：12月、1月、2月  "
   ]
  },
  {
   "cell_type": "code",
   "execution_count": 8,
   "metadata": {
    "colab": {
     "base_uri": "https://localhost:8080/"
    },
    "id": "hKx-6uYCpXhD",
    "outputId": "73214eb7-2eca-4d58-ef49-89ad91523a43"
   },
   "outputs": [
    {
     "name": "stdin",
     "output_type": "stream",
     "text": [
      " 3\n"
     ]
    },
    {
     "name": "stdout",
     "output_type": "stream",
     "text": [
      "春\n"
     ]
    }
   ],
   "source": [
    "# 標準入力から月を受け取る\n",
    "\n",
    "# 月に応じて季節を判定\n",
    "\n",
    "# 結果を出力\n"
   ]
  },
  {
   "cell_type": "code",
   "execution_count": null,
   "metadata": {
    "id": "2VvB35u0__75"
   },
   "outputs": [],
   "source": []
  }
 ],
 "metadata": {
  "colab": {
   "provenance": []
  },
  "kernelspec": {
   "display_name": "Python 3 (ipykernel)",
   "language": "python",
   "name": "python3"
  },
  "language_info": {
   "codemirror_mode": {
    "name": "ipython",
    "version": 3
   },
   "file_extension": ".py",
   "mimetype": "text/x-python",
   "name": "python",
   "nbconvert_exporter": "python",
   "pygments_lexer": "ipython3",
   "version": "3.11.9"
  }
 },
 "nbformat": 4,
 "nbformat_minor": 4
}
