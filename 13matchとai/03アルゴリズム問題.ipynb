{
 "cells": [
  {
   "cell_type": "markdown",
   "metadata": {
    "colab_type": "text",
    "id": "view-in-github"
   },
   "source": [
    "<a href=\"https://colab.research.google.com/github/YasuharuSuzuki/24_programing1/blob/main/\" target=\"_parent\"><img src=\"https://colab.research.google.com/assets/colab-badge.svg\" alt=\"Open In Colab\"/></a>"
   ]
  },
  {
   "cell_type": "markdown",
   "metadata": {},
   "source": [
    "# アルゴリズム問題\n",
    "- 3問あります"
   ]
  },
  {
   "cell_type": "markdown",
   "metadata": {},
   "source": [
    "## 練習プログラム5　ウンケー (0.6点)\n",
    "\n",
    "沖縄の伝統芸能「エイサー」は、旧暦7月13日（ウンケー）から始まり、15日（ウークイ）まで行われます。\n",
    "各年のウンケーの日付は以下の通りです：\n",
    "\n",
    "- 2025年: 9月4日\n",
    "- 2026年: 8月25日\n",
    "- 2027年: 8月14日\n",
    "- 2028年: 9月1日\n",
    "- 2029年: 8月22日\n",
    "- 2030年: 8月11日\n",
    "\n",
    "西暦(Y)が与えられた時、その年のウンケー（エイサー初日）の日付を出力するプログラムを作成してください。"
   ]
  },
  {
   "cell_type": "markdown",
   "metadata": {},
   "source": [
    "### 制約\n",
    "\n",
    "- 2025 ≤ Y ≤ 2030\n",
    "- 西暦(Y)は整数\n"
   ]
  },
  {
   "cell_type": "markdown",
   "metadata": {},
   "source": [
    "### 入力\n",
    "\n",
    "---\n",
    "Y\n",
    "\n",
    "---\n",
    "\n",
    "1行に1つの整数Yが与えられる。  \n",
    "西暦(Y)を表す。"
   ]
  },
  {
   "cell_type": "markdown",
   "metadata": {},
   "source": [
    "### 出力\n",
    "---\n",
    "```\n",
    "Y年M月D日\n",
    "```\n",
    "---\n",
    "その年のウンケーの日付けY年M月D日で出力してください"
   ]
  },
  {
   "cell_type": "markdown",
   "metadata": {},
   "source": [
    "---\n",
    "---\n",
    "\n",
    "### 入力例1\n",
    "\n",
    "---\n",
    "```\n",
    "2025\n",
    "```\n",
    "---\n",
    "\n",
    "### 出力例1\n",
    "---\n",
    "```\n",
    "2025年9月4日\n",
    "```\n",
    "---\n"
   ]
  },
  {
   "cell_type": "markdown",
   "metadata": {},
   "source": [
    "---\n",
    "---"
   ]
  },
  {
   "cell_type": "markdown",
   "metadata": {},
   "source": [
    "### 入力例2\n",
    "\n",
    "---\n",
    "```\n",
    "2028\n",
    "```\n",
    "---\n",
    "\n",
    "### 出力例2\n",
    "---\n",
    "```\n",
    "2028年9月1日\n",
    "```\n",
    "---\n",
    "\n"
   ]
  },
  {
   "cell_type": "markdown",
   "metadata": {},
   "source": [
    "---"
   ]
  },
  {
   "cell_type": "markdown",
   "metadata": {},
   "source": [
    "### ここ↓にPythonコードを記述してください"
   ]
  },
  {
   "cell_type": "code",
   "execution_count": 5,
   "metadata": {},
   "outputs": [
    {
     "name": "stdin",
     "output_type": "stream",
     "text": [
      " 2030\n"
     ]
    },
    {
     "name": "stdout",
     "output_type": "stream",
     "text": [
      "2030年8月11日\n"
     ]
    }
   ],
   "source": [
    "\n"
   ]
  },
  {
   "cell_type": "markdown",
   "metadata": {},
   "source": [
    "---\n",
    "---\n",
    "---"
   ]
  },
  {
   "cell_type": "markdown",
   "metadata": {},
   "source": [
    "## 練習プログラム6　十干十二支(0.6点)"
   ]
  },
  {
   "cell_type": "markdown",
   "metadata": {
    "jp-MarkdownHeadingCollapsed": true
   },
   "source": [
    "### 問題文\n",
    "- 十干（じっかん）と十二支の組み合わせは60年周期で繰り返されます。\n",
    "- 2025年は乙巳です。60年周期の始まりは甲子（きのえね）で始まりますが、最近の甲子は1984年です。\n",
    "- 西暦(Y)が与えられた時、その年の十干と十二支の組み合わせを出力するプログラムを作成してください。\n",
    "- 十干は ```甲乙丙丁戊己庚辛壬癸``` 、十二支は ```子丑寅卯辰巳午未申酉戌亥``` で表してください。"
   ]
  },
  {
   "cell_type": "markdown",
   "metadata": {
    "jp-MarkdownHeadingCollapsed": true
   },
   "source": [
    "### 制約\n",
    "\n",
    "$ 1582 \\leqq Y \\leqq 3000 \\qquad ※ Y は整数 $  \n"
   ]
  },
  {
   "cell_type": "markdown",
   "metadata": {},
   "source": [
    "### 入力\n",
    "入力は以下の形式で標準入力から与えられます。\n",
    "\n",
    "---\n",
    "\n",
    "$ Y $  \n",
    "\n",
    "---\n"
   ]
  },
  {
   "cell_type": "markdown",
   "metadata": {},
   "source": [
    "### 出力\n",
    "\n",
    "その年の十干十二支を漢字二文字で出力（例: 甲子）"
   ]
  },
  {
   "cell_type": "markdown",
   "metadata": {},
   "source": [
    "### 入力例1\n",
    "\n",
    "---\n",
    "```\n",
    "1984\n",
    "```\n",
    "---\n",
    "\n",
    "### 出力例1\n",
    "---\n",
    "```\n",
    "甲子\n",
    "```\n",
    "---\n"
   ]
  },
  {
   "cell_type": "markdown",
   "metadata": {},
   "source": [
    "### 入力例2\n",
    "\n",
    "---\n",
    "```\n",
    "2025\n",
    "```\n",
    "---\n",
    "\n",
    "### 出力例2\n",
    "---\n",
    "```\n",
    "乙巳\n",
    "```\n",
    "---\n"
   ]
  },
  {
   "cell_type": "markdown",
   "metadata": {},
   "source": [
    "### 入力例3\n",
    "\n",
    "---\n",
    "```\n",
    "1600\n",
    "```\n",
    "---\n",
    "\n",
    "### 出力例3\n",
    "---\n",
    "```\n",
    "庚子\n",
    "```\n",
    "---"
   ]
  },
  {
   "cell_type": "markdown",
   "metadata": {},
   "source": [
    "### ここ↓にPythonコードを記述してください"
   ]
  },
  {
   "cell_type": "code",
   "execution_count": 15,
   "metadata": {},
   "outputs": [
    {
     "name": "stdin",
     "output_type": "stream",
     "text": [
      " 2024\n"
     ]
    },
    {
     "name": "stdout",
     "output_type": "stream",
     "text": [
      "甲辰\n"
     ]
    }
   ],
   "source": [
    "\n"
   ]
  },
  {
   "cell_type": "markdown",
   "metadata": {},
   "source": [
    "---\n",
    "---\n",
    "---"
   ]
  },
  {
   "cell_type": "markdown",
   "metadata": {},
   "source": [
    "## 練習プログラム7　ウンケーｘ複数年(0.8点)"
   ]
  },
  {
   "cell_type": "markdown",
   "metadata": {},
   "source": [
    "### 問題文\n",
    "沖縄の伝統芸能「エイサー」は、旧暦7月13日（ウンケー）から始まり、15日（ウークイ）まで行われます。\n",
    "各年のウンケーの日付は以下の通りです：\n",
    "\n",
    "- 2025年: 9月4日\n",
    "- 2026年: 8月25日\n",
    "- 2027年: 8月14日\n",
    "- 2028年: 9月1日\n",
    "- 2029年: 8月22日\n",
    "- 2030年: 8月11日\n",
    "- 2031年: 8月30日\n",
    "- 2032年: 8月18日\n",
    "- 2033年: 8月7日\n",
    "- 2034年: 8月26日\n",
    "- 2035年: 8月16日\n",
    "\n",
    "2つの西暦年(Y1, Y2)が与えられた時、その期間内のすべてのウンケー（エイサー初日）の日付から、ウークイの日までを出力するプログラムを作成してください。  \n",
    "Y1年からY2年までを含みます。\n"
   ]
  },
  {
   "cell_type": "markdown",
   "metadata": {},
   "source": [
    "### 制約\n",
    "\n",
    "$ 2025 \\leqq Y_1 \\leqq  Y_2 \\leqq 2035 \\qquad ※ Y_1, Y_2 は整数 $  \n",
    "\n"
   ]
  },
  {
   "cell_type": "markdown",
   "metadata": {},
   "source": [
    "### 入力\n",
    "入力は以下の形式で標準入力から与えられます\n",
    "\n",
    "---\n",
    "$ Y_1 \\quad Y_2 $\n",
    "\n",
    "---\n",
    "\n",
    "- スペース区切りの整数"
   ]
  },
  {
   "cell_type": "markdown",
   "metadata": {},
   "source": [
    "### 出力\n",
    "\n",
    "期間内の各年のウンケーの日付を、以下の形式で1行ずつ出力  \n",
    "YYYY年：M月D日～M月D日"
   ]
  },
  {
   "cell_type": "markdown",
   "metadata": {},
   "source": [
    "### 入力例1\n",
    "\n",
    "---\n",
    "```\n",
    "2025 2027\n",
    "```\n",
    "---\n",
    "\n",
    "### 出力例1\n",
    "---\n",
    "```\n",
    "2025年：9月4日～9月6日\n",
    "2026年：8月25日～8月27日\n",
    "2027年：8月14日～8月16日\n",
    "```\n",
    "---\n",
    "\n"
   ]
  },
  {
   "cell_type": "markdown",
   "metadata": {},
   "source": [
    "### 入力例2\n",
    "---\n",
    "```\n",
    "2029 2035\n",
    "```\n",
    "---\n",
    "\n",
    "### 出力例2\n",
    "---\n",
    "```\n",
    "2029年：8月22日～8月24日\n",
    "2030年：8月11日～8月13日\n",
    "2031年：8月30日～9月1日\n",
    "2032年：8月18日～8月20日\n",
    "2033年：8月7日～8月9日\n",
    "2034年：8月26日～8月28日\n",
    "2035年：8月16日～8月18日\n",
    "```\n",
    "---\n"
   ]
  },
  {
   "cell_type": "markdown",
   "metadata": {},
   "source": [
    "### 入力例3\n",
    "---\n",
    "```\n",
    "2032 2032\n",
    "```\n",
    "---\n",
    "\n",
    "### 出力例3\n",
    "---\n",
    "```\n",
    "2032年：8月18日～8月20日\n",
    "```\n",
    "---\n"
   ]
  },
  {
   "cell_type": "code",
   "execution_count": 18,
   "metadata": {},
   "outputs": [
    {
     "name": "stdin",
     "output_type": "stream",
     "text": [
      " 2031 2031\n"
     ]
    },
    {
     "name": "stdout",
     "output_type": "stream",
     "text": [
      "2031年：8月30日～9月1日\n"
     ]
    }
   ],
   "source": [
    "\n",
    "\n"
   ]
  },
  {
   "cell_type": "code",
   "execution_count": null,
   "metadata": {},
   "outputs": [],
   "source": []
  },
  {
   "cell_type": "code",
   "execution_count": null,
   "metadata": {},
   "outputs": [],
   "source": []
  },
  {
   "cell_type": "code",
   "execution_count": null,
   "metadata": {},
   "outputs": [],
   "source": []
  }
 ],
 "metadata": {
  "colab": {
   "authorship_tag": "ABX9TyMOtB7OiTVLb+yu2KoVwjto",
   "include_colab_link": true,
   "provenance": []
  },
  "kernelspec": {
   "display_name": "Python 3 (ipykernel)",
   "language": "python",
   "name": "python3"
  },
  "language_info": {
   "codemirror_mode": {
    "name": "ipython",
    "version": 3
   },
   "file_extension": ".py",
   "mimetype": "text/x-python",
   "name": "python",
   "nbconvert_exporter": "python",
   "pygments_lexer": "ipython3",
   "version": "3.11.9"
  }
 },
 "nbformat": 4,
 "nbformat_minor": 4
}
