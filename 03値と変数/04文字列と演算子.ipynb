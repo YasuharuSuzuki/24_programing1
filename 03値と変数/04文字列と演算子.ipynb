{
 "cells": [
  {
   "cell_type": "markdown",
   "metadata": {
    "colab_type": "text",
    "id": "view-in-github"
   },
   "source": [
    "<a href=\"https://colab.research.google.com/github/YasuharuSuzuki/24_programing1/blob/main/\" target=\"_parent\"><img src=\"https://colab.research.google.com/assets/colab-badge.svg\" alt=\"Open In Colab\"/></a>"
   ]
  },
  {
   "cell_type": "markdown",
   "metadata": {},
   "source": [
    "# Section3-4 文字列と演算子"
   ]
  },
  {
   "cell_type": "markdown",
   "metadata": {},
   "source": [
    "## 参考サイト\n",
    "### [参考サイト1【Python入門】2-1. 文字列 (string)](https://utokyo-ipp.github.io/2/2-1.html)\n",
    "### [参考サイト2【Python早見表】8. 文字列](https://chokkan.github.io/python/08str.html)"
   ]
  },
  {
   "cell_type": "markdown",
   "metadata": {},
   "source": [
    "## サンプルプログラム6　文字列の作り方\n",
    "- Pythonでの文字列は、文字の並びをシングルクォート '...'、もしくはダブルクォート \"...\" で囲んで記述します。\n",
    "#### 文字列の例"
   ]
  },
  {
   "cell_type": "code",
   "execution_count": 2,
   "metadata": {},
   "outputs": [
    {
     "name": "stdout",
     "output_type": "stream",
     "text": [
      "ヤッチャンタコ(21円) チロルリング(5円) スーパーキャンディ(110円)\n"
     ]
    }
   ],
   "source": [
    "dagashi1 = \"ヤッチャンタコ(21円)\"\n",
    "dagashi2 = \"チロルリング(5円)\"\n",
    "dagashi3 = \"スーパーキャンディ(110円)\"\n",
    "print(dagashi1, dagashi2, dagashi3)"
   ]
  },
  {
   "cell_type": "markdown",
   "metadata": {},
   "source": [
    "#### ダブルクォートを含んだ文字列\n",
    "- ダブルクォート \"...\" を文字列中に使いたいときは、文字列のをシングルクォート '...' で囲んで記述するとそのまま使用できます。"
   ]
  },
  {
   "cell_type": "code",
   "execution_count": 3,
   "metadata": {},
   "outputs": [
    {
     "name": "stdout",
     "output_type": "stream",
     "text": [
      "ヤッチャンタコ\"21円\"\n"
     ]
    }
   ],
   "source": [
    "dagashi1 = 'ヤッチャンタコ\"21円\"'\n",
    "print(dagashi1)"
   ]
  },
  {
   "cell_type": "markdown",
   "metadata": {},
   "source": [
    "#### シングルクォートを含んだ文字列\n",
    "- 反対にシングルクォート '...'を文字列中に使いたいときはダブルクォート \"...\" で文字列を宣言すると使用できます。"
   ]
  },
  {
   "cell_type": "code",
   "execution_count": 5,
   "metadata": {},
   "outputs": [
    {
     "name": "stdout",
     "output_type": "stream",
     "text": [
      "チロルリング'5円'\n"
     ]
    }
   ],
   "source": [
    "dagashi2 = \"チロルリング'5円'\"\n",
    "print(dagashi2)"
   ]
  },
  {
   "cell_type": "markdown",
   "metadata": {},
   "source": [
    "### エスケープシーケンス\n",
    "- エスケープシーケンス（escape sequence）とは、文字列の中に通常は表記できない特殊な文字を混在させるために用いられる特別な記号のことです\n",
    "- Pythonでは文字列中に \\ を使用することで特殊文字として表現でき、よく使用されるのでいいますと \\n（改行文字）や \\t（タブ文字）などがあります\n",
    "#### 改行を含んだ文字列"
   ]
  },
  {
   "cell_type": "code",
   "execution_count": 6,
   "metadata": {},
   "outputs": [
    {
     "name": "stdout",
     "output_type": "stream",
     "text": [
      "ヤッチャンタコ(21円)\n",
      "チロルリング(5円)\n",
      "スーパーキャンディ(110円)\n"
     ]
    }
   ],
   "source": [
    "# 改行コードを含んだ文字列を作成\n",
    "dagashi_all = \"ヤッチャンタコ(21円)\\nチロルリング(5円)\\nスーパーキャンディ(110円)\"\n",
    "print(dagashi_all)"
   ]
  },
  {
   "cell_type": "markdown",
   "metadata": {},
   "source": [
    "#### ダブルクォートを含んだ文字列\n",
    "- ダブルクォート \\\" や シングルクォート \\' もエスケープシーケンスを使うことで、文字列の定義の仕方に関わらず利用することができます"
   ]
  },
  {
   "cell_type": "code",
   "execution_count": 7,
   "metadata": {},
   "outputs": [
    {
     "name": "stdout",
     "output_type": "stream",
     "text": [
      "スーパーキャンディ\"110円\"\n"
     ]
    }
   ],
   "source": [
    "# エスケープシーケンスでダブルクォートを含んだ文字列を作成\n",
    "dagashi3 = \"スーパーキャンディ\\\"110円\\\"\"\n",
    "print(dagashi3)"
   ]
  },
  {
   "cell_type": "markdown",
   "metadata": {},
   "source": [
    "### 複数行の文字列\n",
    "#### \"\"\"で囲んだ複数行の文字列"
   ]
  },
  {
   "cell_type": "code",
   "execution_count": 9,
   "metadata": {},
   "outputs": [
    {
     "name": "stdout",
     "output_type": "stream",
     "text": [
      "ヤッチャンタコ(21円)\n",
      "チロルリング(5円)\n",
      "スーパーキャンディ(110円)\n"
     ]
    }
   ],
   "source": [
    "dagashi_all = \"\"\"ヤッチャンタコ(21円)\n",
    "チロルリング(5円)\n",
    "スーパーキャンディ(110円)\"\"\"\n",
    "print(dagashi_all)"
   ]
  },
  {
   "cell_type": "markdown",
   "metadata": {},
   "source": [
    "---\n",
    "---\n",
    "---\n",
    "---\n",
    "---"
   ]
  },
  {
   "cell_type": "markdown",
   "metadata": {},
   "source": [
    "## 練習プログラム6　文字列の作り方 (1点)\n",
    "エスケープシーケンスを使った文字列を宣言して出力してみましょう。題材は何でも良いです"
   ]
  },
  {
   "cell_type": "code",
   "execution_count": null,
   "metadata": {},
   "outputs": [],
   "source": []
  },
  {
   "cell_type": "markdown",
   "metadata": {},
   "source": [
    "---\n",
    "---\n",
    "---\n",
    "---\n",
    "---"
   ]
  },
  {
   "cell_type": "markdown",
   "metadata": {},
   "source": [
    "## サンプルプログラム７　文字列の連結、繰り返し\n",
    "### 文字列の連結\n",
    "- \\+ (プラス) 記号を用いることで文字列を連結することができます"
   ]
  },
  {
   "cell_type": "code",
   "execution_count": 3,
   "metadata": {},
   "outputs": [
    {
     "data": {
      "text/plain": [
       "'佐藤さん'"
      ]
     },
     "execution_count": 3,
     "metadata": {},
     "output_type": "execute_result"
    }
   ],
   "source": [
    "# \"佐藤\" と \"さん\" を”＋”演算子で連結した文字列を作成\n",
    "name = \"佐藤\" + \"さん\"\n",
    "name "
   ]
  },
  {
   "cell_type": "markdown",
   "metadata": {},
   "source": [
    "#### 変数a、b、cに入れた文字列連結した文字列を作る"
   ]
  },
  {
   "cell_type": "code",
   "execution_count": 6,
   "metadata": {},
   "outputs": [
    {
     "name": "stdout",
     "output_type": "stream",
     "text": [
      "Password付きZIPファイルを送ります、Passwordを送ります、Angoka（暗号化）、Protocol（プロトコル）\n"
     ]
    }
   ],
   "source": [
    "a = \"Password付きZIPファイルを送ります、\"\n",
    "b = \"Passwordを送ります、\"\n",
    "c = \"Angoka（暗号化）、\"\n",
    "d = \"Protocol（プロトコル）\"\n",
    "print(a + b + c + d)"
   ]
  },
  {
   "cell_type": "markdown",
   "metadata": {},
   "source": [
    "### 数値と文字列を連結する\n",
    "- 数値と文字列を \\+ (プラス) 記号で連結するとエラーになるので注意しましょう"
   ]
  },
  {
   "cell_type": "code",
   "execution_count": 7,
   "metadata": {},
   "outputs": [
    {
     "ename": "TypeError",
     "evalue": "unsupported operand type(s) for +: 'int' and 'str'",
     "output_type": "error",
     "traceback": [
      "\u001b[0;31m---------------------------------------------------------------------------\u001b[0m",
      "\u001b[0;31mTypeError\u001b[0m                                 Traceback (most recent call last)",
      "Cell \u001b[0;32mIn[7], line 1\u001b[0m\n\u001b[0;32m----> 1\u001b[0m price \u001b[38;5;241m=\u001b[39m \u001b[38;5;241;43m3980\u001b[39;49m\u001b[43m \u001b[49m\u001b[38;5;241;43m+\u001b[39;49m\u001b[43m \u001b[49m\u001b[38;5;124;43m\"\u001b[39;49m\u001b[38;5;124;43m円\u001b[39;49m\u001b[38;5;124;43m\"\u001b[39;49m\n",
      "\u001b[0;31mTypeError\u001b[0m: unsupported operand type(s) for +: 'int' and 'str'"
     ]
    }
   ],
   "source": [
    "price = 3980 + \"円\""
   ]
  },
  {
   "cell_type": "markdown",
   "metadata": {},
   "source": [
    "- 上記のエラーは、 + (プラス) 記号に整数型(int)と文字列型(str)を渡すのはサポートされていません、と書いてあります"
   ]
  },
  {
   "cell_type": "markdown",
   "metadata": {},
   "source": [
    "#### 数値を文字列に変換して連結する\n",
    "- 数値と文字列を連結するには、数値を str() を使用して文字列に変換してから + (プラス) 記号で連結します"
   ]
  },
  {
   "cell_type": "code",
   "execution_count": 8,
   "metadata": {},
   "outputs": [
    {
     "data": {
      "text/plain": [
       "'3980円'"
      ]
     },
     "execution_count": 8,
     "metadata": {},
     "output_type": "execute_result"
    }
   ],
   "source": [
    "# 数値を文字列に変換して連結した文字列を作成\n",
    "price = str(3980) + \"円\"\n",
    "price"
   ]
  },
  {
   "cell_type": "markdown",
   "metadata": {},
   "source": [
    "#### 計算結果を文字列に変換して連結する\n",
    "- 計算結果をstr()で括って文字列と連結することも可能です"
   ]
  },
  {
   "cell_type": "code",
   "execution_count": 9,
   "metadata": {},
   "outputs": [
    {
     "data": {
      "text/plain": [
       "'819円'"
      ]
     },
     "execution_count": 9,
     "metadata": {},
     "output_type": "execute_result"
    }
   ],
   "source": [
    "students = 39\n",
    "dagashi_price = 21\n",
    "total_price = str(students * dagashi_price) + \"円\"\n",
    "total_price"
   ]
  },
  {
   "cell_type": "markdown",
   "metadata": {},
   "source": [
    "### 複数文字の繰り返し\n",
    "- \\* を使うことで、文字列を繰り返した文字列を作ることが出来ます"
   ]
  },
  {
   "cell_type": "code",
   "execution_count": 10,
   "metadata": {},
   "outputs": [
    {
     "data": {
      "text/plain": [
       "'aaa'"
      ]
     },
     "execution_count": 10,
     "metadata": {},
     "output_type": "execute_result"
    }
   ],
   "source": [
    "# a を 3回繰り返した文字列を作成\n",
    "\"a\" * 3"
   ]
  },
  {
   "cell_type": "code",
   "execution_count": 11,
   "metadata": {},
   "outputs": [
    {
     "data": {
      "text/plain": [
       "'abcabcabc'"
      ]
     },
     "execution_count": 11,
     "metadata": {},
     "output_type": "execute_result"
    }
   ],
   "source": [
    "# abc を 3回繰り返した文字列を作成\n",
    "\"abc\" * 3"
   ]
  },
  {
   "cell_type": "markdown",
   "metadata": {},
   "source": [
    "#### 文字の繰り返しを棒グラフの代わりにする"
   ]
  },
  {
   "cell_type": "code",
   "execution_count": 44,
   "metadata": {},
   "outputs": [
    {
     "name": "stdout",
     "output_type": "stream",
     "text": [
      "東京 ************\n"
     ]
    }
   ],
   "source": [
    "symbol = \"*\"\n",
    "print(\"東京\", symbol * 12)"
   ]
  },
  {
   "cell_type": "code",
   "execution_count": 45,
   "metadata": {},
   "outputs": [
    {
     "name": "stdout",
     "output_type": "stream",
     "text": [
      "金沢 ******\n"
     ]
    }
   ],
   "source": [
    "print(\"金沢\", symbol * 6)"
   ]
  },
  {
   "cell_type": "markdown",
   "metadata": {},
   "source": [
    "---\n",
    "---\n",
    "---\n",
    "---\n",
    "---"
   ]
  },
  {
   "cell_type": "markdown",
   "metadata": {},
   "source": [
    "## 練習プログラム７　文字列の連結、繰り返し (1点)\n",
    "- 何らかの計算をおこなって、計算結果を変数に格納しましょう\n",
    "- 変数をstr()で括って文字列と連結して出力しましょう。"
   ]
  },
  {
   "cell_type": "code",
   "execution_count": null,
   "metadata": {},
   "outputs": [],
   "source": [
    "\n"
   ]
  },
  {
   "cell_type": "markdown",
   "metadata": {},
   "source": [
    "---\n",
    "---\n",
    "---\n",
    "---\n",
    "---"
   ]
  },
  {
   "cell_type": "markdown",
   "metadata": {},
   "source": [
    "## サンプルプログラム8 [ ] で文字列を取り出す\n",
    "### 文字を取り出す\n",
    "- 文字列に対して [ ] で位置を指定して文字を取り出すことができます\n",
    "- 指定する位置は0で始まる数字で指定するのでご注意下さい。\n",
    "  - 1文字目を取り出すときは0を指定します。\n",
    "  - 2文字目を取り出すときは1を指定します。\n",
    "  - 100文字目を取り出すときは99を指定します。"
   ]
  },
  {
   "cell_type": "code",
   "execution_count": 19,
   "metadata": {},
   "outputs": [
    {
     "data": {
      "text/plain": [
       "'C'"
      ]
     },
     "execution_count": 19,
     "metadata": {},
     "output_type": "execute_result"
    }
   ],
   "source": [
    "student_id = \"ABCDEFG123456\"\n",
    "\n",
    "# 3文字目を取り出す\n",
    "student_id[2]"
   ]
  },
  {
   "cell_type": "markdown",
   "metadata": {},
   "source": [
    "- マイナス値で位置を指定すると最後からの位置の指定になります\n",
    "  - -1 を指定することで最後の文字を取り出すことが出来ます\n",
    "  - -2 を指定すると最後から２つめの文字を取り出すことが出来ます"
   ]
  },
  {
   "cell_type": "code",
   "execution_count": 20,
   "metadata": {},
   "outputs": [
    {
     "data": {
      "text/plain": [
       "'6'"
      ]
     },
     "execution_count": 20,
     "metadata": {},
     "output_type": "execute_result"
    }
   ],
   "source": [
    "# マイナス値でインデックスを指定して最後の文字を取り出す\n",
    "student_id[-1]"
   ]
  },
  {
   "cell_type": "markdown",
   "metadata": {},
   "source": [
    "#### 値の変更はできない\n",
    "- 文字列の要素を指定して、その位置にある文字を変更することはできません"
   ]
  },
  {
   "cell_type": "code",
   "execution_count": 48,
   "metadata": {},
   "outputs": [
    {
     "ename": "TypeError",
     "evalue": "'str' object does not support item assignment",
     "output_type": "error",
     "traceback": [
      "\u001b[0;31m---------------------------------------------------------------------------\u001b[0m",
      "\u001b[0;31mTypeError\u001b[0m                                 Traceback (most recent call last)",
      "Cell \u001b[0;32mIn[48], line 1\u001b[0m\n\u001b[0;32m----> 1\u001b[0m \u001b[38;5;28;43mid\u001b[39;49m\u001b[43m[\u001b[49m\u001b[38;5;241;43m2\u001b[39;49m\u001b[43m]\u001b[49m \u001b[38;5;241m=\u001b[39m \u001b[38;5;124m'\u001b[39m\u001b[38;5;124mw\u001b[39m\u001b[38;5;124m'\u001b[39m\n",
      "\u001b[0;31mTypeError\u001b[0m: 'str' object does not support item assignment"
     ]
    }
   ],
   "source": [
    "student_id[2] = 'w'"
   ]
  },
  {
   "cell_type": "markdown",
   "metadata": {},
   "source": [
    "### 部分文字列を取り出す(スライス)\n",
    "- 位置を指定するときにコロン : で区切って 開始位置 : 終了位置 を指定することで部分文字列を取り出すことが可能です（この機能をスライスと言います）\n",
    "- 開始位置だけを指定すると、開始位置以降の文字列をすべて取り出すことが出来ます"
   ]
  },
  {
   "cell_type": "code",
   "execution_count": 22,
   "metadata": {},
   "outputs": [
    {
     "data": {
      "text/plain": [
       "\"Ika is a flavorful snack of squid with a sauce on the squid's feet, which can also be used as a snack for alcoholic beverages!\""
      ]
     },
     "execution_count": 22,
     "metadata": {},
     "output_type": "execute_result"
    }
   ],
   "source": [
    "# 8文字目以降を全部取り出す\n",
    "flavor_snack_info = \"Yacchan Ika is a flavorful snack of squid with a sauce on the squid's feet, which can also be used as a snack for alcoholic beverages!\"\n",
    "flavor_snack_info[8:]"
   ]
  },
  {
   "cell_type": "code",
   "execution_count": 26,
   "metadata": {},
   "outputs": [
    {
     "data": {
      "text/plain": [
       "'Ika'"
      ]
     },
     "execution_count": 26,
     "metadata": {},
     "output_type": "execute_result"
    }
   ],
   "source": [
    "# 8文字目～3文字を取り出す\n",
    "flavor_snack_info[8:11]"
   ]
  },
  {
   "cell_type": "code",
   "execution_count": 27,
   "metadata": {},
   "outputs": [
    {
     "data": {
      "text/plain": [
       "\"Yacchan Ika is a flavorful snack of squid with a sauce on the squid's feet, which can also be used as a snack for alcoholic \""
      ]
     },
     "execution_count": 27,
     "metadata": {},
     "output_type": "execute_result"
    }
   ],
   "source": [
    "# 後ろから10文字目までを全部取り出す\n",
    "flavor_snack_info[:-10]"
   ]
  },
  {
   "cell_type": "markdown",
   "metadata": {},
   "source": [
    "#### 文字列の長さを超えた範囲を指定する\n",
    "- 文字列の長さはlen()関数を使用して取得できます"
   ]
  },
  {
   "cell_type": "code",
   "execution_count": 28,
   "metadata": {},
   "outputs": [
    {
     "data": {
      "text/plain": [
       "134"
      ]
     },
     "execution_count": 28,
     "metadata": {},
     "output_type": "execute_result"
    }
   ],
   "source": [
    "len(flavor_snack_info)"
   ]
  },
  {
   "cell_type": "markdown",
   "metadata": {},
   "source": [
    "- 文字列長を超えて指定しても、エラーにはなりません"
   ]
  },
  {
   "cell_type": "code",
   "execution_count": 29,
   "metadata": {},
   "outputs": [
    {
     "data": {
      "text/plain": [
       "\"Yacchan Ika is a flavorful snack of squid with a sauce on the squid's feet, which can also be used as a snack for alcoholic beverages!\""
      ]
     },
     "execution_count": 29,
     "metadata": {},
     "output_type": "execute_result"
    }
   ],
   "source": [
    "flavor_snack_info[:200]"
   ]
  },
  {
   "cell_type": "markdown",
   "metadata": {},
   "source": [
    "### ステップがある書式\n",
    "- ステップを指定することにより、決まった間隔で配列の一部を取り出すことができます\n",
    "- スライスでコロン : を２つ書き、一番うしろに数字を入力すると、その値がステップとなります\n",
    "#### 文字列から１つ飛ばしで文字を取り出す\n",
    "- ステップに2を指定することで、文字列から１つ飛ばしで部分文字列として取り出すことができます"
   ]
  },
  {
   "cell_type": "code",
   "execution_count": 30,
   "metadata": {},
   "outputs": [
    {
     "name": "stdout",
     "output_type": "stream",
     "text": [
      "ABCDEFG123456\n",
      "ACEG246\n"
     ]
    }
   ],
   "source": [
    "print(student_id)\n",
    "print(student_id[::2])"
   ]
  },
  {
   "cell_type": "markdown",
   "metadata": {},
   "source": [
    "#### 4文字目から1文字飛ばしで取り出す\n",
    "- ステップと一緒に開始位置を指定することも可能です"
   ]
  },
  {
   "cell_type": "code",
   "execution_count": 31,
   "metadata": {},
   "outputs": [
    {
     "name": "stdout",
     "output_type": "stream",
     "text": [
      "ABCDEFG123456\n",
      "DF135\n"
     ]
    }
   ],
   "source": [
    "print(student_id)\n",
    "print(student_id[3::2])"
   ]
  },
  {
   "cell_type": "markdown",
   "metadata": {},
   "source": [
    "#### 文字列の後ろから1つ飛ばしで文字を取り出す\n",
    "- ステップにマイナス値を指定することも可能です"
   ]
  },
  {
   "cell_type": "code",
   "execution_count": 32,
   "metadata": {},
   "outputs": [
    {
     "name": "stdout",
     "output_type": "stream",
     "text": [
      "ABCDEFG123456\n",
      "642GECA\n"
     ]
    }
   ],
   "source": [
    "print(student_id)\n",
    "print(student_id[::-2])"
   ]
  },
  {
   "cell_type": "markdown",
   "metadata": {},
   "source": [
    "#### 文字列を逆順にする\n",
    "- ステップに-1を指定するだけで文字列を逆順にできます"
   ]
  },
  {
   "cell_type": "code",
   "execution_count": 33,
   "metadata": {},
   "outputs": [
    {
     "name": "stdout",
     "output_type": "stream",
     "text": [
      "ABCDEFG123456\n",
      "654321GFEDCBA\n"
     ]
    }
   ],
   "source": [
    "print(student_id)\n",
    "print(student_id[::-1])"
   ]
  },
  {
   "cell_type": "markdown",
   "metadata": {},
   "source": [
    "---\n",
    "---\n",
    "---\n",
    "---\n",
    "---"
   ]
  },
  {
   "cell_type": "markdown",
   "metadata": {},
   "source": [
    "## 練習プログラム8 [ ] で文字列を取り出す (1点)\n",
    "- スライスを使って文字列から部分文字列を抽出し、出力してみましょう。題材は何でもよいです。"
   ]
  },
  {
   "cell_type": "code",
   "execution_count": null,
   "metadata": {},
   "outputs": [],
   "source": [
    "\n"
   ]
  },
  {
   "cell_type": "code",
   "execution_count": null,
   "metadata": {},
   "outputs": [],
   "source": []
  }
 ],
 "metadata": {
  "colab": {
   "authorship_tag": "ABX9TyMOtB7OiTVLb+yu2KoVwjto",
   "include_colab_link": true,
   "provenance": []
  },
  "kernelspec": {
   "display_name": "Python 3 (ipykernel)",
   "language": "python",
   "name": "python3"
  },
  "language_info": {
   "codemirror_mode": {
    "name": "ipython",
    "version": 3
   },
   "file_extension": ".py",
   "mimetype": "text/x-python",
   "name": "python",
   "nbconvert_exporter": "python",
   "pygments_lexer": "ipython3",
   "version": "3.11.9"
  }
 },
 "nbformat": 4,
 "nbformat_minor": 4
}
