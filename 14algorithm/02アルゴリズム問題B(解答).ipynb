{
 "cells": [
  {
   "cell_type": "markdown",
   "metadata": {
    "colab_type": "text",
    "id": "view-in-github"
   },
   "source": [
    "<a href=\"https://colab.research.google.com/github/YasuharuSuzuki/24_programing1/blob/main/\" target=\"_parent\"><img src=\"https://colab.research.google.com/assets/colab-badge.svg\" alt=\"Open In Colab\"/></a>"
   ]
  },
  {
   "cell_type": "markdown",
   "metadata": {},
   "source": [
    "# アルゴリズム問題B\n",
    "- 5～6問目まであります。"
   ]
  },
  {
   "cell_type": "markdown",
   "metadata": {},
   "source": [
    "## 問題6　つなわたりステージ1 (2点)\n",
    "\n",
    "ゆるるくんはつなわたりのゲームで遊んでいます。ステージ1のルールは以下の通りです：\n",
    "\n",
    "- つなの長さは20mです\n",
    "- 1秒に1回、左キー(L)もしくは右キー(R)の入力が可能です\n",
    "- キー入力をしない(N)こともできます\n",
    "- プレイヤーは1秒間に1m進みます\n",
    "- 左キーが入力されると、左方向に+1傾きます\n",
    "- 右キーが入力されると、右方向に+1傾きます\n",
    "- 傾いている方向と逆方向にキー入力すると、傾きが-1されます\n",
    "- 左右どちらかの傾きが+3を超えると綱から落ちてしまいます\n",
    "\n",
    "ゆるるくんのキー入力が文字列 S で与えられたとき、ステージ1をクリアできるかどうかを判定してください。  \n",
    "※そもそも左右キーを入力しなければGOALできるのですが、野暮なツッコミは辞めておきましょう・・・"
   ]
  },
  {
   "cell_type": "markdown",
   "metadata": {},
   "source": [
    "### 制約\n",
    "\n",
    "- |S| = 20\n",
    "- S は 'L', 'R', 'N' のみからなる文字列\n"
   ]
  },
  {
   "cell_type": "markdown",
   "metadata": {},
   "source": [
    "### 入力\n",
    "\n",
    "入力は以下の形式で標準入力から与えられる。\n",
    "\n",
    "---\n",
    "S\n",
    "\n",
    "---\n",
    "\n",
    "- 1行目にキー入力を表す文字列 S が与えられる"
   ]
  },
  {
   "cell_type": "markdown",
   "metadata": {},
   "source": [
    "### 出力\n",
    "\n",
    "- ステージクリアの場合：`GOAL`\n",
    "- 落下した場合：`YOU LOST`\n"
   ]
  },
  {
   "cell_type": "markdown",
   "metadata": {},
   "source": [
    "---\n",
    "---\n",
    "\n",
    "### 入力例1\n",
    "\n",
    "---\n",
    "```\n",
    "NNLNRLRRLNNRLNLLRLNN\n",
    "```\n",
    "---\n",
    "\n",
    "### 出力例1\n",
    "---\n",
    "```\n",
    "GOAL\n",
    "```\n",
    "---\n",
    "\n",
    "- 左方向に+2傾いていますが、無事GOALできました。"
   ]
  },
  {
   "cell_type": "markdown",
   "metadata": {},
   "source": [
    "---\n",
    "---"
   ]
  },
  {
   "cell_type": "markdown",
   "metadata": {},
   "source": [
    "### 入力例2\n",
    "\n",
    "---\n",
    "```\n",
    "NRLRLNRRLRNRNRLRLNRR\n",
    "```\n",
    "---\n",
    "\n",
    "### 出力例2\n",
    "---\n",
    "```\n",
    "YOU LOST\n",
    "```\n",
    "---\n",
    "\n",
    "- 14文字目の\"R\"で右側に+4傾き、崖下に落下となりました。"
   ]
  },
  {
   "cell_type": "markdown",
   "metadata": {},
   "source": [
    "---\n",
    "---"
   ]
  },
  {
   "cell_type": "markdown",
   "metadata": {},
   "source": [
    "---"
   ]
  },
  {
   "cell_type": "markdown",
   "metadata": {},
   "source": [
    "### ここ↓にPythonコードを記述してください"
   ]
  },
  {
   "cell_type": "code",
   "execution_count": 3,
   "metadata": {},
   "outputs": [
    {
     "name": "stdin",
     "output_type": "stream",
     "text": [
      " NRLRLNRRLRNRNRLRLNRR\n"
     ]
    },
    {
     "name": "stdout",
     "output_type": "stream",
     "text": [
      "YOU LOST\n"
     ]
    }
   ],
   "source": [
    "# 入力を受け取る\n",
    "S = input()\n",
    "\n",
    "# 左右の傾きを管理する変数\n",
    "tilt = 0  # 正: 右傾き、負: 左傾き\n",
    "\n",
    "# 1文字ずつ処理\n",
    "for action in S:\n",
    "    # キー入力\n",
    "    match action:\n",
    "        case 'L':  tilt -= 1\n",
    "        case 'R':  tilt += 1\n",
    "    \n",
    "    # 傾きチェック\n",
    "    if abs(tilt) > 3:\n",
    "        print(\"YOU LOST\")\n",
    "        break\n",
    "else:\n",
    "    # breakせずに最後まで到達できた場合\n",
    "    print(\"GOAL\")"
   ]
  },
  {
   "cell_type": "markdown",
   "metadata": {},
   "source": [
    "---\n",
    "---\n",
    "---"
   ]
  },
  {
   "cell_type": "markdown",
   "metadata": {},
   "source": [
    "## 問題7　ポーカーのストレート判定(2点)"
   ]
  },
  {
   "cell_type": "markdown",
   "metadata": {
    "jp-MarkdownHeadingCollapsed": true
   },
   "source": [
    "### 問題文\n",
    "ポーカーの役の一つに「ストレート」があります。これは5枚のカードの数字が連続している場合を指します。  \n",
    "ただし、絵柄（スート）は関係ありません。\n",
    "\n",
    "例えば以下の場合はストレートです：\n",
    "- 8, 9, 10, J, Q （数値としては 8,9,10,11,12 と連続）\n",
    "\n",
    "与えられた5枚のカードがストレートかどうかを判定するプログラムを作成してください。\n",
    "\n",
    "- J（ジャック）は11として扱います\n",
    "- Q（クイーン）は12として扱います\n",
    "- K（キング）は13として扱います\n",
    "- A（エース）は1として扱います"
   ]
  },
  {
   "cell_type": "markdown",
   "metadata": {},
   "source": [
    "### 制約\n",
    "\n",
    "- 入力されるカードは重複しません\n",
    "- 各カードの数字は 1(A) ≤ 数字 ≤ 13(K) の範囲です\n",
    "  - 10,J,Q,K,A は連続した数として扱いません\n",
    "- スートは ♡（ハート）、♧（クラブ）、♤（スペード）、♢（ダイヤ）のいずれかです"
   ]
  },
  {
   "cell_type": "markdown",
   "metadata": {},
   "source": [
    "### 入力\n",
    "入力は以下の形式で標準入力から与えられます。\n",
    "\n",
    "---\n",
    "\n",
    "C1 C2 C3 C4 C5\n",
    "\n",
    "---\n",
    "\n",
    "- スペース区切りで5枚のカードが与えられます\n",
    "- 各カードはスートと数字（または絵札）の組み合わせです"
   ]
  },
  {
   "cell_type": "markdown",
   "metadata": {},
   "source": [
    "### 出力\n",
    "\n",
    "ストレートの場合は `YES` を、そうでない場合は `NO` を出力してください。"
   ]
  },
  {
   "cell_type": "markdown",
   "metadata": {},
   "source": [
    "### 入力例1\n",
    "\n",
    "---\n",
    "```\n",
    "♡10 ♧8 ♤J ♢9 ♧Q\n",
    "```\n",
    "---\n",
    "\n",
    "### 出力例1\n",
    "---\n",
    "```\n",
    "YES\n",
    "```\n",
    "---\n",
    "- 8,9,10,11(J),12(Q) と連続しているため、ストレートです。\n"
   ]
  },
  {
   "cell_type": "markdown",
   "metadata": {},
   "source": [
    "### 入力例2\n",
    "\n",
    "---\n",
    "```\n",
    "♡3 ♧8 ♤J ♢9 ♧Q\n",
    "```\n",
    "---\n",
    "\n",
    "### 出力例2\n",
    "---\n",
    "```\n",
    "NO\n",
    "```\n",
    "---\n",
    "\n",
    "- カードの数字が連続していないため、ストレートではありません。"
   ]
  },
  {
   "cell_type": "markdown",
   "metadata": {},
   "source": [
    "### 入力例3\n",
    "\n",
    "---\n",
    "```\n",
    "♡A ♧2 ♤3 ♢4 ♧5\n",
    "```\n",
    "---\n",
    "\n",
    "### 出力例3\n",
    "---\n",
    "```\n",
    "YES\n",
    "```\n",
    "---\n",
    "\n",
    "- 1(A),2,3,4,5 と連続しているため、ストレートです。"
   ]
  },
  {
   "cell_type": "markdown",
   "metadata": {},
   "source": [
    "### ここ↓にPythonコードを記述してください"
   ]
  },
  {
   "cell_type": "code",
   "execution_count": 2,
   "metadata": {},
   "outputs": [
    {
     "name": "stdin",
     "output_type": "stream",
     "text": [
      " ♡10 ♧8 ♤8 ♢9 ♧Q\n"
     ]
    },
    {
     "name": "stdout",
     "output_type": "stream",
     "text": [
      "NO\n"
     ]
    }
   ],
   "source": [
    "# 入力を受け取る\n",
    "cards = input().split()\n",
    "\n",
    "# 数字部分を取り出して数値に変換\n",
    "numbers = []\n",
    "for card in cards:\n",
    "    # カードの数字部分を取得（スートを除いた部分）\n",
    "    num = card[1:]\n",
    "    \n",
    "    # 絵札を数値に変換\n",
    "    match num:\n",
    "        case 'A':\n",
    "            numbers.append(1)\n",
    "        case 'J':\n",
    "            numbers.append(11)\n",
    "        case 'Q':\n",
    "            numbers.append(12)\n",
    "        case 'K':\n",
    "            numbers.append(13)\n",
    "        case _:\n",
    "            numbers.append(int(num))\n",
    "\n",
    "# 一度setに入れてから再度リスト化\n",
    "# 一度setに入れているのはペアの時を考慮しています\n",
    "numbers = list(set(numbers))\n",
    "\n",
    "# ストレートの判定（最大値 - 最小値 = 4 かつ 要素数が5）\n",
    "if max(numbers) - min(numbers) == 4 and len(numbers) == 5:\n",
    "    print(\"YES\")\n",
    "else:\n",
    "    print(\"NO\")"
   ]
  },
  {
   "cell_type": "markdown",
   "metadata": {},
   "source": [
    "---\n",
    "---\n",
    "---"
   ]
  },
  {
   "cell_type": "markdown",
   "metadata": {},
   "source": [
    "## さらに得点をゲットするには・・・！"
   ]
  },
  {
   "cell_type": "markdown",
   "metadata": {},
   "source": [
    "### AtCoderによる加点\n",
    "- AtCoderのバチャコンやコンテストを解くと最大で3点まで加点されます\n",
    "- コーディング力もかなり向上するので一石二鳥でお得です！\n",
    "- 提出方法などわからないところはアシスタントの学生さんに聞いて、提出しましょう"
   ]
  },
  {
   "cell_type": "markdown",
   "metadata": {},
   "source": [
    "<img src=\"https://img.atcoder.jp/assets/top/img/logo_bk.svg\" width=\"500\" height=\"400\" style=\"padding: 10px;\">"
   ]
  },
  {
   "cell_type": "markdown",
   "metadata": {},
   "source": [
    "### 送付例\n",
    "以下のような情報をテキストに記載してください（提出例）\n",
    "\n",
    "```\n",
    "Hugkunバチャコン 2024/11/7\n",
    "https://kenkoooo.com/atcoder/#/contest/show/a65f53a7-a5ef-486e-988b-feed98ef1f84\n",
    "\n",
    "AtCoder Beginner Contest\n",
    "https://atcoder.jp/contests/abc382\n",
    "\n",
    "ユーザープロフィール\n",
    "https://atcoder.jp/users/shugo743\n",
    "```\n",
    "※２つ以上のバチャコン/コンテストに参加している場合は上記のようにURLを２つお送りください  \n"
   ]
  },
  {
   "cell_type": "markdown",
   "metadata": {},
   "source": [
    "### 制約\n",
    "\n",
    "- バチャコンの参加期限は１週間です。１問につき課題点として１点ずつ加点します。（ACのみ対象）  \n",
    "- １つの授業課題につき３問までを加点対象とします。（最大３点まで貰えます）  \n"
   ]
  },
  {
   "cell_type": "markdown",
   "metadata": {},
   "source": [
    "### なぜAtCoderで加点するのか\n",
    "\n",
    "- 形式としてはアルゴリズム問題に近く、プログラミングの能力を向上させる効果があります\n",
    "- 課題と違って即座に自動で正解・不正解が判明するので非常に効率の良い練習ができます\n",
    "- 正解が出たら加点しますので、URLをお送りください\n",
    "- 問題内容としてはアルゴリズム問題の易しめの問題が1～2問、難しい問題と同じぐらいの難易度の問題が1～2問出ます\n",
    "  - AtCoderで `A問題` と言われる問題を中心に解きましょう。 `B問題`は解ける方がいるかもしれませんが、`C問題`以降はほとんど無理です。\n",
    "  - もっと難しい問題もありますが、そちらはやらなくて良いです（プロのエンジニアでも解くのが難しい問題がたくさん出ます）。"
   ]
  },
  {
   "cell_type": "markdown",
   "metadata": {},
   "source": [
    "### お得情報\n",
    "\n",
    "- 例年、プログラミングⅠで高得点を取る方は以下の傾向があります\n",
    "  - アルゴリズム問題をきちんと解いてた人は点数が高いです（当たり前ですが）\n",
    "  - AtCoderにトライいただいている方も総じて高得点ですね（数は少ないのですが、効果てきめんなので良い成績に結びつく方が多いです）\n",
    "  - 予習している方（前日までに課題を提出している）も高得点が多いです（これは指摘された減点内容を再提出することによって加点している効果が大きいです）\n",
    "  - まわりの人とわいわい話しながら問題を解いている（自分たちで考える力が身につきます。ただしコピペは実力つかないので辞めましょうね）\n",
    "  - できるかぎり自分の力で解きつつ、わからないところは放置せずにアシスタントや講師に質問している（出来ない問題を出来ないままにする人は点数が低い方が多いです）\n",
    "\n",
    "- プログラミングⅡで秀を取られた方は、毎回AtCoderを提出していた方が多くいました\n",
    "  - 加点になるのに加えて実力もつきますので、ぜひチャレンジしましょう"
   ]
  },
  {
   "cell_type": "code",
   "execution_count": null,
   "metadata": {},
   "outputs": [],
   "source": []
  }
 ],
 "metadata": {
  "colab": {
   "authorship_tag": "ABX9TyMOtB7OiTVLb+yu2KoVwjto",
   "include_colab_link": true,
   "provenance": []
  },
  "kernelspec": {
   "display_name": "Python 3 (ipykernel)",
   "language": "python",
   "name": "python3"
  },
  "language_info": {
   "codemirror_mode": {
    "name": "ipython",
    "version": 3
   },
   "file_extension": ".py",
   "mimetype": "text/x-python",
   "name": "python",
   "nbconvert_exporter": "python",
   "pygments_lexer": "ipython3",
   "version": "3.11.9"
  }
 },
 "nbformat": 4,
 "nbformat_minor": 4
}
