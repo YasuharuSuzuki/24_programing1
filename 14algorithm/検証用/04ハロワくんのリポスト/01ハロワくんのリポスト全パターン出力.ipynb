{
 "cells": [
  {
   "cell_type": "markdown",
   "id": "e0f811d1",
   "metadata": {},
   "source": [
    "# 01ハロワくんのリポスト全パターン出力"
   ]
  },
  {
   "cell_type": "code",
   "execution_count": 5,
   "id": "575f2e20-25b5-45c8-8739-fc6a0e5e36d9",
   "metadata": {},
   "outputs": [],
   "source": [
    "import os\n",
    "import pandas as pd\n",
    "\n",
    "hello = ['Hello', 'hello', 'ハロー', 'helo', 'はろぅ']\n",
    "world = ['World', 'world', 'ワールド', 'word', 'わぁるど']"
   ]
  },
  {
   "cell_type": "code",
   "execution_count": 6,
   "id": "ec38a8d7-cf16-4cf3-8dee-0dfa97948ffa",
   "metadata": {},
   "outputs": [
    {
     "data": {
      "text/plain": [
       "25"
      ]
     },
     "execution_count": 6,
     "metadata": {},
     "output_type": "execute_result"
    }
   ],
   "source": [
    "def generate_combinations():\n",
    "\n",
    "    # 全ての組み合わせをリストとして格納\n",
    "    combinations = []\n",
    "\n",
    "    for a in hello:\n",
    "        for b in world:\n",
    "            combinations.append([f\"{a} {b}\"])\n",
    "\n",
    "    return combinations\n",
    "\n",
    "all_inputs = generate_combinations()\n",
    "len(all_inputs)"
   ]
  },
  {
   "cell_type": "code",
   "execution_count": 7,
   "id": "a42eca56-6234-47ba-8342-235563575d92",
   "metadata": {},
   "outputs": [],
   "source": [
    "def solve(input_list):\n",
    "    T=input_list[0]\n",
    "    t = T.lower()\n",
    "    if (t.find(\"hello\")!=-1 or t.find(\"ハロー\")!=-1) and (t.find(\"world\")!=-1 or t.find(\"ワールド\")!=-1):\n",
    "        return [T]\n",
    "    else:\n",
    "        return [\"No\"]\n"
   ]
  },
  {
   "cell_type": "code",
   "execution_count": 9,
   "id": "c2bafefa-b1a4-463e-b132-5f10036ab1aa",
   "metadata": {},
   "outputs": [],
   "source": [
    "def output_all(out_xz_filename):\n",
    "    all_inputs = generate_combinations()\n",
    "    all_outputs = []\n",
    "\n",
    "    for answer_id in range(len(all_inputs)):\n",
    "        all_outputs.append(solve(all_inputs[answer_id]))        # 解答を求める\n",
    "\n",
    "    df_all = pd.DataFrame({\"in\":all_inputs, \"out\":all_outputs})\n",
    "    df_all.index += 1\n",
    "    os.makedirs(os.path.dirname(out_xz_filename), exist_ok=True)\n",
    "    df_all.to_csv(out_xz_filename)\n",
    "\n",
    "output_all(\"data/answer.csv.xz\")"
   ]
  },
  {
   "cell_type": "code",
   "execution_count": null,
   "id": "4f8cc94d",
   "metadata": {},
   "outputs": [],
   "source": []
  }
 ],
 "metadata": {
  "kernelspec": {
   "display_name": "Python 3 (ipykernel)",
   "language": "python",
   "name": "python3"
  },
  "language_info": {
   "codemirror_mode": {
    "name": "ipython",
    "version": 3
   },
   "file_extension": ".py",
   "mimetype": "text/x-python",
   "name": "python",
   "nbconvert_exporter": "python",
   "pygments_lexer": "ipython3",
   "version": "3.11.9"
  }
 },
 "nbformat": 4,
 "nbformat_minor": 5
}
