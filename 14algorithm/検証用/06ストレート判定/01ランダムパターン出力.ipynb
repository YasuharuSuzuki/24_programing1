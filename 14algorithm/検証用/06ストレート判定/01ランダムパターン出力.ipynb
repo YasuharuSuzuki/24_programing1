{
 "cells": [
  {
   "cell_type": "markdown",
   "id": "e0f811d1",
   "metadata": {},
   "source": [
    "# ランダムパターン出力"
   ]
  },
  {
   "cell_type": "code",
   "execution_count": 62,
   "id": "575f2e20-25b5-45c8-8739-fc6a0e5e36d9",
   "metadata": {},
   "outputs": [],
   "source": [
    "import os\n",
    "import random\n",
    "import pandas as pd\n",
    "\n",
    "COUNT_OF_SAMPLES = 100\n",
    "CARD_SUITS = [\"♡\",\"♧\",\"♤\",\"♢\"]\n",
    "CARD_NUMS = [\"A\",\"2\",\"3\",\"4\",\"5\",\"6\",\"7\",\"8\",\"9\",\"10\",\"J\",\"Q\",\"K\"]\n",
    "STRAIGHT_PERCENT = 20  # ストレートの発生確率を％で入れてください"
   ]
  },
  {
   "cell_type": "code",
   "execution_count": 63,
   "id": "8b5fa65d-e9b0-47c0-a687-69db72fbe6d8",
   "metadata": {},
   "outputs": [
    {
     "data": {
      "text/plain": [
       "('♧', 1)"
      ]
     },
     "execution_count": 63,
     "metadata": {},
     "output_type": "execute_result"
    }
   ],
   "source": [
    "random.choice(CARD_SUITS), random.randint(1,13)"
   ]
  },
  {
   "cell_type": "code",
   "execution_count": 64,
   "id": "94494bf6-6bdb-41f2-af7a-da1982d5ecd0",
   "metadata": {},
   "outputs": [
    {
     "data": {
      "text/plain": [
       "['♢', '♡', '♤', '♧']"
      ]
     },
     "execution_count": 64,
     "metadata": {},
     "output_type": "execute_result"
    }
   ],
   "source": [
    "test = CARD_SUITS.copy()\n",
    "random.shuffle(test)\n",
    "test"
   ]
  },
  {
   "cell_type": "code",
   "execution_count": 65,
   "id": "4714bf71-61e6-4530-a5b4-aa63361ef1a6",
   "metadata": {},
   "outputs": [
    {
     "data": {
      "text/plain": [
       "['♤10', '♢8', '♧9', '♧J', '♧Q']"
      ]
     },
     "execution_count": 65,
     "metadata": {},
     "output_type": "execute_result"
    }
   ],
   "source": [
    "def gen_straight():\n",
    "    \"\"\"\n",
    "    普通にやると1件も出力されないためストレートの出力を作ります\n",
    "    \"\"\"\n",
    "    start_num = random.randint(0,8)\n",
    "    straight_choice = [random.choice(CARD_SUITS)+CARD_NUMS[start_num+i] for i in range(5)]\n",
    "    random.shuffle(straight_choice)\n",
    "    return straight_choice\n",
    "\n",
    "gen_straight()"
   ]
  },
  {
   "cell_type": "code",
   "execution_count": 66,
   "id": "4b357b40-43f9-45f2-aaed-7225c5212a4d",
   "metadata": {},
   "outputs": [
    {
     "data": {
      "text/plain": [
       "['♧7 ♡A ♧K ♡4 ♧9']"
      ]
     },
     "execution_count": 66,
     "metadata": {},
     "output_type": "execute_result"
    }
   ],
   "source": [
    "def get_random_inputs(not_list=[]):\n",
    "    while True:\n",
    "        if random.randint(0,100) <= STRAIGHT_PERCENT:\n",
    "            choice = gen_straight()\n",
    "        else:\n",
    "            choice = [random.choice(CARD_SUITS)+random.choice(CARD_NUMS) for _ in range(5)]\n",
    "        if len(set(choice)) == 5:\n",
    "            inputs = [\" \".join(choice)]\n",
    "            if inputs not in not_list:\n",
    "                return inputs\n",
    "        print(\"重複\", choice)\n",
    "    raise ValueError('無限ループしたようです')\n",
    "    \n",
    "get_random_inputs()"
   ]
  },
  {
   "cell_type": "code",
   "execution_count": 67,
   "id": "a42eca56-6234-47ba-8342-235563575d92",
   "metadata": {},
   "outputs": [],
   "source": [
    "def solve(input_list):\n",
    "    C=list(input_list[0].split())\n",
    "    num_list=[]\n",
    "    for i in C:\n",
    "        if i[1]==\"J\":\n",
    "            num_list.append(11)\n",
    "        elif i[1]==\"Q\":\n",
    "            num_list.append(12)\n",
    "        elif i[1]==\"K\":\n",
    "            num_list.append(13)\n",
    "        elif i[1]==\"A\":\n",
    "            num_list.append(1)\n",
    "        else:\n",
    "            num_list.append(int(i[1:]))\n",
    "    num_list.sort()\n",
    "    dif_set={num_list[i+1]-num_list[i] for i in range(len(num_list)-1)}\n",
    "    if len(dif_set)==1:\n",
    "        return [\"YES\"]\n",
    "    else:\n",
    "        return [\"NO\"]"
   ]
  },
  {
   "cell_type": "code",
   "execution_count": 68,
   "id": "c2bafefa-b1a4-463e-b132-5f10036ab1aa",
   "metadata": {
    "scrolled": true
   },
   "outputs": [
    {
     "name": "stdout",
     "output_type": "stream",
     "text": [
      "重複 ['♡2', '♡6', '♧4', '♡2', '♡7']\n",
      "重複 ['♧8', '♢10', '♢10', '♢8', '♤3']\n",
      "重複 ['♤8', '♡8', '♤5', '♤8', '♡A']\n",
      "重複 ['♢Q', '♤8', '♤3', '♤4', '♤4']\n",
      "重複 ['♤4', '♤6', '♤7', '♤7', '♤4']\n",
      "重複 ['♢2', '♡3', '♤7', '♢8', '♢8']\n",
      "重複 ['♡5', '♤2', '♧K', '♧9', '♤2']\n",
      "重複 ['♢3', '♧A', '♡3', '♡3', '♤Q']\n",
      "done\n"
     ]
    }
   ],
   "source": [
    "def output_all(out_xz_filename):\n",
    "    all_inputs = []\n",
    "    all_outputs = []\n",
    "\n",
    "    for answer_id in range(COUNT_OF_SAMPLES):\n",
    "        all_inputs.append(get_random_inputs(all_inputs))\n",
    "        all_outputs.append(solve(all_inputs[answer_id]))        # 解答を求める\n",
    "\n",
    "    df_all = pd.DataFrame({\"in\":all_inputs, \"out\":all_outputs})\n",
    "    df_all.index += 1\n",
    "    os.makedirs(os.path.dirname(out_xz_filename), exist_ok=True)\n",
    "    df_all.to_csv(out_xz_filename)\n",
    "\n",
    "output_all(\"data/answer.csv.xz\")\n",
    "print('done')"
   ]
  },
  {
   "cell_type": "code",
   "execution_count": null,
   "id": "4f8cc94d",
   "metadata": {},
   "outputs": [],
   "source": []
  },
  {
   "cell_type": "code",
   "execution_count": null,
   "id": "2516460f-ceeb-4c7b-b6a6-7fb9d77395e7",
   "metadata": {},
   "outputs": [],
   "source": []
  }
 ],
 "metadata": {
  "kernelspec": {
   "display_name": "Python 3 (ipykernel)",
   "language": "python",
   "name": "python3"
  },
  "language_info": {
   "codemirror_mode": {
    "name": "ipython",
    "version": 3
   },
   "file_extension": ".py",
   "mimetype": "text/x-python",
   "name": "python",
   "nbconvert_exporter": "python",
   "pygments_lexer": "ipython3",
   "version": "3.11.9"
  }
 },
 "nbformat": 4,
 "nbformat_minor": 5
}
