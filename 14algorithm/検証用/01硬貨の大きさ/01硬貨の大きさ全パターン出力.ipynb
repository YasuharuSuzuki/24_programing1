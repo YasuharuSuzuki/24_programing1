{
 "cells": [
  {
   "cell_type": "markdown",
   "id": "e0f811d1",
   "metadata": {},
   "source": [
    "# 硬貨の大きさ全パターン出力"
   ]
  },
  {
   "cell_type": "code",
   "execution_count": 25,
   "id": "575f2e20-25b5-45c8-8739-fc6a0e5e36d9",
   "metadata": {},
   "outputs": [],
   "source": [
    "import os\n",
    "import pandas as pd\n",
    "\n",
    "coins = [1,5,10,50,100,500]\n",
    "#size_list=[20.0,22.0,23.5,21.0,22.6,26.5]"
   ]
  },
  {
   "cell_type": "code",
   "execution_count": 26,
   "id": "ec38a8d7-cf16-4cf3-8dee-0dfa97948ffa",
   "metadata": {},
   "outputs": [
    {
     "data": {
      "text/plain": [
       "36"
      ]
     },
     "execution_count": 26,
     "metadata": {},
     "output_type": "execute_result"
    }
   ],
   "source": [
    "def generate_coin_combinations():\n",
    "\n",
    "    # 全ての組み合わせをリストとして格納\n",
    "    combinations = []\n",
    "\n",
    "    for a in coins:\n",
    "        for b in coins:\n",
    "            combinations.append([f\"{a} {b}\"])\n",
    "\n",
    "    return combinations\n",
    "\n",
    "coin_combinations = generate_coin_combinations()\n",
    "len(coin_combinations)"
   ]
  },
  {
   "cell_type": "code",
   "execution_count": 27,
   "id": "a42eca56-6234-47ba-8342-235563575d92",
   "metadata": {},
   "outputs": [],
   "source": [
    "def solve(input_list):\n",
    "    coin_list=[1,5,10,50,100,500]\n",
    "    size_list=[20.0,22.0,23.5,21.0,22.6,26.5]\n",
    "    A,B=map(int,input_list[0].split())\n",
    "    indexA=coin_list.index(A);indexB=coin_list.index(B)\n",
    "    dataA=size_list[indexA];dataB=size_list[indexB]\n",
    "    if dataA>dataB:\n",
    "        return [\"A\"]\n",
    "    elif dataA<dataB:\n",
    "        return [\"B\"]\n",
    "    else:\n",
    "        return [\"同じ\"]"
   ]
  },
  {
   "cell_type": "code",
   "execution_count": 28,
   "id": "c2bafefa-b1a4-463e-b132-5f10036ab1aa",
   "metadata": {},
   "outputs": [],
   "source": [
    "def output_all(out_xz_filename):\n",
    "    all_inputs = generate_coin_combinations()\n",
    "    all_outputs = []\n",
    "\n",
    "    for answer_id in range(len(all_inputs)):\n",
    "        all_outputs.append(solve(all_inputs[answer_id]))        # 解答を求める\n",
    "\n",
    "    df_all = pd.DataFrame({\"in\":all_inputs, \"out\":all_outputs})\n",
    "    df_all.index += 1\n",
    "    os.makedirs(os.path.dirname(out_xz_filename), exist_ok=True)\n",
    "    df_all.to_csv(out_xz_filename)\n",
    "\n",
    "output_all(\"data/answer.csv.xz\")"
   ]
  },
  {
   "cell_type": "code",
   "execution_count": null,
   "id": "4f8cc94d",
   "metadata": {},
   "outputs": [],
   "source": []
  }
 ],
 "metadata": {
  "kernelspec": {
   "display_name": "Python 3 (ipykernel)",
   "language": "python",
   "name": "python3"
  },
  "language_info": {
   "codemirror_mode": {
    "name": "ipython",
    "version": 3
   },
   "file_extension": ".py",
   "mimetype": "text/x-python",
   "name": "python",
   "nbconvert_exporter": "python",
   "pygments_lexer": "ipython3",
   "version": "3.11.9"
  }
 },
 "nbformat": 4,
 "nbformat_minor": 5
}
