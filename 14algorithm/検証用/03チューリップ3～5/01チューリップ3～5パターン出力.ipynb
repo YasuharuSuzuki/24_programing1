{
 "cells": [
  {
   "cell_type": "markdown",
   "id": "e0f811d1",
   "metadata": {},
   "source": [
    "# ランダムパターン出力"
   ]
  },
  {
   "cell_type": "code",
   "execution_count": 1,
   "id": "575f2e20-25b5-45c8-8739-fc6a0e5e36d9",
   "metadata": {},
   "outputs": [],
   "source": [
    "import os\n",
    "import random\n",
    "import pandas as pd\n",
    "\n",
    "N_MIN = 3\n",
    "N_MAX = 5\n",
    "COUNT_OF_SAMPLES = 100\n",
    "COLORS = [\"赤\", \"白\", \"黄\", \"紫\"]"
   ]
  },
  {
   "cell_type": "code",
   "execution_count": 2,
   "id": "4b357b40-43f9-45f2-aaed-7225c5212a4d",
   "metadata": {},
   "outputs": [
    {
     "data": {
      "text/plain": [
       "['5', '紫 赤 黄 黄 白']"
      ]
     },
     "execution_count": 2,
     "metadata": {},
     "output_type": "execute_result"
    }
   ],
   "source": [
    "def get_random_inputs(not_list=[]):\n",
    "    while True:\n",
    "        n = random.randint(N_MIN,N_MAX)\n",
    "        c = [random.choice(COLORS) for _ in range(n)]\n",
    "        inputs = [f\"{n}\", \" \".join(c)]\n",
    "        if inputs not in not_list:\n",
    "            return inputs\n",
    "        else:\n",
    "            print(\"重複\", inputs)\n",
    "    \n",
    "    raise ValueError('無限ループしたようです')\n",
    "    \n",
    "get_random_inputs()"
   ]
  },
  {
   "cell_type": "code",
   "execution_count": 3,
   "id": "a42eca56-6234-47ba-8342-235563575d92",
   "metadata": {},
   "outputs": [],
   "source": [
    "def solve(input_list):\n",
    "    colors={\"赤\",\"白\",\"黄\",\"紫\"}\n",
    "    N=int(input_list[0])\n",
    "    C=set(input_list[1].split())\n",
    "    len_set=len(C)\n",
    "    dif_list=list(colors-C)\n",
    "    if len_set==1:\n",
    "        return [f\"全部{list(C)[0]}！\"]\n",
    "    elif len_set==2:\n",
    "        return [f\"{dif_list[0]}と{dif_list[1]}が欲しいなぁ〜\"]\n",
    "    elif len_set==3:\n",
    "        return [f\"{dif_list[0]}が欲しいなぁ〜\"]\n",
    "    else:\n",
    "        return [\"キレイだなぁ〜\"]"
   ]
  },
  {
   "cell_type": "code",
   "execution_count": 4,
   "id": "c2bafefa-b1a4-463e-b132-5f10036ab1aa",
   "metadata": {
    "scrolled": true
   },
   "outputs": [
    {
     "name": "stdout",
     "output_type": "stream",
     "text": [
      "重複 ['3', '白 黄 赤']\n",
      "重複 ['4', '赤 黄 黄 紫']\n",
      "重複 ['4', '赤 黄 黄 紫']\n",
      "重複 ['3', '白 黄 赤']\n",
      "重複 ['3', '黄 白 白']\n",
      "重複 ['3', '紫 紫 赤']\n",
      "重複 ['5', '赤 白 白 黄 白']\n",
      "重複 ['3', '赤 紫 赤']\n",
      "重複 ['3', '紫 紫 赤']\n",
      "done\n"
     ]
    }
   ],
   "source": [
    "def output_all(out_xz_filename):\n",
    "    all_inputs = []\n",
    "    all_outputs = []\n",
    "\n",
    "    for answer_id in range(COUNT_OF_SAMPLES):\n",
    "        all_inputs.append(get_random_inputs(all_inputs))\n",
    "        all_outputs.append(solve(all_inputs[answer_id]))        # 解答を求める\n",
    "\n",
    "    df_all = pd.DataFrame({\"in\":all_inputs, \"out\":all_outputs})\n",
    "    df_all.index += 1\n",
    "    os.makedirs(os.path.dirname(out_xz_filename), exist_ok=True)\n",
    "    df_all.to_csv(out_xz_filename)\n",
    "\n",
    "output_all(\"data/answer.csv.xz\")\n",
    "print('done')"
   ]
  },
  {
   "cell_type": "code",
   "execution_count": null,
   "id": "4f8cc94d",
   "metadata": {},
   "outputs": [],
   "source": []
  }
 ],
 "metadata": {
  "kernelspec": {
   "display_name": "Python 3 (ipykernel)",
   "language": "python",
   "name": "python3"
  },
  "language_info": {
   "codemirror_mode": {
    "name": "ipython",
    "version": 3
   },
   "file_extension": ".py",
   "mimetype": "text/x-python",
   "name": "python",
   "nbconvert_exporter": "python",
   "pygments_lexer": "ipython3",
   "version": "3.11.9"
  }
 },
 "nbformat": 4,
 "nbformat_minor": 5
}
