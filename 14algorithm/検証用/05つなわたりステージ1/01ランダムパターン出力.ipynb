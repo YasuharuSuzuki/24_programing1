{
 "cells": [
  {
   "cell_type": "markdown",
   "id": "e0f811d1",
   "metadata": {},
   "source": [
    "# ランダムパターン出力"
   ]
  },
  {
   "cell_type": "code",
   "execution_count": 2,
   "id": "575f2e20-25b5-45c8-8739-fc6a0e5e36d9",
   "metadata": {},
   "outputs": [],
   "source": [
    "import os\n",
    "import random\n",
    "import pandas as pd\n",
    "\n",
    "N = 20\n",
    "COUNT_OF_SAMPLES = 100\n",
    "KEY = [\"N\", \"L\", \"R\"]"
   ]
  },
  {
   "cell_type": "code",
   "execution_count": 3,
   "id": "4b357b40-43f9-45f2-aaed-7225c5212a4d",
   "metadata": {},
   "outputs": [
    {
     "data": {
      "text/plain": [
       "['NRRNRRRLNNRLNNLRLRRL']"
      ]
     },
     "execution_count": 3,
     "metadata": {},
     "output_type": "execute_result"
    }
   ],
   "source": [
    "def get_random_inputs(not_list=[]):\n",
    "    while True:\n",
    "        k = [random.choice(KEY) for _ in range(N)]\n",
    "        inputs = [\"\".join(k)]\n",
    "        if inputs not in not_list:\n",
    "            return inputs\n",
    "        else:\n",
    "            print(\"重複\", inputs)\n",
    "    \n",
    "    raise ValueError('無限ループしたようです')\n",
    "    \n",
    "get_random_inputs()"
   ]
  },
  {
   "cell_type": "code",
   "execution_count": 4,
   "id": "a42eca56-6234-47ba-8342-235563575d92",
   "metadata": {},
   "outputs": [],
   "source": [
    "def solve(input_list):\n",
    "    S=list(input_list[0])\n",
    "    lean=0\n",
    "    ans=0\n",
    "    output_list = []\n",
    "    for i in S:\n",
    "        if abs(lean)>3:\n",
    "            ans=\"YOU LOST\"\n",
    "            output_list = [ans]\n",
    "            break\n",
    "        elif i==\"L\":\n",
    "            lean+=1\n",
    "        elif i==\"R\":\n",
    "            lean-=1\n",
    "    if ans!=\"YOU LOST\":\n",
    "        ans=\"GOAL\"\n",
    "        output_list = [ans]\n",
    "    return output_list"
   ]
  },
  {
   "cell_type": "code",
   "execution_count": 5,
   "id": "c2bafefa-b1a4-463e-b132-5f10036ab1aa",
   "metadata": {
    "scrolled": true
   },
   "outputs": [
    {
     "name": "stdout",
     "output_type": "stream",
     "text": [
      "done\n"
     ]
    }
   ],
   "source": [
    "def output_all(out_xz_filename):\n",
    "    all_inputs = []\n",
    "    all_outputs = []\n",
    "\n",
    "    for answer_id in range(COUNT_OF_SAMPLES):\n",
    "        all_inputs.append(get_random_inputs(all_inputs))\n",
    "        all_outputs.append(solve(all_inputs[answer_id]))        # 解答を求める\n",
    "\n",
    "    df_all = pd.DataFrame({\"in\":all_inputs, \"out\":all_outputs})\n",
    "    df_all.index += 1\n",
    "    os.makedirs(os.path.dirname(out_xz_filename), exist_ok=True)\n",
    "    df_all.to_csv(out_xz_filename)\n",
    "\n",
    "output_all(\"data/answer.csv.xz\")\n",
    "print('done')"
   ]
  },
  {
   "cell_type": "code",
   "execution_count": null,
   "id": "4f8cc94d",
   "metadata": {},
   "outputs": [],
   "source": []
  }
 ],
 "metadata": {
  "kernelspec": {
   "display_name": "Python 3 (ipykernel)",
   "language": "python",
   "name": "python3"
  },
  "language_info": {
   "codemirror_mode": {
    "name": "ipython",
    "version": 3
   },
   "file_extension": ".py",
   "mimetype": "text/x-python",
   "name": "python",
   "nbconvert_exporter": "python",
   "pygments_lexer": "ipython3",
   "version": "3.11.9"
  }
 },
 "nbformat": 4,
 "nbformat_minor": 5
}
