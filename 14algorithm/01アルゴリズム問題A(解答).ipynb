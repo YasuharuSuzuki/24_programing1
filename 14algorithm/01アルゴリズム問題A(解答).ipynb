{
 "cells": [
  {
   "cell_type": "markdown",
   "metadata": {
    "colab_type": "text",
    "id": "view-in-github"
   },
   "source": [
    "<a href=\"https://colab.research.google.com/github/YasuharuSuzuki/24_programing1/blob/main/\" target=\"_parent\"><img src=\"https://colab.research.google.com/assets/colab-badge.svg\" alt=\"Open In Colab\"/></a>"
   ]
  },
  {
   "cell_type": "markdown",
   "metadata": {},
   "source": [
    "# アルゴリズム問題A\n",
    "- 1～4問目まであります。5問目以降は別Notebookです"
   ]
  },
  {
   "cell_type": "markdown",
   "metadata": {},
   "source": [
    "## 問題1　硬貨の大きさ (1.5点)\n",
    "\n",
    "日本で製造される硬貨の直径は以下の通りです\n",
    "\n",
    "- 1円玉: 20.0mm\n",
    "- 5円玉: 22.0mm\n",
    "- 10円玉: 23.5mm\n",
    "- 50円玉: 21.0mm\n",
    "- 100円玉: 22.6mm\n",
    "- 500円玉: 26.5mm\n",
    "\n",
    "AさんとBさんがそれぞれ持っている硬貨が与えられます。より大きな直径の硬貨を持っている人を答えてください。  \n",
    "もし両者の硬貨の直径が同じ場合は「同じ」と出力してください。"
   ]
  },
  {
   "cell_type": "markdown",
   "metadata": {},
   "source": [
    "### 制約\n",
    "\n",
    "- 入力される硬貨は1円玉、5円玉、10円玉、50円玉、100円玉、500円玉のいずれか\n"
   ]
  },
  {
   "cell_type": "markdown",
   "metadata": {},
   "source": [
    "### 入力\n",
    "\n",
    "入力は以下の形式で標準入力から与えられる。\n",
    "\n",
    "---\n",
    "A B\n",
    "\n",
    "---\n",
    "\n",
    "- 1行目にAさんの持つ硬貨の金額 A と、Bさんの持つ硬貨の金額 B が空白区切りで与えられる"
   ]
  },
  {
   "cell_type": "markdown",
   "metadata": {},
   "source": [
    "### 出力\n",
    "\n",
    "- Aさんの持つ硬貨のほうが大きい時は'A'、Bさんの持つ硬貨のほうが大きい時は'B'、両者の硬貨が同じ大きさの場合は'同じ'と出力してください\n"
   ]
  },
  {
   "cell_type": "markdown",
   "metadata": {},
   "source": [
    "---\n",
    "---\n",
    "\n",
    "### 入力例1\n",
    "\n",
    "---\n",
    "```\n",
    "1 5\n",
    "```\n",
    "---\n",
    "\n",
    "### 出力例1\n",
    "---\n",
    "```\n",
    "B\n",
    "```\n",
    "---\n",
    "\n",
    "- 1円玉より5円玉の方が大きいので、Bと出力します"
   ]
  },
  {
   "cell_type": "markdown",
   "metadata": {},
   "source": [
    "---\n",
    "---"
   ]
  },
  {
   "cell_type": "markdown",
   "metadata": {},
   "source": [
    "### 入力例2\n",
    "\n",
    "---\n",
    "```\n",
    "5 50\n",
    "```\n",
    "---\n",
    "\n",
    "### 出力例2\n",
    "---\n",
    "```\n",
    "A\n",
    "```\n",
    "---\n",
    "\n",
    "- 50円玉より5円玉の方が大きいので、Aと出力します"
   ]
  },
  {
   "cell_type": "markdown",
   "metadata": {},
   "source": [
    "---\n",
    "---"
   ]
  },
  {
   "cell_type": "markdown",
   "metadata": {},
   "source": [
    "### 入力例3\n",
    "\n",
    "---\n",
    "```\n",
    "100 100\n",
    "```\n",
    "---\n",
    "\n",
    "### 出力例3\n",
    "---\n",
    "```\n",
    "同じ\n",
    "```\n",
    "---\n",
    "\n",
    "- 同じ大きさの場合は、```同じ```と出力します"
   ]
  },
  {
   "cell_type": "markdown",
   "metadata": {},
   "source": [
    "---"
   ]
  },
  {
   "cell_type": "markdown",
   "metadata": {},
   "source": [
    "### ここ↓にPythonコードを記述してください"
   ]
  },
  {
   "cell_type": "code",
   "execution_count": 7,
   "metadata": {},
   "outputs": [
    {
     "name": "stdin",
     "output_type": "stream",
     "text": [
      " 10 100\n"
     ]
    },
    {
     "name": "stdout",
     "output_type": "stream",
     "text": [
      "A\n"
     ]
    }
   ],
   "source": [
    "# 入力を受け取る\n",
    "coins = list(map(int, input().split()))\n",
    "\n",
    "# それぞれの硬貨の直径を決定\n",
    "diameters = []\n",
    "for coin in coins:\n",
    "    match coin:\n",
    "        case 1:    diameters.append(20.0)\n",
    "        case 5:    diameters.append(22.0)\n",
    "        case 10:   diameters.append(23.5)\n",
    "        case 50:   diameters.append(21.0)\n",
    "        case 100:  diameters.append(22.6)\n",
    "        case 500:  diameters.append(26.5)\n",
    "\n",
    "# 比較して結果を出力\n",
    "if diameters[0] > diameters[1]:\n",
    "    print(\"A\")\n",
    "elif diameters[1] > diameters[0]:\n",
    "    print(\"B\")\n",
    "else:\n",
    "    print(\"同じ\")"
   ]
  },
  {
   "cell_type": "markdown",
   "metadata": {},
   "source": [
    "---\n",
    "---\n",
    "---"
   ]
  },
  {
   "cell_type": "markdown",
   "metadata": {},
   "source": [
    "## 問題2　円の面積(1.5点)"
   ]
  },
  {
   "cell_type": "markdown",
   "metadata": {
    "jp-MarkdownHeadingCollapsed": true
   },
   "source": [
    "### 問題文\n",
    "- ゆるるくんは小学生向けの問題を作成しています。\n",
    "- 円の面積を自動的に求めるプログラムを作成し、わかりやすい文字列で小学生に見せたいと思っています。\n",
    "- 円の面積は半径ｘ半径ｘ3.14で求まります。\n",
    "- 半径を$r$cm、求まった面積を$A$cm^2とした 以下の３行の文字列で表示するプログラムを作成してください。\n",
    "```\n",
    "半径 × 半径 × 3.14 = 面積\n",
    "$r$ × $r$ × 3.14 = $A$\n",
    "答えは $A$ cm^2 です\n",
    "```\n",
    "（ただし、r、Aには実際の数値が入ります）"
   ]
  },
  {
   "cell_type": "markdown",
   "metadata": {
    "jp-MarkdownHeadingCollapsed": true
   },
   "source": [
    "### 制約\n",
    "\n",
    "$ 1 <= r <= 10 (rは整数) $  \n",
    "$ A $ は正の実数。小数点第2位まで出力\n",
    "- 小数点第3位以下は丸めてください。\n",
    "- 小数点以下は適切な桁数で表示が丸まっていればよく、Python標準の丸め処理（偶数丸め）でOKとします。\n",
    "- formatやfstring、roundのいずれかの桁数指定を使用してください。"
   ]
  },
  {
   "cell_type": "markdown",
   "metadata": {},
   "source": [
    "### 入力\n",
    "入力は以下の形式で標準入力から与えられます。\n",
    "\n",
    "---\n",
    "\n",
    "$ r $  \n",
    "\n",
    "---\n",
    "\n",
    "- 1行目に円の半径 r が与えられる"
   ]
  },
  {
   "cell_type": "markdown",
   "metadata": {},
   "source": [
    "### 出力\n",
    "\n",
    "3行で出力してください。  \n",
    "- 1行目：「半径 × 半径 × 3.14 = 面積」の形式  \n",
    "- 2行目：「r × r × 3.14 = A」の形式（rとAは数値）  \n",
    "- 3行目：「答えは A cm^2 です」の形式（Aは数値）  "
   ]
  },
  {
   "cell_type": "markdown",
   "metadata": {},
   "source": [
    "### 入力例1\n",
    "\n",
    "---\n",
    "```\n",
    "2\n",
    "```\n",
    "---\n",
    "\n",
    "### 出力例1\n",
    "---\n",
    "```\n",
    "半径 × 半径 × 3.14 = 面積\n",
    "2 × 2 × 3.14 = 12.56\n",
    "答えは 12.56 cm^2 です\n",
    "```\n",
    "---\n"
   ]
  },
  {
   "cell_type": "markdown",
   "metadata": {},
   "source": [
    "### 入力例2\n",
    "\n",
    "---\n",
    "```\n",
    "5\n",
    "```\n",
    "---\n",
    "\n",
    "### 出力例2\n",
    "---\n",
    "```\n",
    "半径 × 半径 × 3.14 = 面積\n",
    "5 × 5 × 3.14 = 78.50\n",
    "答えは 78.50 cm^2 です\n",
    "```\n",
    "---\n"
   ]
  },
  {
   "cell_type": "markdown",
   "metadata": {},
   "source": [
    "### ここ↓にPythonコードを記述してください"
   ]
  },
  {
   "cell_type": "code",
   "execution_count": 9,
   "metadata": {},
   "outputs": [
    {
     "name": "stdin",
     "output_type": "stream",
     "text": [
      " 5\n"
     ]
    },
    {
     "name": "stdout",
     "output_type": "stream",
     "text": [
      "半径 × 半径 × 3.14 = 面積\n",
      "5 × 5 × 3.14 = 78.50\n",
      "答えは 78.50 cm^2 です\n"
     ]
    }
   ],
   "source": [
    "# 入力\n",
    "r = int(input())\n",
    "\n",
    "# 面積を計算\n",
    "area = r * r * 3.14\n",
    "\n",
    "# 出力（f-stringを使用する場合）\n",
    "print(\"半径 × 半径 × 3.14 = 面積\")\n",
    "print(f\"{r} × {r} × 3.14 = {area:.2f}\")\n",
    "print(f\"答えは {area:.2f} cm^2 です\")"
   ]
  },
  {
   "cell_type": "markdown",
   "metadata": {},
   "source": [
    "---\n",
    "---\n",
    "---"
   ]
  },
  {
   "cell_type": "markdown",
   "metadata": {},
   "source": [
    "## 問題3　チューリップ3～5(1.5点)"
   ]
  },
  {
   "cell_type": "markdown",
   "metadata": {},
   "source": [
    "### 問題文\n",
    "- ゆるるくんは、花壇に３〜5本のチューリップの球根を植えました。色は赤、白、黄、紫のいずれかです。\n",
    "- 球根の状態から購入したのですが、何色かを気にせずに購入してしまったため、咲いてみるまで色がわかりません。\n",
    "- さらに球根は４つ買ったはずなのですが、１つ買い忘れたか、買い過ぎた可能性があります。\n",
    "- 実際に咲いたときの色に応じたゆるるくんの感想を出力してください。\n"
   ]
  },
  {
   "cell_type": "markdown",
   "metadata": {},
   "source": [
    "### 制約\n",
    "\n",
    "- チューリップの購入数を $ N $、購入したチューリップの色が $ C_1 $ 〜 $ C_N $ で与えられます。\n",
    "- 購入したチューリップの色が全て同じ場合は全部同じ色であることを出力してください。\n",
    "  - 例：\"赤 赤 赤\"の場合は「全部赤！」\n",
    "- 4色のチューリップ全て咲いた場合は「キレイだなぁ〜」と出力してください。\n",
    "  - 例：\"赤 赤 白 黄 紫\"の場合は「キレイだなぁ〜」\n",
    "- 全て同じ色でもなく、かつ全ての色が揃っていない場合は、購入していない色を出力してください。\n",
    "  - 例： \"赤 赤 紫\" （白と黄を購入していない）場合は「白と黄が欲しいなぁ〜」\n",
    "\n"
   ]
  },
  {
   "cell_type": "markdown",
   "metadata": {},
   "source": [
    "### 入力\n",
    "入力は以下の形式で標準入力から与えられます\n",
    "\n",
    "---\n",
    "$ N $  \n",
    "$ C_1 \\quad C_2 \\quad ... \\quad C_N $  \n",
    "\n",
    "---\n",
    "\n",
    "- チューリップの数 $ N $ とチューリップの色 $ C_i $ を受け取ります"
   ]
  },
  {
   "cell_type": "markdown",
   "metadata": {},
   "source": [
    "### 出力\n",
    "\n",
    "- 全て同じ色のときは「全部$ C_i $！」と出力せよ。  \n",
    "- 4色のチューリップが咲いたときは「キレイだなぁ〜」と出力せよ。  \n",
    "- 全て同じ色でもなく、かつ全ての色が揃っていない場合は、購入していない色を出力せよ。\n",
    "  - 購入していない色が1つの場合($ C_{n} $)は「$ C_{n} $が欲しいなぁ〜」と出力せよ。  \n",
    "  - 購入していない色が2つの場合($ C_{n1}, C_{n2} $)は「$ C_{n1} $と$ C_{n2} $が欲しいなぁ〜」と出力せよ。 "
   ]
  },
  {
   "cell_type": "markdown",
   "metadata": {},
   "source": [
    "### 入力例1\n",
    "\n",
    "---\n",
    "```\n",
    "4\n",
    "赤  赤  赤  赤  \n",
    "```\n",
    "---\n",
    "\n",
    "### 出力例1\n",
    "---\n",
    "```\n",
    "全部赤！\n",
    "```\n",
    "---\n",
    "\n",
    "- 全て同じ色のため「全部赤！」と出力してください。"
   ]
  },
  {
   "cell_type": "markdown",
   "metadata": {},
   "source": [
    "### 入力例2\n",
    "---\n",
    "```\n",
    "5\n",
    "赤  赤  白  黄  紫\n",
    "```\n",
    "---\n",
    "\n",
    "### 出力例2\n",
    "---\n",
    "```\n",
    "キレイだなぁ〜\n",
    "```\n",
    "---\n",
    "\n",
    "- 4色のチューリップが咲いているため「キレイだなぁ〜」と出力してください。"
   ]
  },
  {
   "cell_type": "markdown",
   "metadata": {},
   "source": [
    "### 入力例3\n",
    "---\n",
    "```\n",
    "3\n",
    "赤  白  紫\n",
    "```\n",
    "---\n",
    "\n",
    "### 出力例3\n",
    "---\n",
    "```\n",
    "黄が欲しいなぁ〜\n",
    "```\n",
    "---\n",
    "\n",
    "- 全て同じ色でもなく、かつ全ての色が揃っていない場合は、未購入の色を出力してください。\n",
    "- この例では未購入の色が１つのため、「黄が欲しいなぁ〜」と出力します。"
   ]
  },
  {
   "cell_type": "markdown",
   "metadata": {},
   "source": [
    "### 入力例4\n",
    "---\n",
    "```\n",
    "5\n",
    "赤  白  赤  白  赤 \n",
    "```\n",
    "---\n",
    "\n",
    "### 出力例4\n",
    "---\n",
    "```\n",
    "黄と紫が欲しいなぁ〜\n",
    "```\n",
    "---\n",
    "\n",
    "- 全て同じ色でもなく、かつ全ての色が揃っていない場合は、未購入の色を出力してください。\n",
    "- この例では未購入の色が2つのため、「黄と紫が欲しいなぁ〜」と出力します。\n",
    "- ２つ以上欲しい色がある場合は`と`を連結に用いてください。"
   ]
  },
  {
   "cell_type": "code",
   "execution_count": 11,
   "metadata": {},
   "outputs": [
    {
     "name": "stdin",
     "output_type": "stream",
     "text": [
      " 5\n",
      " 赤  白  赤  白  赤\n"
     ]
    },
    {
     "name": "stdout",
     "output_type": "stream",
     "text": [
      "黃と紫が欲しいなぁ\n"
     ]
    }
   ],
   "source": [
    "all_color = {'赤','白','黃','紫'}\n",
    "input_count = int(input())\n",
    "input_set1 = set(input().split())\n",
    "if len(input_set1) == 1:\n",
    "    print(f'全部{input_set1.pop()}！')\n",
    "elif len(input_set1) == 4:\n",
    "    print('キレイだなぁ〜')\n",
    "else:\n",
    "    print('{}が欲しいなぁ'.format(\"と\".join(list(all_color - input_set1))))"
   ]
  },
  {
   "cell_type": "markdown",
   "metadata": {},
   "source": [
    "---\n",
    "---\n",
    "---"
   ]
  },
  {
   "cell_type": "markdown",
   "metadata": {},
   "source": [
    "## 問題4　ハロワくんのリポスト (1.5点)"
   ]
  },
  {
   "cell_type": "markdown",
   "metadata": {},
   "source": [
    "### 問題文\n",
    "- [@yasubeitwi](https://x.com/yasubeitwi) では、時々課題に関するつぶやきを行っています\n",
    "- ハローワールドについてつぶやいたところ、ハロワくん([@helloworld193](https://x.com/helloworld193))がリポストを行いました。\n",
    "- @yasubeitwi がつぶやいた文字列がHello Worldであるかどうかを判定し、真の時には @yasubeitwi がつぶやいた文字列をそのまま出力してください。偽の時には\"No\"と出力してください。\n",
    "\n",
    "#### 文字列の表記ゆれについて\n",
    "- Hello Worldの文字列には表記ゆれがあります。\n",
    "  - \"Hello World!\" → ハロワくんはリポストします。\n",
    "  - \"hello world\" → ハロワくんはリポストします。文字列が小文字の場合も、後ろのビックリマークがない場合もリポストします。\n",
    "  - \"helo world\" → ハロワくんはリポストしません。誤字についてはリポストしないこととします。\n",
    "  - \"ハローワールド！\" → ハロワくんはリポストします。全角カタカナ表記の場合もリポストします。ただし、半角カタカナ表記は除外します。\n",
    "  - \"ハローWorld\" → ハロワくんはリポストします。全角カタカナ表記、および英字表記が混在している場合もリポストします。\n",
    "- 制約として、以下のケースについては考慮不要です\n",
    "  - \"ハローハロー、World！\" → HelloやWorldの文字が複数入っているケースは存在しないこととします。\n",
    "  - \"World Hello!\" → Hello や Worldの順番が入れ子になることはありません。考慮不要です。"
   ]
  },
  {
   "cell_type": "markdown",
   "metadata": {},
   "source": [
    "### 制約\n",
    "\n",
    "$ T \\qquad ※T は文字列 $  "
   ]
  },
  {
   "cell_type": "markdown",
   "metadata": {},
   "source": [
    "### 入力\n",
    "入力は以下の形式で標準入力から与えられます\n",
    "\n",
    "---\n",
    "$ T $\n",
    "\n",
    "---"
   ]
  },
  {
   "cell_type": "markdown",
   "metadata": {},
   "source": [
    "### 出力\n",
    "入力されたつぶやきがHello World (表記ゆれ含む) の場合はその文字列を、そうでない場合は `No` を出力せよ。  \n",
    "\n",
    "#### 表記ゆれについて\n",
    "- \"Hello\"部分、\"World\"部分それぞれで以下の表記ゆれを許容すること\n",
    "  - Hello\n",
    "    - Hello, hello, ハロー\n",
    "  - World\n",
    "    - World, world, ワールド"
   ]
  },
  {
   "cell_type": "markdown",
   "metadata": {},
   "source": [
    "### 入力例1\n",
    "---\n",
    "```\n",
    "Hello World!\n",
    "```\n",
    "---\n",
    "\n",
    "### 出力例1\n",
    "---\n",
    "```\n",
    "Hello World!\n",
    "```\n",
    "---\n",
    "- ハロワくんがリポストするため、文字列をそのまま出力します。"
   ]
  },
  {
   "cell_type": "markdown",
   "metadata": {},
   "source": [
    "### 入力例2\n",
    "---\n",
    "```\n",
    "hello world\n",
    "```\n",
    "---\n",
    "\n",
    "### 出力例2\n",
    "---\n",
    "```\n",
    "hello world\n",
    "```\n",
    "---\n",
    "- このケースではハロワくんはリポストします。\n",
    "- 文字列が小文字の場合も、後ろのビックリマークがない場合もリポストします。"
   ]
  },
  {
   "cell_type": "markdown",
   "metadata": {},
   "source": [
    "### 入力例3\n",
    "---\n",
    "```\n",
    "helo world\n",
    "```\n",
    "---\n",
    "\n",
    "### 出力例3\n",
    "---\n",
    "```\n",
    "No\n",
    "```\n",
    "---\n",
    "- 誤記のケースではハロワくんはリポストしません"
   ]
  },
  {
   "cell_type": "markdown",
   "metadata": {},
   "source": [
    "### 入力例4\n",
    "---\n",
    "```\n",
    "ハローワールド！\n",
    "```\n",
    "---\n",
    "\n",
    "### 出力例4\n",
    "---\n",
    "```\n",
    "ハローワールド！\n",
    "```\n",
    "---\n",
    "- ハロワくんはリポストします。全角カタカナ表記の場合もリポストします。"
   ]
  },
  {
   "cell_type": "markdown",
   "metadata": {},
   "source": [
    "### 入力例5\n",
    "---\n",
    "```\n",
    "ハローWorld！\n",
    "```\n",
    "---\n",
    "\n",
    "### 出力例5\n",
    "---\n",
    "```\n",
    "ハローWorld！\n",
    "```\n",
    "---\n",
    "- ハロワくんはリポストします。全角カタカナ表記、および英字表記が混在している場合もリポストします。"
   ]
  },
  {
   "cell_type": "code",
   "execution_count": 15,
   "metadata": {},
   "outputs": [
    {
     "name": "stdin",
     "output_type": "stream",
     "text": [
      " ハローWorld！！！！１！\n"
     ]
    },
    {
     "name": "stdout",
     "output_type": "stream",
     "text": [
      "ハローWorld！！！！１！\n"
     ]
    }
   ],
   "source": [
    "tweet = input()\n",
    "s = tweet.lower()\n",
    "is_hello = s.find('hello')>=0 or s.find('ハロー')>=0\n",
    "is_world = s.find('world')>=0 or s.find('ワールド')>=0\n",
    "\n",
    "if is_hello and is_world:\n",
    "    print(tweet)\n",
    "else:\n",
    "    print('No')"
   ]
  },
  {
   "cell_type": "code",
   "execution_count": null,
   "metadata": {},
   "outputs": [],
   "source": []
  },
  {
   "cell_type": "code",
   "execution_count": null,
   "metadata": {},
   "outputs": [],
   "source": []
  }
 ],
 "metadata": {
  "colab": {
   "authorship_tag": "ABX9TyMOtB7OiTVLb+yu2KoVwjto",
   "include_colab_link": true,
   "provenance": []
  },
  "kernelspec": {
   "display_name": "Python 3 (ipykernel)",
   "language": "python",
   "name": "python3"
  },
  "language_info": {
   "codemirror_mode": {
    "name": "ipython",
    "version": 3
   },
   "file_extension": ".py",
   "mimetype": "text/x-python",
   "name": "python",
   "nbconvert_exporter": "python",
   "pygments_lexer": "ipython3",
   "version": "3.11.9"
  }
 },
 "nbformat": 4,
 "nbformat_minor": 4
}
