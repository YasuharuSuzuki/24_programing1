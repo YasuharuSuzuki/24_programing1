{
 "cells": [
  {
   "cell_type": "markdown",
   "metadata": {
    "colab_type": "text",
    "id": "view-in-github"
   },
   "source": [
    "<a href=\"https://colab.research.google.com/github/YasuharuSuzuki/24_programing1/blob/main/\" target=\"_parent\"><img src=\"https://colab.research.google.com/assets/colab-badge.svg\" alt=\"Open In Colab\"/></a>"
   ]
  },
  {
   "cell_type": "markdown",
   "metadata": {},
   "source": [
    "# リストの色々な作り方"
   ]
  },
  {
   "cell_type": "markdown",
   "metadata": {},
   "source": [
    "## リスト 参考サイト\n",
    "### [参考サイト1 【Python早見表】リスト](https://chokkan.github.io/python/06list.html)\n",
    "\n",
    "### [参考サイト2 【Python入門】リスト](https://utokyo-ipp.github.io/2/2-2.html)"
   ]
  },
  {
   "cell_type": "markdown",
   "metadata": {},
   "source": [
    "## サンプルプログラム2　いろいろなリストの作り方"
   ]
  },
  {
   "cell_type": "markdown",
   "metadata": {},
   "source": [
    "- 空のリストの作成\n",
    "- range()からリストを作る\n",
    "- 要素を繰り返すリストを作る\n",
    "- 2次元リスト\n",
    "- 3次元リスト\n",
    "- 文字列を分割してリスト化"
   ]
  },
  {
   "cell_type": "code",
   "execution_count": 1,
   "metadata": {},
   "outputs": [
    {
     "name": "stdout",
     "output_type": "stream",
     "text": [
      "[]\n",
      "[]\n"
     ]
    }
   ],
   "source": [
    "# 空のリストの作り方\n",
    "empty_list1 = []\n",
    "empty_list2 = list()\n",
    "print(empty_list1)\n",
    "print(empty_list2)"
   ]
  },
  {
   "cell_type": "markdown",
   "metadata": {},
   "source": [
    "- 空のリストを作るには、[ ]を使用するか、list()と記述します。(どちらでもOKです)"
   ]
  },
  {
   "cell_type": "code",
   "execution_count": 2,
   "metadata": {},
   "outputs": [
    {
     "name": "stdout",
     "output_type": "stream",
     "text": [
      "[1, 2, 3, 4, 5, 6, 7, 8, 9, 10, 11, 12, 13, 14, 15, 16, 17, 18, 19, 20, 21, 22, 23, 24, 25, 26, 27, 28, 29, 30, 31, 32, 33, 34, 35, 36, 37, 38, 39, 40, 41, 42, 43, 44, 45, 46, 47, 48, 49, 50, 51, 52, 53, 54, 55, 56, 57, 58, 59, 60, 61, 62, 63, 64, 65, 66, 67, 68, 69, 70, 71, 72, 73, 74, 75, 76, 77, 78, 79, 80, 81, 82, 83, 84, 85, 86, 87, 88, 89, 90, 91, 92, 93, 94, 95, 96, 97, 98]\n"
     ]
    }
   ],
   "source": [
    "# range()からリストを作る\n",
    "range_list1 = list(range(1,99))\n",
    "print(range_list1)"
   ]
  },
  {
   "cell_type": "markdown",
   "metadata": {},
   "source": [
    "- rangeを使用してリストを作るにはlist()で括ります\n",
    "- こちらは[range()]とは書けないので気をつけましょう。list()で括ると厳密にはlist(iterable)が呼ばれています（→[公式ドキュメント参照](https://docs.python.org/ja/3/library/stdtypes.html?highlight=list#lists)）"
   ]
  },
  {
   "cell_type": "code",
   "execution_count": 3,
   "metadata": {},
   "outputs": [
    {
     "name": "stdout",
     "output_type": "stream",
     "text": [
      "[0, 0, 0, 0, 0, 0, 0, 0, 0, 0, 0, 0, 0, 0, 0]\n"
     ]
    }
   ],
   "source": [
    "# 要素を繰り返すリストを作る\n",
    "continuous_list = [0]*15 # 0で初期化されたリスト長15のリストを作る\n",
    "print(continuous_list)"
   ]
  },
  {
   "cell_type": "code",
   "execution_count": 4,
   "metadata": {},
   "outputs": [
    {
     "name": "stdout",
     "output_type": "stream",
     "text": [
      "['チーム', '1回', '2回', '3回', '4回', '5回', '6回', '7回', '8回', '9回', '計']\n",
      "['オリックス', 1, 0, 0, 0, 4, 0, 0, 0, 0, 5]\n",
      "['ヤクルト', 0, 0, 0, 0, 0, 0, 0, 4, 0, 4]\n",
      "4\n"
     ]
    }
   ],
   "source": [
    "# 2次元リストを作る\n",
    "japan_series_2022_06 = [\n",
    "    ['チーム', '1回', '2回', '3回', '4回', '5回', '6回', '7回', '8回', '9回', '計'],\n",
    "    ['オリックス', 1,        0,       0,      0,        4,       0,      0,       0,      0,    5],\n",
    "    ['ヤクルト',    0,        0,       0,      0,        0,       0,      0,       4,      0,    4],\n",
    "]\n",
    "print(japan_series_2022_06[0])\n",
    "print(japan_series_2022_06[1])\n",
    "print(japan_series_2022_06[2])\n",
    "print(japan_series_2022_06[1][5]) # オリックスの5回の点数を取り出す"
   ]
  },
  {
   "cell_type": "code",
   "execution_count": 5,
   "metadata": {},
   "outputs": [
    {
     "name": "stdout",
     "output_type": "stream",
     "text": [
      "4\n"
     ]
    }
   ],
   "source": [
    "# 3次元リストを作る\n",
    "japan_series_2022 = [\n",
    "    [\n",
    "        ['チーム', '1回', '2回', '3回', '4回', '5回', '6回', '7回', '8回', '9回', '10回', '11回', '12回', '計'],\n",
    "        ['オリックス', 0,        0,       2,      0,        1,       0,      0,       0,      0,          0,         0,         0,    3],\n",
    "        ['ヤクルト',    0,        0,       0,      0,        0,       0,      0,       0,      3,          0,        0,         0,    3],\n",
    "    ],\n",
    "    [\n",
    "        ['チーム', '1回', '2回', '3回', '4回', '5回', '6回', '7回', '8回', '9回', '計'],\n",
    "        ['ヤクルト',    0,        0,       0,      0,       3,       0,      1,       0,      3,    7],\n",
    "        ['オリックス', 0,        0,       0,      0,        0,       0,      0,       0,      1,    1],\n",
    "    ],\n",
    "    [\n",
    "        ['チーム', '1回', '2回', '3回', '4回', '5回', '6回', '7回', '8回', '9回', '計'],\n",
    "        ['ヤクルト',    0,        0,       0,      0,       0,       0,      0,       0,      0,    0],\n",
    "        ['オリックス', 0,        0,       1,      0,        0,       0,      0,       0,      0,    1],\n",
    "    ],\n",
    "    [\n",
    "        ['チーム', '1回', '2回', '3回', '4回', '5回', '6回', '7回', '8回', '9回', '計'],\n",
    "        ['ヤクルト',    1,        1,       0,      0,       0,       2,      0,       0,      0,    4],\n",
    "        ['オリックス', 0,        0,       0,      2,        1,       0,      0,       0,      3,    6],\n",
    "    ],\n",
    "    [\n",
    "        ['チーム', '1回', '2回', '3回', '4回', '5回', '6回', '7回', '8回', '9回', '計'],\n",
    "        ['オリックス', 0,        0,       0,      0,        1,       1,      0,       0,      2,    3],\n",
    "        ['ヤクルト',    0,        0,       0,      0,       0,       0,      0,       0,      0,    0],\n",
    "    ],\n",
    "    japan_series_2022_06,\n",
    "]\n",
    "print(japan_series_2022[5][2][8]) # 第６戦のヤクルトの8回の点数を取り出す"
   ]
  },
  {
   "cell_type": "code",
   "execution_count": 6,
   "metadata": {},
   "outputs": [
    {
     "name": "stdout",
     "output_type": "stream",
     "text": [
      "['0', '0', '0', '2', '10', '0', '0', '3']\n",
      "[0, 0, 0, 2, 10, 0, 0, 3]\n"
     ]
    }
   ],
   "source": [
    "# 文字列を分割してリスト化\n",
    "# 空白区切りの文字列からsplit()を使用してリストを作る\n",
    "space_separated = \"0 0 0 2 10 0 0 3\"\n",
    "print(space_separated.split())\n",
    "\n",
    "# すべて数値に変換するにはlist(map(int, 〜 を使用する\n",
    "print(list(map(int,space_separated.split())))"
   ]
  },
  {
   "cell_type": "markdown",
   "metadata": {},
   "source": [
    "## 練習プログラム2 (1.8点)\n",
    "1. 空のリストを作成して変数に格納し、print()等で出力してみましょう\n",
    "1. range()からリストを作成し、print()等で出力してみましょう\n",
    "1. 要素を繰り返すリストを作成し、print()等で出力してみましょう\n",
    "1. 2次元のリストを作り、print()等で出力してみましょう\n",
    "1. 3次元のリストを作り、print()等で出力してみましょう\n",
    "1. 空白区切りの文字列からsplit()を使用してリストを作り、print()等で出力してみましょう"
   ]
  },
  {
   "cell_type": "code",
   "execution_count": 7,
   "metadata": {},
   "outputs": [],
   "source": [
    "# 1. 空のリストを作成して変数に格納し、print()等で出力してみましょう\n",
    "# 作り方は複数ありますがどれでも良いです。１つ選んでプログラムを作成してみましょう。\n",
    "# 変数名も独自のものに変えましょう\n",
    "\n",
    "# ここにPythonプログラムを記述してください"
   ]
  },
  {
   "cell_type": "code",
   "execution_count": 8,
   "metadata": {},
   "outputs": [],
   "source": [
    "# 2. range()からリストを作成し、print()等で出力してみましょう\n",
    "# 入れる値は何でも良いですが、このNotebookのサンプルプログラムとは違う独自の値を入れましょう\n",
    "\n",
    "# ここにPythonプログラムを記述してください"
   ]
  },
  {
   "cell_type": "code",
   "execution_count": 9,
   "metadata": {},
   "outputs": [],
   "source": [
    "# 3. 要素を繰り返すリストを作成し、print()等で出力してみましょう\n",
    "# 入れる値は何でも良いですが、このNotebookのサンプルプログラムとは違う独自の値を入れましょう\n",
    "# 変数名も独自のものに変えましょう\n",
    "\n",
    "# ここにPythonプログラムを記述してください"
   ]
  },
  {
   "cell_type": "code",
   "execution_count": 10,
   "metadata": {},
   "outputs": [],
   "source": [
    "# 4. 2次元のリストを作り、print()等で出力してみましょう\n",
    "# 入れる値は何でも良いですが、このNotebookのサンプルプログラムとは違う独自の値を入れましょう\n",
    "# 変数名も独自のものに変えましょう\n",
    "\n",
    "# ここにPythonプログラムを記述してください"
   ]
  },
  {
   "cell_type": "code",
   "execution_count": 11,
   "metadata": {},
   "outputs": [],
   "source": [
    "# 5. 3次元のリストを作り、print()等で出力してみましょう\n",
    "# 入れる値は何でも良いですが、このNotebookのサンプルプログラムとは違う独自の値を入れましょう\n",
    "# 変数名も独自のものに変えましょう\n",
    "\n",
    "# ここにPythonプログラムを記述してください"
   ]
  },
  {
   "cell_type": "code",
   "execution_count": 12,
   "metadata": {},
   "outputs": [],
   "source": [
    "# 6. 空白区切りの文字列からsplit()を使用してリストを作り、print()等で出力してみましょう\n",
    "# 入れる値は何でも良いですが、このNotebookのサンプルプログラムは違う独自の値を入れましょう\n",
    "# 変数名も独自のものに変えましょう\n",
    "\n",
    "# ここにPythonプログラムを記述してください"
   ]
  }
 ],
 "metadata": {
  "colab": {
   "authorship_tag": "ABX9TyMOtB7OiTVLb+yu2KoVwjto",
   "include_colab_link": true,
   "provenance": []
  },
  "kernelspec": {
   "display_name": "Python 3 (ipykernel)",
   "language": "python",
   "name": "python3"
  },
  "language_info": {
   "codemirror_mode": {
    "name": "ipython",
    "version": 3
   },
   "file_extension": ".py",
   "mimetype": "text/x-python",
   "name": "python",
   "nbconvert_exporter": "python",
   "pygments_lexer": "ipython3",
   "version": "3.11.9"
  }
 },
 "nbformat": 4,
 "nbformat_minor": 4
}
