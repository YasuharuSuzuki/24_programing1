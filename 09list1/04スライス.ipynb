{
 "cells": [
  {
   "cell_type": "markdown",
   "metadata": {
    "colab_type": "text",
    "id": "view-in-github"
   },
   "source": [
    "<a href=\"https://colab.research.google.com/github/YasuharuSuzuki/23_programing1/blob/main/\" target=\"_parent\"><img src=\"https://colab.research.google.com/assets/colab-badge.svg\" alt=\"Open In Colab\"/></a>"
   ]
  },
  {
   "cell_type": "markdown",
   "metadata": {},
   "source": [
    "# スライス"
   ]
  },
  {
   "cell_type": "markdown",
   "metadata": {},
   "source": [
    "## リスト 参考サイト\n",
    "### [参考サイト1 【Python早見表】6.2 スライス](https://chokkan.github.io/python/06list.html#id3)\n",
    "### [参考サイト2 【Python入門】リストとスライス](https://utokyo-ipp.github.io/2/2-2.html#%E3%83%AA%E3%82%B9%E3%83%88%E3%81%A8%E3%82%A4%E3%83%B3%E3%83%87%E3%83%83%E3%82%AF%E3%82%B9)"
   ]
  },
  {
   "cell_type": "markdown",
   "metadata": {},
   "source": [
    "# スライスとは\n",
    "- a[start:end:step]という形式で、リストの要素の部分列を抽出できる（「スライス」と呼ばれる）。\n",
    "  - start: 抽出を開始する要素のインデックス番号。省略された場合は0となる。\n",
    "  - end: 抽出を終了する要素のインデックス番号（ただし、a[end]の要素は含まれない）。省略された場合はリストの要素数となる。\n",
    "  - step: 要素を抽出する間隔。省略された場合は1である。"
   ]
  },
  {
   "cell_type": "markdown",
   "metadata": {},
   "source": [
    "## サンプルプログラム4　スライスを使用した抽出\n",
    "- 0〜19までのリストを作る\n",
    "- インデックス7から最後までを抽出\n",
    "- 先頭からインデックス12までを抽出\n",
    "- インデックス７から１２までを抽出\n",
    "- すべてを抽出"
   ]
  },
  {
   "cell_type": "code",
   "execution_count": 1,
   "metadata": {},
   "outputs": [
    {
     "data": {
      "text/plain": [
       "[0, 1, 2, 3, 4, 5, 6, 7, 8, 9, 10, 11, 12, 13, 14, 15, 16, 17, 18, 19]"
      ]
     },
     "execution_count": 1,
     "metadata": {},
     "output_type": "execute_result"
    }
   ],
   "source": [
    "# 0〜19までのリストを作る\n",
    "increments = list(range(20)) # 0〜19までのリストを作る\n",
    "increments"
   ]
  },
  {
   "cell_type": "code",
   "execution_count": 2,
   "metadata": {},
   "outputs": [
    {
     "name": "stdout",
     "output_type": "stream",
     "text": [
      "[7, 8, 9, 10, 11, 12, 13, 14, 15, 16, 17, 18, 19]\n"
     ]
    }
   ],
   "source": [
    "# インデックス7から最後までを抽出\n",
    "print(increments[7:])"
   ]
  },
  {
   "cell_type": "markdown",
   "metadata": {},
   "source": [
    "- 開始位置に7、終了位置を未指定\n",
    "- 終了位置を未指定にすると、リストの最後までが対象となる"
   ]
  },
  {
   "cell_type": "code",
   "execution_count": 3,
   "metadata": {},
   "outputs": [
    {
     "name": "stdout",
     "output_type": "stream",
     "text": [
      "[0, 1, 2, 3, 4, 5, 6, 7, 8, 9, 10, 11]\n"
     ]
    }
   ],
   "source": [
    "# 先頭からインデックス12までを抽出\n",
    "print(increments[:12])"
   ]
  },
  {
   "cell_type": "markdown",
   "metadata": {},
   "source": [
    "- 開始位置を未指定、終了位置を12と指定する\n",
    "- 開始位置を未指定にすると、リストの一番最初から抽出される\n",
    "- 終了位置は、指定した終了位置-1のインデックスまでが抽出されます"
   ]
  },
  {
   "cell_type": "code",
   "execution_count": 4,
   "metadata": {},
   "outputs": [
    {
     "name": "stdout",
     "output_type": "stream",
     "text": [
      "[7, 8, 9, 10, 11]\n"
     ]
    }
   ],
   "source": [
    "# インデックス7から12までを抽出\n",
    "print(increments[7:12])"
   ]
  },
  {
   "cell_type": "markdown",
   "metadata": {},
   "source": [
    "- 開始位置を7、終了位置を12と指定する\n",
    "- 開始位置から指定した終了位置-1のインデックスまでが抽出されます"
   ]
  },
  {
   "cell_type": "code",
   "execution_count": 5,
   "metadata": {},
   "outputs": [
    {
     "name": "stdout",
     "output_type": "stream",
     "text": [
      "[0, 1, 2, 3, 4, 5, 6, 7, 8, 9, 10, 11, 12, 13, 14, 15, 16, 17, 18, 19]\n"
     ]
    }
   ],
   "source": [
    "# すべてを抽出\n",
    "print(increments[:])"
   ]
  },
  {
   "cell_type": "markdown",
   "metadata": {},
   "source": [
    "- 開始位置、終了位置の両方を未指定の場合、すべてのデータが抽出されます"
   ]
  },
  {
   "cell_type": "markdown",
   "metadata": {},
   "source": [
    "## 練習プログラム4 (1.2点)\n",
    "※リストは上記のincrementsリストを流用してもOKです。\n",
    "1. 開始位置を指定、終了位置を未指定で部分列を抽出してみましょう\n",
    "1. 開始位置を未指定、終了位置を指定して部分列を抽出してみましょう\n",
    "1. 開始位置と終了位置を両方指定して部分列を抽出してみましょう\n",
    "1. すべてを抽出してみましょう"
   ]
  },
  {
   "cell_type": "code",
   "execution_count": 1,
   "metadata": {},
   "outputs": [],
   "source": [
    "# 1. 開始位置を指定、終了位置を未指定で部分列を抽出してみましょう\n",
    "# 入れる値は何でも良いですが、このNotebookのサンプルプログラムとは違う独自の値を入れましょう\n",
    "\n"
   ]
  },
  {
   "cell_type": "code",
   "execution_count": 7,
   "metadata": {},
   "outputs": [],
   "source": [
    "# 2. 開始位置を未指定、終了位置を指定して部分列を抽出してみましょう\n"
   ]
  },
  {
   "cell_type": "code",
   "execution_count": 8,
   "metadata": {},
   "outputs": [],
   "source": [
    "# 3. 開始位置と終了位置を両方指定して部分列を抽出してみましょう\n"
   ]
  },
  {
   "cell_type": "code",
   "execution_count": 9,
   "metadata": {},
   "outputs": [],
   "source": [
    "# 4. すべてを抽出してみましょう\n"
   ]
  },
  {
   "cell_type": "markdown",
   "metadata": {},
   "source": [
    "## サンプルプログラム5　マイナス値を使用したスライス(※)\n",
    "- インデックス-7から最後までを抽出\n",
    "- 先頭からインデックス-15までを抽出\n",
    "- インデックス-15から-7までを抽出"
   ]
  },
  {
   "cell_type": "code",
   "execution_count": 10,
   "metadata": {},
   "outputs": [
    {
     "name": "stdout",
     "output_type": "stream",
     "text": [
      "[13, 14, 15, 16, 17, 18, 19]\n"
     ]
    }
   ],
   "source": [
    "# インデックス-7から最後までを抽出\n",
    "print(increments[-7:])"
   ]
  },
  {
   "cell_type": "markdown",
   "metadata": {},
   "source": [
    "- 開始位置に-7、終了位置を未指定\n",
    "- 後ろから数えて７番目の要素以降がすべて抽出されます"
   ]
  },
  {
   "cell_type": "code",
   "execution_count": 11,
   "metadata": {},
   "outputs": [
    {
     "name": "stdout",
     "output_type": "stream",
     "text": [
      "[0, 1, 2, 3, 4]\n"
     ]
    }
   ],
   "source": [
    "# 先頭からインデックス-15までを抽出\n",
    "print(increments[:-15])"
   ]
  },
  {
   "cell_type": "markdown",
   "metadata": {},
   "source": [
    "- 開始位置を未指定、終了位置に-15を指定\n",
    "- 後ろから数えて15番目までの全ての要素が抽出されます"
   ]
  },
  {
   "cell_type": "code",
   "execution_count": 12,
   "metadata": {},
   "outputs": [
    {
     "name": "stdout",
     "output_type": "stream",
     "text": [
      "[5, 6, 7, 8, 9, 10, 11, 12]\n"
     ]
    }
   ],
   "source": [
    "# インデックス-15から-7までを抽出\n",
    "print(increments[-15:-7])"
   ]
  },
  {
   "cell_type": "markdown",
   "metadata": {},
   "source": [
    "- 開始位置を-15、終了位置に-7を指定\n",
    "- 後ろから数えて15番目から7番目までの部分列が抽出されます"
   ]
  },
  {
   "cell_type": "markdown",
   "metadata": {},
   "source": [
    "## 練習プログラム5 (0.9点)\n",
    "※リストは上記のincrementsリストを流用してもOKです。\n",
    "1. 開始位置をマイナス値で指定、終了位置を未指定で部分列を抽出してみましょう\n",
    "1. 開始位置を未指定、終了位置をマイナス値で指定して部分列を抽出してみましょう\n",
    "1. 開始位置と終了位置を両方マイナス値で指定して部分列を抽出してみましょう"
   ]
  },
  {
   "cell_type": "code",
   "execution_count": 2,
   "metadata": {},
   "outputs": [],
   "source": [
    "# 1. 開始位置をマイナス値で指定、終了位置を未指定で部分列を抽出してみましょう\n",
    "# 入れる値は何でも良いですが、このNotebookのサンプルプログラムとは違う独自の値を入れましょう\n",
    "\n"
   ]
  },
  {
   "cell_type": "code",
   "execution_count": 14,
   "metadata": {},
   "outputs": [],
   "source": [
    "# 2. 開始位置を未指定、終了位置をマイナス値で指定して部分列を抽出してみましょう\n",
    "\n"
   ]
  },
  {
   "cell_type": "code",
   "execution_count": 15,
   "metadata": {},
   "outputs": [],
   "source": [
    "# 3. 開始位置と終了位置を両方マイナス値で指定して部分列を抽出してみましょう\n",
    "\n"
   ]
  },
  {
   "cell_type": "markdown",
   "metadata": {},
   "source": [
    "## サンプルプログラム6　スライスを利用してリストを分割する(※)\n",
    "スライスした結果を変数に代入することでリストを分割できます\n",
    "- リストを２つに分割して、両方のリストを出力"
   ]
  },
  {
   "cell_type": "code",
   "execution_count": 16,
   "metadata": {},
   "outputs": [
    {
     "name": "stdout",
     "output_type": "stream",
     "text": [
      "[0, 1, 2, 3, 4, 5, 6, 7, 8, 9, 10]\n",
      "[11, 12, 13, 14, 15, 16, 17, 18, 19]\n"
     ]
    }
   ],
   "source": [
    "data1 = increments[:11] # インデックス7までを抽出して変数に代入\n",
    "data2 = increments[11:] # インデックス11以降を抽出して変数に代入\n",
    "\n",
    "# 分割したリストを両方出力する\n",
    "print(data1)\n",
    "print(data2)"
   ]
  },
  {
   "cell_type": "markdown",
   "metadata": {},
   "source": [
    "## 練習プログラム6 (0.3点)\n",
    "※リストは上記のincrementsリストを流用してもOKです。\n",
    "1. リストを２つに分割して、両方のリストを出力してみましょう"
   ]
  },
  {
   "cell_type": "code",
   "execution_count": 3,
   "metadata": {},
   "outputs": [],
   "source": [
    "# 1. リストを２つに分割して、両方のリストを出力してみましょう\n",
    "# 入れる値は何でも良いですが、このNotebookのサンプルプログラムとは違う独自の値を入れましょう\n",
    "\n"
   ]
  },
  {
   "cell_type": "markdown",
   "metadata": {},
   "source": [
    "## サンプルプログラム7　スライスのstepを利用してリストを抽出する(※)\n",
    "- スライスのstep値を３に指定してスライス\n",
    "- スライスのstep値を-4に指定してスライス"
   ]
  },
  {
   "cell_type": "code",
   "execution_count": 18,
   "metadata": {},
   "outputs": [
    {
     "name": "stdout",
     "output_type": "stream",
     "text": [
      "[0, 3, 6, 9, 12, 15, 18]\n"
     ]
    }
   ],
   "source": [
    "print(increments[::3])"
   ]
  },
  {
   "cell_type": "markdown",
   "metadata": {},
   "source": [
    "- 先頭から3つずつ間隔を空けて取りだします"
   ]
  },
  {
   "cell_type": "code",
   "execution_count": 19,
   "metadata": {},
   "outputs": [
    {
     "name": "stdout",
     "output_type": "stream",
     "text": [
      "[19, 15, 11, 7, 3]\n"
     ]
    }
   ],
   "source": [
    "# スライスのstep値を-4に指定してスライス\n",
    "print(increments[::-4])"
   ]
  },
  {
   "cell_type": "markdown",
   "metadata": {},
   "source": [
    "- step値をマイナスにすると終端から取り出します\n",
    "- 上記の例では終端から4つずつ間隔を空けて取りだします"
   ]
  },
  {
   "cell_type": "markdown",
   "metadata": {},
   "source": [
    "## 練習プログラム7 (0.6点)\n",
    "※リストは上記のincrementsリストを流用してもOKです。\n",
    "1. スライスのstep値をプラス値で指定して部分列を出力してみましょう\n",
    "1. スライスのstep値をマイナス値で指定して部分列を出力してみましょう"
   ]
  },
  {
   "cell_type": "code",
   "execution_count": 20,
   "metadata": {},
   "outputs": [],
   "source": [
    "# 1. スライスのstep値をプラス値で指定して部分列を出力してみましょう\n",
    "# 値は何でも良いですが、このNotebookのサンプルプログラムや教科書の値とは違う独自の値を入れましょう\n",
    "\n"
   ]
  },
  {
   "cell_type": "code",
   "execution_count": 21,
   "metadata": {},
   "outputs": [],
   "source": [
    "# 2. スライスのstep値をマイナス値で指定して部分列を出力してみましょう\n",
    "# 値は何でも良いですが、このNotebookのサンプルプログラムや教科書の値とは違う独自の値を入れましょう\n",
    "\n"
   ]
  },
  {
   "cell_type": "code",
   "execution_count": null,
   "metadata": {},
   "outputs": [],
   "source": []
  },
  {
   "cell_type": "code",
   "execution_count": null,
   "metadata": {},
   "outputs": [],
   "source": []
  }
 ],
 "metadata": {
  "colab": {
   "authorship_tag": "ABX9TyMOtB7OiTVLb+yu2KoVwjto",
   "include_colab_link": true,
   "provenance": []
  },
  "kernelspec": {
   "display_name": "Python 3 (ipykernel)",
   "language": "python",
   "name": "python3"
  },
  "language_info": {
   "codemirror_mode": {
    "name": "ipython",
    "version": 3
   },
   "file_extension": ".py",
   "mimetype": "text/x-python",
   "name": "python",
   "nbconvert_exporter": "python",
   "pygments_lexer": "ipython3",
   "version": "3.11.9"
  }
 },
 "nbformat": 4,
 "nbformat_minor": 4
}
