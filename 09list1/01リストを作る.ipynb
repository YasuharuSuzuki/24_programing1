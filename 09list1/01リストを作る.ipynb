{
 "cells": [
  {
   "cell_type": "markdown",
   "metadata": {
    "colab_type": "text",
    "id": "view-in-github"
   },
   "source": [
    "<a href=\"https://colab.research.google.com/github/YasuharuSuzuki/24_programing1/blob/main/\" target=\"_parent\"><img src=\"https://colab.research.google.com/assets/colab-badge.svg\" alt=\"Open In Colab\"/></a>"
   ]
  },
  {
   "cell_type": "markdown",
   "metadata": {},
   "source": [
    "# Section 9 リストを作る\n",
    "リストは複数の値をまとめて使う方法の１つです。"
   ]
  },
  {
   "cell_type": "markdown",
   "metadata": {},
   "source": [
    "## リスト 参考サイト\n",
    "### [参考サイト1 【Python早見表】リスト](https://chokkan.github.io/python/06list.html)\n",
    "\n",
    "### [参考サイト2 【Python入門】リスト](https://utokyo-ipp.github.io/2/2-2.html)"
   ]
  },
  {
   "cell_type": "markdown",
   "metadata": {},
   "source": [
    "## サンプルプログラム1　リストの作成・type・出力・参照・IndexError"
   ]
  },
  {
   "cell_type": "code",
   "execution_count": 3,
   "metadata": {},
   "outputs": [],
   "source": [
    "# リストの作成 (数字でも、文字列でも可) \n",
    "kadai = [10.2, 10.0, 9.5, 7.5, 7.9, 7.0, 9.0, 8.0, 9.9, 10.0, 10.2, 9.7, 11.2, 9.3, 10.2] # 15回分の授業課題の点数\n",
    "seiseki_kanji = [\"不可\",\"可\",\"良\",\"優\",\"秀\"] # 漢字表記の成績\n",
    "seiseki_boarder = [60,70,80,90] # 各成績の境界点"
   ]
  },
  {
   "cell_type": "markdown",
   "metadata": {},
   "source": [
    "- 上記のように、数字でも、文字列でもリストに追加することができます。\n",
    "- 数字と文字列を混在させることも可能です。\n",
    "- 要素を,で区切って並べ、全体を[ ]で囲んで作成します。"
   ]
  },
  {
   "cell_type": "code",
   "execution_count": 4,
   "metadata": {},
   "outputs": [
    {
     "name": "stdout",
     "output_type": "stream",
     "text": [
      "type(kadai)=<class 'list'>\n"
     ]
    }
   ],
   "source": [
    "# 型を確認\n",
    "print('type(kadai)={}'.format(type(kadai)))"
   ]
  },
  {
   "cell_type": "markdown",
   "metadata": {},
   "source": [
    "- list型となります。\n",
    "- 後で出てくるtouple型、set型なども同様に複数の値をまとめて使う事ができますが、どれを使っているのかわからないときはこちらのようにtypeを使いましょう"
   ]
  },
  {
   "cell_type": "code",
   "execution_count": 5,
   "metadata": {},
   "outputs": [
    {
     "name": "stdout",
     "output_type": "stream",
     "text": [
      "seiseki_kanji[0]=不可\n",
      "seiseki_kanji[1]=可\n",
      "seiseki_kanji[4]=秀\n"
     ]
    }
   ],
   "source": [
    "# 要素の参照 \n",
    "print(f'seiseki_kanji[0]={seiseki_kanji[0]}')\n",
    "print(f'seiseki_kanji[1]={seiseki_kanji[1]}')\n",
    "print(f'seiseki_kanji[4]={seiseki_kanji[4]}')"
   ]
  },
  {
   "cell_type": "markdown",
   "metadata": {},
   "source": [
    "- [ ]を使用してindexを指定すると、要素を取り出すことが出来ます。\n",
    "- indexはゼロスタートのため、5番目のデータを指定するには4を指定する必要があります。"
   ]
  },
  {
   "cell_type": "code",
   "execution_count": 6,
   "metadata": {},
   "outputs": [
    {
     "name": "stdout",
     "output_type": "stream",
     "text": [
      "seiseki_kanji[-1]=秀\n",
      "seiseki_kanji[-4]=可\n"
     ]
    }
   ],
   "source": [
    "# 要素の参照(マイナス値)\n",
    "print(f'seiseki_kanji[-1]={seiseki_kanji[-1]}')\n",
    "print(f'seiseki_kanji[-4]={seiseki_kanji[-4]}')"
   ]
  },
  {
   "cell_type": "markdown",
   "metadata": {},
   "source": [
    "- 要素にマイナス値を指定すると後ろからのindex値で取得することが出来ます。\n",
    "- Pythonならではの便利な機能です。他言語では配列外参照エラーになることも多いので気をつけましょう。"
   ]
  },
  {
   "cell_type": "code",
   "execution_count": 7,
   "metadata": {},
   "outputs": [
    {
     "name": "stdout",
     "output_type": "stream",
     "text": [
      "len(kadai)= 15\n",
      "len(seiseki_kanji)= 5\n",
      "len(seiseki_boarder)= 4\n"
     ]
    }
   ],
   "source": [
    "# リストの長さ\n",
    "print('len(kadai)=',len(kadai))\n",
    "print('len(seiseki_kanji)=',len(seiseki_kanji))\n",
    "print('len(seiseki_boarder)=',len(seiseki_boarder))"
   ]
  },
  {
   "cell_type": "markdown",
   "metadata": {},
   "source": [
    "- リストの長さはlen()で取得できます。"
   ]
  },
  {
   "cell_type": "code",
   "execution_count": 8,
   "metadata": {},
   "outputs": [
    {
     "name": "stdin",
     "output_type": "stream",
     "text": [
      " 7\n"
     ]
    },
    {
     "name": "stdout",
     "output_type": "stream",
     "text": [
      "範囲外参照エラー list index out of range\n"
     ]
    }
   ],
   "source": [
    "# リストの長さを超えた要素を参照しようとするとエラー(IndexError)になる。 \n",
    "try:\n",
    "    index = int(input()) # 入力値をintに変換してindexという変数で受け取る\n",
    "    print(f'seiseki_kanji[{index}]={seiseki_kanji[index]}') # 漢字の成績を表示する\n",
    "except IndexError as e: # IndexErrorの捕捉\n",
    "    print('範囲外参照エラー', e)"
   ]
  },
  {
   "cell_type": "markdown",
   "metadata": {},
   "source": [
    "## 練習プログラム1 (1.8点)\n",
    "1. リストを作成してみましょう\n",
    "1. リストの型を出力してみましょう\n",
    "1. 要素を参照してみましょう\n",
    "1. 要素をマイナス値で指定して参照してみましょう\n",
    "1. リストの長さを出力してみましょう\n",
    "1. 入力値 i を整数値で取得し、作成したリストの要素 i を表示するプログラムを作成してみましょう\n",
    "  - ただし、IndexErrorのときは'範囲外参照エラー'と表示すること"
   ]
  },
  {
   "cell_type": "code",
   "execution_count": 7,
   "metadata": {},
   "outputs": [],
   "source": [
    "# 1. リストを作成してみましょう\n",
    "# 入れる値は何でも良いですが、このNotebookのサンプルプログラムとは違う独自の値を入れましょう\n",
    "# 変数名も独自のものに変えましょう\n",
    "\n",
    "# ここにPythonプログラムを記述してください"
   ]
  },
  {
   "cell_type": "code",
   "execution_count": 8,
   "metadata": {},
   "outputs": [],
   "source": [
    "# 2. 作成したリストの型を出力してみましょう\n",
    "# 変数名を変えているはずですので、間違いないように型を出力してみましょう\n",
    "\n",
    "# ここにPythonプログラムを記述してください"
   ]
  },
  {
   "cell_type": "code",
   "execution_count": 9,
   "metadata": {},
   "outputs": [],
   "source": [
    "# 3. 要素を参照してみましょう\n",
    "# 変数名を変えているはずですので、間違いないように要素を出力してみましょう\n",
    "\n",
    "# ここにPythonプログラムを記述してください"
   ]
  },
  {
   "cell_type": "code",
   "execution_count": 10,
   "metadata": {},
   "outputs": [],
   "source": [
    "# 4. 要素をマイナス値で指定して参照してみましょう\n",
    "# 変数名を変えているはずですので、間違いないように要素を出力してみましょう\n",
    "\n",
    "# ここにPythonプログラムを記述してください"
   ]
  },
  {
   "cell_type": "code",
   "execution_count": 11,
   "metadata": {},
   "outputs": [],
   "source": [
    "# 5. リストの長さを出力してみましょう\n",
    "# 変数名を変えているはずですので、間違いないようにリストの長さを出力してみましょう\n",
    "\n",
    "# ここにPythonプログラムを記述してください"
   ]
  },
  {
   "cell_type": "code",
   "execution_count": 12,
   "metadata": {},
   "outputs": [],
   "source": [
    "# 6. 入力値 i を整数値で取得し、作成したリストの要素 i を表示するプログラムを作成してみましょう\n",
    "# 変数名を変えているはずですので、間違いないようにリストの要素を出力してみましょう\n",
    "# 入力値によってはIndexErrorが発生するため、そのときは'範囲外参照エラー'と表示しましょう\n",
    "\n",
    "# ここにPythonプログラムを記述してください"
   ]
  },
  {
   "cell_type": "code",
   "execution_count": null,
   "metadata": {},
   "outputs": [],
   "source": []
  }
 ],
 "metadata": {
  "colab": {
   "authorship_tag": "ABX9TyMOtB7OiTVLb+yu2KoVwjto",
   "include_colab_link": true,
   "provenance": []
  },
  "kernelspec": {
   "display_name": "Python 3 (ipykernel)",
   "language": "python",
   "name": "python3"
  },
  "language_info": {
   "codemirror_mode": {
    "name": "ipython",
    "version": 3
   },
   "file_extension": ".py",
   "mimetype": "text/x-python",
   "name": "python",
   "nbconvert_exporter": "python",
   "pygments_lexer": "ipython3",
   "version": "3.11.9"
  }
 },
 "nbformat": 4,
 "nbformat_minor": 4
}
