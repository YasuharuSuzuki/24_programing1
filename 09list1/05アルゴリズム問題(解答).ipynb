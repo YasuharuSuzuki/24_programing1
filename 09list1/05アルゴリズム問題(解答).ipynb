{
 "cells": [
  {
   "cell_type": "markdown",
   "metadata": {
    "colab_type": "text",
    "id": "view-in-github"
   },
   "source": [
    "<a href=\"https://colab.research.google.com/github/YasuharuSuzuki/24_programing1/blob/main/\" target=\"_parent\"><img src=\"https://colab.research.google.com/assets/colab-badge.svg\" alt=\"Open In Colab\"/></a>"
   ]
  },
  {
   "cell_type": "markdown",
   "metadata": {},
   "source": [
    "# アルゴリズム問題\n",
    "- 2問あります"
   ]
  },
  {
   "cell_type": "markdown",
   "metadata": {},
   "source": [
    "## 練習プログラム8　3をかけてください (0.6点)\n",
    "\n",
    "- 数値 N が与えられます。\n",
    "- 3倍した数 3*N を出力して下さい。"
   ]
  },
  {
   "cell_type": "markdown",
   "metadata": {},
   "source": [
    "### 制約\n",
    "\n",
    "$\n",
    "1 \\leq N \\leq 10^{10} (Nは整数) \\\\\n",
    "$"
   ]
  },
  {
   "cell_type": "markdown",
   "metadata": {},
   "source": [
    "### 入力\n",
    "入力は以下の形式で標準入力から与えられます\n",
    "\n",
    "---\n",
    "$ N $\n",
    "\n",
    "---\n",
    "\n",
    "\n",
    "※input()１つで取得可能"
   ]
  },
  {
   "cell_type": "markdown",
   "metadata": {},
   "source": [
    "### 出力\n",
    "3倍した数を出力してください。"
   ]
  },
  {
   "cell_type": "markdown",
   "metadata": {},
   "source": [
    "---\n",
    "---\n",
    "\n",
    "### 入力例1\n",
    "---\n",
    "```python\n",
    "123456789\n",
    "```\n",
    "---\n",
    "\n",
    "### 出力例1\n",
    "---\n",
    "```python\n",
    "370370367\n",
    "```\n",
    "---\n",
    "※ 123456789の3倍の数として 370370367 を出力します"
   ]
  },
  {
   "cell_type": "markdown",
   "metadata": {},
   "source": [
    "---\n",
    "---"
   ]
  },
  {
   "cell_type": "markdown",
   "metadata": {},
   "source": [
    "### 入力例2\n",
    "---\n",
    "```python\n",
    "5\n",
    "```\n",
    "---\n",
    "\n",
    "### 出力例2\n",
    "---\n",
    "```python\n",
    "15\n",
    "```\n",
    "---\n",
    "※ 5の3倍の数は15ですので、 15 を出力します"
   ]
  },
  {
   "cell_type": "markdown",
   "metadata": {},
   "source": [
    "### 入力例3\n",
    "---\n",
    "```python\n",
    "99999999\n",
    "```\n",
    "---\n",
    "\n",
    "### 出力例3\n",
    "---\n",
    "```python\n",
    "299999997\n",
    "```\n",
    "---\n",
    "※ 99999999 の3倍の数は 299999997 のため、 299999997 を出力してください。"
   ]
  },
  {
   "cell_type": "markdown",
   "metadata": {},
   "source": [
    "---"
   ]
  },
  {
   "cell_type": "markdown",
   "metadata": {},
   "source": [
    "### ここ↓にPythonコードを記述してください"
   ]
  },
  {
   "cell_type": "code",
   "execution_count": 1,
   "metadata": {},
   "outputs": [
    {
     "name": "stdin",
     "output_type": "stream",
     "text": [
      " 99999999\n"
     ]
    },
    {
     "name": "stdout",
     "output_type": "stream",
     "text": [
      "299999997\n"
     ]
    }
   ],
   "source": [
    "print(3*int(input()))"
   ]
  },
  {
   "cell_type": "markdown",
   "metadata": {},
   "source": [
    "---\n",
    "---\n",
    "---"
   ]
  },
  {
   "cell_type": "markdown",
   "metadata": {},
   "source": [
    "## 練習プログラム9　駄菓子屋MIN(1点)"
   ]
  },
  {
   "cell_type": "markdown",
   "metadata": {},
   "source": [
    "### 問題文\n",
    "- ゆるるくんは駄菓子屋へ行きました。\n",
    "- 雑多に置かれた駄菓子 $ N $ 個のうち、 $ S $ 番目〜 $ E $ 番目を掴みました。\n",
    "- ゆるるくんは掴んだ駄菓子の中から、一番安いものを１つだけ買うことにしました。\n",
    "- 各駄菓子の値段が $ D_1 $ 〜 $ D_N $ で表される時、購入した駄菓子はいくらになりますか？"
   ]
  },
  {
   "cell_type": "markdown",
   "metadata": {},
   "source": [
    "### 制約\n",
    "$ 1 \\leq　N \\leq　10 $   \n",
    "$ 1 \\leq　S \\leq　N $   \n",
    "$ S \\leq　E \\leq　N $   \n",
    "$ 5 \\leq　D_i \\leq　100 $   \n",
    "$ N $、$ S $、$ E $ 、$ D_i $ はそれぞれ整数"
   ]
  },
  {
   "cell_type": "markdown",
   "metadata": {},
   "source": [
    "### 入力\n",
    "入力は以下の形式で標準入力から与えられます。\n",
    "\n",
    "---\n",
    "\n",
    "$ N \\quad S \\quad E $  \n",
    "$ D_1 \\quad D_2 \\quad ... \\quad D_N $  \n",
    "\n",
    "---\n",
    "\n",
    "- 雑多に置かれた駄菓子の数 $ N $、掴んだ駄菓子の範囲（ $ S $、 $ E $）、各駄菓子の値段 $ D_1 $ 〜 $ D_N $ を受け取ります。\n",
    "- 2行の文字列ですのでinput()2回で受け取りましょう"
   ]
  },
  {
   "cell_type": "markdown",
   "metadata": {},
   "source": [
    "### 出力\n",
    "---\n",
    "購入した駄菓子の金額\n",
    "\n",
    "---\n",
    "\n",
    "掴んだ駄菓子の中から、一番安いものの金額を１つだけ出力してください"
   ]
  },
  {
   "cell_type": "markdown",
   "metadata": {},
   "source": [
    "### 入力例1\n",
    "---\n",
    "```\n",
    "10 1 5\n",
    "5 10 15 20 25 30 35 40 45 50\n",
    "```\n",
    "---\n",
    "\n",
    "### 出力例1\n",
    "---\n",
    "```\n",
    "5\n",
    "```\n",
    "---\n",
    "\n",
    "※掴んだ駄菓子の中から、一番安いものの金額を１つだけ出力します  \n",
    "※上記の例では、$D_1$ 〜 $D_5$ がそれぞれ5,10,15,20,25のため、金額は5となります  "
   ]
  },
  {
   "cell_type": "markdown",
   "metadata": {
    "jp-MarkdownHeadingCollapsed": true
   },
   "source": [
    "### 入力例2\n",
    "---\n",
    "```\n",
    "5 4 5\n",
    "60 70 80 90 100\n",
    "```\n",
    "---\n",
    "\n",
    "### 出力例2\n",
    "---\n",
    "```\n",
    "90\n",
    "```\n",
    "---\n",
    "\n",
    "※掴んだ駄菓子の中から、一番安いものの金額を１つだけ出力します  \n",
    "※上記の例では、$D_4$ 〜 $D_5$ がそれぞれ 90,100 のため、金額は90となります  "
   ]
  },
  {
   "cell_type": "markdown",
   "metadata": {},
   "source": [
    "### 入力例3\n",
    "---\n",
    "```\n",
    "7 3 6\n",
    "10 25 15 20 30 5 40\n",
    "```\n",
    "---\n",
    "\n",
    "### 出力例3\n",
    "---\n",
    "```\n",
    "5\n",
    "```\n",
    "---\n",
    "※3番目から6番目（15, 20, 30, 5）の中で最も安い金額は5円です"
   ]
  },
  {
   "cell_type": "code",
   "execution_count": 2,
   "metadata": {},
   "outputs": [
    {
     "name": "stdin",
     "output_type": "stream",
     "text": [
      " 7 3 6\n",
      " 10 25 15 20 30 5 40\n"
     ]
    },
    {
     "name": "stdout",
     "output_type": "stream",
     "text": [
      "5\n"
     ]
    }
   ],
   "source": [
    "# 駄菓子の最安値を求めるプログラム（minを使用）\n",
    "\n",
    "# 1行目の入力を受け取る（N, S, E）\n",
    "N, S, E = map(int, input().split())\n",
    "\n",
    "# 2行目の入力を受け取る（各駄菓子の値段）\n",
    "prices = list(map(int, input().split()))\n",
    "\n",
    "# 掴んだ範囲の駄菓子（S番目からE番目）の中から最小値を求める\n",
    "# ※indexは0から始まるため、S-1, Eを使用\n",
    "min_price = min(prices[S-1:E])\n",
    "\n",
    "# 結果を出力\n",
    "print(min_price)"
   ]
  },
  {
   "cell_type": "markdown",
   "metadata": {},
   "source": [
    "#### 別解"
   ]
  },
  {
   "cell_type": "code",
   "execution_count": 3,
   "metadata": {},
   "outputs": [
    {
     "name": "stdin",
     "output_type": "stream",
     "text": [
      " 7 3 6\n",
      " 10 25 15 20 30 5 40\n"
     ]
    },
    {
     "name": "stdout",
     "output_type": "stream",
     "text": [
      "5\n"
     ]
    }
   ],
   "source": [
    "# 駄菓子の最安値を求めるプログラム（for文を使用）\n",
    "\n",
    "# 1行目の入力を受け取る（N, S, E）\n",
    "N, S, E = map(int, input().split())\n",
    "\n",
    "# 2行目の入力を受け取る（各駄菓子の値段）\n",
    "prices = list(map(int, input().split()))\n",
    "\n",
    "# 掴んだ範囲の最初の値を最小値として初期化\n",
    "min_price = prices[S-1]\n",
    "\n",
    "# 掴んだ範囲の残りの駄菓子と比較して、より安いものがあれば更新\n",
    "for i in range(S, E):\n",
    "    if prices[i] < min_price:\n",
    "        min_price = prices[i]\n",
    "\n",
    "# 結果を出力\n",
    "print(min_price)"
   ]
  },
  {
   "cell_type": "code",
   "execution_count": null,
   "metadata": {},
   "outputs": [],
   "source": []
  }
 ],
 "metadata": {
  "colab": {
   "authorship_tag": "ABX9TyMOtB7OiTVLb+yu2KoVwjto",
   "include_colab_link": true,
   "provenance": []
  },
  "kernelspec": {
   "display_name": "Python 3 (ipykernel)",
   "language": "python",
   "name": "python3"
  },
  "language_info": {
   "codemirror_mode": {
    "name": "ipython",
    "version": 3
   },
   "file_extension": ".py",
   "mimetype": "text/x-python",
   "name": "python",
   "nbconvert_exporter": "python",
   "pygments_lexer": "ipython3",
   "version": "3.11.9"
  }
 },
 "nbformat": 4,
 "nbformat_minor": 4
}
