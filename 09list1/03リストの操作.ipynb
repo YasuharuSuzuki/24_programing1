{
 "cells": [
  {
   "cell_type": "markdown",
   "metadata": {
    "colab_type": "text",
    "id": "view-in-github"
   },
   "source": [
    "<a href=\"https://colab.research.google.com/github/YasuharuSuzuki/24_programing1/blob/main/\" target=\"_parent\"><img src=\"https://colab.research.google.com/assets/colab-badge.svg\" alt=\"Open In Colab\"/></a>"
   ]
  },
  {
   "cell_type": "markdown",
   "metadata": {},
   "source": [
    "# リストの操作"
   ]
  },
  {
   "cell_type": "markdown",
   "metadata": {},
   "source": [
    "## リスト 参考サイト\n",
    "### [参考サイト1 【Python早見表】リスト](https://chokkan.github.io/python/06list.html)\n",
    "### [参考サイト2 【Python入門】リスト](https://utokyo-ipp.github.io/2/2-2.html)"
   ]
  },
  {
   "cell_type": "markdown",
   "metadata": {},
   "source": [
    "## サンプルプログラム3　リストの操作"
   ]
  },
  {
   "cell_type": "markdown",
   "metadata": {},
   "source": [
    "- リスト要素の追加（最後尾への追加) \n",
    "- 特定位置へのリスト要素の挿入\n",
    "- 特定位置のリスト要素の更新\n",
    "- リストの連結\n",
    "- 特定位置のリスト要素を1件削除（pop） ※未指定の場合は一番うしろの要素を削除\n",
    "- 特定位置のリスト要素の1件削除（del）\n",
    "- リストから特定の値を1件削除（remove）"
   ]
  },
  {
   "cell_type": "code",
   "execution_count": 1,
   "metadata": {},
   "outputs": [
    {
     "name": "stdout",
     "output_type": "stream",
     "text": [
      "['Monday']\n"
     ]
    }
   ],
   "source": [
    "# リストの追加(最後尾への追加) \n",
    "week_list1 = [] # 空のリストで初期化\n",
    "week_list1.append('Monday') # リストにMondayを追加\n",
    "print(week_list1)"
   ]
  },
  {
   "cell_type": "markdown",
   "metadata": {},
   "source": [
    "- 最後尾へ要素を追加するにはappend()を使用します"
   ]
  },
  {
   "cell_type": "code",
   "execution_count": 2,
   "metadata": {},
   "outputs": [
    {
     "name": "stdout",
     "output_type": "stream",
     "text": [
      "['Sanday', 'Monday']\n"
     ]
    }
   ],
   "source": [
    "# 特定位置へのリスト要素の挿入\n",
    "week_list1.insert(0,'Sanday') # リストにSanday(スペルミス)を追加 \n",
    "print(week_list1)"
   ]
  },
  {
   "cell_type": "markdown",
   "metadata": {},
   "source": [
    "- 特定位置へ要素を追加するにはinsert()を使用します"
   ]
  },
  {
   "cell_type": "code",
   "execution_count": 3,
   "metadata": {},
   "outputs": [
    {
     "name": "stdout",
     "output_type": "stream",
     "text": [
      "['Sunday', 'Monday']\n"
     ]
    }
   ],
   "source": [
    "# 特定位置のリスト要素の更新\n",
    "week_list1[0] = 'Sunday' # スペルミスをSundayに修正\n",
    "print(week_list1)"
   ]
  },
  {
   "cell_type": "markdown",
   "metadata": {},
   "source": [
    "- 特定位置のリスト要素を更新するには[ ]で場所を指定して代入します。"
   ]
  },
  {
   "cell_type": "code",
   "execution_count": 4,
   "metadata": {},
   "outputs": [
    {
     "name": "stdout",
     "output_type": "stream",
     "text": [
      "['Sunday', 'Monday', 'Tuesday', 'Wednesday', 'Thursday', 'Friday', 'Saturday']\n"
     ]
    }
   ],
   "source": [
    "# リストの連結\n",
    "week_list1 = week_list1 + [\"Tuesday\"]\n",
    "week_list1 += [\"Wednesday\", \"Thursday\"]\n",
    "week_list1.extend([\"Friday\", \"Saturday\"])\n",
    "print(week_list1)"
   ]
  },
  {
   "cell_type": "markdown",
   "metadata": {},
   "source": [
    "- リストを連結するには'+演算子'、'+=代入演算子'、'extend()'のいずれかを使用します。\n",
    "- 前述のappend()を使用してリストを渡しても連結にはならないためご注意ください。"
   ]
  },
  {
   "cell_type": "code",
   "execution_count": 5,
   "metadata": {},
   "outputs": [
    {
     "name": "stdout",
     "output_type": "stream",
     "text": [
      "['Sunday', 'Monday', 'Tuesday', 'Wednesday', 'Thursday', 'Friday']\n",
      "['Monday', 'Tuesday', 'Wednesday', 'Thursday', 'Friday']\n",
      "Saturday Sunday\n"
     ]
    }
   ],
   "source": [
    "# 特定位置のリスト要素を1件削除（pop） ※未指定の場合は一番うしろの要素を削除\n",
    "pop_tail = week_list1.pop() # 削除位置を指定しないと一番最初の要素が消えます\n",
    "print(week_list1) # 削除した後のリストを出力（1回目）\n",
    "pop0 = week_list1.pop(0) # 削除位置を指定することも出来る\n",
    "print(week_list1) # 削除した後のリストを出力（２回目）\n",
    "print(pop_tail, pop0) # 削除時に取り出した値を出力"
   ]
  },
  {
   "cell_type": "code",
   "execution_count": 6,
   "metadata": {},
   "outputs": [
    {
     "name": "stdout",
     "output_type": "stream",
     "text": [
      "['Monday', 'Wednesday', 'Thursday', 'Friday']\n"
     ]
    }
   ],
   "source": [
    "# 特定位置のリスト要素を1件削除（del）\n",
    "del week_list1[1] # 削除位置を指定してdel\n",
    "print(week_list1) # delで削除した後のリストを出力"
   ]
  },
  {
   "cell_type": "markdown",
   "metadata": {},
   "source": [
    "- 位置を指定して要素を削除するにはpop()もしくはdelを使用します\n",
    "- pop()は引数になにも指定しないと最後の要素が削除されます(リストをstackとして使用した場合に、appendで追加し、popで削除するとスマートです)\n",
    "- pop()は引数に位置を指定するとその場所の要素が削除されます\n",
    "- pop()は戻り値で取り出した値を返します。\n",
    "- del文はリスト要素に限らずオブジェクトそのものを削除してメモリを開放するため、使用メモリが多い時に使用すると良いです。"
   ]
  },
  {
   "cell_type": "code",
   "execution_count": 7,
   "metadata": {},
   "outputs": [
    {
     "name": "stdout",
     "output_type": "stream",
     "text": [
      "['Monday', 'Thursday', 'Friday']\n"
     ]
    }
   ],
   "source": [
    "# リストから特定の値を1件削除（remove）\n",
    "week_list1.remove('Wednesday') # 値を指定してremove\n",
    "print(week_list1) # delで削除した後のリストを出力"
   ]
  },
  {
   "cell_type": "markdown",
   "metadata": {},
   "source": [
    "- 値を指定して要素を削除するにはremove()を使用します。\n",
    "- ２つ同じ要素が入っていても１つしか削除しないためご注意ください。"
   ]
  },
  {
   "cell_type": "markdown",
   "metadata": {},
   "source": [
    "## 練習プログラム3 (1.8点)\n",
    "1. リスト要素の追加（最後尾への追加)\n",
    "1. 特定位置へのリスト要素の挿入\n",
    "1. 特定位置のリスト要素の更新\n",
    "1. リストの連結\n",
    "1. 特定位置のリスト要素を1件削除\n",
    "1. リストから特定の値を1件削除"
   ]
  },
  {
   "cell_type": "code",
   "execution_count": 8,
   "metadata": {},
   "outputs": [],
   "source": [
    "# 1. リスト要素の追加（最後尾への追加)\n",
    "# 入れる値は何でも良いですが、このNotebookのサンプルプログラムとは違う独自の値を入れましょう\n",
    "# 変数名も独自のものに変えましょう\n",
    "\n",
    "# ここにPythonプログラムを記述してください"
   ]
  },
  {
   "cell_type": "code",
   "execution_count": 9,
   "metadata": {},
   "outputs": [],
   "source": [
    "# 2. 特定位置へのリスト要素の挿入\n",
    "# 入れる値は何でも良いですが、このNotebookのサンプルプログラムとは違う独自の値を入れましょう\n",
    "\n",
    "# ここにPythonプログラムを記述してください"
   ]
  },
  {
   "cell_type": "code",
   "execution_count": 10,
   "metadata": {},
   "outputs": [],
   "source": [
    "# 3. 特定位置のリスト要素の更新\n",
    "# 入れる値は何でも良いですが、このNotebookのサンプルプログラムとは違う独自の値を入れましょう\n",
    "\n",
    "# ここにPythonプログラムを記述してください"
   ]
  },
  {
   "cell_type": "code",
   "execution_count": 11,
   "metadata": {},
   "outputs": [],
   "source": [
    "# 4. リストの連結\n",
    "# 入れる値は何でも良いですが、このNotebookのサンプルプログラムとは違う独自の値を入れましょう\n",
    "\n",
    "# ここにPythonプログラムを記述してください"
   ]
  },
  {
   "cell_type": "code",
   "execution_count": 12,
   "metadata": {},
   "outputs": [],
   "source": [
    "# 5. 特定位置のリスト要素を1件削除\n",
    "\n",
    "# ここにPythonプログラムを記述してください"
   ]
  },
  {
   "cell_type": "code",
   "execution_count": 13,
   "metadata": {},
   "outputs": [],
   "source": [
    "# 6. リストから特定の値を1件削除\n",
    "\n",
    "# ここにPythonプログラムを記述してください"
   ]
  },
  {
   "cell_type": "code",
   "execution_count": null,
   "metadata": {},
   "outputs": [],
   "source": []
  },
  {
   "cell_type": "code",
   "execution_count": null,
   "metadata": {},
   "outputs": [],
   "source": []
  }
 ],
 "metadata": {
  "colab": {
   "authorship_tag": "ABX9TyMOtB7OiTVLb+yu2KoVwjto",
   "include_colab_link": true,
   "provenance": []
  },
  "kernelspec": {
   "display_name": "Python 3 (ipykernel)",
   "language": "python",
   "name": "python3"
  },
  "language_info": {
   "codemirror_mode": {
    "name": "ipython",
    "version": 3
   },
   "file_extension": ".py",
   "mimetype": "text/x-python",
   "name": "python",
   "nbconvert_exporter": "python",
   "pygments_lexer": "ipython3",
   "version": "3.11.9"
  }
 },
 "nbformat": 4,
 "nbformat_minor": 4
}
