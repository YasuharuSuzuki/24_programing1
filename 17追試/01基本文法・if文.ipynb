{
 "cells": [
  {
   "cell_type": "markdown",
   "metadata": {},
   "source": [
    "<a href=\"https://colab.research.google.com/github/YasuharuSuzuki/24_programing1/blob/main/\" target=\"_parent\"><img src=\"https://colab.research.google.com/assets/colab-badge.svg\" alt=\"Open In Colab\"/></a>"
   ]
  },
  {
   "cell_type": "markdown",
   "metadata": {
    "id": "KSSJqXOosEeX"
   },
   "source": [
    "# 01 基本文法・if文"
   ]
  },
  {
   "cell_type": "markdown",
   "metadata": {
    "id": "VRQcesdKsEec"
   },
   "source": [
    "## 四択問題\n",
    "- 以下の問題について、正解となる選択肢を出力してください"
   ]
  },
  {
   "cell_type": "markdown",
   "metadata": {},
   "source": [
    "### 例題1\n",
    "- 繰り返し文（ループ文）で使用する制御文を次から選択してください\n",
    "  1. loop\n",
    "  2. whole\n",
    "  3. for\n",
    "  4. if"
   ]
  },
  {
   "cell_type": "code",
   "execution_count": 4,
   "metadata": {
    "colab": {
     "base_uri": "https://localhost:8080/"
    },
    "executionInfo": {
     "elapsed": 4,
     "status": "ok",
     "timestamp": 1715146891566,
     "user": {
      "displayName": "鈴木康元",
      "userId": "15385942521303414593"
     },
     "user_tz": -540
    },
    "id": "EoLQwK5fsEec",
    "outputId": "7ba8a3ba-9e37-42db-c12e-d410e0a3ab2c"
   },
   "outputs": [
    {
     "name": "stdout",
     "output_type": "stream",
     "text": [
      "3\n"
     ]
    }
   ],
   "source": [
    "# 解答例（解答の番号を出力してください）\n",
    "print('3')"
   ]
  },
  {
   "cell_type": "markdown",
   "metadata": {},
   "source": [
    "---\n",
    "---\n",
    "---\n",
    "### 問1 商の演算子 (3点)\n",
    "- Pythonで割り算の商を整数で求める演算子はどれですか？\n",
    "    1. 　/\n",
    "    2. 　//\n",
    "    3. 　%\n",
    "    4. 　&"
   ]
  },
  {
   "cell_type": "code",
   "execution_count": 2,
   "metadata": {
    "colab": {
     "base_uri": "https://localhost:8080/"
    },
    "executionInfo": {
     "elapsed": 265,
     "status": "ok",
     "timestamp": 1715146988599,
     "user": {
      "displayName": "鈴木康元",
      "userId": "15385942521303414593"
     },
     "user_tz": -540
    },
    "id": "_oiNYIaxsEed",
    "outputId": "c127d002-8e8c-45b3-d98b-c5304b00f17d"
   },
   "outputs": [
    {
     "name": "stdout",
     "output_type": "stream",
     "text": [
      "\n"
     ]
    }
   ],
   "source": [
    "# 解答の番号を出力してください\n",
    "print('')"
   ]
  },
  {
   "cell_type": "markdown",
   "metadata": {
    "id": "bP053hXUsEee"
   },
   "source": [
    "---\n",
    "---\n",
    "---\n",
    "### 問2 文字列のメソッド (3点)\n",
    "- 文字列の前後にある空白と改行コードを取り除くメソッドは次のどれか\n",
    "    1. split()\n",
    "    2. strip()\n",
    "    3. stride()\n",
    "    4. separate()\n"
   ]
  },
  {
   "cell_type": "code",
   "execution_count": 3,
   "metadata": {
    "colab": {
     "base_uri": "https://localhost:8080/"
    },
    "executionInfo": {
     "elapsed": 255,
     "status": "ok",
     "timestamp": 1715147036615,
     "user": {
      "displayName": "鈴木康元",
      "userId": "15385942521303414593"
     },
     "user_tz": -540
    },
    "id": "8cg5YTLosEee",
    "outputId": "c6671804-b225-4341-ea70-8833bd5eb194"
   },
   "outputs": [
    {
     "name": "stdout",
     "output_type": "stream",
     "text": [
      "\n"
     ]
    }
   ],
   "source": [
    "# 解答の番号を出力してください\n",
    "print('')"
   ]
  },
  {
   "cell_type": "markdown",
   "metadata": {},
   "source": [
    "---\n",
    "---\n",
    "---\n",
    "### 問3 インデント (3点)\n",
    "\n",
    "- インデントが必要となるコード構造はどれですか？\n",
    "    1. 変数への代入\n",
    "    2. import文\n",
    "    3. print文の使用\n",
    "    4. if文のコードブロック"
   ]
  },
  {
   "cell_type": "code",
   "execution_count": 4,
   "metadata": {
    "colab": {
     "base_uri": "https://localhost:8080/"
    },
    "executionInfo": {
     "elapsed": 278,
     "status": "ok",
     "timestamp": 1715147048787,
     "user": {
      "displayName": "鈴木康元",
      "userId": "15385942521303414593"
     },
     "user_tz": -540
    },
    "id": "y2CxWqMusEef",
    "outputId": "8129fcea-362e-4f33-d57b-529f8313a51f"
   },
   "outputs": [
    {
     "name": "stdout",
     "output_type": "stream",
     "text": [
      "\n"
     ]
    }
   ],
   "source": [
    "# 解答の番号を出力してください\n",
    "print('')"
   ]
  },
  {
   "cell_type": "markdown",
   "metadata": {
    "id": "sqzgb-X2sEef"
   },
   "source": [
    "---\n",
    "---\n",
    "---\n",
    "---\n",
    "---\n",
    "## アルゴリズム問題"
   ]
  },
  {
   "cell_type": "markdown",
   "metadata": {},
   "source": [
    "### 問4 台形の面積 (10点)\n",
    "- ゆるるくんは小学生向けの問題を作成しています。  \n",
    "- 台形の面積を自動的に求めるプログラムを作成し、小学生に見せたいと思っています。  \n",
    "- 台形の面積は(上底＋下底)ｘ高さ÷２で求まります。 \n",
    "- 上底の値を$U$cm、下底の値を$B$cm、高さの値を$H$cm、求まった面積を$R$cm^2とした 以下の２行の文字列で表示するプログラムを作成してください。\n",
    "  - ($U$ ＋ $B$) × $H$ ÷ 2 = $R$\n",
    "  - 答えは $R$ cm^2 です\n",
    "\n",
    "と２行で表示してください。  \n"
   ]
  },
  {
   "cell_type": "markdown",
   "metadata": {},
   "source": [
    "---\n",
    "---"
   ]
  },
  {
   "cell_type": "markdown",
   "metadata": {},
   "source": [
    "### 制約\n",
    "\n",
    "$ 1 <= U <= 9 (Uは整数) $  \n",
    "$ 1 <= B <= 9 (Bは整数) $  \n",
    "$ 1 <= H <= 9 (Hは整数) $  \n",
    "$ Rは正の実数（小数部は小数点第一位までとし、第二位以下は切り捨てとする） $  \n"
   ]
  },
  {
   "cell_type": "markdown",
   "metadata": {},
   "source": [
    "---\n",
    "---"
   ]
  },
  {
   "cell_type": "markdown",
   "metadata": {},
   "source": [
    "### 入力\n",
    "入力は以下の形式で標準入力から与えられます\n",
    "\n",
    "---\n",
    "$ U \\quad B \\quad H $\n",
    "\n",
    "---\n",
    "\n",
    "上底 $ U $、下底 $ B $、高さ $ H $ を空白区切りで受け取ります"
   ]
  },
  {
   "cell_type": "markdown",
   "metadata": {},
   "source": [
    "---\n",
    "---"
   ]
  },
  {
   "cell_type": "markdown",
   "metadata": {},
   "source": [
    "### 出力\n",
    "\n",
    "---\n",
    "\n",
    "($U$ ＋ $B$) × $H$ ÷ 2 = $R$  \n",
    "答えは $R$ cm^2 です  \n",
    "\n",
    "---\n",
    "\n",
    "式と答えの２行の文章に分けて出力してください。  \n",
    "対象は高学年のため、「答え」は漢字で出力してください。"
   ]
  },
  {
   "cell_type": "markdown",
   "metadata": {},
   "source": [
    "---\n",
    "---\n",
    "\n",
    "### 入力例1\n",
    "---\n",
    "\n",
    "$ 4 \\quad 9 \\quad 7 $\n",
    "\n",
    "---\n",
    "\n",
    "### 出力例1\n",
    "---\n",
    "```python\n",
    "(4 ＋ 9) × 7 ÷ 2 = 45.5  \n",
    "答えは45.5cm^2です  \n",
    "```\n",
    "---\n",
    "\n",
    "- 式「(4 ＋ 9) × 7 ÷ 2 = 45.5」と、答え「答えは45.5cm^2です」の２行の文章に分けて出力します。"
   ]
  },
  {
   "cell_type": "markdown",
   "metadata": {},
   "source": [
    "---\n",
    "---"
   ]
  },
  {
   "cell_type": "markdown",
   "metadata": {},
   "source": [
    "### 入力例2\n",
    "---\n",
    "\n",
    "$ 8 \\quad 4 \\quad 6 $\n",
    "\n",
    "---\n",
    "\n",
    "### 出力例2\n",
    "---\n",
    "```python\n",
    "(8 ＋ 4) × 6 ÷ 2 = 36.0  \n",
    "答えは36.0cm^2です\n",
    "```\n",
    "---\n",
    "- 式「(8 ＋ 4) × 6 ÷ 2 = 36.0」と、答え「答えは36.0cm^2です」の２行の文章に分けて出力します。\n"
   ]
  },
  {
   "cell_type": "markdown",
   "metadata": {},
   "source": [
    "---\n",
    "---"
   ]
  },
  {
   "cell_type": "markdown",
   "metadata": {},
   "source": [
    "### ここ↓にPythonコードを記述してください"
   ]
  },
  {
   "cell_type": "code",
   "execution_count": 2,
   "metadata": {},
   "outputs": [
    {
     "name": "stdin",
     "output_type": "stream",
     "text": [
      " 7 3 5\n"
     ]
    },
    {
     "name": "stdout",
     "output_type": "stream",
     "text": [
      "(7 ＋ 3) × 5 ÷ 2 = 25.0  \n",
      "答えは25.0cm^2です\n"
     ]
    }
   ],
   "source": [
    "\n"
   ]
  },
  {
   "cell_type": "markdown",
   "metadata": {
    "colab": {
     "base_uri": "https://localhost:8080/"
    },
    "executionInfo": {
     "elapsed": 268,
     "status": "ok",
     "timestamp": 1715147255303,
     "user": {
      "displayName": "鈴木康元",
      "userId": "15385942521303414593"
     },
     "user_tz": -540
    },
    "id": "AXmjTxIdsEeg",
    "outputId": "2e2c42b9-ea55-4aae-c6cf-38e3e3f47720"
   },
   "source": [
    "---\n",
    "---\n",
    "---\n",
    "### 問5 ゆるる航空の乗車料金 (10点)\n",
    "\n",
    "- ゆるるくんは航空会社を初めました\n",
    "- 運行区間は都心部からの観光客の多い羽田＝沖縄間と羽田＝札幌間です\n",
    "- ゆるる航空では、運賃を共通化することでわかりやすさを売りの１つにすることにしました\n",
    "- 3種類の便 ( プレミアム便, 通常便, 深夜便 ) があり、それぞれの基本料金が設定されています。\n",
    "- また、3種類の座席クラス ( ファーストクラス, ビジネスクラス, エコノミークラス ) があり、基本料金に対して以下の倍率が掛かります。\n",
    "\n",
    "ファーストクラス: 基本料金の2.5倍  \n",
    "ビジネスクラス: 基本料金の1.5倍  \n",
    "エコノミークラス: 基本料金そのまま（1倍）  \n",
    "\n",
    "- 便の種類による基本料金（エコノミークラス料金）は以下の通りです：  \n",
    "\n",
    "プレミアム便: 40000円  \n",
    "通常便: 30000円  \n",
    "深夜便: 20000円  \n",
    "\n",
    "- 入力として便のタイプ $ S $ と、座席クラス $ T $ が渡されます。  \n",
    "- 料金を出力するプログラムを作成してください。  "
   ]
  },
  {
   "cell_type": "markdown",
   "metadata": {},
   "source": [
    "---\n",
    "---"
   ]
  },
  {
   "cell_type": "markdown",
   "metadata": {},
   "source": [
    "### 制約\n",
    "\n",
    "$ Sは「プレミアム便」「通常便」「深夜便」のいずれか $   \n",
    "$ Tは「ファーストクラス」「ビジネスクラス」「エコノミークラス」のいずれか $   \n",
    "$ 運賃は整数 $   "
   ]
  },
  {
   "cell_type": "markdown",
   "metadata": {},
   "source": [
    "---\n",
    "---"
   ]
  },
  {
   "cell_type": "markdown",
   "metadata": {},
   "source": [
    "### 入力\n",
    "入力は以下の形式で標準入力から与えられます\n",
    "\n",
    "---\n",
    "$ S \\quad T $  \n",
    "\n",
    "---\n",
    "\n",
    "- S は便の種類を表す文字列 ( プレミアム便, 通常便, 深夜便 ) \n",
    "- T は座席クラスを表す文字列 ( ファーストクラス, ビジネスクラス, エコノミークラス ) "
   ]
  },
  {
   "cell_type": "markdown",
   "metadata": {},
   "source": [
    "---\n",
    "---"
   ]
  },
  {
   "cell_type": "markdown",
   "metadata": {},
   "source": [
    "### 出力\n",
    "\n",
    "---\n",
    "運賃\n",
    "\n",
    "---\n",
    "\n",
    "運賃を整数で出力してください"
   ]
  },
  {
   "cell_type": "markdown",
   "metadata": {},
   "source": [
    "---\n",
    "---"
   ]
  },
  {
   "cell_type": "markdown",
   "metadata": {},
   "source": [
    "### 入力例1\n",
    "---\n",
    "$ プレミアム便 \\quad ファーストクラス $  \n",
    "\n",
    "---\n",
    "\n",
    "### 出力例1\n",
    "---\n",
    "```python\n",
    "100000\n",
    "```\n",
    "---\n",
    "\n",
    "- プレミアム便は40000円、ファーストクラスは基本料金の2.5倍です\n",
    "- 40000ｘ2.5＝100,000円となります"
   ]
  },
  {
   "cell_type": "markdown",
   "metadata": {},
   "source": [
    "---\n",
    "---"
   ]
  },
  {
   "cell_type": "markdown",
   "metadata": {},
   "source": [
    "### 入力例2\n",
    "---\n",
    "$ 深夜便 \\quad エコノミークラス $  \n",
    "\n",
    "---\n",
    "\n",
    "### 出力例2\n",
    "---\n",
    "```python\n",
    "20000\n",
    "```\n",
    "---\n"
   ]
  },
  {
   "cell_type": "markdown",
   "metadata": {},
   "source": [
    "- 深夜便は20000円、エコノミークラスは基本料金のまま（1倍）です\n",
    "- 20000ｘ1.0＝20,000円となります"
   ]
  },
  {
   "cell_type": "markdown",
   "metadata": {},
   "source": [
    "---\n",
    "---\n",
    "### ここ↓にPythonコードを記述してください"
   ]
  },
  {
   "cell_type": "code",
   "execution_count": 3,
   "metadata": {},
   "outputs": [
    {
     "name": "stdin",
     "output_type": "stream",
     "text": [
      " プレミアム便 ビジネスクラス\n"
     ]
    },
    {
     "name": "stdout",
     "output_type": "stream",
     "text": [
      "60000\n"
     ]
    }
   ],
   "source": [
    "\n"
   ]
  },
  {
   "cell_type": "code",
   "execution_count": null,
   "metadata": {},
   "outputs": [],
   "source": []
  }
 ],
 "metadata": {
  "colab": {
   "provenance": [
    {
     "file_id": "https://github.com/YasuharuSuzuki/24_programing2/blob/main/04%E8%BE%9E%E6%9B%B8/01%E8%BE%9E%E6%9B%B8%E3%82%92%E4%BD%9C%E3%82%8B.ipynb",
     "timestamp": 1715146358060
    }
   ]
  },
  "kernelspec": {
   "display_name": "Python 3 (ipykernel)",
   "language": "python",
   "name": "python3"
  },
  "language_info": {
   "codemirror_mode": {
    "name": "ipython",
    "version": 3
   },
   "file_extension": ".py",
   "mimetype": "text/x-python",
   "name": "python",
   "nbconvert_exporter": "python",
   "pygments_lexer": "ipython3",
   "version": "3.11.9"
  }
 },
 "nbformat": 4,
 "nbformat_minor": 4
}
