{
 "cells": [
  {
   "cell_type": "markdown",
   "metadata": {},
   "source": [
    "<a href=\"https://colab.research.google.com/github/YasuharuSuzuki/24_programing1/blob/main/\" target=\"_parent\"><img src=\"https://colab.research.google.com/assets/colab-badge.svg\" alt=\"Open In Colab\"/></a>"
   ]
  },
  {
   "cell_type": "markdown",
   "metadata": {
    "id": "KSSJqXOosEeX"
   },
   "source": [
    "# 03 list・tuple・set"
   ]
  },
  {
   "cell_type": "markdown",
   "metadata": {
    "id": "VRQcesdKsEec"
   },
   "source": [
    "## 四択問題\n",
    "- 以下の問題について、正解となる選択肢を出力してください"
   ]
  },
  {
   "cell_type": "markdown",
   "metadata": {},
   "source": [
    "---\n",
    "---\n",
    "---\n",
    "### 問11 for文でよく使う便利な関数 (3点)\n",
    "- for文で主に使用し、2つ以上のリストやタプルから要素を１つずつ取り出してペアにする便利な関数はどれか？\n",
    "    1. range()  \n",
    "    2. zip()  \n",
    "    3. enumrate()  \n",
    "    4. in  "
   ]
  },
  {
   "cell_type": "code",
   "execution_count": 1,
   "metadata": {
    "colab": {
     "base_uri": "https://localhost:8080/"
    },
    "executionInfo": {
     "elapsed": 265,
     "status": "ok",
     "timestamp": 1715146988599,
     "user": {
      "displayName": "鈴木康元",
      "userId": "15385942521303414593"
     },
     "user_tz": -540
    },
    "id": "_oiNYIaxsEed",
    "outputId": "c127d002-8e8c-45b3-d98b-c5304b00f17d"
   },
   "outputs": [
    {
     "name": "stdout",
     "output_type": "stream",
     "text": [
      "\n"
     ]
    }
   ],
   "source": [
    "# 解答の番号を出力してください\n",
    "print('')"
   ]
  },
  {
   "cell_type": "markdown",
   "metadata": {
    "id": "bP053hXUsEee"
   },
   "source": [
    "---\n",
    "---\n",
    "---\n",
    "### 問12 tuple (3点)  \n",
    "tupleを選べ\n",
    "\n",
    "    1. 　(1,2,3,4,5)\n",
    "    2. 　[1,2,3,4,5]\n",
    "    3. 　{1,2,3,4,5}\n",
    "    4. 　\"1,2,3,4,5\"\n",
    "    "
   ]
  },
  {
   "cell_type": "code",
   "execution_count": 2,
   "metadata": {
    "colab": {
     "base_uri": "https://localhost:8080/"
    },
    "executionInfo": {
     "elapsed": 255,
     "status": "ok",
     "timestamp": 1715147036615,
     "user": {
      "displayName": "鈴木康元",
      "userId": "15385942521303414593"
     },
     "user_tz": -540
    },
    "id": "8cg5YTLosEee",
    "outputId": "c6671804-b225-4341-ea70-8833bd5eb194"
   },
   "outputs": [
    {
     "name": "stdout",
     "output_type": "stream",
     "text": [
      "\n"
     ]
    }
   ],
   "source": [
    "# 解答の番号を出力してください\n",
    "print('')"
   ]
  },
  {
   "cell_type": "markdown",
   "metadata": {},
   "source": [
    "---\n",
    "---\n",
    "---\n",
    "### 問13 setの適切な使い方 (3点)\n",
    "\n",
    "次のうち、setを使用するのに最も適した場面はどれですか？\n",
    "\n",
    "   1. ユーザーの入力順序を記録したい\n",
    "   2. データの中から重複を除去したい\n",
    "   3. データを大きい順に並べ替えたい\n",
    "   4. テキストを1文字ずつ分けて処理したい\n"
   ]
  },
  {
   "cell_type": "code",
   "execution_count": 3,
   "metadata": {
    "colab": {
     "base_uri": "https://localhost:8080/"
    },
    "executionInfo": {
     "elapsed": 278,
     "status": "ok",
     "timestamp": 1715147048787,
     "user": {
      "displayName": "鈴木康元",
      "userId": "15385942521303414593"
     },
     "user_tz": -540
    },
    "id": "y2CxWqMusEef",
    "outputId": "8129fcea-362e-4f33-d57b-529f8313a51f"
   },
   "outputs": [
    {
     "name": "stdout",
     "output_type": "stream",
     "text": [
      "\n"
     ]
    }
   ],
   "source": [
    "# 解答の番号を出力してください\n",
    "print('')"
   ]
  },
  {
   "cell_type": "markdown",
   "metadata": {
    "id": "sqzgb-X2sEef"
   },
   "source": [
    "---\n",
    "---\n",
    "---\n",
    "---\n",
    "---\n",
    "## アルゴリズム問題"
   ]
  },
  {
   "cell_type": "markdown",
   "metadata": {},
   "source": [
    "### 問14 あいこでポン (15点)\n",
    "\n",
    "### 問題文\n",
    "3人でじゃんけんをします。必ずあいこになるように、3人目の出す手を求めてください。"
   ]
  },
  {
   "cell_type": "markdown",
   "metadata": {},
   "source": [
    "---\n",
    "---"
   ]
  },
  {
   "cell_type": "markdown",
   "metadata": {},
   "source": [
    "### 制約\n",
    "\n",
    "入力される文字列は \"グー\"、\"チョキ\"、\"パー\" のいずれか"
   ]
  },
  {
   "cell_type": "markdown",
   "metadata": {},
   "source": [
    "---\n",
    "---"
   ]
  },
  {
   "cell_type": "markdown",
   "metadata": {},
   "source": [
    "### 入力\n",
    "- 1行目に1人目の手が文字列で与えられます（\"グー\"、\"チョキ\"、\"パー\"）\n",
    "- 2行目に2人目の手が文字列で与えられます（\"グー\"、\"チョキ\"、\"パー\"）\n",
    "\n",
    "---\n",
    "$ C_1 $  \n",
    "$ C_2 $  \n",
    "\n",
    "---\n"
   ]
  },
  {
   "cell_type": "markdown",
   "metadata": {},
   "source": [
    "### 出力\n",
    "- 3人目が出すべき手の文字列を出力してください（\"グー\"、\"チョキ\"、\"パー\"） "
   ]
  },
  {
   "cell_type": "markdown",
   "metadata": {},
   "source": [
    "---\n",
    "---\n",
    "\n",
    "### 入力例1\n",
    "---\n",
    "グー  \n",
    "グー  \n",
    "\n",
    "---\n",
    "\n",
    "### 出力例1\n",
    "---\n",
    "グー\n",
    "\n",
    "---\n",
    "\n",
    "- 全員グーなのであいこ"
   ]
  },
  {
   "cell_type": "markdown",
   "metadata": {},
   "source": [
    "---\n",
    "---"
   ]
  },
  {
   "cell_type": "markdown",
   "metadata": {},
   "source": [
    "### 入力例2\n",
    "---\n",
    "グー  \n",
    "チョキ  \n",
    "\n",
    "---\n",
    "\n",
    "### 出力例2\n",
    "---\n",
    "パー\n",
    "\n",
    "---\n",
    "- グー、チョキ、パーで全員異なるのであいこ"
   ]
  },
  {
   "cell_type": "markdown",
   "metadata": {},
   "source": [
    "---\n",
    "---"
   ]
  },
  {
   "cell_type": "markdown",
   "metadata": {},
   "source": [
    "### ここ↓にPythonコードを記述してください"
   ]
  },
  {
   "cell_type": "code",
   "execution_count": 3,
   "metadata": {},
   "outputs": [
    {
     "name": "stdin",
     "output_type": "stream",
     "text": [
      " パー\n",
      " グー\n"
     ]
    },
    {
     "name": "stdout",
     "output_type": "stream",
     "text": [
      "チョキ\n"
     ]
    }
   ],
   "source": [
    "\n"
   ]
  },
  {
   "cell_type": "markdown",
   "metadata": {
    "colab": {
     "base_uri": "https://localhost:8080/"
    },
    "executionInfo": {
     "elapsed": 268,
     "status": "ok",
     "timestamp": 1715147255303,
     "user": {
      "displayName": "鈴木康元",
      "userId": "15385942521303414593"
     },
     "user_tz": -540
    },
    "id": "AXmjTxIdsEeg",
    "outputId": "2e2c42b9-ea55-4aae-c6cf-38e3e3f47720"
   },
   "source": [
    "---\n",
    "---\n",
    "---\n",
    "### 問15 Blood Type (15点)\n",
    "ゆるるくんとゆるこさんは夫婦です。  \n",
    "二人の血液型が与えられるので、生まれてくる子供の可能性のある血液型をすべて求めてください。\n",
    "\n",
    "血液型の遺伝子型は以下のように決まります：\n",
    "- A型：AA または AO\n",
    "- B型：BB または BO\n",
    "- O型：OO\n",
    "- AB型：AB"
   ]
  },
  {
   "cell_type": "markdown",
   "metadata": {},
   "source": [
    "### 制約\n",
    "- 入力される血液型は A, B, O, AB のいずれか"
   ]
  },
  {
   "cell_type": "markdown",
   "metadata": {},
   "source": [
    "### 入力\n",
    "入力は以下の形式で与えられます：\n",
    "\n",
    "---\n",
    "\n",
    "$ S \\quad T $   \n",
    "\n",
    "---\n",
    "\n",
    "- S: ゆるるくんの血液型を表す文字列\n",
    "- T: ゆるこさんの血液型を表す文字列\n"
   ]
  },
  {
   "cell_type": "markdown",
   "metadata": {},
   "source": [
    "### 出力\n",
    "- 可能性のある子供の血液型をアルファベット順にスペース区切りで全て出力してください。"
   ]
  },
  {
   "cell_type": "markdown",
   "metadata": {},
   "source": [
    "---\n",
    "---"
   ]
  },
  {
   "cell_type": "markdown",
   "metadata": {},
   "source": [
    "### 入力例1\n",
    "---\n",
    "```python\n",
    "A B\n",
    "```\n",
    "---\n",
    "\n",
    "### 出力例1\n",
    "---\n",
    "```python\n",
    "A AB B O\n",
    "```\n",
    "---\n",
    "\n",
    "#### 解説\n",
    "- ゆるるくんの遺伝子型は AA または AO の可能性  \n",
    "- ゆるこさんの遺伝子型は BB または BO の可能性  \n",
    "があり、それらの組み合わせによって子供は A, AB, B, O型のいずれかとなります。  \n"
   ]
  },
  {
   "cell_type": "markdown",
   "metadata": {},
   "source": [
    "---\n",
    "---"
   ]
  },
  {
   "cell_type": "markdown",
   "metadata": {},
   "source": [
    "### 入力例2\n",
    "---\n",
    "```Python\n",
    "AB O\n",
    "```\n",
    "---\n",
    "\n",
    "### 出力例2\n",
    "---\n",
    "```\n",
    "A B\n",
    "```\n",
    "---\n",
    "\n",
    "#### 解説\n",
    "- ゆるるくんの遺伝子型は AB  \n",
    "- ゆるこさんの遺伝子型は OO  \n",
    "となるため、子供は必ず A型か B型になります。  "
   ]
  },
  {
   "cell_type": "markdown",
   "metadata": {},
   "source": [
    "---\n",
    "---"
   ]
  },
  {
   "cell_type": "markdown",
   "metadata": {},
   "source": [
    "### 入力例3\n",
    "---\n",
    "```Python\n",
    "O O\n",
    "```\n",
    "---\n",
    "\n",
    "### 出力例3\n",
    "---\n",
    "```\n",
    "O\n",
    "```\n",
    "---\n",
    "\n",
    "#### 解説\n",
    "- 両親とも遺伝子型は OO  \n",
    "のため、子供は必ず O型になります。"
   ]
  },
  {
   "cell_type": "markdown",
   "metadata": {},
   "source": [
    "---\n",
    "---\n",
    "### ここ↓にPythonコードを記述してください"
   ]
  },
  {
   "cell_type": "code",
   "execution_count": 21,
   "metadata": {},
   "outputs": [
    {
     "name": "stdin",
     "output_type": "stream",
     "text": [
      " AB O\n"
     ]
    },
    {
     "name": "stdout",
     "output_type": "stream",
     "text": [
      "A B\n"
     ]
    }
   ],
   "source": [
    "\n"
   ]
  },
  {
   "cell_type": "markdown",
   "metadata": {},
   "source": [
    "---\n",
    "---\n",
    "---\n",
    "### 問16 つなわたりステージ20 (20点)\n",
    "\n",
    "#### 川の対岸への距離\n",
    "- 川の対岸へつなが設置されています。川の対岸への距離Dは10m～20mです\n",
    "- プレイ時間Tは2～30秒です。プレイ時間内にゆるるくんはゴールするか、崖下に落下します\n",
    "\n",
    "#### プレイヤーの挙動\n",
    "- 1秒に1回、左キー(L)、右キー(R)、上キー(U)、下キー(D) の入力が可能です\n",
    "- キー入力をしない(N)こともできます\n",
    "- 左キーが入力されると、ゆるるくんは1m進み、左方向に+1傾きます\n",
    "- 右キーが入力されると、ゆるるくんは1m進み、右方向に+1傾きます\n",
    "- 上キーが入力されると、2m進み、傾きが１つ大きくなります\n",
    "  - 左側に+1傾いているときは傾きが左+2になります。右側も同様に右側に+1傾いているときは傾きが右+2になります。傾きが無いときは傾きは増えません\n",
    "- 下キーが入力されると、ゆるるくんは進まず、傾きが１つ小さくなります\n",
    "  - 左側に+1傾いているときは傾きが0になります。右側も同様に右側に+1傾いているときは傾きが0になります。傾きが無いときは傾きは増えません\n",
    "- キー入力をしないと、ゆるるくんは1m進みます\n",
    "\n",
    "#### 風\n",
    "- ステージ20では風が吹きます\n",
    "- 1秒に1回、左方向(L)、右方向(R)、向かい風(H)、追い風(T)の風が吹きます\n",
    "- 風がない(N)こともあります\n",
    "- 左向きの風を受けると、ゆるるくんは左方向に+1傾きます\n",
    "- 右向きの風を受けると、ゆるるくんは右方向に+1傾きます\n",
    "- 向かい風を受けると、ゆるるくんは1m下がります。ただし、スタート地点より下がることはありません。\n",
    "- 追い風を受けると、ゆるるくんは1m進みます\n",
    "- 風がないときは、ゆるるくんは影響を受けません\n",
    "\n",
    "#### 傾き\n",
    "- 傾いている方向と逆方向にキー入力、もしくは風が吹くと、傾きが-1されます\n",
    "- 左右どちらかの傾きが+3を超えると綱から落ちてしまいます\n",
    "\n",
    "#### 求めたいもの\n",
    "川の対岸への距離を整数D、ゆるるくんのキー入力を文字列K、風を文字列Aで与えられたとき、ステージ20をクリアできるかどうかを判定してください。  \n"
   ]
  },
  {
   "cell_type": "markdown",
   "metadata": {},
   "source": [
    "---\n",
    "---"
   ]
  },
  {
   "cell_type": "markdown",
   "metadata": {},
   "source": [
    "### 制約\n",
    "\n",
    "- 10 ≤ D ≤ 20（川の対岸への距離）\n",
    "- 2 ≤ T ≤ 30（プレイ時間）\n",
    "- K は 'L', 'R', 'N', 'U', 'D' のみからなる文字列\n",
    "- A は 'L', 'R', 'N', 'H', 'T' のみからなる文字列"
   ]
  },
  {
   "cell_type": "markdown",
   "metadata": {},
   "source": [
    "---\n",
    "---"
   ]
  },
  {
   "cell_type": "markdown",
   "metadata": {},
   "source": [
    "### 入力形式\n",
    "入力は以下の形式で標準入力から与えられます\n",
    "\n",
    "---\n",
    "\n",
    "$ D \\quad T $   \n",
    "$ K $   \n",
    "$ A $   \n",
    "\n",
    "---\n",
    "\n",
    "- $ D $ は川の対岸への距離\n",
    "- $ T $ はプレイ時間\n",
    "- $ K $ はゆるるくんのキー入力\n",
    "- $ A $ はゆるるくんが受ける風"
   ]
  },
  {
   "cell_type": "markdown",
   "metadata": {},
   "source": [
    "---\n",
    "---"
   ]
  },
  {
   "cell_type": "markdown",
   "metadata": {},
   "source": [
    "### 出力\n",
    "\n",
    "- ステージクリアの場合：`GOAL`\n",
    "- 落下した場合：`YOU LOST`"
   ]
  },
  {
   "cell_type": "markdown",
   "metadata": {},
   "source": [
    "---\n",
    "---"
   ]
  },
  {
   "cell_type": "markdown",
   "metadata": {},
   "source": [
    "### 入力例1\n",
    "---\n",
    "```python\n",
    "16 2\n",
    "LL\n",
    "LL\n",
    "```\n",
    "---\n",
    "\n",
    "### 出力例1\n",
    "---\n",
    "```python\n",
    "YOU LOST\n",
    "```\n",
    "---\n",
    "- 2秒目のキー入力\"L\"と風向き\"L\"で左側に+4傾き、崖下に落下となりました。"
   ]
  },
  {
   "cell_type": "markdown",
   "metadata": {},
   "source": [
    "---\n",
    "---"
   ]
  },
  {
   "cell_type": "markdown",
   "metadata": {},
   "source": [
    "### 入力例2\n",
    "---\n",
    "```python\n",
    "10 5\n",
    "NDLUR\n",
    "TTTTT\n",
    "```\n",
    "---\n",
    "\n",
    "### 出力例2\n",
    "---\n",
    "```python\n",
    "GOAL\n",
    "```\n",
    "---\n",
    "- 常に追い風が吹き、5秒目でGOALとなりました。"
   ]
  },
  {
   "cell_type": "markdown",
   "metadata": {},
   "source": [
    "---\n",
    "---"
   ]
  },
  {
   "cell_type": "markdown",
   "metadata": {},
   "source": [
    "### 入力例3\n",
    "---\n",
    "```python\n",
    "20 28\n",
    "DDNDDDRUNLUNNNDRULNRLUNNNNLN\n",
    "HTHNNRLHHNRHLLLNHNRTNHLHNHTL\n",
    "```\n",
    "---\n",
    "\n",
    "\n",
    "### 出力例3\n",
    "---\n",
    "```python\n",
    "GOAL\n",
    "```\n",
    "---"
   ]
  },
  {
   "cell_type": "markdown",
   "metadata": {},
   "source": [
    "---\n",
    "---"
   ]
  },
  {
   "cell_type": "markdown",
   "metadata": {},
   "source": [
    "### 入力例4\n",
    "---\n",
    "```python\n",
    "17 21\n",
    "DRNUNDDDDNUDRDNDLLDUU\n",
    "NTRNTLNRRTHNHLNLTNNHH\n",
    "```\n",
    "---\n",
    "\n",
    "\n",
    "### 出力例4\n",
    "---\n",
    "```python\n",
    "YOU LOST\n",
    "```\n",
    "---"
   ]
  },
  {
   "cell_type": "markdown",
   "metadata": {},
   "source": [
    "---\n",
    "---\n",
    "### ここ↓にPythonコードを記述してください"
   ]
  },
  {
   "cell_type": "code",
   "execution_count": 29,
   "metadata": {},
   "outputs": [
    {
     "name": "stdin",
     "output_type": "stream",
     "text": [
      " 19 27\n",
      " LLUDDUDNDRLRNUDDUUNLNRNLDNL\n",
      " HRNHNHHRRNTHNLRHHTHHLRTHLRT\n"
     ]
    },
    {
     "name": "stdout",
     "output_type": "stream",
     "text": [
      "GOAL\n"
     ]
    }
   ],
   "source": []
  }
 ],
 "metadata": {
  "colab": {
   "provenance": [
    {
     "file_id": "https://github.com/YasuharuSuzuki/24_programing2/blob/main/04%E8%BE%9E%E6%9B%B8/01%E8%BE%9E%E6%9B%B8%E3%82%92%E4%BD%9C%E3%82%8B.ipynb",
     "timestamp": 1715146358060
    }
   ]
  },
  "kernelspec": {
   "display_name": "Python 3 (ipykernel)",
   "language": "python",
   "name": "python3"
  },
  "language_info": {
   "codemirror_mode": {
    "name": "ipython",
    "version": 3
   },
   "file_extension": ".py",
   "mimetype": "text/x-python",
   "name": "python",
   "nbconvert_exporter": "python",
   "pygments_lexer": "ipython3",
   "version": "3.11.9"
  }
 },
 "nbformat": 4,
 "nbformat_minor": 4
}
