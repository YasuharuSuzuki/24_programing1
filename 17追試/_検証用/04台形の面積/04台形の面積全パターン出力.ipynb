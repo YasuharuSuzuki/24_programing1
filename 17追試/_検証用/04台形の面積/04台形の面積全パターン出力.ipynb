{
 "cells": [
  {
   "cell_type": "markdown",
   "id": "e0f811d1",
   "metadata": {},
   "source": [
    "# 04台形の面積・全パターン出力"
   ]
  },
  {
   "cell_type": "code",
   "execution_count": 1,
   "id": "575f2e20-25b5-45c8-8739-fc6a0e5e36d9",
   "metadata": {},
   "outputs": [],
   "source": [
    "import os\n",
    "import pandas as pd\n",
    "\n",
    "U_MIN,U_MAX = 1,9\n",
    "B_MIN,B_MAX = 1,9\n",
    "H_MIN,H_MAX = 1,9\n",
    "INPUT_TEST_CSV = \"data/04test-input.csv\"  # claudeで出力した.csv"
   ]
  },
  {
   "cell_type": "code",
   "execution_count": 2,
   "id": "3e43a01f-c532-4339-90f0-9fe4de9100e4",
   "metadata": {},
   "outputs": [
    {
     "data": {
      "text/html": [
       "<div>\n",
       "<style scoped>\n",
       "    .dataframe tbody tr th:only-of-type {\n",
       "        vertical-align: middle;\n",
       "    }\n",
       "\n",
       "    .dataframe tbody tr th {\n",
       "        vertical-align: top;\n",
       "    }\n",
       "\n",
       "    .dataframe thead th {\n",
       "        text-align: right;\n",
       "    }\n",
       "</style>\n",
       "<table border=\"1\" class=\"dataframe\">\n",
       "  <thead>\n",
       "    <tr style=\"text-align: right;\">\n",
       "      <th></th>\n",
       "      <th>U</th>\n",
       "      <th>B</th>\n",
       "      <th>H</th>\n",
       "    </tr>\n",
       "  </thead>\n",
       "  <tbody>\n",
       "    <tr>\n",
       "      <th>0</th>\n",
       "      <td>1</td>\n",
       "      <td>1</td>\n",
       "      <td>1</td>\n",
       "    </tr>\n",
       "    <tr>\n",
       "      <th>1</th>\n",
       "      <td>9</td>\n",
       "      <td>9</td>\n",
       "      <td>9</td>\n",
       "    </tr>\n",
       "    <tr>\n",
       "      <th>2</th>\n",
       "      <td>1</td>\n",
       "      <td>9</td>\n",
       "      <td>9</td>\n",
       "    </tr>\n",
       "    <tr>\n",
       "      <th>3</th>\n",
       "      <td>9</td>\n",
       "      <td>1</td>\n",
       "      <td>9</td>\n",
       "    </tr>\n",
       "    <tr>\n",
       "      <th>4</th>\n",
       "      <td>9</td>\n",
       "      <td>9</td>\n",
       "      <td>1</td>\n",
       "    </tr>\n",
       "    <tr>\n",
       "      <th>...</th>\n",
       "      <td>...</td>\n",
       "      <td>...</td>\n",
       "      <td>...</td>\n",
       "    </tr>\n",
       "    <tr>\n",
       "      <th>95</th>\n",
       "      <td>5</td>\n",
       "      <td>5</td>\n",
       "      <td>5</td>\n",
       "    </tr>\n",
       "    <tr>\n",
       "      <th>96</th>\n",
       "      <td>6</td>\n",
       "      <td>6</td>\n",
       "      <td>6</td>\n",
       "    </tr>\n",
       "    <tr>\n",
       "      <th>97</th>\n",
       "      <td>7</td>\n",
       "      <td>7</td>\n",
       "      <td>7</td>\n",
       "    </tr>\n",
       "    <tr>\n",
       "      <th>98</th>\n",
       "      <td>8</td>\n",
       "      <td>8</td>\n",
       "      <td>8</td>\n",
       "    </tr>\n",
       "    <tr>\n",
       "      <th>99</th>\n",
       "      <td>1</td>\n",
       "      <td>2</td>\n",
       "      <td>1</td>\n",
       "    </tr>\n",
       "  </tbody>\n",
       "</table>\n",
       "<p>100 rows × 3 columns</p>\n",
       "</div>"
      ],
      "text/plain": [
       "    U  B  H\n",
       "0   1  1  1\n",
       "1   9  9  9\n",
       "2   1  9  9\n",
       "3   9  1  9\n",
       "4   9  9  1\n",
       ".. .. .. ..\n",
       "95  5  5  5\n",
       "96  6  6  6\n",
       "97  7  7  7\n",
       "98  8  8  8\n",
       "99  1  2  1\n",
       "\n",
       "[100 rows x 3 columns]"
      ]
     },
     "execution_count": 2,
     "metadata": {},
     "output_type": "execute_result"
    }
   ],
   "source": [
    "df_input = pd.read_csv(INPUT_TEST_CSV)\n",
    "df_input"
   ]
  },
  {
   "cell_type": "code",
   "execution_count": 10,
   "id": "a42eca56-6234-47ba-8342-235563575d92",
   "metadata": {},
   "outputs": [],
   "source": [
    "def solve(input_list):\n",
    "    U, B, H = map(int,input_list[0].split())\n",
    "    R = (U+B) * H / 2\n",
    "    \n",
    "    output_list = [\n",
    "        f\"({U} ＋ {B}) × {H} ÷ 2 = {R:.1f}\",\n",
    "        f\"答えは{R:.1f}cm^2です\",\n",
    "    ]\n",
    "    return output_list\n"
   ]
  },
  {
   "cell_type": "code",
   "execution_count": 11,
   "id": "c2bafefa-b1a4-463e-b132-5f10036ab1aa",
   "metadata": {},
   "outputs": [],
   "source": [
    "def output_all(out_xz_filename):\n",
    "    all_inputs = [[f\"{u} {b} {h}\"] for u,b,h in zip(df_input['U'],df_input['B'],df_input['H'])]\n",
    "    all_outputs = []\n",
    "\n",
    "    for answer_id in range(len(all_inputs)):\n",
    "        all_outputs.append(solve(all_inputs[answer_id]))        # 解答を求める\n",
    "\n",
    "    df_all = pd.DataFrame({\"in\":all_inputs, \"out\":all_outputs})\n",
    "    df_all.index += 1\n",
    "    os.makedirs(os.path.dirname(out_xz_filename), exist_ok=True)\n",
    "    df_all.to_csv(out_xz_filename)\n",
    "\n",
    "output_all(\"data/answer.csv.xz\")"
   ]
  },
  {
   "cell_type": "code",
   "execution_count": 9,
   "id": "4f8cc94d",
   "metadata": {},
   "outputs": [],
   "source": [
    "U, B, H = map(int,'1 1 1'.split())"
   ]
  },
  {
   "cell_type": "code",
   "execution_count": null,
   "id": "af7748e8-8431-44b7-a335-169d74825356",
   "metadata": {},
   "outputs": [],
   "source": []
  }
 ],
 "metadata": {
  "kernelspec": {
   "display_name": "Python 3 (ipykernel)",
   "language": "python",
   "name": "python3"
  },
  "language_info": {
   "codemirror_mode": {
    "name": "ipython",
    "version": 3
   },
   "file_extension": ".py",
   "mimetype": "text/x-python",
   "name": "python",
   "nbconvert_exporter": "python",
   "pygments_lexer": "ipython3",
   "version": "3.11.9"
  }
 },
 "nbformat": 4,
 "nbformat_minor": 5
}
