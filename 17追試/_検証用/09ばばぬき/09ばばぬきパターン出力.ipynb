{
 "cells": [
  {
   "cell_type": "markdown",
   "id": "e0f811d1",
   "metadata": {},
   "source": [
    "# ばばぬきパターン出力"
   ]
  },
  {
   "cell_type": "code",
   "execution_count": 11,
   "id": "575f2e20-25b5-45c8-8739-fc6a0e5e36d9",
   "metadata": {},
   "outputs": [],
   "source": [
    "import os\n",
    "import random\n",
    "import pandas as pd\n",
    "\n",
    "COUNT_OF_SAMPLES = 100\n",
    "CARD_SUITS = [\"♡\",\"♧\",\"♤\",\"♢\"]\n",
    "CARD_RANKS = [\"A\",\"2\",\"3\",\"4\",\"5\",\"6\",\"7\",\"8\",\"9\",\"10\",\"J\",\"Q\",\"K\"]\n",
    "CARD_JOKER = [\"☆\"]\n",
    "ALL_PAIR_P = 10  # 全員がペアを持つケース\n",
    "NO_PAIR_P = 10  # 全員がペアを持たないケース\n",
    "PLAYER_COUNT = 6"
   ]
  },
  {
   "cell_type": "code",
   "execution_count": 12,
   "id": "dd65b7be-c18b-432f-8c68-5e8ed9163aa1",
   "metadata": {
    "scrolled": true
   },
   "outputs": [
    {
     "data": {
      "text/plain": [
       "['♡A',\n",
       " '♡2',\n",
       " '♡3',\n",
       " '♡4',\n",
       " '♡5',\n",
       " '♡6',\n",
       " '♡7',\n",
       " '♡8',\n",
       " '♡9',\n",
       " '♡10',\n",
       " '♡J',\n",
       " '♡Q',\n",
       " '♡K',\n",
       " '♧A',\n",
       " '♧2',\n",
       " '♧3',\n",
       " '♧4',\n",
       " '♧5',\n",
       " '♧6',\n",
       " '♧7',\n",
       " '♧8',\n",
       " '♧9',\n",
       " '♧10',\n",
       " '♧J',\n",
       " '♧Q',\n",
       " '♧K',\n",
       " '♤A',\n",
       " '♤2',\n",
       " '♤3',\n",
       " '♤4',\n",
       " '♤5',\n",
       " '♤6',\n",
       " '♤7',\n",
       " '♤8',\n",
       " '♤9',\n",
       " '♤10',\n",
       " '♤J',\n",
       " '♤Q',\n",
       " '♤K',\n",
       " '♢A',\n",
       " '♢2',\n",
       " '♢3',\n",
       " '♢4',\n",
       " '♢5',\n",
       " '♢6',\n",
       " '♢7',\n",
       " '♢8',\n",
       " '♢9',\n",
       " '♢10',\n",
       " '♢J',\n",
       " '♢Q',\n",
       " '♢K',\n",
       " '☆']"
      ]
     },
     "execution_count": 12,
     "metadata": {},
     "output_type": "execute_result"
    }
   ],
   "source": [
    "def create_all_cards():\n",
    "    \"\"\"53枚のカードを生成\"\"\"\n",
    "    all_cards = []\n",
    "    for suit in CARD_SUITS:\n",
    "        for rank in CARD_RANKS:\n",
    "            all_cards.append(suit + rank)\n",
    "    all_cards.append('☆')\n",
    "    return all_cards\n",
    "all_cards = create_all_cards()\n",
    "all_cards"
   ]
  },
  {
   "cell_type": "code",
   "execution_count": 19,
   "id": "1b092917-636d-4f31-bf83-d96b2ca42f03",
   "metadata": {
    "scrolled": true
   },
   "outputs": [
    {
     "data": {
      "text/plain": [
       "(['♡A',\n",
       "  '♡2',\n",
       "  '♡3',\n",
       "  '♡4',\n",
       "  '♡5',\n",
       "  '♡6',\n",
       "  '♡7',\n",
       "  '♡8',\n",
       "  '♡9',\n",
       "  '♡10',\n",
       "  '♡J',\n",
       "  '♡Q',\n",
       "  '♡K',\n",
       "  '♧A',\n",
       "  '♧2',\n",
       "  '♧3',\n",
       "  '♧4',\n",
       "  '♧5',\n",
       "  '♧6',\n",
       "  '♧7',\n",
       "  '♧8',\n",
       "  '♧9',\n",
       "  '♧10',\n",
       "  '♧J',\n",
       "  '♧Q',\n",
       "  '♧K',\n",
       "  '♤A',\n",
       "  '♤2',\n",
       "  '♤3',\n",
       "  '♤4',\n",
       "  '♤5',\n",
       "  '♤6',\n",
       "  '♤7',\n",
       "  '♤8',\n",
       "  '♤9',\n",
       "  '♤10',\n",
       "  '♤J',\n",
       "  '♤Q',\n",
       "  '♤K',\n",
       "  '♢A',\n",
       "  '♢2',\n",
       "  '♢3',\n",
       "  '♢4',\n",
       "  '♢5',\n",
       "  '♢6',\n",
       "  '♢7',\n",
       "  '♢8',\n",
       "  '♢9',\n",
       "  '♢10',\n",
       "  '♢J',\n",
       "  '♢Q',\n",
       "  '♢K'],\n",
       " [[], [], ['☆'], [], [], []],\n",
       " 5)"
      ]
     },
     "execution_count": 19,
     "metadata": {},
     "output_type": "execute_result"
    }
   ],
   "source": [
    "def _init_cards():\n",
    "    available_cards = all_cards.copy()\n",
    "    players_hands = [[] for _ in range(6)]\n",
    "\n",
    "    # 8枚を受け取るプレイヤーをランダムに決定\n",
    "    player_with_eight = random.randint(0, PLAYER_COUNT-1)\n",
    "    \n",
    "    # ジョーカーをランダムなプレイヤーに配布\n",
    "    joker_player = random.randint(0, PLAYER_COUNT-1)\n",
    "    players_hands[joker_player] += CARD_JOKER\n",
    "    available_cards.remove(CARD_JOKER[0])\n",
    "    return available_cards, players_hands, player_with_eight\n",
    "_init_cards()"
   ]
  },
  {
   "cell_type": "code",
   "execution_count": 17,
   "id": "d3bbab2b-9ea8-4c35-b44f-3184700fb2a9",
   "metadata": {},
   "outputs": [
    {
     "data": {
      "text/plain": [
       "{'A': 4,\n",
       " '2': 4,\n",
       " '3': 4,\n",
       " '4': 4,\n",
       " '5': 4,\n",
       " '6': 4,\n",
       " '7': 4,\n",
       " '8': 4,\n",
       " '9': 4,\n",
       " '10': 4,\n",
       " 'J': 4,\n",
       " 'Q': 4,\n",
       " 'K': 4,\n",
       " '☆': 1}"
      ]
     },
     "execution_count": 17,
     "metadata": {},
     "output_type": "execute_result"
    }
   ],
   "source": [
    "def _rank_counts(cards):\n",
    "    ranks_and_joker = CARD_RANKS + CARD_JOKER\n",
    "    result = {raj:0 for raj in ranks_and_joker}\n",
    "    for c in cards:\n",
    "        if len(c)==1:\n",
    "            result[c] += 1\n",
    "        else:\n",
    "            result[c[1:]] += 1\n",
    "    return result\n",
    "\n",
    "_rank_counts(all_cards)"
   ]
  },
  {
   "cell_type": "code",
   "execution_count": 37,
   "id": "86ede488-bdc3-4553-a9cb-451de6fa8cd6",
   "metadata": {},
   "outputs": [],
   "source": [
    "def _distribute_remaining_cards(available_cards, players_hands, player_with_eight):\n",
    "    while available_cards:\n",
    "        for i in range(PLAYER_COUNT):\n",
    "            target_size = 8 if i == player_with_eight else 9\n",
    "            if len(players_hands[i]) < target_size:\n",
    "                card = random.choice(available_cards)\n",
    "                players_hands[i].append(card)\n",
    "                available_cards.remove(card)\n",
    "\n",
    "    # シャッフルし直して返す\n",
    "    for i in range(PLAYER_COUNT):\n",
    "        random.shuffle(players_hands[i])\n",
    "    return available_cards, players_hands, player_with_eight\n"
   ]
  },
  {
   "cell_type": "code",
   "execution_count": 69,
   "id": "d766c15e-f1d6-472c-a8de-0f6b6ec6551a",
   "metadata": {},
   "outputs": [
    {
     "data": {
      "text/plain": [
       "[['♢9', '♢5', '♤K', '♧Q', '♡8', '♤3', '♤5', '♧K'],\n",
       " ['♡3', '♤Q', '♧4', '♡6', '♧A', '♤J', '♧J', '♡5', '♢10'],\n",
       " ['♢6', '♡2', '♧9', '♤7', '♧6', '♧7', '♡4', '♢2', '♡K'],\n",
       " ['♡Q', '♡7', '♢3', '♤A', '♢J', '♤10', '♧8', '♢A', '♤8'],\n",
       " ['♤6', '♢K', '♡A', '♡9', '♧2', '♢7', '♧5', '♢Q', '☆'],\n",
       " ['♡J', '♤2', '♧10', '♡10', '♤9', '♤4', '♢8', '♢4', '♧3']]"
      ]
     },
     "execution_count": 69,
     "metadata": {},
     "output_type": "execute_result"
    }
   ],
   "source": [
    "def create_all_random_case():\n",
    "    available_cards, players_hands, player_with_eight = _init_cards()\n",
    "\n",
    "    # 残りのカードでランダム取得して充填する\n",
    "    available_cards, players_hands, player_with_eight = _distribute_remaining_cards(available_cards, players_hands, player_with_eight)\n",
    "    \n",
    "    return players_hands\n",
    "create_all_random_case()"
   ]
  },
  {
   "cell_type": "code",
   "execution_count": 68,
   "id": "5656fdcc-9996-48ce-9651-342800b3f7a9",
   "metadata": {},
   "outputs": [
    {
     "data": {
      "text/plain": [
       "[['♡J', '♧J', '♢8', '♢9', '☆', '♤8', '♧6', '♡6', '♤K'],\n",
       " ['♧4', '♤Q', '♡A', '♤6', '♧3', '♧5', '♤3', '♡4'],\n",
       " ['♡8', '♧8', '♤5', '♤2', '♢6', '♤7', '♧K', '♢3', '♡9'],\n",
       " ['♢10', '♢A', '♧2', '♡2', '♡3', '♤A', '♢2', '♧9', '♡7'],\n",
       " ['♢4', '♢J', '♧A', '♤J', '♧7', '♡10', '♡5', '♢5', '♤10'],\n",
       " ['♢K', '♡K', '♤4', '♧Q', '♢Q', '♡Q', '♢7', '♤9', '♧10']]"
      ]
     },
     "execution_count": 68,
     "metadata": {},
     "output_type": "execute_result"
    }
   ],
   "source": [
    "def create_all_pairs_case():\n",
    "    \"\"\"全員がペアを持つテストケースを生成\"\"\"\n",
    "    available_cards, players_hands, player_with_eight = _init_cards()\n",
    "\n",
    "    # まず各プレイヤーにペアを配布\n",
    "    for i in range(PLAYER_COUNT):\n",
    "\n",
    "        # 使用可能なランクを取得\n",
    "        ranks = list(set(rank for rank,count in _rank_counts(available_cards).items() if count>1))\n",
    "        \n",
    "        # ランダムにランクを選択\n",
    "        selected_rank = random.choice(ranks)\n",
    "        pair_cards = []\n",
    "        for card in available_cards:\n",
    "            if card[1:] == selected_rank:\n",
    "                pair_cards.append(card)\n",
    "                if len(pair_cards)==2:\n",
    "                    break\n",
    "\n",
    "        selected_pair = random.sample(pair_cards, 2)\n",
    "        \n",
    "        # 手札に追加\n",
    "        players_hands[i].extend(selected_pair)\n",
    "        for card in selected_pair:\n",
    "            available_cards.remove(card)\n",
    "       \n",
    "    # 残りのカードでランダム取得して充填する\n",
    "    available_cards, players_hands, player_with_eight = _distribute_remaining_cards(available_cards, players_hands, player_with_eight)\n",
    "    \n",
    "    return players_hands\n",
    "    \n",
    "players_hands = create_all_pairs_case()\n",
    "players_hands"
   ]
  },
  {
   "cell_type": "code",
   "execution_count": 54,
   "id": "f7ad8132-5763-40a0-acb9-fe56ed342c10",
   "metadata": {},
   "outputs": [
    {
     "data": {
      "text/plain": [
       "(3, 2)"
      ]
     },
     "execution_count": 54,
     "metadata": {},
     "output_type": "execute_result"
    }
   ],
   "source": [
    "src_p, dst_p = random.sample(range(0,PLAYER_COUNT),2)\n",
    "src_p, dst_p"
   ]
  },
  {
   "cell_type": "code",
   "execution_count": 66,
   "id": "b37406a6-c09c-452f-8a3f-68f103046fcf",
   "metadata": {
    "scrolled": true
   },
   "outputs": [
    {
     "data": {
      "text/plain": [
       "[['♤9', '♢5', '♤8', '♧4', '♤7', '♡2', '♧Q', '♡A', '♧K'],\n",
       " ['♢3', '♢4', '♡6', '♡9', '♤K', '♢2', '♤J', '♧5', '♢Q'],\n",
       " ['♡10', '♧3', '♡7', '♡8', '♧2', '♡5', '♧9', '♢A', '♡J'],\n",
       " ['♧A', '♡3', '♧J', '♧10', '♤6', '♧7', '♤4', '♧8'],\n",
       " ['♢9', '♤5', '♡K', '♢10', '♤2', '♢7', '♢8', '♢6', '♤Q'],\n",
       " ['☆', '♤3', '♡Q', '♢K', '♤A', '♧6', '♡4', '♢J', '♤10']]"
      ]
     },
     "execution_count": 66,
     "metadata": {},
     "output_type": "execute_result"
    }
   ],
   "source": [
    "def create_no_pairs_case():\n",
    "    \"\"\"全員がペアを持たないテストケースを生成\"\"\"\n",
    "    available_cards, players_hands, player_with_eight = _init_cards()\n",
    "    \n",
    "    # 各プレイヤーにカードを配布していく。プレイヤー順に昇順にカードを与えていくことで、重複（ペア）が起きないようにしている\n",
    "    rank_id = 0\n",
    "    while available_cards:\n",
    "        for i in range(PLAYER_COUNT):\n",
    "            target_card_count = 8 if i == player_with_eight else 9\n",
    "            while len(players_hands[i]) < target_card_count:\n",
    "                \n",
    "                # 使用可能なランクを取得\n",
    "                target_rank = CARD_RANKS[rank_id]\n",
    "                target_rank_cards = [card for card in available_cards if card[1:]==target_rank]\n",
    "                get_card = random.sample(target_rank_cards, 1)[0]\n",
    "                \n",
    "                # 手札に追加\n",
    "                players_hands[i].append(get_card)\n",
    "                available_cards.remove(get_card)\n",
    "\n",
    "                # 次のrankへ\n",
    "                rank_id += 1\n",
    "                rank_id %= len(CARD_RANKS)\n",
    "\n",
    "    # プレイヤー間でシャッフルする\n",
    "    players_hands2 = players_hands.copy()\n",
    "    random.shuffle(players_hands2)\n",
    "    \n",
    "    # 1000回シャッフルする\n",
    "    for random_id in range(1000):\n",
    "        src_p, dst_p = random.sample(range(PLAYER_COUNT),2)\n",
    "        src_ranks = set([hand[1:] for hand in players_hands2[src_p] if len(hand)>1])\n",
    "        dst_ranks = set([hand[1:] for hand in players_hands2[dst_p] if len(hand)>1])\n",
    "        src_ranks2 = src_ranks - dst_ranks  # 重複を取り除く\n",
    "        dst_ranks2 = dst_ranks - src_ranks  # 重複を取り除く\n",
    "        if len(src_ranks2)>0 and len(dst_ranks2)>0:\n",
    "            # print(\"=\"*50)\n",
    "            # print(f\"players_hands2[{src_p}]=\",players_hands2[src_p],f\", players_hands2[{dst_p}]=\",players_hands2[dst_p])\n",
    "            # print(\"src_ranks2=\",src_ranks2,\", dst_ranks2=\",dst_ranks2)\n",
    "            src_hands = [hand for hand in players_hands2[src_p] if hand[1:] in src_ranks2] # 両者間でランクの重複を取り除いたカードを取得\n",
    "            dst_hands = [hand for hand in players_hands2[dst_p] if hand[1:] in dst_ranks2] # 両者間でランクの重複を取り除いたカードを取得\n",
    "            # print(\"src_hands=\",src_hands,\", dst_hands=\",dst_hands)\n",
    "            src_remove = random.sample(src_hands,1)[0]  # 移動する候補を選択\n",
    "            dst_remove = random.sample(dst_hands,1)[0]  # 移動する候補を選択\n",
    "            src_i = players_hands2[src_p].index(src_remove)\n",
    "            dst_i = players_hands2[dst_p].index(dst_remove)\n",
    "            players_hands2[dst_p].append(players_hands2[src_p].pop(src_i)) # 移動\n",
    "            players_hands2[src_p].append(players_hands2[dst_p].pop(dst_i)) # 移動\n",
    "        else:\n",
    "            print(f'移動可能なデータがありません random_id={random_id}')\n",
    "\n",
    "    return players_hands2\n",
    "\n",
    "players_hands = create_no_pairs_case()\n",
    "players_hands"
   ]
  },
  {
   "cell_type": "code",
   "execution_count": null,
   "id": "38489d4b-56e4-405f-a8be-0cc72c9b07bd",
   "metadata": {},
   "outputs": [],
   "source": []
  },
  {
   "cell_type": "code",
   "execution_count": 80,
   "id": "b7228498-8305-4222-8451-4fdfdfa224b4",
   "metadata": {},
   "outputs": [],
   "source": [
    "def get_random_inputs(not_list=[]):\n",
    "    while True:\n",
    "        not_list_index = len(not_list)\n",
    "\n",
    "# ALL_PAIR_P = 10  # 全員がペアを持つケース\n",
    "# NO_PAIR_P = 10  # 全員がペアを持たないケース\n",
    "        \n",
    "        if not_list_index <= ALL_PAIR_P:  # 全員がペアを持つケース\n",
    "            test_case = create_all_pairs_case()\n",
    "        elif not_list_index <= ALL_PAIR_P+NO_PAIR_P:  # 全員がペアを持たないケース\n",
    "            test_case = create_no_pairs_case()\n",
    "        else:\n",
    "            test_case = create_all_random_case()\n",
    "\n",
    "        inputs = [\" \".join(line1) for line1 in test_case]\n",
    "        if inputs in not_list:\n",
    "            print(\"重複\", choice)\n",
    "            continue\n",
    "\n",
    "        return inputs\n",
    "    raise ValueError('無限ループしたようです')\n",
    "    \n",
    "#get_random_inputs()"
   ]
  },
  {
   "cell_type": "code",
   "execution_count": 83,
   "id": "a42eca56-6234-47ba-8342-235563575d92",
   "metadata": {},
   "outputs": [],
   "source": [
    "def solve(input_list):\n",
    "    #print(input_list)\n",
    "    # 6人分の手札を入力\n",
    "    hands = []\n",
    "    for i in range(6):\n",
    "        hand = input_list[i].split()\n",
    "        hands.append(hand)\n",
    "    \n",
    "    # 結果を格納するリスト\n",
    "    pair_results = []\n",
    "    \n",
    "    # 各プレイヤーのペアとジョーカーを判定\n",
    "    joker_player = 0\n",
    "    for i in range(6):\n",
    "        # ジョーカー判定\n",
    "        if '☆' in hands[i]:\n",
    "            joker_player = i + 1\n",
    "            hands[i].remove('☆')\n",
    "        \n",
    "        # ペア判定用のリスト\n",
    "        ranks = []\n",
    "        for card in hands[i]:\n",
    "            ranks.append(card[1:])  # スートを除いたランク部分を追加\n",
    "        \n",
    "        # ペア判定\n",
    "        has_pair = False\n",
    "        for rank in ranks:\n",
    "            if ranks.count(rank) >= 2:\n",
    "                has_pair = True\n",
    "                break\n",
    "        \n",
    "        # 結果を追加\n",
    "        if has_pair:\n",
    "            pair_results.append(\"Yes\")\n",
    "        else:\n",
    "            pair_results.append(\"No\")\n",
    "    \n",
    "    # 結果を出力\n",
    "    output_list = [\n",
    "        \" \".join(pair_results),\n",
    "        str(joker_player)\n",
    "    ]\n",
    "    return output_list"
   ]
  },
  {
   "cell_type": "code",
   "execution_count": 84,
   "id": "c2bafefa-b1a4-463e-b132-5f10036ab1aa",
   "metadata": {
    "scrolled": true
   },
   "outputs": [
    {
     "name": "stdout",
     "output_type": "stream",
     "text": [
      "移動可能なデータがありません random_id=0\n",
      "移動可能なデータがありません random_id=489\n",
      "移動可能なデータがありません random_id=490\n",
      "移動可能なデータがありません random_id=522\n",
      "移動可能なデータがありません random_id=0\n",
      "移動可能なデータがありません random_id=0\n",
      "移動可能なデータがありません random_id=5\n",
      "done\n"
     ]
    }
   ],
   "source": [
    "def output_all(out_xz_filename):\n",
    "    all_inputs = []\n",
    "    all_outputs = []\n",
    "\n",
    "    for answer_id in range(COUNT_OF_SAMPLES):\n",
    "        all_inputs.append(get_random_inputs(all_inputs))\n",
    "        all_outputs.append(solve(all_inputs[answer_id]))        # 解答を求める\n",
    "\n",
    "    df_all = pd.DataFrame({\"in\":all_inputs, \"out\":all_outputs})\n",
    "    df_all.index += 1\n",
    "    os.makedirs(os.path.dirname(out_xz_filename), exist_ok=True)\n",
    "    df_all.to_csv(out_xz_filename)\n",
    "\n",
    "output_all(\"data/answer.csv.xz\")\n",
    "print('done')"
   ]
  },
  {
   "cell_type": "code",
   "execution_count": 86,
   "id": "4f8cc94d",
   "metadata": {},
   "outputs": [
    {
     "data": {
      "text/html": [
       "<div>\n",
       "<style scoped>\n",
       "    .dataframe tbody tr th:only-of-type {\n",
       "        vertical-align: middle;\n",
       "    }\n",
       "\n",
       "    .dataframe tbody tr th {\n",
       "        vertical-align: top;\n",
       "    }\n",
       "\n",
       "    .dataframe thead th {\n",
       "        text-align: right;\n",
       "    }\n",
       "</style>\n",
       "<table border=\"1\" class=\"dataframe\">\n",
       "  <thead>\n",
       "    <tr style=\"text-align: right;\">\n",
       "      <th></th>\n",
       "      <th>in</th>\n",
       "      <th>out</th>\n",
       "    </tr>\n",
       "  </thead>\n",
       "  <tbody>\n",
       "    <tr>\n",
       "      <th>1</th>\n",
       "      <td>['♡J ♤3 ♡2 ♤10 ♡10 ♧2 ♢5 ♡7 ☆', '♧9 ♧6 ♡9 ♤2 ♤...</td>\n",
       "      <td>['Yes Yes Yes Yes Yes Yes', '1']</td>\n",
       "    </tr>\n",
       "    <tr>\n",
       "      <th>2</th>\n",
       "      <td>['♧10 ♧9 ♡8 ♡7 ♤K ♤5 ♤Q ♧8', '♤10 ♡2 ♤7 ♧J ♧4 ...</td>\n",
       "      <td>['Yes Yes Yes Yes Yes Yes', '4']</td>\n",
       "    </tr>\n",
       "    <tr>\n",
       "      <th>3</th>\n",
       "      <td>['♡K ♢5 ♤Q ♡Q ♧7 ♧Q ♢A ♢K', '♧4 ♡4 ♢4 ♡10 ♢10 ...</td>\n",
       "      <td>['Yes Yes Yes Yes Yes Yes', '3']</td>\n",
       "    </tr>\n",
       "    <tr>\n",
       "      <th>4</th>\n",
       "      <td>['♤7 ♧5 ♡7 ♧4 ♤Q ☆ ♡4 ♤2 ♢K', '♡10 ♢9 ♢8 ♧10 ♧...</td>\n",
       "      <td>['Yes Yes Yes Yes Yes Yes', '1']</td>\n",
       "    </tr>\n",
       "    <tr>\n",
       "      <th>5</th>\n",
       "      <td>['♡4 ♧2 ♧7 ♧8 ♡K ♤6 ♡8 ♢10 ♤3', '♤9 ♢A ♡7 ♢2 ♤...</td>\n",
       "      <td>['Yes Yes Yes Yes Yes Yes', '2']</td>\n",
       "    </tr>\n",
       "    <tr>\n",
       "      <th>...</th>\n",
       "      <td>...</td>\n",
       "      <td>...</td>\n",
       "    </tr>\n",
       "    <tr>\n",
       "      <th>96</th>\n",
       "      <td>['♤5 ♤A ♤Q ♧10 ♧4 ♢8 ♡6 ♧Q ☆', '♡7 ♡3 ♤8 ♤2 ♡4...</td>\n",
       "      <td>['Yes Yes Yes Yes Yes Yes', '1']</td>\n",
       "    </tr>\n",
       "    <tr>\n",
       "      <th>97</th>\n",
       "      <td>['♧4 ♧7 ♢7 ♡10 ♡4 ♡9 ♤A ♤5 ♧A', '♧3 ♡2 ♢10 ♧8 ...</td>\n",
       "      <td>['Yes Yes Yes Yes Yes Yes', '6']</td>\n",
       "    </tr>\n",
       "    <tr>\n",
       "      <th>98</th>\n",
       "      <td>['♧3 ♤7 ♡9 ♤4 ♧10 ♧2 ♡6 ♢5 ♢8', '♢3 ♡J ♤K ♧4 ♢...</td>\n",
       "      <td>['No Yes Yes Yes Yes Yes', '3']</td>\n",
       "    </tr>\n",
       "    <tr>\n",
       "      <th>99</th>\n",
       "      <td>['♡2 ♢5 ♢2 ♢8 ♢10 ♡8 ♢A ♤8 ♤7', '♤4 ♢7 ♧5 ♡Q ♧...</td>\n",
       "      <td>['Yes No Yes Yes Yes No', '6']</td>\n",
       "    </tr>\n",
       "    <tr>\n",
       "      <th>100</th>\n",
       "      <td>['♢5 ♧10 ♧5 ♤K ♢9 ♤3 ♢K ♧A ♤8', '♤Q ♡8 ♤4 ♧6 ♤...</td>\n",
       "      <td>['Yes Yes Yes Yes Yes Yes', '3']</td>\n",
       "    </tr>\n",
       "  </tbody>\n",
       "</table>\n",
       "<p>100 rows × 2 columns</p>\n",
       "</div>"
      ],
      "text/plain": [
       "                                                    in  \\\n",
       "1    ['♡J ♤3 ♡2 ♤10 ♡10 ♧2 ♢5 ♡7 ☆', '♧9 ♧6 ♡9 ♤2 ♤...   \n",
       "2    ['♧10 ♧9 ♡8 ♡7 ♤K ♤5 ♤Q ♧8', '♤10 ♡2 ♤7 ♧J ♧4 ...   \n",
       "3    ['♡K ♢5 ♤Q ♡Q ♧7 ♧Q ♢A ♢K', '♧4 ♡4 ♢4 ♡10 ♢10 ...   \n",
       "4    ['♤7 ♧5 ♡7 ♧4 ♤Q ☆ ♡4 ♤2 ♢K', '♡10 ♢9 ♢8 ♧10 ♧...   \n",
       "5    ['♡4 ♧2 ♧7 ♧8 ♡K ♤6 ♡8 ♢10 ♤3', '♤9 ♢A ♡7 ♢2 ♤...   \n",
       "..                                                 ...   \n",
       "96   ['♤5 ♤A ♤Q ♧10 ♧4 ♢8 ♡6 ♧Q ☆', '♡7 ♡3 ♤8 ♤2 ♡4...   \n",
       "97   ['♧4 ♧7 ♢7 ♡10 ♡4 ♡9 ♤A ♤5 ♧A', '♧3 ♡2 ♢10 ♧8 ...   \n",
       "98   ['♧3 ♤7 ♡9 ♤4 ♧10 ♧2 ♡6 ♢5 ♢8', '♢3 ♡J ♤K ♧4 ♢...   \n",
       "99   ['♡2 ♢5 ♢2 ♢8 ♢10 ♡8 ♢A ♤8 ♤7', '♤4 ♢7 ♧5 ♡Q ♧...   \n",
       "100  ['♢5 ♧10 ♧5 ♤K ♢9 ♤3 ♢K ♧A ♤8', '♤Q ♡8 ♤4 ♧6 ♤...   \n",
       "\n",
       "                                  out  \n",
       "1    ['Yes Yes Yes Yes Yes Yes', '1']  \n",
       "2    ['Yes Yes Yes Yes Yes Yes', '4']  \n",
       "3    ['Yes Yes Yes Yes Yes Yes', '3']  \n",
       "4    ['Yes Yes Yes Yes Yes Yes', '1']  \n",
       "5    ['Yes Yes Yes Yes Yes Yes', '2']  \n",
       "..                                ...  \n",
       "96   ['Yes Yes Yes Yes Yes Yes', '1']  \n",
       "97   ['Yes Yes Yes Yes Yes Yes', '6']  \n",
       "98    ['No Yes Yes Yes Yes Yes', '3']  \n",
       "99     ['Yes No Yes Yes Yes No', '6']  \n",
       "100  ['Yes Yes Yes Yes Yes Yes', '3']  \n",
       "\n",
       "[100 rows x 2 columns]"
      ]
     },
     "execution_count": 86,
     "metadata": {},
     "output_type": "execute_result"
    }
   ],
   "source": [
    "df_answer = pd.read_csv(\"data/answer.csv.xz\", index_col=0)\n",
    "df_answer"
   ]
  },
  {
   "cell_type": "code",
   "execution_count": 94,
   "id": "2516460f-ceeb-4c7b-b6a6-7fb9d77395e7",
   "metadata": {},
   "outputs": [
    {
     "name": "stdout",
     "output_type": "stream",
     "text": [
      "♤Q ♡4 ♧J ♢2 ♡3 ♤7 ♡5 ♡9 ♤K\n",
      "☆ ♡2 ♡7 ♤10 ♤6 ♤8 ♤5 ♧A ♧4\n",
      "♧10 ♧3 ♢8 ♡A ♢4 ♡Q ♧K ♧2 ♢7\n",
      "♢10 ♢J ♢K ♤4 ♢Q ♡6 ♤9 ♢5\n",
      "♡K ♢9 ♡J ♧7 ♤A ♡8 ♢3 ♧Q ♧6\n",
      "♧8 ♢6 ♤J ♡10 ♤3 ♧5 ♢A ♧9 ♤2\n",
      "No No No No No No\n",
      "2\n"
     ]
    }
   ],
   "source": [
    "def output_answer (answer_id):\n",
    "    for input1 in eval(df_answer.loc[answer_id]['in']):\n",
    "        print(input1)\n",
    "    \n",
    "    for output1 in eval(df_answer.loc[answer_id]['out']):\n",
    "        print(output1)\n",
    "\n",
    "# すべてNoのケース\n",
    "output_answer(12)"
   ]
  },
  {
   "cell_type": "code",
   "execution_count": 96,
   "id": "a04ab991-0197-4519-9bc9-71b1b5e2a7cb",
   "metadata": {},
   "outputs": [
    {
     "data": {
      "text/html": [
       "<div>\n",
       "<style scoped>\n",
       "    .dataframe tbody tr th:only-of-type {\n",
       "        vertical-align: middle;\n",
       "    }\n",
       "\n",
       "    .dataframe tbody tr th {\n",
       "        vertical-align: top;\n",
       "    }\n",
       "\n",
       "    .dataframe thead th {\n",
       "        text-align: right;\n",
       "    }\n",
       "</style>\n",
       "<table border=\"1\" class=\"dataframe\">\n",
       "  <thead>\n",
       "    <tr style=\"text-align: right;\">\n",
       "      <th></th>\n",
       "      <th>in</th>\n",
       "      <th>out</th>\n",
       "    </tr>\n",
       "  </thead>\n",
       "  <tbody>\n",
       "    <tr>\n",
       "      <th>51</th>\n",
       "      <td>['♧9 ♡6 ♤K ♧7 ♤10 ♧5 ♡8 ♢7 ♢5', '♤9 ♡Q ♢10 ♤5 ...</td>\n",
       "      <td>['Yes Yes Yes Yes Yes Yes', '3']</td>\n",
       "    </tr>\n",
       "    <tr>\n",
       "      <th>52</th>\n",
       "      <td>['♡4 ♡7 ♤10 ♢A ♧Q ♢K ☆ ♢6 ♤8', '♢7 ♡6 ♧6 ♧7 ♤A...</td>\n",
       "      <td>['No Yes Yes Yes Yes No', '1']</td>\n",
       "    </tr>\n",
       "    <tr>\n",
       "      <th>53</th>\n",
       "      <td>['♧J ♡Q ♤3 ♢K ♢J ♤K ♧10 ♤6 ♧6', '♢5 ♡3 ♧Q ♡A ♢...</td>\n",
       "      <td>['Yes No No Yes Yes Yes', '4']</td>\n",
       "    </tr>\n",
       "    <tr>\n",
       "      <th>54</th>\n",
       "      <td>['♡5 ♤A ♤K ♤5 ♡6 ♢4 ♧A ♡2 ♢2', '♢A ♡Q ♡7 ♧5 ♢7...</td>\n",
       "      <td>['Yes Yes Yes Yes Yes Yes', '4']</td>\n",
       "    </tr>\n",
       "    <tr>\n",
       "      <th>55</th>\n",
       "      <td>['♡Q ♢Q ♤6 ♡3 ♧Q ♤3 ♧10 ♤A ♡10', '♢J ♤4 ♧7 ♧A ...</td>\n",
       "      <td>['Yes Yes Yes Yes Yes Yes', '5']</td>\n",
       "    </tr>\n",
       "    <tr>\n",
       "      <th>56</th>\n",
       "      <td>['♧4 ♧K ♤5 ♧2 ♤3 ♡10 ♧J ♢Q ♧7', '♡9 ♡4 ♡7 ♧6 ♤...</td>\n",
       "      <td>['No Yes Yes Yes Yes Yes', '5']</td>\n",
       "    </tr>\n",
       "    <tr>\n",
       "      <th>57</th>\n",
       "      <td>['♡2 ♡K ♡3 ♧10 ♧4 ♧6 ♤J ♧K ♤4', '♤8 ♢2 ♢7 ♢10 ...</td>\n",
       "      <td>['Yes Yes Yes Yes Yes Yes', '4']</td>\n",
       "    </tr>\n",
       "    <tr>\n",
       "      <th>58</th>\n",
       "      <td>['♡A ♤2 ♡10 ♡9 ♢5 ♤8 ♤5 ♧2', '♧5 ♧7 ♧A ♧Q ♧3 ♡...</td>\n",
       "      <td>['Yes Yes Yes Yes Yes Yes', '5']</td>\n",
       "    </tr>\n",
       "    <tr>\n",
       "      <th>59</th>\n",
       "      <td>['♧J ♤J ♧5 ♤3 ☆ ♧Q ♡6 ♢9 ♢3', '♧3 ♢A ♤9 ♧10 ♡Q...</td>\n",
       "      <td>['Yes Yes Yes Yes Yes Yes', '1']</td>\n",
       "    </tr>\n",
       "    <tr>\n",
       "      <th>60</th>\n",
       "      <td>['♡9 ♢9 ♧8 ♧A ♡8 ♧3 ♢2 ☆ ♡7', '♤9 ♡J ♧2 ♤A ♢8 ...</td>\n",
       "      <td>['Yes No Yes No Yes Yes', '1']</td>\n",
       "    </tr>\n",
       "  </tbody>\n",
       "</table>\n",
       "</div>"
      ],
      "text/plain": [
       "                                                   in  \\\n",
       "51  ['♧9 ♡6 ♤K ♧7 ♤10 ♧5 ♡8 ♢7 ♢5', '♤9 ♡Q ♢10 ♤5 ...   \n",
       "52  ['♡4 ♡7 ♤10 ♢A ♧Q ♢K ☆ ♢6 ♤8', '♢7 ♡6 ♧6 ♧7 ♤A...   \n",
       "53  ['♧J ♡Q ♤3 ♢K ♢J ♤K ♧10 ♤6 ♧6', '♢5 ♡3 ♧Q ♡A ♢...   \n",
       "54  ['♡5 ♤A ♤K ♤5 ♡6 ♢4 ♧A ♡2 ♢2', '♢A ♡Q ♡7 ♧5 ♢7...   \n",
       "55  ['♡Q ♢Q ♤6 ♡3 ♧Q ♤3 ♧10 ♤A ♡10', '♢J ♤4 ♧7 ♧A ...   \n",
       "56  ['♧4 ♧K ♤5 ♧2 ♤3 ♡10 ♧J ♢Q ♧7', '♡9 ♡4 ♡7 ♧6 ♤...   \n",
       "57  ['♡2 ♡K ♡3 ♧10 ♧4 ♧6 ♤J ♧K ♤4', '♤8 ♢2 ♢7 ♢10 ...   \n",
       "58  ['♡A ♤2 ♡10 ♡9 ♢5 ♤8 ♤5 ♧2', '♧5 ♧7 ♧A ♧Q ♧3 ♡...   \n",
       "59  ['♧J ♤J ♧5 ♤3 ☆ ♧Q ♡6 ♢9 ♢3', '♧3 ♢A ♤9 ♧10 ♡Q...   \n",
       "60  ['♡9 ♢9 ♧8 ♧A ♡8 ♧3 ♢2 ☆ ♡7', '♤9 ♡J ♧2 ♤A ♢8 ...   \n",
       "\n",
       "                                 out  \n",
       "51  ['Yes Yes Yes Yes Yes Yes', '3']  \n",
       "52    ['No Yes Yes Yes Yes No', '1']  \n",
       "53    ['Yes No No Yes Yes Yes', '4']  \n",
       "54  ['Yes Yes Yes Yes Yes Yes', '4']  \n",
       "55  ['Yes Yes Yes Yes Yes Yes', '5']  \n",
       "56   ['No Yes Yes Yes Yes Yes', '5']  \n",
       "57  ['Yes Yes Yes Yes Yes Yes', '4']  \n",
       "58  ['Yes Yes Yes Yes Yes Yes', '5']  \n",
       "59  ['Yes Yes Yes Yes Yes Yes', '1']  \n",
       "60    ['Yes No Yes No Yes Yes', '1']  "
      ]
     },
     "execution_count": 96,
     "metadata": {},
     "output_type": "execute_result"
    }
   ],
   "source": [
    "df_answer[50:60]"
   ]
  },
  {
   "cell_type": "code",
   "execution_count": 97,
   "id": "99be250b-ffc8-44dc-baa4-fa1e0ba426f0",
   "metadata": {},
   "outputs": [
    {
     "name": "stdout",
     "output_type": "stream",
     "text": [
      "♡9 ♢9 ♧8 ♧A ♡8 ♧3 ♢2 ☆ ♡7\n",
      "♤9 ♡J ♧2 ♤A ♢8 ♢K ♤4 ♢7\n",
      "♧6 ♡K ♧J ♡6 ♢5 ♧K ♤10 ♤Q ♢10\n",
      "♧5 ♤2 ♤3 ♢4 ♧9 ♧Q ♡A ♤8 ♤J\n",
      "♤7 ♡10 ♢J ♡5 ♢Q ♡2 ♤6 ♡3 ♧10\n",
      "♢3 ♢A ♡Q ♤K ♧7 ♤5 ♡4 ♢6 ♧4\n",
      "Yes No Yes No Yes Yes\n",
      "1\n"
     ]
    }
   ],
   "source": [
    "# Yes・Noが混在しているケース\n",
    "output_answer(60)"
   ]
  },
  {
   "cell_type": "code",
   "execution_count": 98,
   "id": "c52d6b2f-9138-4a6f-aca6-232069ac8b8b",
   "metadata": {},
   "outputs": [
    {
     "name": "stdout",
     "output_type": "stream",
     "text": [
      "♡2 ♡K ♡3 ♧10 ♧4 ♧6 ♤J ♧K ♤4\n",
      "♤8 ♢2 ♢7 ♢10 ♢J ♤7 ♤A ♢4 ♢3\n",
      "♢6 ♢K ♧2 ♡4 ♢Q ♤5 ♧Q ♤3 ♧J\n",
      "♧8 ☆ ♡8 ♧9 ♧5 ♡Q ♡6 ♡5 ♤Q\n",
      "♤6 ♡A ♧A ♧3 ♤K ♤10 ♡9 ♢5 ♤9\n",
      "♡7 ♧7 ♢A ♡J ♢9 ♡10 ♤2 ♢8\n",
      "Yes Yes Yes Yes Yes Yes\n",
      "4\n"
     ]
    }
   ],
   "source": [
    "# Yesのみのケース\n",
    "output_answer(57)"
   ]
  },
  {
   "cell_type": "code",
   "execution_count": null,
   "id": "932888bd-442c-48bd-9e58-7393b5ca763a",
   "metadata": {},
   "outputs": [],
   "source": []
  }
 ],
 "metadata": {
  "kernelspec": {
   "display_name": "Python 3 (ipykernel)",
   "language": "python",
   "name": "python3"
  },
  "language_info": {
   "codemirror_mode": {
    "name": "ipython",
    "version": 3
   },
   "file_extension": ".py",
   "mimetype": "text/x-python",
   "name": "python",
   "nbconvert_exporter": "python",
   "pygments_lexer": "ipython3",
   "version": "3.11.9"
  }
 },
 "nbformat": 4,
 "nbformat_minor": 5
}
