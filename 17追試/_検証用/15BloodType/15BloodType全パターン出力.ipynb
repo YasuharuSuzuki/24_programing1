{
 "cells": [
  {
   "cell_type": "markdown",
   "id": "e0f811d1",
   "metadata": {},
   "source": [
    "# BloodType全パターン出力"
   ]
  },
  {
   "cell_type": "code",
   "execution_count": 2,
   "id": "575f2e20-25b5-45c8-8739-fc6a0e5e36d9",
   "metadata": {},
   "outputs": [],
   "source": [
    "import os\n",
    "import random\n",
    "import pandas as pd\n",
    "\n",
    "ALL_BLOOD_TYPE = ['A','B','O','AB']"
   ]
  },
  {
   "cell_type": "code",
   "execution_count": 3,
   "id": "dd65b7be-c18b-432f-8c68-5e8ed9163aa1",
   "metadata": {},
   "outputs": [
    {
     "data": {
      "text/plain": [
       "[['A A'],\n",
       " ['A B'],\n",
       " ['A O'],\n",
       " ['A AB'],\n",
       " ['B A'],\n",
       " ['B B'],\n",
       " ['B O'],\n",
       " ['B AB'],\n",
       " ['O A'],\n",
       " ['O B'],\n",
       " ['O O'],\n",
       " ['O AB'],\n",
       " ['AB A'],\n",
       " ['AB B'],\n",
       " ['AB O'],\n",
       " ['AB AB']]"
      ]
     },
     "execution_count": 3,
     "metadata": {},
     "output_type": "execute_result"
    }
   ],
   "source": [
    "all_combinations = []\n",
    "for a in ALL_BLOOD_TYPE:\n",
    "    for b in ALL_BLOOD_TYPE:\n",
    "        all_combinations.append([f\"{a} {b}\"])\n",
    "all_combinations"
   ]
  },
  {
   "cell_type": "code",
   "execution_count": 4,
   "id": "b7228498-8305-4222-8451-4fdfdfa224b4",
   "metadata": {},
   "outputs": [
    {
     "data": {
      "text/plain": [
       "['A A']"
      ]
     },
     "execution_count": 4,
     "metadata": {},
     "output_type": "execute_result"
    }
   ],
   "source": [
    "def get_random_inputs(not_list=[]):\n",
    "    return all_combinations[len(not_list)]\n",
    "   \n",
    "get_random_inputs()"
   ]
  },
  {
   "cell_type": "code",
   "execution_count": 5,
   "id": "a42eca56-6234-47ba-8342-235563575d92",
   "metadata": {},
   "outputs": [],
   "source": [
    "def solve(input_list):\n",
    "    s_1, s_2 = input_list[0].split()\n",
    "    if 'AB' != s_1:  s_1 += 'O'\n",
    "    if 'AB' != s_2:  s_2 += 'O'\n",
    "    \n",
    "    s_all = s_1 + s_2\n",
    "    child_genotypes = []\n",
    "    if (('A' in s_1) and ('B' in s_2)) or (('B' in s_1) and ('A' in s_2)):\n",
    "        child_genotypes.append('AB')\n",
    "    if 'A' in s_all:\n",
    "        child_genotypes.append('A')\n",
    "    if 'B' in s_all:\n",
    "        child_genotypes.append('B')\n",
    "    if ('O' in s_1) and ('O' in s_2):  # O型は劣勢遺伝のため、2つ以上ないと子どもが生まれない\n",
    "        child_genotypes.append('O')\n",
    "    \n",
    "    return [' '.join(child_genotypes)]    # 結果を出力\n"
   ]
  },
  {
   "cell_type": "code",
   "execution_count": 6,
   "id": "c2bafefa-b1a4-463e-b132-5f10036ab1aa",
   "metadata": {
    "scrolled": true
   },
   "outputs": [
    {
     "name": "stdout",
     "output_type": "stream",
     "text": [
      "done\n"
     ]
    }
   ],
   "source": [
    "def output_all(out_xz_filename):\n",
    "    all_inputs = []\n",
    "    all_outputs = []\n",
    "\n",
    "    for answer_id in range(len(all_combinations)):\n",
    "        all_inputs.append(get_random_inputs(all_inputs))\n",
    "        all_outputs.append(solve(all_inputs[answer_id]))        # 解答を求める\n",
    "\n",
    "    df_all = pd.DataFrame({\"in\":all_inputs, \"out\":all_outputs})\n",
    "    df_all.index += 1\n",
    "    os.makedirs(os.path.dirname(out_xz_filename), exist_ok=True)\n",
    "    df_all.to_csv(out_xz_filename)\n",
    "\n",
    "output_all(\"data/answer.csv.xz\")\n",
    "print('done')"
   ]
  },
  {
   "cell_type": "code",
   "execution_count": null,
   "id": "4f8cc94d",
   "metadata": {},
   "outputs": [],
   "source": []
  },
  {
   "cell_type": "code",
   "execution_count": null,
   "id": "2516460f-ceeb-4c7b-b6a6-7fb9d77395e7",
   "metadata": {},
   "outputs": [],
   "source": []
  }
 ],
 "metadata": {
  "kernelspec": {
   "display_name": "Python 3 (ipykernel)",
   "language": "python",
   "name": "python3"
  },
  "language_info": {
   "codemirror_mode": {
    "name": "ipython",
    "version": 3
   },
   "file_extension": ".py",
   "mimetype": "text/x-python",
   "name": "python",
   "nbconvert_exporter": "python",
   "pygments_lexer": "ipython3",
   "version": "3.11.9"
  }
 },
 "nbformat": 4,
 "nbformat_minor": 5
}
