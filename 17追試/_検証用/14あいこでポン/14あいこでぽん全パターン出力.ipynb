{
 "cells": [
  {
   "cell_type": "markdown",
   "id": "e0f811d1",
   "metadata": {},
   "source": [
    "# あいこでぽん全パターン出力"
   ]
  },
  {
   "cell_type": "code",
   "execution_count": 1,
   "id": "575f2e20-25b5-45c8-8739-fc6a0e5e36d9",
   "metadata": {},
   "outputs": [],
   "source": [
    "import os\n",
    "import random\n",
    "import pandas as pd\n",
    "\n",
    "ALL_HAND = ['グー','チョキ','パー']"
   ]
  },
  {
   "cell_type": "code",
   "execution_count": 2,
   "id": "dd65b7be-c18b-432f-8c68-5e8ed9163aa1",
   "metadata": {},
   "outputs": [
    {
     "data": {
      "text/plain": [
       "[['グー', 'グー'],\n",
       " ['グー', 'チョキ'],\n",
       " ['グー', 'パー'],\n",
       " ['チョキ', 'グー'],\n",
       " ['チョキ', 'チョキ'],\n",
       " ['チョキ', 'パー'],\n",
       " ['パー', 'グー'],\n",
       " ['パー', 'チョキ'],\n",
       " ['パー', 'パー']]"
      ]
     },
     "execution_count": 2,
     "metadata": {},
     "output_type": "execute_result"
    }
   ],
   "source": [
    "all_combinations = []\n",
    "for a in ALL_HAND:\n",
    "    for b in ALL_HAND:\n",
    "        all_combinations.append([a,b])\n",
    "all_combinations"
   ]
  },
  {
   "cell_type": "code",
   "execution_count": 10,
   "id": "b7228498-8305-4222-8451-4fdfdfa224b4",
   "metadata": {},
   "outputs": [
    {
     "data": {
      "text/plain": [
       "['グー', 'グー']"
      ]
     },
     "execution_count": 10,
     "metadata": {},
     "output_type": "execute_result"
    }
   ],
   "source": [
    "def get_random_inputs(not_list=[]):\n",
    "    return all_combinations[len(not_list)]\n",
    "   \n",
    "get_random_inputs()"
   ]
  },
  {
   "cell_type": "code",
   "execution_count": 13,
   "id": "a42eca56-6234-47ba-8342-235563575d92",
   "metadata": {},
   "outputs": [],
   "source": [
    "def solve(input_list):\n",
    "    # print(input_list)\n",
    "    # 入力\n",
    "    first = input_list[0]\n",
    "    second = input_list[1]\n",
    "    \n",
    "    # じゃんけんの手を集合で用意\n",
    "    hands = {\"グー\", \"チョキ\", \"パー\"}\n",
    "    \n",
    "    # あいこになるパターン1: 全員同じ手\n",
    "    if first == second:\n",
    "        return [first]\n",
    "    # あいこになるパターン2: 全員異なる手\n",
    "    else:\n",
    "        # 使われていない手を求める\n",
    "        used_hands = {first, second}\n",
    "        remaining_hand = hands - used_hands\n",
    "        return [list(remaining_hand)[0]]"
   ]
  },
  {
   "cell_type": "code",
   "execution_count": 14,
   "id": "c2bafefa-b1a4-463e-b132-5f10036ab1aa",
   "metadata": {
    "scrolled": true
   },
   "outputs": [
    {
     "name": "stdout",
     "output_type": "stream",
     "text": [
      "done\n"
     ]
    }
   ],
   "source": [
    "def output_all(out_xz_filename):\n",
    "    all_inputs = []\n",
    "    all_outputs = []\n",
    "\n",
    "    for answer_id in range(len(all_combinations)):\n",
    "        all_inputs.append(get_random_inputs(all_inputs))\n",
    "        all_outputs.append(solve(all_inputs[answer_id]))        # 解答を求める\n",
    "\n",
    "    df_all = pd.DataFrame({\"in\":all_inputs, \"out\":all_outputs})\n",
    "    df_all.index += 1\n",
    "    os.makedirs(os.path.dirname(out_xz_filename), exist_ok=True)\n",
    "    df_all.to_csv(out_xz_filename)\n",
    "\n",
    "output_all(\"data/answer.csv.xz\")\n",
    "print('done')"
   ]
  },
  {
   "cell_type": "code",
   "execution_count": null,
   "id": "4f8cc94d",
   "metadata": {},
   "outputs": [],
   "source": []
  },
  {
   "cell_type": "code",
   "execution_count": null,
   "id": "2516460f-ceeb-4c7b-b6a6-7fb9d77395e7",
   "metadata": {},
   "outputs": [],
   "source": []
  }
 ],
 "metadata": {
  "kernelspec": {
   "display_name": "Python 3 (ipykernel)",
   "language": "python",
   "name": "python3"
  },
  "language_info": {
   "codemirror_mode": {
    "name": "ipython",
    "version": 3
   },
   "file_extension": ".py",
   "mimetype": "text/x-python",
   "name": "python",
   "nbconvert_exporter": "python",
   "pygments_lexer": "ipython3",
   "version": "3.11.9"
  }
 },
 "nbformat": 4,
 "nbformat_minor": 5
}
