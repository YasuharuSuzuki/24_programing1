{
 "cells": [
  {
   "cell_type": "markdown",
   "metadata": {},
   "source": [
    "<a href=\"https://colab.research.google.com/github/YasuharuSuzuki/24_programing1/blob/main/\" target=\"_parent\"><img src=\"https://colab.research.google.com/assets/colab-badge.svg\" alt=\"Open In Colab\"/></a>"
   ]
  },
  {
   "cell_type": "markdown",
   "metadata": {
    "id": "KSSJqXOosEeX"
   },
   "source": [
    "# 02 while文・for文・try文"
   ]
  },
  {
   "cell_type": "markdown",
   "metadata": {
    "id": "VRQcesdKsEec"
   },
   "source": [
    "## 四択問題\n",
    "- 以下の問題について、正解となる選択肢を出力してください"
   ]
  },
  {
   "cell_type": "markdown",
   "metadata": {},
   "source": [
    "---\n",
    "---\n",
    "---\n",
    "### 問6 次の繰り返しへ進む制御文 (3点)\n",
    "Pythonでループ処理の途中で、残りの処理をスキップして次の繰り返しに進むための制御文はどれですか？  \n",
    "\n",
    "    1. next  \n",
    "    2. continue  \n",
    "    3. for - else  \n",
    "    4. break  "
   ]
  },
  {
   "cell_type": "code",
   "execution_count": 1,
   "metadata": {
    "colab": {
     "base_uri": "https://localhost:8080/"
    },
    "executionInfo": {
     "elapsed": 265,
     "status": "ok",
     "timestamp": 1715146988599,
     "user": {
      "displayName": "鈴木康元",
      "userId": "15385942521303414593"
     },
     "user_tz": -540
    },
    "id": "_oiNYIaxsEed",
    "outputId": "c127d002-8e8c-45b3-d98b-c5304b00f17d"
   },
   "outputs": [
    {
     "name": "stdout",
     "output_type": "stream",
     "text": [
      "\n"
     ]
    }
   ],
   "source": [
    "# 解答の番号を出力してください\n",
    "print('')"
   ]
  },
  {
   "cell_type": "markdown",
   "metadata": {
    "id": "bP053hXUsEee"
   },
   "source": [
    "---\n",
    "---\n",
    "---\n",
    "### 問7 range (3点)  \n",
    "- 次のPythonコードの実行結果として正しいものはどれですか?\n",
    "\n",
    "```python\n",
    "for i in range(1,3):\n",
    "    print(i,end=\" \")　　　　　　\n",
    "```\n",
    "\n",
    "    1. 1　2　3  \n",
    "    2. 0　1　2  \n",
    "    3. 1　2  \n",
    "    4. 0　1　2　3  \n"
   ]
  },
  {
   "cell_type": "code",
   "execution_count": 2,
   "metadata": {
    "colab": {
     "base_uri": "https://localhost:8080/"
    },
    "executionInfo": {
     "elapsed": 255,
     "status": "ok",
     "timestamp": 1715147036615,
     "user": {
      "displayName": "鈴木康元",
      "userId": "15385942521303414593"
     },
     "user_tz": -540
    },
    "id": "8cg5YTLosEee",
    "outputId": "c6671804-b225-4341-ea70-8833bd5eb194"
   },
   "outputs": [
    {
     "name": "stdout",
     "output_type": "stream",
     "text": [
      "\n"
     ]
    }
   ],
   "source": [
    "# 解答の番号を出力してください\n",
    "print('')"
   ]
  },
  {
   "cell_type": "markdown",
   "metadata": {},
   "source": [
    "---\n",
    "---\n",
    "---\n",
    "### 問8 例外 (3点)\n",
    "\n",
    "try文のfinallyブロックに関する説明として、正しいものを選びなさい\n",
    "\n",
    "    1. finallyブロックは例外が発生した場合のみ実行される \n",
    "    2. finallyブロックは例外処理の最後に必ず実行される  \n",
    "    3. finallyブロックはelseブロックの前に記述する必要がある  \n",
    "    4. finallyブロックでは例外をキャッチすることができる  \n"
   ]
  },
  {
   "cell_type": "code",
   "execution_count": 3,
   "metadata": {
    "colab": {
     "base_uri": "https://localhost:8080/"
    },
    "executionInfo": {
     "elapsed": 278,
     "status": "ok",
     "timestamp": 1715147048787,
     "user": {
      "displayName": "鈴木康元",
      "userId": "15385942521303414593"
     },
     "user_tz": -540
    },
    "id": "y2CxWqMusEef",
    "outputId": "8129fcea-362e-4f33-d57b-529f8313a51f"
   },
   "outputs": [
    {
     "name": "stdout",
     "output_type": "stream",
     "text": [
      "\n"
     ]
    }
   ],
   "source": [
    "# 解答の番号を出力してください\n",
    "print('')"
   ]
  },
  {
   "cell_type": "markdown",
   "metadata": {
    "id": "sqzgb-X2sEef"
   },
   "source": [
    "---\n",
    "---\n",
    "---\n",
    "---\n",
    "---\n",
    "## アルゴリズム問題"
   ]
  },
  {
   "cell_type": "markdown",
   "metadata": {},
   "source": [
    "### 問9 ばばぬきのペア判定とジョーカー判定 (15点)\n",
    "\n",
    "### 問題文\n",
    "6人でババ抜きをプレイしています。  \n",
    "場札をどちらかのプレイヤーが引いた後の、各プレイヤーの手札が与えられます。  \n",
    "現在の状況から、以下の判定を行うプログラムを作成してください。  \n",
    "\n",
    "1. 各プレイヤーはペアを作れるカードを捨てられるか\n",
    "2. 誰が「ばば」を持っているか\n"
   ]
  },
  {
   "cell_type": "markdown",
   "metadata": {},
   "source": [
    "---\n",
    "---"
   ]
  },
  {
   "cell_type": "markdown",
   "metadata": {},
   "source": [
    "### 制約\n",
    "\n",
    "- 6名それぞれに入力されるカードは重複しません\n",
    "- ジョーカーが含まれており、☆で表現され、1枚のみ含まれています。ジョーカーのカードが「ばば」になります\n",
    "- ジョーカー以外のカードはスート ( ♡, ♧, ♤, ♢ ) ＋ ランク (A, 2, 3 ... 10, J, Q, K)の組み合わせで表現されます\n",
    "- 合計53枚のカードが有り、6名それぞれに8～9枚のカードが配られます\n",
    "- ペアとは、ランクが同じカードが２枚ある組み合わせです"
   ]
  },
  {
   "cell_type": "markdown",
   "metadata": {},
   "source": [
    "---\n",
    "---"
   ]
  },
  {
   "cell_type": "markdown",
   "metadata": {},
   "source": [
    "### 入力\n",
    "入力は以下の形式で標準入力から与えられます\n",
    "\n",
    "---\n",
    "$ S_1 $  \n",
    "$ S_2 $  \n",
    "$  : $  \n",
    "$ S_6 $  \n",
    "\n",
    "---\n",
    "\n",
    "\n",
    "Sは空白区切りの文字列"
   ]
  },
  {
   "cell_type": "markdown",
   "metadata": {},
   "source": [
    "---\n",
    "---"
   ]
  },
  {
   "cell_type": "markdown",
   "metadata": {},
   "source": [
    "### 出力\n",
    "\n",
    "以下の形式で2行を出力  \n",
    "1行目： 各プレイヤーがペアを捨てられる場合は\"Yes\"、できない場合は\"No\"をスペース区切りで出力  \n",
    "2行目： 「ばば」を持っているプレイヤーの番号（1～6）を出力  \n",
    "\n",
    "---\n",
    "$ P_1 \\quad P_2 ... P_6 $  \n",
    "$ B $  \n",
    "\n",
    "---"
   ]
  },
  {
   "cell_type": "markdown",
   "metadata": {},
   "source": [
    "---\n",
    "---\n",
    "\n",
    "### 入力例1\n",
    "---\n",
    "```python\n",
    "♡9 ♢9 ♧8 ♧A ♡8 ♧3 ♢2 ☆ ♡7\n",
    "♤9 ♡J ♧2 ♤A ♢8 ♢K ♤4 ♢7\n",
    "♧6 ♡K ♧J ♡6 ♢5 ♧K ♤10 ♤Q ♢10\n",
    "♧5 ♤2 ♤3 ♢4 ♧9 ♧Q ♡A ♤8 ♤J\n",
    "♤7 ♡10 ♢J ♡5 ♢Q ♡2 ♤6 ♡3 ♧10\n",
    "♢3 ♢A ♡Q ♤K ♧7 ♤5 ♡4 ♢6 ♧4\n",
    "```\n",
    "---\n",
    "\n",
    "### 出力例1\n",
    "---\n",
    "```python\n",
    "Yes No Yes No Yes Yes\n",
    "1\n",
    "```\n",
    "---\n",
    "\n",
    "- １人目：♡9♢9がペアのため \"Yes\"。ジョーカー☆を持っています  \n",
    "- ２人目：ペアなしのため \"No\"  \n",
    "- ３人目：♧6♡6、♡K♧K、♤10♢10がのため \"Yes\"  \n",
    "- ４人目：ペアなしのため\"No\"  \n",
    "- ５人目：♡10♧10がペアのため \"Yes\"  \n",
    "- ６人目：♡4♧4がペアのため \"Yes\"  \n",
    "  \n",
    "- 出力は１行目は上から順番にYes No Yes No Yes Yes、２行目は１と出力します  \n"
   ]
  },
  {
   "cell_type": "markdown",
   "metadata": {},
   "source": [
    "---\n",
    "---"
   ]
  },
  {
   "cell_type": "markdown",
   "metadata": {},
   "source": [
    "### 入力例2\n",
    "---\n",
    "```python\n",
    "♤Q ♡4 ♧J ♢2 ♡3 ♤7 ♡5 ♡9 ♤K\n",
    "☆ ♡2 ♡7 ♤10 ♤6 ♤8 ♤5 ♧A ♧4\n",
    "♧10 ♧3 ♢8 ♡A ♢4 ♡Q ♧K ♧2 ♢7\n",
    "♢10 ♢J ♢K ♤4 ♢Q ♡6 ♤9 ♢5\n",
    "♡K ♢9 ♡J ♧7 ♤A ♡8 ♢3 ♧Q ♧6\n",
    "♧8 ♢6 ♤J ♡10 ♤3 ♧5 ♢A ♧9 ♤2\n",
    "```\n",
    "---\n",
    "\n",
    "### 出力例2\n",
    "---\n",
    "```python\n",
    "No No No No No No\n",
    "2\n",
    "```\n",
    "---\n",
    "\n",
    "- 全員ペアなしのため、出力は１行目は No No No No No No\n",
    "- 2人目がジョーカー☆を持っているため2行目は2と出力します"
   ]
  },
  {
   "cell_type": "markdown",
   "metadata": {},
   "source": [
    "---\n",
    "---"
   ]
  },
  {
   "cell_type": "markdown",
   "metadata": {},
   "source": [
    "### 入力例3\n",
    "---\n",
    "```python\n",
    "♡2 ♡K ♡3 ♧10 ♧4 ♧6 ♤J ♧K ♤4\n",
    "♤8 ♢2 ♢7 ♢10 ♢J ♤7 ♤A ♢4 ♢3\n",
    "♢6 ♢K ♧2 ♡4 ♢Q ♤5 ♧Q ♤3 ♧J\n",
    "♧8 ☆ ♡8 ♧9 ♧5 ♡Q ♡6 ♡5 ♤Q\n",
    "♤6 ♡A ♧A ♧3 ♤K ♤10 ♡9 ♢5 ♤9\n",
    "♡7 ♧7 ♢A ♡J ♢9 ♡10 ♤2 ♢8\n",
    "```\n",
    "---\n",
    "\n",
    "### 出力例3\n",
    "---\n",
    "```python\n",
    "Yes Yes Yes Yes Yes Yes\n",
    "4\n",
    "```\n",
    "---\n",
    "\n",
    "- 全員ペアありのため、出力は１行目は Yes Yes Yes Yes Yes Yes\n",
    "- 4人目がジョーカー☆を持っているため2行目は4と出力します"
   ]
  },
  {
   "cell_type": "markdown",
   "metadata": {},
   "source": [
    "---\n",
    "---"
   ]
  },
  {
   "cell_type": "markdown",
   "metadata": {},
   "source": [
    "### ここ↓にPythonコードを記述してください"
   ]
  },
  {
   "cell_type": "code",
   "execution_count": 5,
   "metadata": {},
   "outputs": [
    {
     "name": "stdin",
     "output_type": "stream",
     "text": [
      " ♡2 ♡K ♡3 ♧10 ♧4 ♧6 ♤J ♧K ♤4\n",
      " ♤8 ♢2 ♢7 ♢10 ♢J ♤7 ♤A ♢4 ♢3\n",
      " ♢6 ♢K ♧2 ♡4 ♢Q ♤5 ♧Q ♤3 ♧J\n",
      " ♧8 ☆ ♡8 ♧9 ♧5 ♡Q ♡6 ♡5 ♤Q\n",
      " ♤6 ♡A ♧A ♧3 ♤K ♤10 ♡9 ♢5 ♤9\n",
      " ♡7 ♧7 ♢A ♡J ♢9 ♡10 ♤2 ♢8\n"
     ]
    },
    {
     "name": "stdout",
     "output_type": "stream",
     "text": [
      "Yes Yes Yes Yes Yes Yes\n",
      "4\n"
     ]
    }
   ],
   "source": [
    "\n"
   ]
  },
  {
   "cell_type": "markdown",
   "metadata": {
    "colab": {
     "base_uri": "https://localhost:8080/"
    },
    "executionInfo": {
     "elapsed": 268,
     "status": "ok",
     "timestamp": 1715147255303,
     "user": {
      "displayName": "鈴木康元",
      "userId": "15385942521303414593"
     },
     "user_tz": -540
    },
    "id": "AXmjTxIdsEeg",
    "outputId": "2e2c42b9-ea55-4aae-c6cf-38e3e3f47720"
   },
   "source": [
    "---\n",
    "---\n",
    "---\n",
    "### 問10 しんりゅう (20点)\n",
    "とあるRPGでその辺の宝箱を開けてみたところ、伝説のモンスター「しんりゅう」との戦闘が始まりました  \n",
    "1ターン目で初見殺しの「タイダルウエイブ」を、2ターン目で「いなづま」を放ってきます  \n",
    "伝説の武器「ラグナロク」を入手できるかどうか判定してください  "
   ]
  },
  {
   "cell_type": "markdown",
   "metadata": {},
   "source": [
    "### 制約\n",
    "- キャラクターは5人固定です\n",
    "- 各キャラクターの最大HPは1999以上9999以下の整数\n",
    "- 装備品は「珊瑚の指輪」「ダイアの鎧」の2種類。同じ装備を２つつけることは出来ません。\n",
    "- 各キャラクターは0個以上2個以下の装備品を持っています\n",
    "- タイダルウエイブの基本ダメージは5999以上7999以下の整数\n",
    "- いなづまの基本ダメージは3999以上5999以下の整数\n",
    "- 回復魔法による回復量は1499以上3999以下の整数"
   ]
  },
  {
   "cell_type": "markdown",
   "metadata": {
    "jp-MarkdownHeadingCollapsed": true
   },
   "source": [
    "### 入力\n",
    "入力は以下の形式で標準入力から与えられます。\n",
    "\n",
    "---\n",
    "\n",
    "$ H1 \\quad [E_{11}] \\quad [E_{12}] $   \n",
    "$ H1 \\quad [E_{21}] \\quad [E_{22}] $   \n",
    "$ H1 \\quad [E_{31}] \\quad [E_{32}] $   \n",
    "$ H1 \\quad [E_{41}] \\quad [E_{42}] $   \n",
    "$ H1 \\quad [E_{51}] \\quad [E_{52}] $   \n",
    "$ D1 \\quad D2 \\quad D3 \\quad D4 \\quad D5 $   \n",
    "$ R $   \n",
    "$ T1 \\quad T2 \\quad T3 \\quad T4 \\quad T5 $   \n",
    "\n",
    "---\n",
    "\n",
    "- Hi (1≤i≤5): i番目のキャラクターの最大HP\n",
    "- [Ei_1], [Ei_2] (1≤i≤5): i番目のキャラクターの装備品（スペース区切り、「珊瑚の指輪」もしくは「ダイアの鎧」 )\n",
    "\n",
    "  - 装備品が1つの場合はEi_1のみ、2つの場合はEi_1とEi_2が入力されます\n",
    "  - 装備品がない場合は最大HPのみが入力されます\n",
    "\n",
    "- D1～D5: 各キャラクターに対するタイダルウエイブの基本ダメージ\n",
    "- R: 回復魔法による回復量\n",
    "- T1～T5: 各キャラクターに対するいなづまの基本ダメージ\n"
   ]
  },
  {
   "cell_type": "markdown",
   "metadata": {},
   "source": [
    "### 出力\n",
    "3人以上生存していればラグナロク入手！、そうでなければ全滅した......と出力してください。"
   ]
  },
  {
   "cell_type": "markdown",
   "metadata": {},
   "source": [
    "---\n",
    "---"
   ]
  },
  {
   "cell_type": "markdown",
   "metadata": {},
   "source": [
    "### 入力例1\n",
    "---\n",
    "\n",
    "$ 6000 \\quad 珊瑚の指輪 \\quad ダイアの鎧 $   \n",
    "$ 6000 \\quad 珊瑚の指輪 \\quad ダイアの鎧 $  \n",
    "$ 6000 \\quad 珊瑚の指輪 \\quad ダイアの鎧 $  \n",
    "$ 4000 \\quad ダイアの鎧 $  \n",
    "$ 4000 \\quad ダイアの鎧 $  \n",
    "$ 7500 \\quad 7500 \\quad 7500 \\quad 7500 \\quad 7500 $  \n",
    "$ 3500 $  \n",
    "$ 4500 \\quad 4500 \\quad 4500 \\quad 4500 \\quad 4500 $  \n",
    "\n",
    "---\n",
    "\n",
    "### 出力例1\n",
    "---\n",
    "```\n",
    "ラグナロク入手！\n",
    "```\n",
    "---\n",
    "\n",
    "#### 解説\n",
    "以下の順で戦闘が進行します：  \n",
    "1. タイダルウエイブのダメージ計算  \n",
    "- 珊瑚の指輪装備時は受けるダメージが1/3になります  \n",
    "- キャラクタ1 damage=2500 hp=3500  \n",
    "- キャラクタ2 damage=2500 hp=3500   \n",
    "- キャラクタ3 damage=2500 hp=3500   \n",
    "- キャラクタ4 damage=7500 hp=-3500   \n",
    "- キャラクタ5 damage=7500 hp=-3500   \n",
    "最初のタイダルウエイブでキャラクタ4とキャラクタ5が死にました\n",
    "\n",
    "2. 生存者のHPを回復\n",
    "- キャラクタ1 hp=6000（回復量は3500ですが、最大HPの6000になります）    \n",
    "- キャラクタ2 hp=6000    \n",
    "- キャラクタ3 hp=6000\n",
    "最大HPを超えて回復することはできません  \n",
    "  \n",
    "3. いなづまのダメージ計算  \n",
    "- 珊瑚の指輪装備時は受けるダメージが2倍になります  \n",
    "- ダイアの鎧装備時は受けるダメージが1/3になります  \n",
    "- キャラクタ1 damage=3000 hp=3000  \n",
    "- キャラクタ2 damage=3000 hp=3000  \n",
    "- キャラクタ3 damage=3000 hp=3000  \n",
    "\n",
    "4. 生存者数の確認\n",
    "- 3人以上生存していれば勝利となります\n",
    "- 3名生き残ったので \"ラグナロク入手！\" と出力します \n"
   ]
  },
  {
   "cell_type": "markdown",
   "metadata": {},
   "source": [
    "---\n",
    "---"
   ]
  },
  {
   "cell_type": "markdown",
   "metadata": {},
   "source": [
    "### 入力例2\n",
    "---\n",
    "\n",
    "$ 5000 \\quad 珊瑚の指輪 $  \n",
    "$ 4000 \\quad ダイアの鎧 $  \n",
    "$ 6000 \\quad 珊瑚の指輪 \\quad ダイアの鎧 $  \n",
    "$ 3000 $  \n",
    "$ 9999 \\quad 珊瑚の指輪 $  \n",
    "$ 7000 \\quad 6500 \\quad 7500 \\quad 8000 \\quad 6000 $  \n",
    "$ 2000 $  \n",
    "$ 5000 \\quad 4500 \\quad 4000 \\quad 5500 \\quad 6000 $  \n",
    "\n",
    "---\n",
    "\n",
    "### 出力例2\n",
    "---\n",
    "```\n",
    "全滅した......\n",
    "```\n",
    "---\n",
    "\n",
    "#### 解説\n",
    "\n",
    "1. タイダルウエイブ\n",
    "- キャラクタ1 damage=2333 hp=2667  \n",
    "- キャラクタ2 damage=6500 hp=-2500   \n",
    "- キャラクタ3 damage=2500 hp=3500   \n",
    "- キャラクタ4 damage=8000 hp=-5000   \n",
    "- キャラクタ5 damage=2000 hp=-7999   \n",
    "最初のタイダルウエイブでキャラクタ2と4が死にました\n",
    "\n",
    "2. 生存者のHPを回復\n",
    "- キャラクタ1 hp=2000（回復量は3789ですが、最大HPの5000になります）    \n",
    "- キャラクタ3 hp=6000（回復量は3789ですが、最大HPの6000になります）       \n",
    "- キャラクタ5 hp=9999（回復量は3789ですが、最大HPの9999になります）       \n",
    "  \n",
    "3. いなづまのダメージ計算  \n",
    "- キャラクタ1 damage=10000 hp=-5000  \n",
    "- キャラクタ3 damage=2666 hp=3334  \n",
    "- キャラクタ5 damage=12000 hp=-2001  \n",
    "\n",
    "4. 生存者数の確認\n",
    "- 生存者は1名のみのため、戦闘継続は困難です。\n",
    "- \"全滅した......\" と出力します \n"
   ]
  },
  {
   "cell_type": "markdown",
   "metadata": {},
   "source": [
    "---\n",
    "---\n",
    "### ここ↓にPythonコードを記述してください"
   ]
  },
  {
   "cell_type": "code",
   "execution_count": 86,
   "metadata": {},
   "outputs": [
    {
     "name": "stdout",
     "output_type": "stream",
     "text": [
      "2121 ダイアの鎧\n",
      "8000 珊瑚の指輪\n",
      "3169 珊瑚の指輪 ダイアの鎧\n",
      "4375 ダイアの鎧\n",
      "3169 珊瑚の指輪 ダイアの鎧\n",
      "6753 6000 6999 6923 7005\n",
      "1999\n",
      "4144 3999 4252 4218 4249\n",
      "ラグナロク入手！\n"
     ]
    }
   ],
   "source": [
    "\n"
   ]
  }
 ],
 "metadata": {
  "colab": {
   "provenance": [
    {
     "file_id": "https://github.com/YasuharuSuzuki/24_programing2/blob/main/04%E8%BE%9E%E6%9B%B8/01%E8%BE%9E%E6%9B%B8%E3%82%92%E4%BD%9C%E3%82%8B.ipynb",
     "timestamp": 1715146358060
    }
   ]
  },
  "kernelspec": {
   "display_name": "Python 3 (ipykernel)",
   "language": "python",
   "name": "python3"
  },
  "language_info": {
   "codemirror_mode": {
    "name": "ipython",
    "version": 3
   },
   "file_extension": ".py",
   "mimetype": "text/x-python",
   "name": "python",
   "nbconvert_exporter": "python",
   "pygments_lexer": "ipython3",
   "version": "3.11.9"
  }
 },
 "nbformat": 4,
 "nbformat_minor": 4
}
