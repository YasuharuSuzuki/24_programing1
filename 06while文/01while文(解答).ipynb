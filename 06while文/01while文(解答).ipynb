{
 "cells": [
  {
   "cell_type": "markdown",
   "metadata": {
    "colab_type": "text",
    "id": "view-in-github"
   },
   "source": [
    "<a href=\"https://colab.research.google.com/github/YasuharuSuzuki/24_programing1/blob/main/\" target=\"_parent\"><img src=\"https://colab.research.google.com/assets/colab-badge.svg\" alt=\"Open In Colab\"/></a>"
   ]
  },
  {
   "cell_type": "markdown",
   "metadata": {},
   "source": [
    "# Section 6 while文\n",
    "条件が満たされている間繰り返す"
   ]
  },
  {
   "cell_type": "markdown",
   "metadata": {},
   "source": [
    "## while文 参考サイト\n",
    "### [参考サイト1 【Python早見表】 while文（条件付き反復）](https://chokkan.github.io/python/03control.html#while)\n",
    "- while文、continue文、break文、while-else文が簡単にわかりやすく説明されています。\n",
    "\n",
    "### [参考サイト2 【Python入門】 while文による繰り返し](https://utokyo-ipp.github.io/3/3-2.html#while%E6%96%87%E3%81%AB%E3%82%88%E3%82%8B%E7%B9%B0%E3%82%8A%E8%BF%94%E3%81%97)\n",
    "- こちらはfor文を中心に解説されているのでfor文を学んでから見ると良いでしょう。練習問題もあります。"
   ]
  },
  {
   "cell_type": "markdown",
   "metadata": {},
   "source": [
    "---\n",
    "---\n",
    "---"
   ]
  },
  {
   "cell_type": "markdown",
   "metadata": {},
   "source": [
    "## while文\n",
    "### while文とは？\n",
    "- 条件に応じて繰り返し処理を実行するにはwhile文を使います。\n",
    "- [Python早見表の説明](https://chokkan.github.io/python/03control.html#while)\n",
    "- 次回学ぶfor文も同じ繰り返し処理ですが、私はfor文の方が使用回数は多いと思います。\n",
    "  - 使った回数をカウントしたわけではありませんが、繰り返し回数が明確になっていない処理ではwhileを使用することが多い気がします。\n",
    "  - 逆に繰り返し回数が明確になっている処理（AIの学習用画像の一括読み込みや、AIの学習処理など）はfor文を使うことが多いです。"
   ]
  },
  {
   "cell_type": "markdown",
   "metadata": {},
   "source": [
    "---"
   ]
  },
  {
   "cell_type": "markdown",
   "metadata": {},
   "source": [
    "## サンプルプログラム1　while文\n",
    "- countを0で初期化し、5回繰り返すプログラムを作成してみましょう"
   ]
  },
  {
   "cell_type": "code",
   "execution_count": 1,
   "metadata": {},
   "outputs": [
    {
     "name": "stdout",
     "output_type": "stream",
     "text": [
      "while開始！\n",
      "whlie繰り返し中！ (count=0)\n",
      "whlie繰り返し中！ (count=1)\n",
      "whlie繰り返し中！ (count=2)\n",
      "whlie繰り返し中！ (count=3)\n",
      "whlie繰り返し中！ (count=4)\n",
      "while終了！\n"
     ]
    }
   ],
   "source": [
    "print(\"while開始！\")\n",
    "count = 0\n",
    "while count < 5:\n",
    "    print(f\"whlie繰り返し中！ (count={count})\")\n",
    "    count += 1\n",
    "print(\"while終了！\")"
   ]
  },
  {
   "cell_type": "markdown",
   "metadata": {},
   "source": [
    "### 説明\n",
    "- ```while開始!``` でプログラムを開始しています\n",
    "- countが5になるまでの間、```while繰り返し中！``` が実行されます。\n",
    "- countが5になると条件が満たされなくなり、whileループを抜けて ```while終了！``` と表示されます"
   ]
  },
  {
   "cell_type": "markdown",
   "metadata": {},
   "source": [
    "---"
   ]
  },
  {
   "cell_type": "markdown",
   "metadata": {},
   "source": [
    "## 練習プログラム1 (3点)\n",
    "- input()でループ回数を数字で受け取り、その回数分ループするプログラムを作成しましょう\n",
    "- サンプルプログラム１をベースに開始や繰り返し中、終了などを表示します"
   ]
  },
  {
   "cell_type": "markdown",
   "metadata": {},
   "source": [
    "#### こちら↓にプログラムを記述しましょう"
   ]
  },
  {
   "cell_type": "code",
   "execution_count": 2,
   "metadata": {},
   "outputs": [
    {
     "name": "stdin",
     "output_type": "stream",
     "text": [
      " 7\n"
     ]
    },
    {
     "name": "stdout",
     "output_type": "stream",
     "text": [
      "while開始！ (loop_count=7)\n",
      "whlie繰り返し中！ (count=0)\n",
      "whlie繰り返し中！ (count=1)\n",
      "whlie繰り返し中！ (count=2)\n",
      "whlie繰り返し中！ (count=3)\n",
      "whlie繰り返し中！ (count=4)\n",
      "whlie繰り返し中！ (count=5)\n",
      "whlie繰り返し中！ (count=6)\n",
      "while終了！\n"
     ]
    }
   ],
   "source": [
    "loop_count = int(input())\n",
    "print(f\"while開始！ (loop_count={loop_count})\")\n",
    "count = 0\n",
    "while count < loop_count:\n",
    "    print(f\"whlie繰り返し中！ (count={count})\")\n",
    "    count += 1\n",
    "print(\"while終了！\")"
   ]
  },
  {
   "cell_type": "markdown",
   "metadata": {},
   "source": [
    "### 動作確認\n",
    "- 最初にinputでループ回数を取得します。\n",
    "- ```while開始!``` でプログラムを開始します。その時にループ回数も表示しましょう\n",
    "- countがループ回数になるまでの間、```while繰り返し中！``` が実行されます。\n",
    "- countがループ回数に達すると条件が満たされなくなり、whileループを抜けて ```while終了！``` と表示されます\n",
    "- マイナス値を入力すると１回も実行されないことも確認してみましょう\n",
    "- 1万など大きな値を入力すると実行に時間がかかることも確認しましょう（計算量を意識しましょう）"
   ]
  },
  {
   "cell_type": "markdown",
   "metadata": {},
   "source": [
    "---\n",
    "---\n",
    "---"
   ]
  },
  {
   "cell_type": "markdown",
   "metadata": {},
   "source": [
    "## break文\n",
    "- while文による繰り返し実行中にbreak文を実行すると、以降の処理を実行せずに繰り返しを終了します。\n",
    "- 終了条件をループ文中に好きなだけ追加できるため、比較的よく使用します。"
   ]
  },
  {
   "cell_type": "markdown",
   "metadata": {},
   "source": [
    "---"
   ]
  },
  {
   "cell_type": "markdown",
   "metadata": {},
   "source": [
    "## サンプルプログラム2　break文\n",
    "- while文の途中のif文で、```count``` 変数が3以上になるかどうかを確認しています\n",
    "- countが3になるとbreak文を実行し、繰り返しを終了します"
   ]
  },
  {
   "cell_type": "code",
   "execution_count": 3,
   "metadata": {},
   "outputs": [
    {
     "name": "stdout",
     "output_type": "stream",
     "text": [
      "while開始！\n",
      "whlie繰り返し中！ (count=0)\n",
      "whlie繰り返し中！ (count=1)\n",
      "whlie繰り返し中！ (count=2)\n",
      "whlie繰り返し中！ (count=3)\n",
      "break実行！ループを抜けます (count=3)\n",
      "while終了！\n"
     ]
    }
   ],
   "source": [
    "print(\"while開始！\")\n",
    "count = 0\n",
    "while count < 9:\n",
    "    print(f\"whlie繰り返し中！ (count={count})\")\n",
    "    if count >= 3:\n",
    "        print(f\"break実行！ループを抜けます (count={count})\")\n",
    "        break\n",
    "    count += 1\n",
    "print(\"while終了！\")"
   ]
  },
  {
   "cell_type": "markdown",
   "metadata": {},
   "source": [
    "### 説明\n",
    "- ```while開始!``` でプログラムを開始しています\n",
    "- countが3になるまでの間、```while繰り返し中！``` が実行されます。\n",
    "- countが3になるとif文の中が実行され、```break実行！ループを抜けます``` と表示したあと<b>break文を実行</b>してループを抜けます。\n",
    "- whileループを抜けたあと ```while終了！``` と表示します。"
   ]
  },
  {
   "cell_type": "markdown",
   "metadata": {},
   "source": [
    "---"
   ]
  },
  {
   "cell_type": "markdown",
   "metadata": {},
   "source": [
    "### 練習プログラム2 (3点)\n",
    "- input()で初期値、ループ回数、break番号を空白区切りで受け取り、サンプルプログラム２のように表示するプログラムを作成してみましょう\n",
    "\n",
    "#### 空白区切りの整数値の受取り\n",
    "- 空白区切りの整数値を受け取るには ```map(int,input().split())``` を使用しましょう。\n",
    "- この処理は、空白区切りの文字列を空白で分割し、整数値に変換する処理になります。\n",
    "- 以下のように処理を分けて考えると理解しやすいです\n",
    "```python\n",
    "str_value = input()  # 文字列を受け取る（例: 0 5 3）\n",
    "str_list = str_value.split()  # split()関数を使用して空白で値を分割し、リストという複数の値を格納可能な形に変換します（リストについては後の章で詳しく扱います）\n",
    "int_list = map(int,str_list)  # map()関数を使用して、リストをすべてintに変換します\n",
    "init_num, loop_count, break_num = int_list  # アンパック、というリスト内の複数の整数値を、各変数に格納します\n",
    "```\n",
    "- 上記の処理を１行で記述すると ```init_num, loop_count, break_num = map(int,input().split())``` となります。"
   ]
  },
  {
   "cell_type": "markdown",
   "metadata": {},
   "source": [
    "#### こちら↓にプログラムを記述しましょう"
   ]
  },
  {
   "cell_type": "code",
   "execution_count": 4,
   "metadata": {},
   "outputs": [
    {
     "name": "stdin",
     "output_type": "stream",
     "text": [
      " 11 25 18\n"
     ]
    },
    {
     "name": "stdout",
     "output_type": "stream",
     "text": [
      "whlie繰り返し中！ (count=11)\n",
      "whlie繰り返し中！ (count=12)\n",
      "whlie繰り返し中！ (count=13)\n",
      "whlie繰り返し中！ (count=14)\n",
      "whlie繰り返し中！ (count=15)\n",
      "whlie繰り返し中！ (count=16)\n",
      "whlie繰り返し中！ (count=17)\n",
      "whlie繰り返し中！ (count=18)\n",
      "break実行！ループを抜けます (count=18)\n",
      "while終了！\n"
     ]
    }
   ],
   "source": [
    "init_num, loop_count, break_num = map(int,input().split())\n",
    "count = init_num\n",
    "while count < loop_count:\n",
    "    print(f\"whlie繰り返し中！ (count={count})\")\n",
    "    if count >= break_num:\n",
    "        print(f\"break実行！ループを抜けます (count={count})\")\n",
    "        break\n",
    "    count += 1\n",
    "print(\"while終了！\")"
   ]
  },
  {
   "cell_type": "markdown",
   "metadata": {},
   "source": [
    "### 説明\n",
    "- 初期値 < ループ回数　かつ　break番号 < ループ回数 の場合に（break番号-初期値)分ループが繰り返され、breakが実行されます。\n",
    "- 初期値 >= ループ回数の場合、一度もループは実行されません。"
   ]
  },
  {
   "cell_type": "markdown",
   "metadata": {},
   "source": [
    "### 練習プログラム2 ヒント\n",
    "- 減点になる方は、input()で受け取った初期値が反映されていないケースが多いです\n",
    "- それよりは少ないですが、ループ回数やbreak番号が反映されておらずに減点されるケースも見受けられます\n",
    "\n",
    "#### 出力結果のヒント\n",
    "\n",
    "「こちら↓にプログラムを記述しましょう」のセルの下に以下のような出力結果のサンプルがあります\n",
    "\n",
    "```\n",
    " 11 25 18\n",
    "whlie繰り返し中！ (count=11)\n",
    "whlie繰り返し中！ (count=12)\n",
    "whlie繰り返し中！ (count=13)\n",
    "whlie繰り返し中！ (count=14)\n",
    "whlie繰り返し中！ (count=15)\n",
    "whlie繰り返し中！ (count=16)\n",
    "whlie繰り返し中！ (count=17)\n",
    "whlie繰り返し中！ (count=18)\n",
    "break実行！ループを抜けます (count=18)\n",
    "while終了！\n",
    "```\n",
    "\n",
    "同じ入力が与えられた時の出力結果として参考になるので活用しましょう  \n",
    "消えてしまった方はGithubのソースを見ると良いでしょう  "
   ]
  },
  {
   "cell_type": "markdown",
   "metadata": {},
   "source": [
    "---\n",
    "---\n",
    "---"
   ]
  },
  {
   "cell_type": "markdown",
   "metadata": {},
   "source": [
    "## continue文\n",
    "- while文による繰り返し実行中にcontinue文を実行すると、以降の処理を実行せずに繰り返し処理を継続します。\n",
    "- 比較的複雑なループ文で使うことが多いですかね"
   ]
  },
  {
   "cell_type": "markdown",
   "metadata": {},
   "source": [
    "---"
   ]
  },
  {
   "cell_type": "markdown",
   "metadata": {},
   "source": [
    "### サンプルプログラム3\n",
    "- while文の中で最初にcountを+1したあと、countが3の倍数の場合は\"continue実行！\"と表示して<b>continue文を実行</b>し、繰り返し処理を継続します。\n",
    "- countが3倍数以外の時は\"while繰り返し中！\"と表示します。（通常のループ処理を実行)"
   ]
  },
  {
   "cell_type": "code",
   "execution_count": 5,
   "metadata": {},
   "outputs": [
    {
     "name": "stdout",
     "output_type": "stream",
     "text": [
      "while開始！\n",
      "whlie繰り返し中！ (count=1)\n",
      "whlie繰り返し中！ (count=2)\n",
      "continue実行！ (count=3)\n",
      "whlie繰り返し中！ (count=4)\n",
      "whlie繰り返し中！ (count=5)\n",
      "continue実行！ (count=6)\n",
      "whlie繰り返し中！ (count=7)\n",
      "whlie繰り返し中！ (count=8)\n",
      "continue実行！ (count=9)\n",
      "while終了！\n"
     ]
    }
   ],
   "source": [
    "print(\"while開始！\")\n",
    "count = 0\n",
    "while count < 9:\n",
    "    count += 1\n",
    "    if (count%3) == 0:\n",
    "        print(f\"continue実行！ (count={count})\")\n",
    "        continue\n",
    "    print(f\"whlie繰り返し中！ (count={count})\")\n",
    "print(\"while終了！\")"
   ]
  },
  {
   "cell_type": "markdown",
   "metadata": {},
   "source": [
    "---"
   ]
  },
  {
   "cell_type": "markdown",
   "metadata": {},
   "source": [
    "### 練習プログラム3 (2点)\n",
    "input()で初期値、ループ回数、continue倍数を空白区切りで受け取り、サンプルプログラム３のように表示するプログラムを作成してみましょう"
   ]
  },
  {
   "cell_type": "code",
   "execution_count": 6,
   "metadata": {},
   "outputs": [
    {
     "name": "stdin",
     "output_type": "stream",
     "text": [
      " 13 30 7\n"
     ]
    },
    {
     "name": "stdout",
     "output_type": "stream",
     "text": [
      "while開始！\n",
      "continue実行！ (count=14)\n",
      "whlie繰り返し中！ (count=15)\n",
      "whlie繰り返し中！ (count=16)\n",
      "whlie繰り返し中！ (count=17)\n",
      "whlie繰り返し中！ (count=18)\n",
      "whlie繰り返し中！ (count=19)\n",
      "whlie繰り返し中！ (count=20)\n",
      "continue実行！ (count=21)\n",
      "whlie繰り返し中！ (count=22)\n",
      "whlie繰り返し中！ (count=23)\n",
      "whlie繰り返し中！ (count=24)\n",
      "whlie繰り返し中！ (count=25)\n",
      "whlie繰り返し中！ (count=26)\n",
      "whlie繰り返し中！ (count=27)\n",
      "continue実行！ (count=28)\n",
      "whlie繰り返し中！ (count=29)\n",
      "whlie繰り返し中！ (count=30)\n",
      "while終了！\n"
     ]
    }
   ],
   "source": [
    "init_num, loop_count, continue_pow = map(int,input().split())\n",
    "print(\"while開始！\")\n",
    "count = init_num\n",
    "while count < loop_count:\n",
    "    count += 1\n",
    "    if (count%continue_pow) == 0:\n",
    "        print(f\"continue実行！ (count={count})\")\n",
    "        continue\n",
    "    print(f\"whlie繰り返し中！ (count={count})\")\n",
    "print(\"while終了！\")"
   ]
  },
  {
   "cell_type": "markdown",
   "metadata": {},
   "source": [
    "- continue倍数の時だけcontinueが実行され、すぐに次のループを実行します。"
   ]
  },
  {
   "cell_type": "markdown",
   "metadata": {},
   "source": [
    "### 練習プログラム3 ヒント\n",
    "- 減点になる方は、input()で受け取った初期値が反映されていないケースが多いです\n",
    "- それよりは少ないですが、ループ回数やcontinue倍数が反映されておらずに減点されるケースも見受けられます\n",
    "\n",
    "#### 出力結果のヒント\n",
    "\n",
    "「こちら↓にプログラムを記述しましょう」のセルの下に以下のような出力結果のサンプルがあります\n",
    "\n",
    "```\n",
    " 11 19 3\n",
    "while開始！\n",
    "continue実行！ (count=12)\n",
    "whlie繰り返し中！ (count=13)\n",
    "whlie繰り返し中！ (count=14)\n",
    "continue実行！ (count=15)\n",
    "whlie繰り返し中！ (count=16)\n",
    "whlie繰り返し中！ (count=17)\n",
    "continue実行！ (count=18)\n",
    "whlie繰り返し中！ (count=19)\n",
    "while終了！\n",
    "```\n",
    "\n",
    "同じ入力が与えられた時の出力結果として参考になるので活用しましょう  \n",
    "消えてしまった方はGithubのソースを見ると良いでしょう  "
   ]
  },
  {
   "cell_type": "markdown",
   "metadata": {},
   "source": [
    "---\n",
    "---\n",
    "---"
   ]
  },
  {
   "cell_type": "markdown",
   "metadata": {},
   "source": [
    "## while 〜 else文\n",
    "- while文による繰り返しを終了した後で実行する処理をelseブロックにて記述することが出来ます。\n",
    "- break文によってループを中断した時はelseブロックは実行されません。\n",
    "- 普段ほとんど使用しませんが、ループを全部終わらせた時や、最初の条件に見合わない可能性がある時に使うことがあります。"
   ]
  },
  {
   "cell_type": "markdown",
   "metadata": {},
   "source": [
    "---"
   ]
  },
  {
   "cell_type": "markdown",
   "metadata": {},
   "source": [
    "### サンプルプログラム4　 while 〜 else文\n",
    "- input()でbreak番号を受け取り、サンプルプログラム２のように表示するプログラムを作成してみましょう\n",
    "- while文中でcountがbreak番号以上の場合は ```break実行！ループを抜けます``` と表示して<b>break文を実行</b>し、繰り返し処理を終了します。\n",
    "- breakしない間は ```while繰り返し中！``` と表示します。（通常のループ処理を実行)\n",
    "- breakせずにループを終了した場合は ```while 〜 elseブロック実行！``` と表示します"
   ]
  },
  {
   "cell_type": "code",
   "execution_count": 7,
   "metadata": {},
   "outputs": [
    {
     "name": "stdin",
     "output_type": "stream",
     "text": [
      " 3\n"
     ]
    },
    {
     "name": "stdout",
     "output_type": "stream",
     "text": [
      "while開始！\n",
      "whlie繰り返し中！ (count=0)\n",
      "whlie繰り返し中！ (count=1)\n",
      "whlie繰り返し中！ (count=2)\n",
      "break実行！ループを抜けます (count=3)\n",
      "while終了！\n"
     ]
    }
   ],
   "source": [
    "break_num = int(input())\n",
    "print(\"while開始！\")\n",
    "count = 0\n",
    "while count < 5:\n",
    "    if count >= break_num:\n",
    "        print(f\"break実行！ループを抜けます (count={count})\")\n",
    "        break\n",
    "    print(f\"whlie繰り返し中！ (count={count})\")\n",
    "    count += 1\n",
    "else:\n",
    "    print(\"while 〜 elseブロック実行！\")\n",
    "print(\"while終了！\")"
   ]
  },
  {
   "cell_type": "markdown",
   "metadata": {},
   "source": [
    "### 説明\n",
    "- input()にてbreak番号を受け取り、break_numに格納します。\n",
    "- \"while開始!\"でループを開始します\n",
    "- countが5になるまでの間、\"while繰り返し中！\"が実行されます。\n",
    "- break番号が5より小さい場合\n",
    "  - countがbreak番号になるとif文の中が実行され、\"break実行！ループを抜けます\"と表示したあと<b>break文を実行</b>してループを抜けます。\n",
    "  - この時は<b>while 〜 elseブロックが実行されない</b>\n",
    "- break番号が5以上の場合\n",
    "  - この時はbreakが実行されないため<b>while 〜 elseブロックが実行</b>され、\"while 〜 elseブロック実行！\"と表示します。\n",
    "- whileループを抜けたあと\"while終了！\"と表示します。"
   ]
  },
  {
   "cell_type": "markdown",
   "metadata": {},
   "source": [
    "---"
   ]
  },
  {
   "cell_type": "markdown",
   "metadata": {},
   "source": [
    "### 練習プログラム4 (1点)\n",
    "- input()でループ回数、倍数1、倍数2を空白区切りのint値で受け取ります。\n",
    "- 受け取った各値をprint文で表示します。\n",
    "- countは初期値1から開始し、倍数1の倍数になった時はFizz、倍数2の倍数になった時はBuzz、倍数1と倍数2両方の倍数になった時はFizzBuzzと表示します\n",
    "  - どちらの倍数にもならない場合は\"while繰り返し中！\"と表示します。\n",
    "- FizzBuzzの表示回数をカウントし、5回に達した時は\"break実行！ループを抜けます\"と表示後にbreak文を実行してループを抜けます\n",
    "- break文を実行せずにループを終了した場合は \"while 〜 elseブロック実行！\" と表示します。\n",
    "\n",
    "#### こちら↓にプログラムを記述しましょう"
   ]
  },
  {
   "cell_type": "code",
   "execution_count": 2,
   "metadata": {
    "scrolled": true
   },
   "outputs": [
    {
     "name": "stdin",
     "output_type": "stream",
     "text": [
      " 35 2 3\n"
     ]
    },
    {
     "name": "stdout",
     "output_type": "stream",
     "text": [
      "while開始！ (loop_count=35、pow1=2、pow2=3)\n",
      "whlie繰り返し中！ (count=1)\n",
      "Fizz！ (count=2)\n",
      "Buzz！ (count=3)\n",
      "Fizz！ (count=4)\n",
      "whlie繰り返し中！ (count=5)\n",
      "FizzBuzz！ (count=6、fizz_buzz_count=1)\n",
      "whlie繰り返し中！ (count=7)\n",
      "Fizz！ (count=8)\n",
      "Buzz！ (count=9)\n",
      "Fizz！ (count=10)\n",
      "whlie繰り返し中！ (count=11)\n",
      "FizzBuzz！ (count=12、fizz_buzz_count=2)\n",
      "whlie繰り返し中！ (count=13)\n",
      "Fizz！ (count=14)\n",
      "Buzz！ (count=15)\n",
      "Fizz！ (count=16)\n",
      "whlie繰り返し中！ (count=17)\n",
      "FizzBuzz！ (count=18、fizz_buzz_count=3)\n",
      "whlie繰り返し中！ (count=19)\n",
      "Fizz！ (count=20)\n",
      "Buzz！ (count=21)\n",
      "Fizz！ (count=22)\n",
      "whlie繰り返し中！ (count=23)\n",
      "FizzBuzz！ (count=24、fizz_buzz_count=4)\n",
      "whlie繰り返し中！ (count=25)\n",
      "Fizz！ (count=26)\n",
      "Buzz！ (count=27)\n",
      "Fizz！ (count=28)\n",
      "whlie繰り返し中！ (count=29)\n",
      "FizzBuzz！ (count=30、fizz_buzz_count=5)\n",
      "break実行！ループを抜けます (count=30)\n",
      "while終了！\n"
     ]
    }
   ],
   "source": [
    "count = 1\n",
    "fizz_buzz_count = 0\n",
    "loop_count, pow1, pow2 = map(int,input().split())\n",
    "pow12 = pow1 * pow2\n",
    "print(f\"while開始！ (loop_count={loop_count}、pow1={pow1}、pow2={pow2})\")\n",
    "while count < loop_count:\n",
    "    if (count%pow12) == 0:\n",
    "        fizz_buzz_count += 1\n",
    "        print(f\"FizzBuzz！ (count={count}、fizz_buzz_count={fizz_buzz_count})\")\n",
    "        if fizz_buzz_count == 5:\n",
    "            print(f\"break実行！ループを抜けます (count={count})\")\n",
    "            break\n",
    "    elif (count%pow1) == 0:\n",
    "        print(f\"Fizz！ (count={count})\")\n",
    "    elif (count%pow2) == 0:\n",
    "        print(f\"Buzz！ (count={count})\")\n",
    "    else:\n",
    "        print(f\"whlie繰り返し中！ (count={count})\")\n",
    "    count += 1\n",
    "else:\n",
    "    print(\"while 〜 elseブロック実行！\")\n",
    "print(\"while終了！\")"
   ]
  },
  {
   "cell_type": "markdown",
   "metadata": {},
   "source": [
    "#### 練習プログラム4　ヒント\n",
    "FizzBuzz難しいと思うのですが、以下の手順でじっくり考えてみましょう\n",
    "1. 受け取ったループ回数でループするプログラムを作りましょう\n",
    "2. 次に受け取った倍数1と倍数2を使って \"Fizz\"と\"Buzz\"、\"FizzBuzz\"を表示するプログラムを作りましょう\n",
    "3. 次に \"FizzBuzz\" の表示回数をカウントするプログラムを作りましょう\n",
    "4. 次に \"FizzBuzz\" の表示回数が5回になったらbreakを実行するプログラムを作りましょう。メッセージも忘れずに。\n",
    "5. 最後に else 文を作って、メッセージを出力するプログラムを作りましょう"
   ]
  },
  {
   "cell_type": "markdown",
   "metadata": {},
   "source": [
    "##### 動作確認\n",
    "1. 動作確認してみましょう。35 2 3 と入力して、2の倍数の時に\"Fizz\"、3の倍数の時に\"Buzz\"、6の倍数のときに\"FizzBuzz\"と出力されることを確認しましょう。30でbreakが実行されることも確認しましょう。break時のメッセージが表示されるはずです。\n",
    "2. 次に 25 2 3 と入力して、else文が実行されることを確認しましょう。else時のメッセージが表示されるはずです。"
   ]
  },
  {
   "cell_type": "markdown",
   "metadata": {},
   "source": [
    "##### 出力結果のヒント\n",
    "\n",
    "「こちら↓にプログラムを記述しましょう」のセルの下に以下のような出力結果のサンプルがあります\n",
    "\n",
    "```\n",
    " 35 2 3\n",
    "while開始！ (loop_count=35、pow1=2、pow2=3)\n",
    "whlie繰り返し中！ (count=1)\n",
    "Fizz！ (count=2)\n",
    "Buzz！ (count=3)\n",
    "Fizz！ (count=4)\n",
    "whlie繰り返し中！ (count=5)\n",
    "FizzBuzz！ (count=6、fizz_buzz_count=1)\n",
    "　︰\n",
    "（省略）\n",
    "```\n",
    "\n",
    "同じ入力が与えられた時の出力結果として参考になるので活用しましょう  \n",
    "消えてしまった方はGithubのソースを見ると良いでしょう  "
   ]
  },
  {
   "cell_type": "code",
   "execution_count": null,
   "metadata": {},
   "outputs": [],
   "source": []
  },
  {
   "cell_type": "code",
   "execution_count": null,
   "metadata": {},
   "outputs": [],
   "source": []
  }
 ],
 "metadata": {
  "colab": {
   "authorship_tag": "ABX9TyMOtB7OiTVLb+yu2KoVwjto",
   "include_colab_link": true,
   "provenance": []
  },
  "kernelspec": {
   "display_name": "Python 3 (ipykernel)",
   "language": "python",
   "name": "python3"
  },
  "language_info": {
   "codemirror_mode": {
    "name": "ipython",
    "version": 3
   },
   "file_extension": ".py",
   "mimetype": "text/x-python",
   "name": "python",
   "nbconvert_exporter": "python",
   "pygments_lexer": "ipython3",
   "version": "3.11.9"
  }
 },
 "nbformat": 4,
 "nbformat_minor": 4
}
