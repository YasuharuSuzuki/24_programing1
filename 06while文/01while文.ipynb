{
 "cells": [
  {
   "cell_type": "markdown",
   "metadata": {
    "colab_type": "text",
    "id": "view-in-github"
   },
   "source": [
    "<a href=\"https://colab.research.google.com/github/YasuharuSuzuki/24_programing1/blob/main/\" target=\"_parent\"><img src=\"https://colab.research.google.com/assets/colab-badge.svg\" alt=\"Open In Colab\"/></a>"
   ]
  },
  {
   "cell_type": "markdown",
   "metadata": {},
   "source": [
    "# Section 6 while文\n",
    "条件が満たされている間繰り返す"
   ]
  },
  {
   "cell_type": "markdown",
   "metadata": {},
   "source": [
    "## while文 参考サイト\n",
    "### [参考サイト1 【Python早見表】 while文（条件付き反復）](https://chokkan.github.io/python/03control.html#while)\n",
    "- while文、continue文、break文、while-else文が簡単にわかりやすく説明されています。\n",
    "\n",
    "### [参考サイト2 【Python入門】 while文による繰り返し](https://utokyo-ipp.github.io/3/3-2.html#while%E6%96%87%E3%81%AB%E3%82%88%E3%82%8B%E7%B9%B0%E3%82%8A%E8%BF%94%E3%81%97)\n",
    "- こちらはfor文を中心に解説されているのでfor文を学んでから見ると良いでしょう。練習問題もあります。"
   ]
  },
  {
   "cell_type": "markdown",
   "metadata": {},
   "source": [
    "---\n",
    "---\n",
    "---"
   ]
  },
  {
   "cell_type": "markdown",
   "metadata": {},
   "source": [
    "## while文\n",
    "### while文とは？\n",
    "- 条件に応じて繰り返し処理を実行するにはwhile文を使います。\n",
    "- [Python早見表の説明](https://chokkan.github.io/python/03control.html#while)\n",
    "- 次回学ぶfor文も同じ繰り返し処理ですが、私はfor文の方が使用回数は多いと思います。\n",
    "  - 使った回数をカウントしたわけではありませんが、繰り返し回数が明確になっていない処理ではwhileを使用することが多い気がします。\n",
    "  - 逆に繰り返し回数が明確になっている処理（AIの学習用画像の一括読み込みや、AIの学習処理など）はfor文を使うことが多いです。"
   ]
  },
  {
   "cell_type": "markdown",
   "metadata": {},
   "source": [
    "---"
   ]
  },
  {
   "cell_type": "markdown",
   "metadata": {},
   "source": [
    "## サンプルプログラム1　while文\n",
    "- countを0で初期化し、5回繰り返すプログラムを作成してみましょう"
   ]
  },
  {
   "cell_type": "code",
   "execution_count": 1,
   "metadata": {},
   "outputs": [
    {
     "name": "stdout",
     "output_type": "stream",
     "text": [
      "while開始！\n",
      "whlie繰り返し中！ (count=0)\n",
      "whlie繰り返し中！ (count=1)\n",
      "whlie繰り返し中！ (count=2)\n",
      "whlie繰り返し中！ (count=3)\n",
      "whlie繰り返し中！ (count=4)\n",
      "while終了！\n"
     ]
    }
   ],
   "source": [
    "print(\"while開始！\")\n",
    "count = 0\n",
    "while count < 5:\n",
    "    print(f\"whlie繰り返し中！ (count={count})\")\n",
    "    count += 1\n",
    "print(\"while終了！\")"
   ]
  },
  {
   "cell_type": "markdown",
   "metadata": {},
   "source": [
    "### 説明\n",
    "- ```while開始!``` でプログラムを開始しています\n",
    "- countが5になるまでの間、```while繰り返し中！``` が実行されます。\n",
    "- countが5になると条件が満たされなくなり、whileループを抜けて ```while終了！``` と表示されます"
   ]
  },
  {
   "cell_type": "markdown",
   "metadata": {},
   "source": [
    "---"
   ]
  },
  {
   "cell_type": "markdown",
   "metadata": {},
   "source": [
    "## 練習プログラム1 (3点)\n",
    "- input()でループ回数を数字で受け取り、その回数分ループするプログラムを作成しましょう\n",
    "- サンプルプログラム１をベースに開始や繰り返し中、終了などを表示します"
   ]
  },
  {
   "cell_type": "code",
   "execution_count": 16,
   "metadata": {},
   "outputs": [
    {
     "name": "stdout",
     "output_type": "stream",
     "text": [
      "7\n",
      "while開始！ (loop_count=7)\n",
      "whlie繰り返し中！ (count=0)\n",
      "whlie繰り返し中！ (count=1)\n",
      "whlie繰り返し中！ (count=2)\n",
      "whlie繰り返し中！ (count=3)\n",
      "whlie繰り返し中！ (count=4)\n",
      "whlie繰り返し中！ (count=5)\n",
      "whlie繰り返し中！ (count=6)\n",
      "while終了！\n"
     ]
    }
   ],
   "source": [
    "\n"
   ]
  },
  {
   "cell_type": "markdown",
   "metadata": {},
   "source": [
    "### 動作確認\n",
    "- 最初にinputでループ回数を取得します。\n",
    "- ```while開始!``` でプログラムを開始します。その時にループ回数も表示しましょう\n",
    "- countがループ回数になるまでの間、```while繰り返し中！``` が実行されます。\n",
    "- countがループ回数に達すると条件が満たされなくなり、whileループを抜けて ```while終了！``` と表示されます\n",
    "- マイナス値を入力すると１回も実行されないことも確認してみましょう\n",
    "- 1万など大きな値を入力すると実行に時間がかかることも確認しましょう（計算量を意識しましょう）"
   ]
  },
  {
   "cell_type": "markdown",
   "metadata": {},
   "source": [
    "---\n",
    "---\n",
    "---"
   ]
  },
  {
   "cell_type": "markdown",
   "metadata": {},
   "source": [
    "## break文\n",
    "- while文による繰り返し実行中にbreak文を実行すると、以降の処理を実行せずに繰り返しを終了します。\n",
    "- 終了条件をループ文中に好きなだけ追加できるため、比較的よく使用します。"
   ]
  },
  {
   "cell_type": "markdown",
   "metadata": {},
   "source": [
    "---"
   ]
  },
  {
   "cell_type": "markdown",
   "metadata": {},
   "source": [
    "## サンプルプログラム2　break文\n",
    "- while文の途中のif文で、```count``` 変数が3以上になるかどうかを確認しています\n",
    "- countが3になるとbreak文を実行し、繰り返しを終了します"
   ]
  },
  {
   "cell_type": "code",
   "execution_count": 19,
   "metadata": {},
   "outputs": [
    {
     "name": "stdout",
     "output_type": "stream",
     "text": [
      "while開始！\n",
      "whlie繰り返し中！ (count=0)\n",
      "whlie繰り返し中！ (count=1)\n",
      "whlie繰り返し中！ (count=2)\n",
      "whlie繰り返し中！ (count=3)\n",
      "break実行！ループを抜けます (count=3)\n",
      "while終了！\n"
     ]
    }
   ],
   "source": [
    "print(\"while開始！\")\n",
    "count = 0\n",
    "while count < 9:\n",
    "    print(f\"whlie繰り返し中！ (count={count})\")\n",
    "    if count >= 3:\n",
    "        print(f\"break実行！ループを抜けます (count={count})\")\n",
    "        break\n",
    "    count += 1\n",
    "print(\"while終了！\")"
   ]
  },
  {
   "cell_type": "markdown",
   "metadata": {},
   "source": [
    "### 説明\n",
    "- ```while開始!``` でプログラムを開始しています\n",
    "- countが3になるまでの間、```while繰り返し中！``` が実行されます。\n",
    "- countが3になるとif文の中が実行され、```break実行！ループを抜けます``` と表示したあと<b>break文を実行</b>してループを抜けます。\n",
    "- whileループを抜けたあと ```while終了！``` と表示します。"
   ]
  },
  {
   "cell_type": "markdown",
   "metadata": {},
   "source": [
    "---"
   ]
  },
  {
   "cell_type": "markdown",
   "metadata": {},
   "source": [
    "### 練習プログラム2 (3点)\n",
    "- input()で初期値、ループ回数、break番号を空白区切りで受け取り、サンプルプログラム２のように表示するプログラムを作成してみましょう"
   ]
  },
  {
   "cell_type": "code",
   "execution_count": 26,
   "metadata": {},
   "outputs": [
    {
     "name": "stdout",
     "output_type": "stream",
     "text": [
      "0 5 0\n",
      "whlie繰り返し中！ (count=0)\n",
      "break実行！ループを抜けます (count=0)\n",
      "while終了！\n"
     ]
    }
   ],
   "source": [
    "\n",
    "\n"
   ]
  },
  {
   "cell_type": "markdown",
   "metadata": {},
   "source": [
    "## 説明\n",
    "- ```map(int,input().split())``` は空白区切りの文字列を空白で分割し、整数値に変換する処理になります。以下のように処理を分けて考えると理解しやすいです\n",
    "```python\n",
    "str_value = input()  # 文字列を受け取る（例: 0 5 3）\n",
    "str_list = str_value.split()  # split()関数を使用して空白で値を分割し、リストという複数の値を格納可能な形に変換します（リストについては後の章で詳しく扱います）\n",
    "int_list = map(int,str_list)  # map()関数を使用して、リストをすべてintに変換します\n",
    "init_num, loop_count, break_num = int_list  # アンパック、というリスト内の複数の整数値を、各変数に格納します\n",
    "```\n",
    "上記の処理を１行で記述すると ```init_num, loop_count, break_num = map(int,input().split())``` となります。\n",
    "\n",
    "- 初期値 < ループ回数　かつ　break番号 < ループ回数 の場合に（break番号-初期値)分ループが繰り返され、breakが実行されます。\n",
    "- 初期値 >= ループ回数の場合、一度もループは実行されません。"
   ]
  },
  {
   "cell_type": "markdown",
   "metadata": {},
   "source": [
    "---\n",
    "---\n",
    "---"
   ]
  },
  {
   "cell_type": "markdown",
   "metadata": {},
   "source": [
    "## continue文\n",
    "- while文による繰り返し実行中にcontinue文を実行すると、以降の処理を実行せずに繰り返し処理を継続します。\n",
    "- 比較的複雑なループ文で使うことが多いですかね"
   ]
  },
  {
   "cell_type": "markdown",
   "metadata": {},
   "source": [
    "---"
   ]
  },
  {
   "cell_type": "markdown",
   "metadata": {},
   "source": [
    "### サンプルプログラム3\n",
    "- while文の中で最初にcountを+1したあと、countが3の倍数の場合は\"continue実行！\"と表示して<b>continue文を実行</b>し、繰り返し処理を継続します。\n",
    "- countが3倍数以外の時は\"while繰り返し中！\"と表示します。（通常のループ処理を実行)"
   ]
  },
  {
   "cell_type": "code",
   "execution_count": 28,
   "metadata": {},
   "outputs": [
    {
     "name": "stdout",
     "output_type": "stream",
     "text": [
      "while開始！\n",
      "whlie繰り返し中！ (count=1)\n",
      "whlie繰り返し中！ (count=2)\n",
      "continue実行！ (count=3)\n",
      "whlie繰り返し中！ (count=4)\n",
      "whlie繰り返し中！ (count=5)\n",
      "continue実行！ (count=6)\n",
      "whlie繰り返し中！ (count=7)\n",
      "whlie繰り返し中！ (count=8)\n",
      "continue実行！ (count=9)\n",
      "while終了！\n"
     ]
    }
   ],
   "source": [
    "print(\"while開始！\")\n",
    "count = 0\n",
    "while count < 9:\n",
    "    count += 1\n",
    "    if (count%3) == 0:\n",
    "        print(f\"continue実行！ (count={count})\")\n",
    "        continue\n",
    "    print(f\"whlie繰り返し中！ (count={count})\")\n",
    "print(\"while終了！\")"
   ]
  },
  {
   "cell_type": "markdown",
   "metadata": {},
   "source": [
    "---"
   ]
  },
  {
   "cell_type": "markdown",
   "metadata": {},
   "source": [
    "### 練習プログラム3 (2点)\n",
    "input()で初期値、ループ回数、continue倍数を空白区切りで受け取り、サンプルプログラム３のように表示するプログラムを作成してみましょう"
   ]
  },
  {
   "cell_type": "code",
   "execution_count": 31,
   "metadata": {},
   "outputs": [
    {
     "name": "stdout",
     "output_type": "stream",
     "text": [
      "0 8 4\n",
      "while開始！\n",
      "whlie繰り返し中！ (count=1)\n",
      "whlie繰り返し中！ (count=2)\n",
      "whlie繰り返し中！ (count=3)\n",
      "continue実行！ (count=4)\n",
      "whlie繰り返し中！ (count=5)\n",
      "whlie繰り返し中！ (count=6)\n",
      "whlie繰り返し中！ (count=7)\n",
      "continue実行！ (count=8)\n",
      "while終了！\n"
     ]
    }
   ],
   "source": [
    "\n",
    "\n"
   ]
  },
  {
   "cell_type": "markdown",
   "metadata": {},
   "source": [
    "- continue倍数の時だけcontinueが実行され、すぐに次のループを実行します。"
   ]
  },
  {
   "cell_type": "markdown",
   "metadata": {},
   "source": [
    "---\n",
    "---\n",
    "---"
   ]
  },
  {
   "cell_type": "markdown",
   "metadata": {},
   "source": [
    "## while 〜 else文\n",
    "- while文による繰り返しを終了した後で実行する処理をelseブロックにて記述することが出来ます。\n",
    "- break文によってループを中断した時はelseブロックは実行されません。\n",
    "- 普段ほとんど使用しませんが、ループを全部終わらせた時や、最初の条件に見合わない可能性がある時に使うことがあります。"
   ]
  },
  {
   "cell_type": "markdown",
   "metadata": {},
   "source": [
    "---"
   ]
  },
  {
   "cell_type": "markdown",
   "metadata": {},
   "source": [
    "### サンプルプログラム4　 while 〜 else文\n",
    "- input()でbreak番号を受け取り、サンプルプログラム２のように表示するプログラムを作成してみましょう\n",
    "- while文中でcountがbreak番号以上の場合は ```break実行！ループを抜けます``` と表示して<b>break文を実行</b>し、繰り返し処理を終了します。\n",
    "- breakしない間は ```while繰り返し中！``` と表示します。（通常のループ処理を実行)\n",
    "- breakせずにループを終了した場合は ```while 〜 elseブロック実行！``` と表示します"
   ]
  },
  {
   "cell_type": "code",
   "execution_count": 33,
   "metadata": {},
   "outputs": [
    {
     "name": "stdout",
     "output_type": "stream",
     "text": [
      "6\n",
      "while開始！\n",
      "whlie繰り返し中！ (count=0)\n",
      "whlie繰り返し中！ (count=1)\n",
      "whlie繰り返し中！ (count=2)\n",
      "whlie繰り返し中！ (count=3)\n",
      "whlie繰り返し中！ (count=4)\n",
      "while 〜 elseブロック実行！\n",
      "while終了！\n"
     ]
    }
   ],
   "source": [
    "break_num = int(input())\n",
    "print(\"while開始！\")\n",
    "count = 0\n",
    "while count < 5:\n",
    "    if count >= break_num:\n",
    "        print(f\"break実行！ループを抜けます (count={count})\")\n",
    "        break\n",
    "    print(f\"whlie繰り返し中！ (count={count})\")\n",
    "    count += 1\n",
    "else:\n",
    "    print(\"while 〜 elseブロック実行！\")\n",
    "print(\"while終了！\")"
   ]
  },
  {
   "cell_type": "markdown",
   "metadata": {},
   "source": [
    "### 説明\n",
    "- input()にてbreak番号を受け取り、break_numに格納します。\n",
    "- \"while開始!\"でループを開始します\n",
    "- countが5になるまでの間、\"while繰り返し中！\"が実行されます。\n",
    "- break番号が5より小さい場合\n",
    "  - countがbreak番号になるとif文の中が実行され、\"break実行！ループを抜けます\"と表示したあと<b>break文を実行</b>してループを抜けます。\n",
    "  - この時は<b>while 〜 elseブロックが実行されない</b>\n",
    "- break番号が5以上の場合\n",
    "  - この時はbreakが実行されないため<b>while 〜 elseブロックが実行</b>され、\"while 〜 elseブロック実行！\"と表示します。\n",
    "- whileループを抜けたあと\"while終了！\"と表示します。"
   ]
  },
  {
   "cell_type": "markdown",
   "metadata": {},
   "source": [
    "---"
   ]
  },
  {
   "cell_type": "markdown",
   "metadata": {},
   "source": [
    "### 練習プログラム4 (1点)\n",
    "- input()でループ回数、倍数1、倍数2を空白区切りのint値で受け取ります。\n",
    "- 受け取った各値をprint文で表示します。\n",
    "- countは初期値1から開始し、倍数1の倍数になった時はFizz、倍数2の倍数になった時はBuzz、倍数1と倍数2両方の倍数になった時はFizzBuzzと表示します\n",
    "  - どちらの倍数にもならない場合は\"while繰り返し中！\"と表示します。\n",
    "- FizzBuzzの表示回数をカウントし、5回に達した時は\"break実行！ループを抜けます\"と表示後にbreak文を実行してループを抜けます\n",
    "- break文を実行せずにループを終了した場合は \"while 〜 elseブロック実行！\" と表示します。"
   ]
  },
  {
   "cell_type": "code",
   "execution_count": 37,
   "metadata": {
    "scrolled": true
   },
   "outputs": [
    {
     "name": "stdout",
     "output_type": "stream",
     "text": [
      "50 3 5\n",
      "while開始！ (loop_count=50、pow1=3、pow2=5)\n",
      "whlie繰り返し中！ (count=1))\n",
      "whlie繰り返し中！ (count=2))\n",
      "Fizz！ (count=3)\n",
      "whlie繰り返し中！ (count=4))\n",
      "Buzz！ (count=5)\n",
      "Fizz！ (count=6)\n",
      "whlie繰り返し中！ (count=7))\n",
      "whlie繰り返し中！ (count=8))\n",
      "Fizz！ (count=9)\n",
      "Buzz！ (count=10)\n",
      "whlie繰り返し中！ (count=11))\n",
      "Fizz！ (count=12)\n",
      "whlie繰り返し中！ (count=13))\n",
      "whlie繰り返し中！ (count=14))\n",
      "FizzBuzz！ (count=15、fizz_buzz_count=1)\n",
      "whlie繰り返し中！ (count=16))\n",
      "whlie繰り返し中！ (count=17))\n",
      "Fizz！ (count=18)\n",
      "whlie繰り返し中！ (count=19))\n",
      "Buzz！ (count=20)\n",
      "Fizz！ (count=21)\n",
      "whlie繰り返し中！ (count=22))\n",
      "whlie繰り返し中！ (count=23))\n",
      "Fizz！ (count=24)\n",
      "Buzz！ (count=25)\n",
      "whlie繰り返し中！ (count=26))\n",
      "Fizz！ (count=27)\n",
      "whlie繰り返し中！ (count=28))\n",
      "whlie繰り返し中！ (count=29))\n",
      "FizzBuzz！ (count=30、fizz_buzz_count=2)\n",
      "whlie繰り返し中！ (count=31))\n",
      "whlie繰り返し中！ (count=32))\n",
      "Fizz！ (count=33)\n",
      "whlie繰り返し中！ (count=34))\n",
      "Buzz！ (count=35)\n",
      "Fizz！ (count=36)\n",
      "whlie繰り返し中！ (count=37))\n",
      "whlie繰り返し中！ (count=38))\n",
      "Fizz！ (count=39)\n",
      "Buzz！ (count=40)\n",
      "whlie繰り返し中！ (count=41))\n",
      "Fizz！ (count=42)\n",
      "whlie繰り返し中！ (count=43))\n",
      "whlie繰り返し中！ (count=44))\n",
      "FizzBuzz！ (count=45、fizz_buzz_count=3)\n",
      "whlie繰り返し中！ (count=46))\n",
      "whlie繰り返し中！ (count=47))\n",
      "Fizz！ (count=48)\n",
      "whlie繰り返し中！ (count=49))\n",
      "while 〜 elseブロック実行！\n",
      "while終了！\n"
     ]
    }
   ],
   "source": [
    "\n",
    "\n"
   ]
  },
  {
   "cell_type": "code",
   "execution_count": null,
   "metadata": {},
   "outputs": [],
   "source": []
  }
 ],
 "metadata": {
  "colab": {
   "authorship_tag": "ABX9TyMOtB7OiTVLb+yu2KoVwjto",
   "include_colab_link": true,
   "provenance": []
  },
  "kernelspec": {
   "display_name": "Python 3 (ipykernel)",
   "language": "python",
   "name": "python3"
  },
  "language_info": {
   "codemirror_mode": {
    "name": "ipython",
    "version": 3
   },
   "file_extension": ".py",
   "mimetype": "text/x-python",
   "name": "python",
   "nbconvert_exporter": "python",
   "pygments_lexer": "ipython3",
   "version": "3.11.9"
  }
 },
 "nbformat": 4,
 "nbformat_minor": 4
}
