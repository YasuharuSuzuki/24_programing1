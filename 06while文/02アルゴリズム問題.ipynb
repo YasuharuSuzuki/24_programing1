{
 "cells": [
  {
   "cell_type": "markdown",
   "metadata": {
    "colab_type": "text",
    "id": "view-in-github"
   },
   "source": [
    "<a href=\"https://colab.research.google.com/github/YasuharuSuzuki/23_programing1/blob/main/\" target=\"_parent\"><img src=\"https://colab.research.google.com/assets/colab-badge.svg\" alt=\"Open In Colab\"/></a>"
   ]
  },
  {
   "cell_type": "markdown",
   "metadata": {},
   "source": [
    "# アルゴリズム問題\n",
    "- 問題を解いてみよう！"
   ]
  },
  {
   "cell_type": "markdown",
   "metadata": {},
   "source": [
    "## 練習プログラム5　映画チケット料金の計算 (1点)"
   ]
  },
  {
   "cell_type": "markdown",
   "metadata": {},
   "source": [
    "### 問題文\n",
    "あなたは地元の映画館でチケット販売システムのプログラムを作成しています。映画館では以下の料金体系を採用しています：\n",
    "\n",
    "- 基本料金: 1500円\n",
    "- 13歳未満の子供: 50%割引\n",
    "- 65歳以上の高齢者: 30%割引\n",
    "- 平日（月曜から金曜）: 200円割引\n",
    "- 夜間上映（20時以降の上映）: 300円割増\n",
    "\n",
    "ただし、割引は重複して適用されず、年齢による割引が優先されます。\n",
    "平日割引と夜間割増は、年齢割引適用後の金額に対して計算されます。\n",
    "\n",
    "お客様の年齢、曜日（1:月曜、2:火曜、...、7:日曜）、上映開始時刻（24時間形式）が与えられたとき、チケットの料金を計算するプログラムを作成してください。"
   ]
  },
  {
   "cell_type": "markdown",
   "metadata": {},
   "source": [
    "### 制約\n",
    "- 年齢は0以上120以下の整数\n",
    "- 曜日は1以上7以下の整数\n",
    "- 時刻は0以上23以下の整数"
   ]
  },
  {
   "cell_type": "markdown",
   "metadata": {},
   "source": [
    "### 入力\n",
    "入力は以下の形式で標準入力から与えられます。\n",
    "\n",
    "---\n",
    "```\n",
    "A D T\n",
    "```\n",
    "---\n",
    "\n",
    "- A: 年齢を表す整数\n",
    "- D: 曜日を表す整数（1:月曜、2:火曜、...、7:日曜）\n",
    "- T: 上映開始時刻を表す整数（24時間形式）\n",
    "\n",
    "#### ヒント\n",
    "- 空白区切りの整数値を受け取るには、練習プログラムで学んだ ```map(int,input().split())``` を使用しましょう！"
   ]
  },
  {
   "cell_type": "markdown",
   "metadata": {},
   "source": [
    "### 出力\n",
    "計算されたチケット料金を整数で出力してください。"
   ]
  },
  {
   "cell_type": "markdown",
   "metadata": {},
   "source": [
    "### 入力例1\n",
    "---\n",
    "```\n",
    "25 3 19\n",
    "```\n",
    "---\n",
    "\n",
    "### 出力例1\n",
    "---\n",
    "```\n",
    "1300\n",
    "```\n",
    "---"
   ]
  },
  {
   "cell_type": "markdown",
   "metadata": {},
   "source": [
    "### 入力例2\n",
    "---\n",
    "```\n",
    "68 6 21\n",
    "```\n",
    "---\n",
    "\n",
    "### 出力例2\n",
    "---\n",
    "```\n",
    "1350\n",
    "```\n",
    "---"
   ]
  },
  {
   "cell_type": "markdown",
   "metadata": {},
   "source": [
    "### 入力例3\n",
    "---\n",
    "```\n",
    "12 1 20\n",
    "```\n",
    "---\n",
    "\n",
    "### 出力例3\n",
    "---\n",
    "```\n",
    "1050\n",
    "```\n",
    "---"
   ]
  },
  {
   "cell_type": "code",
   "execution_count": 3,
   "metadata": {},
   "outputs": [
    {
     "name": "stdin",
     "output_type": "stream",
     "text": [
      " 12 1 20\n"
     ]
    },
    {
     "name": "stdout",
     "output_type": "stream",
     "text": [
      "850\n"
     ]
    }
   ],
   "source": [
    "\n",
    "\n"
   ]
  },
  {
   "cell_type": "code",
   "execution_count": null,
   "metadata": {},
   "outputs": [],
   "source": []
  }
 ],
 "metadata": {
  "colab": {
   "authorship_tag": "ABX9TyMOtB7OiTVLb+yu2KoVwjto",
   "include_colab_link": true,
   "provenance": []
  },
  "kernelspec": {
   "display_name": "Python 3 (ipykernel)",
   "language": "python",
   "name": "python3"
  },
  "language_info": {
   "codemirror_mode": {
    "name": "ipython",
    "version": 3
   },
   "file_extension": ".py",
   "mimetype": "text/x-python",
   "name": "python",
   "nbconvert_exporter": "python",
   "pygments_lexer": "ipython3",
   "version": "3.11.9"
  }
 },
 "nbformat": 4,
 "nbformat_minor": 4
}
